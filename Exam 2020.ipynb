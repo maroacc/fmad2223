{
 "cells": [
  {
   "cell_type": "markdown",
   "id": "70d7f306-6a07-4f2f-8049-37048094127e",
   "metadata": {},
   "source": [
    "# Exam 2020"
   ]
  },
  {
   "cell_type": "code",
   "execution_count": 1,
   "id": "c1ecc135-a623-4677-b032-037e4481c599",
   "metadata": {},
   "outputs": [],
   "source": [
    "# Imports\n",
    "\n",
    "import numpy as np\n",
    "import pandas as pd\n",
    "import matplotlib.pyplot as plt\n",
    "import scipy as scp\n",
    "import seaborn as sns\n",
    "import scipy.stats as stats\n",
    "import statsmodels.stats.power as smp\n",
    "\n",
    "sns.set(rc={'figure.figsize':(12, 12)})"
   ]
  },
  {
   "cell_type": "code",
   "execution_count": 3,
   "id": "1f719e2d-6a92-4e4f-8383-42900912bc57",
   "metadata": {},
   "outputs": [
    {
     "data": {
      "text/html": [
       "<div>\n",
       "<style scoped>\n",
       "    .dataframe tbody tr th:only-of-type {\n",
       "        vertical-align: middle;\n",
       "    }\n",
       "\n",
       "    .dataframe tbody tr th {\n",
       "        vertical-align: top;\n",
       "    }\n",
       "\n",
       "    .dataframe thead th {\n",
       "        text-align: right;\n",
       "    }\n",
       "</style>\n",
       "<table border=\"1\" class=\"dataframe\">\n",
       "  <thead>\n",
       "    <tr style=\"text-align: right;\">\n",
       "      <th></th>\n",
       "      <th>estacion</th>\n",
       "      <th>magnitud</th>\n",
       "      <th>mes</th>\n",
       "      <th>dia</th>\n",
       "      <th>medicion</th>\n",
       "      <th>lluvia_mm</th>\n",
       "    </tr>\n",
       "  </thead>\n",
       "  <tbody>\n",
       "    <tr>\n",
       "      <th>0</th>\n",
       "      <td>4</td>\n",
       "      <td>1</td>\n",
       "      <td>1</td>\n",
       "      <td>1</td>\n",
       "      <td>18.0</td>\n",
       "      <td>0.0</td>\n",
       "    </tr>\n",
       "    <tr>\n",
       "      <th>1</th>\n",
       "      <td>4</td>\n",
       "      <td>1</td>\n",
       "      <td>1</td>\n",
       "      <td>2</td>\n",
       "      <td>20.0</td>\n",
       "      <td>0.0</td>\n",
       "    </tr>\n",
       "    <tr>\n",
       "      <th>2</th>\n",
       "      <td>4</td>\n",
       "      <td>1</td>\n",
       "      <td>1</td>\n",
       "      <td>3</td>\n",
       "      <td>18.0</td>\n",
       "      <td>0.0</td>\n",
       "    </tr>\n",
       "    <tr>\n",
       "      <th>3</th>\n",
       "      <td>4</td>\n",
       "      <td>1</td>\n",
       "      <td>1</td>\n",
       "      <td>4</td>\n",
       "      <td>19.0</td>\n",
       "      <td>0.0</td>\n",
       "    </tr>\n",
       "    <tr>\n",
       "      <th>4</th>\n",
       "      <td>4</td>\n",
       "      <td>1</td>\n",
       "      <td>1</td>\n",
       "      <td>5</td>\n",
       "      <td>18.0</td>\n",
       "      <td>0.0</td>\n",
       "    </tr>\n",
       "  </tbody>\n",
       "</table>\n",
       "</div>"
      ],
      "text/plain": [
       "   estacion  magnitud  mes  dia  medicion  lluvia_mm\n",
       "0         4         1    1    1      18.0        0.0\n",
       "1         4         1    1    2      20.0        0.0\n",
       "2         4         1    1    3      18.0        0.0\n",
       "3         4         1    1    4      19.0        0.0\n",
       "4         4         1    1    5      18.0        0.0"
      ]
     },
     "execution_count": 3,
     "metadata": {},
     "output_type": "execute_result"
    }
   ],
   "source": [
    "path = 'PreviousExams/data/aireMadrid.csv' # Change\n",
    "aireMadrid = pd.read_csv(path)\n",
    "aireMadrid.head()"
   ]
  },
  {
   "cell_type": "markdown",
   "id": "8936a7c8-e656-4ddb-9e7e-f40b3a864915",
   "metadata": {},
   "source": [
    "## Exercise 1"
   ]
  },
  {
   "cell_type": "markdown",
   "id": "1de06507-9b2e-41e8-8364-73445d381e39",
   "metadata": {},
   "source": [
    "#### C1\n",
    "**How many observations are in the table? How many variables?**"
   ]
  },
  {
   "cell_type": "code",
   "execution_count": 5,
   "id": "3fc6441f-fec7-46be-b30a-27c9957cdffe",
   "metadata": {},
   "outputs": [
    {
     "data": {
      "text/plain": [
       "(26691, 6)"
      ]
     },
     "execution_count": 5,
     "metadata": {},
     "output_type": "execute_result"
    }
   ],
   "source": [
    "aireMadrid.shape"
   ]
  },
  {
   "cell_type": "markdown",
   "id": "e0b5287a-065f-4605-b177-96f4e1064d79",
   "metadata": {},
   "source": [
    "There are 26691 observations and 6 variables"
   ]
  },
  {
   "cell_type": "markdown",
   "id": "3b52d428-8a04-49ab-9fc0-6cc3fce34da8",
   "metadata": {},
   "source": [
    "#### C2\n",
    "**Is there missing data? what type of variables are they? To begin to understand the structure of the data\n",
    "data do some preliminary exploration of the data. In particular, make a table of magnitude vs. station (the table is large). You will see that we do not have measurements of all magnitudes for all stations.**"
   ]
  },
  {
   "cell_type": "code",
   "execution_count": 9,
   "id": "99056ee8-7e6d-4200-9874-002358e04c27",
   "metadata": {},
   "outputs": [
    {
     "data": {
      "text/plain": [
       "estacion     0\n",
       "magnitud     0\n",
       "mes          0\n",
       "dia          0\n",
       "medicion     0\n",
       "lluvia_mm    0\n",
       "dtype: int64"
      ]
     },
     "execution_count": 9,
     "metadata": {},
     "output_type": "execute_result"
    }
   ],
   "source": [
    "data_na =  aireMadrid.isna()\n",
    "data_na.sum()"
   ]
  },
  {
   "cell_type": "markdown",
   "id": "40a98180-4da3-4555-ab72-ec1e8c332aca",
   "metadata": {},
   "source": [
    "It seems like there is no missing data"
   ]
  },
  {
   "cell_type": "code",
   "execution_count": 8,
   "id": "d0e1590b-5dd3-4b87-bc5b-98896fec9ca0",
   "metadata": {},
   "outputs": [
    {
     "name": "stdout",
     "output_type": "stream",
     "text": [
      "<class 'pandas.core.frame.DataFrame'>\n",
      "RangeIndex: 26691 entries, 0 to 26690\n",
      "Data columns (total 6 columns):\n",
      " #   Column     Non-Null Count  Dtype  \n",
      "---  ------     --------------  -----  \n",
      " 0   estacion   26691 non-null  int64  \n",
      " 1   magnitud   26691 non-null  int64  \n",
      " 2   mes        26691 non-null  int64  \n",
      " 3   dia        26691 non-null  int64  \n",
      " 4   medicion   26691 non-null  float64\n",
      " 5   lluvia_mm  26691 non-null  float64\n",
      "dtypes: float64(2), int64(4)\n",
      "memory usage: 1.2 MB\n"
     ]
    }
   ],
   "source": [
    "aireMadrid.info()"
   ]
  },
  {
   "cell_type": "markdown",
   "id": "9d90e15a-adba-4951-a7d2-45da35b321de",
   "metadata": {},
   "source": [
    "The estacion variable is an integer. However, since it is an id, it is best considered as categorical. The same thing happens for the magnitud variable, the month and the day. The medicion and the lluvia_mm are numerical."
   ]
  },
  {
   "cell_type": "code",
   "execution_count": 15,
   "id": "d3855af3-737e-468e-ad4b-502ea2ec5b43",
   "metadata": {},
   "outputs": [
    {
     "name": "stdout",
     "output_type": "stream",
     "text": [
      "<class 'pandas.core.frame.DataFrame'>\n",
      "RangeIndex: 26691 entries, 0 to 26690\n",
      "Data columns (total 6 columns):\n",
      " #   Column     Non-Null Count  Dtype   \n",
      "---  ------     --------------  -----   \n",
      " 0   estacion   26691 non-null  category\n",
      " 1   magnitud   26691 non-null  category\n",
      " 2   mes        26691 non-null  category\n",
      " 3   dia        26691 non-null  category\n",
      " 4   medicion   26691 non-null  float64 \n",
      " 5   lluvia_mm  26691 non-null  float64 \n",
      "dtypes: category(4), float64(2)\n",
      "memory usage: 524.5 KB\n"
     ]
    }
   ],
   "source": [
    "data_objects = aireMadrid.columns[data.dtypes == 'int64']\n",
    "aireMadrid[data_objects] = aireMadrid[data_objects].astype('category', )\n",
    "aireMadrid.info()"
   ]
  },
  {
   "cell_type": "code",
   "execution_count": 16,
   "id": "3ef41b42-94e3-48d1-880b-da9852cb79dc",
   "metadata": {},
   "outputs": [
    {
     "data": {
      "text/html": [
       "<div>\n",
       "<style scoped>\n",
       "    .dataframe tbody tr th:only-of-type {\n",
       "        vertical-align: middle;\n",
       "    }\n",
       "\n",
       "    .dataframe tbody tr th {\n",
       "        vertical-align: top;\n",
       "    }\n",
       "\n",
       "    .dataframe thead th {\n",
       "        text-align: right;\n",
       "    }\n",
       "</style>\n",
       "<table border=\"1\" class=\"dataframe\">\n",
       "  <thead>\n",
       "    <tr style=\"text-align: right;\">\n",
       "      <th>magnitud</th>\n",
       "      <th>1</th>\n",
       "      <th>6</th>\n",
       "      <th>7</th>\n",
       "      <th>8</th>\n",
       "      <th>9</th>\n",
       "      <th>10</th>\n",
       "      <th>12</th>\n",
       "      <th>14</th>\n",
       "      <th>20</th>\n",
       "      <th>30</th>\n",
       "      <th>35</th>\n",
       "      <th>42</th>\n",
       "      <th>43</th>\n",
       "      <th>44</th>\n",
       "    </tr>\n",
       "    <tr>\n",
       "      <th>estacion</th>\n",
       "      <th></th>\n",
       "      <th></th>\n",
       "      <th></th>\n",
       "      <th></th>\n",
       "      <th></th>\n",
       "      <th></th>\n",
       "      <th></th>\n",
       "      <th></th>\n",
       "      <th></th>\n",
       "      <th></th>\n",
       "      <th></th>\n",
       "      <th></th>\n",
       "      <th></th>\n",
       "      <th></th>\n",
       "    </tr>\n",
       "  </thead>\n",
       "  <tbody>\n",
       "    <tr>\n",
       "      <th>4</th>\n",
       "      <td>217</td>\n",
       "      <td>217</td>\n",
       "      <td>217</td>\n",
       "      <td>217</td>\n",
       "      <td>0</td>\n",
       "      <td>0</td>\n",
       "      <td>217</td>\n",
       "      <td>0</td>\n",
       "      <td>0</td>\n",
       "      <td>0</td>\n",
       "      <td>0</td>\n",
       "      <td>0</td>\n",
       "      <td>0</td>\n",
       "      <td>0</td>\n",
       "    </tr>\n",
       "    <tr>\n",
       "      <th>8</th>\n",
       "      <td>155</td>\n",
       "      <td>155</td>\n",
       "      <td>155</td>\n",
       "      <td>155</td>\n",
       "      <td>155</td>\n",
       "      <td>155</td>\n",
       "      <td>155</td>\n",
       "      <td>155</td>\n",
       "      <td>124</td>\n",
       "      <td>124</td>\n",
       "      <td>124</td>\n",
       "      <td>155</td>\n",
       "      <td>155</td>\n",
       "      <td>155</td>\n",
       "    </tr>\n",
       "    <tr>\n",
       "      <th>11</th>\n",
       "      <td>0</td>\n",
       "      <td>0</td>\n",
       "      <td>217</td>\n",
       "      <td>217</td>\n",
       "      <td>0</td>\n",
       "      <td>0</td>\n",
       "      <td>217</td>\n",
       "      <td>0</td>\n",
       "      <td>186</td>\n",
       "      <td>186</td>\n",
       "      <td>186</td>\n",
       "      <td>0</td>\n",
       "      <td>0</td>\n",
       "      <td>0</td>\n",
       "    </tr>\n",
       "    <tr>\n",
       "      <th>16</th>\n",
       "      <td>0</td>\n",
       "      <td>217</td>\n",
       "      <td>217</td>\n",
       "      <td>217</td>\n",
       "      <td>0</td>\n",
       "      <td>0</td>\n",
       "      <td>217</td>\n",
       "      <td>217</td>\n",
       "      <td>0</td>\n",
       "      <td>0</td>\n",
       "      <td>0</td>\n",
       "      <td>0</td>\n",
       "      <td>0</td>\n",
       "      <td>0</td>\n",
       "    </tr>\n",
       "    <tr>\n",
       "      <th>17</th>\n",
       "      <td>186</td>\n",
       "      <td>0</td>\n",
       "      <td>186</td>\n",
       "      <td>186</td>\n",
       "      <td>0</td>\n",
       "      <td>0</td>\n",
       "      <td>186</td>\n",
       "      <td>155</td>\n",
       "      <td>0</td>\n",
       "      <td>0</td>\n",
       "      <td>0</td>\n",
       "      <td>0</td>\n",
       "      <td>0</td>\n",
       "      <td>0</td>\n",
       "    </tr>\n",
       "    <tr>\n",
       "      <th>18</th>\n",
       "      <td>155</td>\n",
       "      <td>155</td>\n",
       "      <td>155</td>\n",
       "      <td>155</td>\n",
       "      <td>0</td>\n",
       "      <td>93</td>\n",
       "      <td>155</td>\n",
       "      <td>124</td>\n",
       "      <td>186</td>\n",
       "      <td>186</td>\n",
       "      <td>186</td>\n",
       "      <td>0</td>\n",
       "      <td>0</td>\n",
       "      <td>0</td>\n",
       "    </tr>\n",
       "    <tr>\n",
       "      <th>24</th>\n",
       "      <td>217</td>\n",
       "      <td>217</td>\n",
       "      <td>217</td>\n",
       "      <td>217</td>\n",
       "      <td>186</td>\n",
       "      <td>186</td>\n",
       "      <td>217</td>\n",
       "      <td>217</td>\n",
       "      <td>155</td>\n",
       "      <td>155</td>\n",
       "      <td>155</td>\n",
       "      <td>217</td>\n",
       "      <td>217</td>\n",
       "      <td>217</td>\n",
       "    </tr>\n",
       "    <tr>\n",
       "      <th>27</th>\n",
       "      <td>0</td>\n",
       "      <td>0</td>\n",
       "      <td>217</td>\n",
       "      <td>217</td>\n",
       "      <td>0</td>\n",
       "      <td>0</td>\n",
       "      <td>217</td>\n",
       "      <td>186</td>\n",
       "      <td>0</td>\n",
       "      <td>0</td>\n",
       "      <td>0</td>\n",
       "      <td>0</td>\n",
       "      <td>0</td>\n",
       "      <td>0</td>\n",
       "    </tr>\n",
       "    <tr>\n",
       "      <th>35</th>\n",
       "      <td>124</td>\n",
       "      <td>186</td>\n",
       "      <td>186</td>\n",
       "      <td>186</td>\n",
       "      <td>0</td>\n",
       "      <td>0</td>\n",
       "      <td>186</td>\n",
       "      <td>186</td>\n",
       "      <td>0</td>\n",
       "      <td>0</td>\n",
       "      <td>0</td>\n",
       "      <td>0</td>\n",
       "      <td>0</td>\n",
       "      <td>0</td>\n",
       "    </tr>\n",
       "    <tr>\n",
       "      <th>36</th>\n",
       "      <td>155</td>\n",
       "      <td>186</td>\n",
       "      <td>186</td>\n",
       "      <td>186</td>\n",
       "      <td>0</td>\n",
       "      <td>93</td>\n",
       "      <td>186</td>\n",
       "      <td>0</td>\n",
       "      <td>0</td>\n",
       "      <td>0</td>\n",
       "      <td>0</td>\n",
       "      <td>0</td>\n",
       "      <td>0</td>\n",
       "      <td>0</td>\n",
       "    </tr>\n",
       "    <tr>\n",
       "      <th>38</th>\n",
       "      <td>155</td>\n",
       "      <td>0</td>\n",
       "      <td>155</td>\n",
       "      <td>155</td>\n",
       "      <td>155</td>\n",
       "      <td>155</td>\n",
       "      <td>155</td>\n",
       "      <td>0</td>\n",
       "      <td>124</td>\n",
       "      <td>124</td>\n",
       "      <td>124</td>\n",
       "      <td>0</td>\n",
       "      <td>0</td>\n",
       "      <td>0</td>\n",
       "    </tr>\n",
       "    <tr>\n",
       "      <th>39</th>\n",
       "      <td>0</td>\n",
       "      <td>186</td>\n",
       "      <td>186</td>\n",
       "      <td>186</td>\n",
       "      <td>0</td>\n",
       "      <td>0</td>\n",
       "      <td>186</td>\n",
       "      <td>186</td>\n",
       "      <td>0</td>\n",
       "      <td>0</td>\n",
       "      <td>0</td>\n",
       "      <td>0</td>\n",
       "      <td>0</td>\n",
       "      <td>0</td>\n",
       "    </tr>\n",
       "    <tr>\n",
       "      <th>40</th>\n",
       "      <td>186</td>\n",
       "      <td>0</td>\n",
       "      <td>217</td>\n",
       "      <td>217</td>\n",
       "      <td>0</td>\n",
       "      <td>217</td>\n",
       "      <td>217</td>\n",
       "      <td>0</td>\n",
       "      <td>0</td>\n",
       "      <td>0</td>\n",
       "      <td>0</td>\n",
       "      <td>0</td>\n",
       "      <td>0</td>\n",
       "      <td>0</td>\n",
       "    </tr>\n",
       "    <tr>\n",
       "      <th>47</th>\n",
       "      <td>0</td>\n",
       "      <td>0</td>\n",
       "      <td>186</td>\n",
       "      <td>186</td>\n",
       "      <td>93</td>\n",
       "      <td>93</td>\n",
       "      <td>186</td>\n",
       "      <td>0</td>\n",
       "      <td>0</td>\n",
       "      <td>0</td>\n",
       "      <td>0</td>\n",
       "      <td>0</td>\n",
       "      <td>0</td>\n",
       "      <td>0</td>\n",
       "    </tr>\n",
       "    <tr>\n",
       "      <th>48</th>\n",
       "      <td>0</td>\n",
       "      <td>0</td>\n",
       "      <td>217</td>\n",
       "      <td>217</td>\n",
       "      <td>186</td>\n",
       "      <td>186</td>\n",
       "      <td>217</td>\n",
       "      <td>0</td>\n",
       "      <td>0</td>\n",
       "      <td>0</td>\n",
       "      <td>0</td>\n",
       "      <td>0</td>\n",
       "      <td>0</td>\n",
       "      <td>0</td>\n",
       "    </tr>\n",
       "    <tr>\n",
       "      <th>49</th>\n",
       "      <td>0</td>\n",
       "      <td>0</td>\n",
       "      <td>217</td>\n",
       "      <td>217</td>\n",
       "      <td>0</td>\n",
       "      <td>0</td>\n",
       "      <td>217</td>\n",
       "      <td>217</td>\n",
       "      <td>0</td>\n",
       "      <td>0</td>\n",
       "      <td>0</td>\n",
       "      <td>0</td>\n",
       "      <td>0</td>\n",
       "      <td>0</td>\n",
       "    </tr>\n",
       "    <tr>\n",
       "      <th>50</th>\n",
       "      <td>0</td>\n",
       "      <td>0</td>\n",
       "      <td>217</td>\n",
       "      <td>217</td>\n",
       "      <td>186</td>\n",
       "      <td>186</td>\n",
       "      <td>217</td>\n",
       "      <td>0</td>\n",
       "      <td>0</td>\n",
       "      <td>0</td>\n",
       "      <td>0</td>\n",
       "      <td>0</td>\n",
       "      <td>0</td>\n",
       "      <td>0</td>\n",
       "    </tr>\n",
       "    <tr>\n",
       "      <th>54</th>\n",
       "      <td>0</td>\n",
       "      <td>0</td>\n",
       "      <td>217</td>\n",
       "      <td>217</td>\n",
       "      <td>0</td>\n",
       "      <td>0</td>\n",
       "      <td>217</td>\n",
       "      <td>217</td>\n",
       "      <td>0</td>\n",
       "      <td>0</td>\n",
       "      <td>0</td>\n",
       "      <td>0</td>\n",
       "      <td>0</td>\n",
       "      <td>0</td>\n",
       "    </tr>\n",
       "    <tr>\n",
       "      <th>55</th>\n",
       "      <td>0</td>\n",
       "      <td>0</td>\n",
       "      <td>186</td>\n",
       "      <td>186</td>\n",
       "      <td>0</td>\n",
       "      <td>155</td>\n",
       "      <td>186</td>\n",
       "      <td>0</td>\n",
       "      <td>62</td>\n",
       "      <td>62</td>\n",
       "      <td>62</td>\n",
       "      <td>62</td>\n",
       "      <td>62</td>\n",
       "      <td>62</td>\n",
       "    </tr>\n",
       "    <tr>\n",
       "      <th>56</th>\n",
       "      <td>0</td>\n",
       "      <td>155</td>\n",
       "      <td>155</td>\n",
       "      <td>155</td>\n",
       "      <td>155</td>\n",
       "      <td>155</td>\n",
       "      <td>155</td>\n",
       "      <td>155</td>\n",
       "      <td>0</td>\n",
       "      <td>0</td>\n",
       "      <td>0</td>\n",
       "      <td>0</td>\n",
       "      <td>0</td>\n",
       "      <td>0</td>\n",
       "    </tr>\n",
       "    <tr>\n",
       "      <th>57</th>\n",
       "      <td>93</td>\n",
       "      <td>155</td>\n",
       "      <td>124</td>\n",
       "      <td>124</td>\n",
       "      <td>0</td>\n",
       "      <td>93</td>\n",
       "      <td>124</td>\n",
       "      <td>0</td>\n",
       "      <td>0</td>\n",
       "      <td>0</td>\n",
       "      <td>0</td>\n",
       "      <td>0</td>\n",
       "      <td>0</td>\n",
       "      <td>0</td>\n",
       "    </tr>\n",
       "    <tr>\n",
       "      <th>58</th>\n",
       "      <td>0</td>\n",
       "      <td>0</td>\n",
       "      <td>217</td>\n",
       "      <td>217</td>\n",
       "      <td>0</td>\n",
       "      <td>0</td>\n",
       "      <td>217</td>\n",
       "      <td>155</td>\n",
       "      <td>0</td>\n",
       "      <td>0</td>\n",
       "      <td>0</td>\n",
       "      <td>0</td>\n",
       "      <td>0</td>\n",
       "      <td>0</td>\n",
       "    </tr>\n",
       "    <tr>\n",
       "      <th>59</th>\n",
       "      <td>0</td>\n",
       "      <td>0</td>\n",
       "      <td>155</td>\n",
       "      <td>155</td>\n",
       "      <td>0</td>\n",
       "      <td>0</td>\n",
       "      <td>155</td>\n",
       "      <td>155</td>\n",
       "      <td>0</td>\n",
       "      <td>0</td>\n",
       "      <td>0</td>\n",
       "      <td>0</td>\n",
       "      <td>0</td>\n",
       "      <td>0</td>\n",
       "    </tr>\n",
       "    <tr>\n",
       "      <th>60</th>\n",
       "      <td>0</td>\n",
       "      <td>0</td>\n",
       "      <td>217</td>\n",
       "      <td>217</td>\n",
       "      <td>0</td>\n",
       "      <td>186</td>\n",
       "      <td>217</td>\n",
       "      <td>155</td>\n",
       "      <td>0</td>\n",
       "      <td>0</td>\n",
       "      <td>0</td>\n",
       "      <td>0</td>\n",
       "      <td>0</td>\n",
       "      <td>0</td>\n",
       "    </tr>\n",
       "  </tbody>\n",
       "</table>\n",
       "</div>"
      ],
      "text/plain": [
       "magnitud    1    6    7    8    9   10   12   14   20   30   35   42   43   44\n",
       "estacion                                                                      \n",
       "4         217  217  217  217    0    0  217    0    0    0    0    0    0    0\n",
       "8         155  155  155  155  155  155  155  155  124  124  124  155  155  155\n",
       "11          0    0  217  217    0    0  217    0  186  186  186    0    0    0\n",
       "16          0  217  217  217    0    0  217  217    0    0    0    0    0    0\n",
       "17        186    0  186  186    0    0  186  155    0    0    0    0    0    0\n",
       "18        155  155  155  155    0   93  155  124  186  186  186    0    0    0\n",
       "24        217  217  217  217  186  186  217  217  155  155  155  217  217  217\n",
       "27          0    0  217  217    0    0  217  186    0    0    0    0    0    0\n",
       "35        124  186  186  186    0    0  186  186    0    0    0    0    0    0\n",
       "36        155  186  186  186    0   93  186    0    0    0    0    0    0    0\n",
       "38        155    0  155  155  155  155  155    0  124  124  124    0    0    0\n",
       "39          0  186  186  186    0    0  186  186    0    0    0    0    0    0\n",
       "40        186    0  217  217    0  217  217    0    0    0    0    0    0    0\n",
       "47          0    0  186  186   93   93  186    0    0    0    0    0    0    0\n",
       "48          0    0  217  217  186  186  217    0    0    0    0    0    0    0\n",
       "49          0    0  217  217    0    0  217  217    0    0    0    0    0    0\n",
       "50          0    0  217  217  186  186  217    0    0    0    0    0    0    0\n",
       "54          0    0  217  217    0    0  217  217    0    0    0    0    0    0\n",
       "55          0    0  186  186    0  155  186    0   62   62   62   62   62   62\n",
       "56          0  155  155  155  155  155  155  155    0    0    0    0    0    0\n",
       "57         93  155  124  124    0   93  124    0    0    0    0    0    0    0\n",
       "58          0    0  217  217    0    0  217  155    0    0    0    0    0    0\n",
       "59          0    0  155  155    0    0  155  155    0    0    0    0    0    0\n",
       "60          0    0  217  217    0  186  217  155    0    0    0    0    0    0"
      ]
     },
     "execution_count": 16,
     "metadata": {},
     "output_type": "execute_result"
    }
   ],
   "source": [
    "pd.crosstab(aireMadrid.estacion, aireMadrid.magnitud)"
   ]
  },
  {
   "cell_type": "markdown",
   "id": "7a3e3461-3ef2-43d8-8e60-72c9420b6977",
   "metadata": {},
   "source": [
    "#### C3\n",
    "**Think about the structure of the table and how the information is coded. To guide you in\n",
    "for example, analyze whether the sulfur dioxide measurements (magnitude 1) follow a normal distribution (make a graphical analysis, including the ozone data from all stations).**\n",
    "\n",
    "**Is the data in the table clean (tidy) data? Attention: you are not asked to transform them into clean data, but to say whether they are clean or not.**"
   ]
  },
  {
   "cell_type": "code",
   "execution_count": 17,
   "id": "10d412a9-0957-4724-a7aa-6344ca9497c6",
   "metadata": {},
   "outputs": [
    {
     "data": {
      "text/html": [
       "<div>\n",
       "<style scoped>\n",
       "    .dataframe tbody tr th:only-of-type {\n",
       "        vertical-align: middle;\n",
       "    }\n",
       "\n",
       "    .dataframe tbody tr th {\n",
       "        vertical-align: top;\n",
       "    }\n",
       "\n",
       "    .dataframe thead th {\n",
       "        text-align: right;\n",
       "    }\n",
       "</style>\n",
       "<table border=\"1\" class=\"dataframe\">\n",
       "  <thead>\n",
       "    <tr style=\"text-align: right;\">\n",
       "      <th></th>\n",
       "      <th>estacion</th>\n",
       "      <th>magnitud</th>\n",
       "      <th>mes</th>\n",
       "      <th>dia</th>\n",
       "      <th>medicion</th>\n",
       "      <th>lluvia_mm</th>\n",
       "    </tr>\n",
       "  </thead>\n",
       "  <tbody>\n",
       "    <tr>\n",
       "      <th>0</th>\n",
       "      <td>4</td>\n",
       "      <td>1</td>\n",
       "      <td>1</td>\n",
       "      <td>1</td>\n",
       "      <td>18.0</td>\n",
       "      <td>0.0</td>\n",
       "    </tr>\n",
       "    <tr>\n",
       "      <th>1</th>\n",
       "      <td>4</td>\n",
       "      <td>1</td>\n",
       "      <td>1</td>\n",
       "      <td>2</td>\n",
       "      <td>20.0</td>\n",
       "      <td>0.0</td>\n",
       "    </tr>\n",
       "    <tr>\n",
       "      <th>2</th>\n",
       "      <td>4</td>\n",
       "      <td>1</td>\n",
       "      <td>1</td>\n",
       "      <td>3</td>\n",
       "      <td>18.0</td>\n",
       "      <td>0.0</td>\n",
       "    </tr>\n",
       "    <tr>\n",
       "      <th>3</th>\n",
       "      <td>4</td>\n",
       "      <td>1</td>\n",
       "      <td>1</td>\n",
       "      <td>4</td>\n",
       "      <td>19.0</td>\n",
       "      <td>0.0</td>\n",
       "    </tr>\n",
       "    <tr>\n",
       "      <th>4</th>\n",
       "      <td>4</td>\n",
       "      <td>1</td>\n",
       "      <td>1</td>\n",
       "      <td>5</td>\n",
       "      <td>18.0</td>\n",
       "      <td>0.0</td>\n",
       "    </tr>\n",
       "    <tr>\n",
       "      <th>...</th>\n",
       "      <td>...</td>\n",
       "      <td>...</td>\n",
       "      <td>...</td>\n",
       "      <td>...</td>\n",
       "      <td>...</td>\n",
       "      <td>...</td>\n",
       "    </tr>\n",
       "    <tr>\n",
       "      <th>23648</th>\n",
       "      <td>57</td>\n",
       "      <td>1</td>\n",
       "      <td>7</td>\n",
       "      <td>27</td>\n",
       "      <td>5.0</td>\n",
       "      <td>0.0</td>\n",
       "    </tr>\n",
       "    <tr>\n",
       "      <th>23649</th>\n",
       "      <td>57</td>\n",
       "      <td>1</td>\n",
       "      <td>7</td>\n",
       "      <td>28</td>\n",
       "      <td>5.0</td>\n",
       "      <td>0.0</td>\n",
       "    </tr>\n",
       "    <tr>\n",
       "      <th>23650</th>\n",
       "      <td>57</td>\n",
       "      <td>1</td>\n",
       "      <td>7</td>\n",
       "      <td>29</td>\n",
       "      <td>5.0</td>\n",
       "      <td>0.0</td>\n",
       "    </tr>\n",
       "    <tr>\n",
       "      <th>23651</th>\n",
       "      <td>57</td>\n",
       "      <td>1</td>\n",
       "      <td>7</td>\n",
       "      <td>30</td>\n",
       "      <td>5.0</td>\n",
       "      <td>0.0</td>\n",
       "    </tr>\n",
       "    <tr>\n",
       "      <th>23652</th>\n",
       "      <td>57</td>\n",
       "      <td>1</td>\n",
       "      <td>7</td>\n",
       "      <td>31</td>\n",
       "      <td>5.0</td>\n",
       "      <td>0.0</td>\n",
       "    </tr>\n",
       "  </tbody>\n",
       "</table>\n",
       "<p>1643 rows × 6 columns</p>\n",
       "</div>"
      ],
      "text/plain": [
       "      estacion magnitud mes dia  medicion  lluvia_mm\n",
       "0            4        1   1   1      18.0        0.0\n",
       "1            4        1   1   2      20.0        0.0\n",
       "2            4        1   1   3      18.0        0.0\n",
       "3            4        1   1   4      19.0        0.0\n",
       "4            4        1   1   5      18.0        0.0\n",
       "...        ...      ...  ..  ..       ...        ...\n",
       "23648       57        1   7  27       5.0        0.0\n",
       "23649       57        1   7  28       5.0        0.0\n",
       "23650       57        1   7  29       5.0        0.0\n",
       "23651       57        1   7  30       5.0        0.0\n",
       "23652       57        1   7  31       5.0        0.0\n",
       "\n",
       "[1643 rows x 6 columns]"
      ]
     },
     "execution_count": 17,
     "metadata": {},
     "output_type": "execute_result"
    }
   ],
   "source": [
    "so2 = aireMadrid[aireMadrid.magnitud == 1]\n",
    "so2"
   ]
  },
  {
   "cell_type": "code",
   "execution_count": 19,
   "id": "7adbfafb-768d-43fe-b15a-075aff043aa8",
   "metadata": {},
   "outputs": [
    {
     "data": {
      "image/png": "[encoded data removed]",
      "text/plain": [
       "<Figure size 864x864 with 1 Axes>"
      ]
     },
     "metadata": {},
     "output_type": "display_data"
    }
   ],
   "source": [
    "dens_plot = sns.histplot(data = aireMadrid, x = 'medicion', kde=True)\n",
    "dens_plot.lines[0].set_color('red')\n",
    "dens_plot.lines[0].set_linewidth(3)"
   ]
  },
  {
   "cell_type": "markdown",
   "id": "93230a39-875e-4e80-93c0-e2264b635f88",
   "metadata": {},
   "source": [
    "The distribution is clearly not normal"
   ]
  },
  {
   "cell_type": "markdown",
   "id": "ca787e24-5dba-4dac-b7b0-652b66d68cff",
   "metadata": {},
   "source": [
    "The data is not tidy because the 'medicion' variable references different meassures depending on the 'magnitude'"
   ]
  },
  {
   "cell_type": "markdown",
   "id": "17b6f4db-cb4b-468c-b13c-83e651964c04",
   "metadata": {},
   "source": [
    "## Exercise 2"
   ]
  },
  {
   "cell_type": "markdown",
   "id": "6737fccd-784e-45c9-b497-b9bd07c32d38",
   "metadata": {},
   "source": [
    "#### C4\n",
    "Add a rain factor to the table depending on whether it rained that day or not. It is considered to have rained if the value\n",
    "of the variable rain_mm is not zero. Make a relative frequency table for this factor. What probability are these values estimating?\n",
    "(Be careful, it is not the probability that it rained on a random day)."
   ]
  },
  {
   "cell_type": "code",
   "execution_count": 20,
   "id": "73cc81e7-1224-4ca3-b98d-4be3fa303fe3",
   "metadata": {},
   "outputs": [],
   "source": [
    "aireMadrid[\"lluvia\"] = aireMadrid.lluvia_mm > 0"
   ]
  },
  {
   "cell_type": "code",
   "execution_count": 21,
   "id": "66898bd7-6c5b-4d66-b3ff-ae6a2b67d6d0",
   "metadata": {},
   "outputs": [
    {
     "data": {
      "text/html": [
       "<div>\n",
       "<style scoped>\n",
       "    .dataframe tbody tr th:only-of-type {\n",
       "        vertical-align: middle;\n",
       "    }\n",
       "\n",
       "    .dataframe tbody tr th {\n",
       "        vertical-align: top;\n",
       "    }\n",
       "\n",
       "    .dataframe thead th {\n",
       "        text-align: right;\n",
       "    }\n",
       "</style>\n",
       "<table border=\"1\" class=\"dataframe\">\n",
       "  <thead>\n",
       "    <tr style=\"text-align: right;\">\n",
       "      <th></th>\n",
       "      <th>estacion</th>\n",
       "      <th>magnitud</th>\n",
       "      <th>mes</th>\n",
       "      <th>dia</th>\n",
       "      <th>medicion</th>\n",
       "      <th>lluvia_mm</th>\n",
       "      <th>lluvia</th>\n",
       "    </tr>\n",
       "  </thead>\n",
       "  <tbody>\n",
       "    <tr>\n",
       "      <th>0</th>\n",
       "      <td>4</td>\n",
       "      <td>1</td>\n",
       "      <td>1</td>\n",
       "      <td>1</td>\n",
       "      <td>18.0</td>\n",
       "      <td>0.0</td>\n",
       "      <td>False</td>\n",
       "    </tr>\n",
       "    <tr>\n",
       "      <th>1</th>\n",
       "      <td>4</td>\n",
       "      <td>1</td>\n",
       "      <td>1</td>\n",
       "      <td>2</td>\n",
       "      <td>20.0</td>\n",
       "      <td>0.0</td>\n",
       "      <td>False</td>\n",
       "    </tr>\n",
       "    <tr>\n",
       "      <th>2</th>\n",
       "      <td>4</td>\n",
       "      <td>1</td>\n",
       "      <td>1</td>\n",
       "      <td>3</td>\n",
       "      <td>18.0</td>\n",
       "      <td>0.0</td>\n",
       "      <td>False</td>\n",
       "    </tr>\n",
       "    <tr>\n",
       "      <th>3</th>\n",
       "      <td>4</td>\n",
       "      <td>1</td>\n",
       "      <td>1</td>\n",
       "      <td>4</td>\n",
       "      <td>19.0</td>\n",
       "      <td>0.0</td>\n",
       "      <td>False</td>\n",
       "    </tr>\n",
       "    <tr>\n",
       "      <th>4</th>\n",
       "      <td>4</td>\n",
       "      <td>1</td>\n",
       "      <td>1</td>\n",
       "      <td>5</td>\n",
       "      <td>18.0</td>\n",
       "      <td>0.0</td>\n",
       "      <td>False</td>\n",
       "    </tr>\n",
       "  </tbody>\n",
       "</table>\n",
       "</div>"
      ],
      "text/plain": [
       "  estacion magnitud mes dia  medicion  lluvia_mm  lluvia\n",
       "0        4        1   1   1      18.0        0.0   False\n",
       "1        4        1   1   2      20.0        0.0   False\n",
       "2        4        1   1   3      18.0        0.0   False\n",
       "3        4        1   1   4      19.0        0.0   False\n",
       "4        4        1   1   5      18.0        0.0   False"
      ]
     },
     "execution_count": 21,
     "metadata": {},
     "output_type": "execute_result"
    }
   ],
   "source": [
    "aireMadrid.head()"
   ]
  },
  {
   "cell_type": "code",
   "execution_count": 23,
   "id": "58091037-608a-4d97-b495-e1b5b6095d6f",
   "metadata": {},
   "outputs": [
    {
     "data": {
      "text/plain": [
       "False    0.828144\n",
       "True     0.171856\n",
       "Name: lluvia, dtype: float64"
      ]
     },
     "execution_count": 23,
     "metadata": {},
     "output_type": "execute_result"
    }
   ],
   "source": [
    "aireMadrid.lluvia.value_counts(normalize=True)"
   ]
  },
  {
   "cell_type": "code",
   "execution_count": 24,
   "id": "9321e477-e235-490b-97e1-33266e7af1c3",
   "metadata": {},
   "outputs": [
    {
     "data": {
      "text/plain": [
       "mes  dia\n",
       "5    30     144\n",
       "     31     144\n",
       "     1      144\n",
       "     2      144\n",
       "     3      144\n",
       "           ... \n",
       "8    6       99\n",
       "     5       99\n",
       "     4       99\n",
       "     3       99\n",
       "     2       99\n",
       "Length: 217, dtype: int64"
      ]
     },
     "execution_count": 24,
     "metadata": {},
     "output_type": "execute_result"
    }
   ],
   "source": [
    "aireMadrid[[\"mes\", \"dia\"]].value_counts()"
   ]
  },
  {
   "cell_type": "markdown",
   "id": "d143a74d-5fa0-4224-b815-955f299b50b0",
   "metadata": {},
   "source": [
    "Since several meassures can be taken on the same day, it is the probability that if you draw a random sample from the dataset, that day it rained."
   ]
  },
  {
   "cell_type": "markdown",
   "id": "f336c88a-db0e-4f6b-8a34-db608a2ec79a",
   "metadata": {},
   "source": [
    "#### C5\n",
    "**Sulfur dioxide (magnitude 1) has only been measured at a few stations in the network. Calculate the\n",
    "average value of the sulfur dioxide measurements at each of these stations depending on whether it rained or not.\n",
    "What conclusion do you draw?**"
   ]
  },
  {
   "cell_type": "code",
   "execution_count": 31,
   "id": "6a2c1e93-3326-4f20-a92c-144fe5827380",
   "metadata": {},
   "outputs": [
    {
     "data": {
      "text/html": [
       "<div>\n",
       "<style scoped>\n",
       "    .dataframe tbody tr th:only-of-type {\n",
       "        vertical-align: middle;\n",
       "    }\n",
       "\n",
       "    .dataframe tbody tr th {\n",
       "        vertical-align: top;\n",
       "    }\n",
       "\n",
       "    .dataframe thead th {\n",
       "        text-align: right;\n",
       "    }\n",
       "</style>\n",
       "<table border=\"1\" class=\"dataframe\">\n",
       "  <thead>\n",
       "    <tr style=\"text-align: right;\">\n",
       "      <th></th>\n",
       "      <th>estacion</th>\n",
       "      <th>magnitud</th>\n",
       "      <th>mes</th>\n",
       "      <th>dia</th>\n",
       "      <th>medicion</th>\n",
       "      <th>lluvia_mm</th>\n",
       "      <th>lluvia</th>\n",
       "    </tr>\n",
       "  </thead>\n",
       "  <tbody>\n",
       "    <tr>\n",
       "      <th>0</th>\n",
       "      <td>4</td>\n",
       "      <td>1</td>\n",
       "      <td>1</td>\n",
       "      <td>1</td>\n",
       "      <td>18.0</td>\n",
       "      <td>0.0</td>\n",
       "      <td>False</td>\n",
       "    </tr>\n",
       "    <tr>\n",
       "      <th>1</th>\n",
       "      <td>4</td>\n",
       "      <td>1</td>\n",
       "      <td>1</td>\n",
       "      <td>2</td>\n",
       "      <td>20.0</td>\n",
       "      <td>0.0</td>\n",
       "      <td>False</td>\n",
       "    </tr>\n",
       "    <tr>\n",
       "      <th>2</th>\n",
       "      <td>4</td>\n",
       "      <td>1</td>\n",
       "      <td>1</td>\n",
       "      <td>3</td>\n",
       "      <td>18.0</td>\n",
       "      <td>0.0</td>\n",
       "      <td>False</td>\n",
       "    </tr>\n",
       "    <tr>\n",
       "      <th>3</th>\n",
       "      <td>4</td>\n",
       "      <td>1</td>\n",
       "      <td>1</td>\n",
       "      <td>4</td>\n",
       "      <td>19.0</td>\n",
       "      <td>0.0</td>\n",
       "      <td>False</td>\n",
       "    </tr>\n",
       "    <tr>\n",
       "      <th>4</th>\n",
       "      <td>4</td>\n",
       "      <td>1</td>\n",
       "      <td>1</td>\n",
       "      <td>5</td>\n",
       "      <td>18.0</td>\n",
       "      <td>0.0</td>\n",
       "      <td>False</td>\n",
       "    </tr>\n",
       "  </tbody>\n",
       "</table>\n",
       "</div>"
      ],
      "text/plain": [
       "  estacion magnitud mes dia  medicion  lluvia_mm  lluvia\n",
       "0        4        1   1   1      18.0        0.0   False\n",
       "1        4        1   1   2      20.0        0.0   False\n",
       "2        4        1   1   3      18.0        0.0   False\n",
       "3        4        1   1   4      19.0        0.0   False\n",
       "4        4        1   1   5      18.0        0.0   False"
      ]
     },
     "execution_count": 31,
     "metadata": {},
     "output_type": "execute_result"
    }
   ],
   "source": [
    "so2 = aireMadrid[aireMadrid.magnitud == 1]\n",
    "so2.head()"
   ]
  },
  {
   "cell_type": "code",
   "execution_count": 35,
   "id": "eeb839e0-2986-451f-b673-5929058a2dcc",
   "metadata": {},
   "outputs": [
    {
     "data": {
      "text/plain": [
       "estacion  lluvia\n",
       "4         False      9.044693\n",
       "          True       7.973684\n",
       "8         False      8.793651\n",
       "          True       6.137931\n",
       "11        False           NaN\n",
       "          True            NaN\n",
       "16        False           NaN\n",
       "          True            NaN\n",
       "17        False      8.644737\n",
       "          True       7.970588\n",
       "18        False      9.992308\n",
       "          True       6.800000\n",
       "24        False      4.720670\n",
       "          True       4.631579\n",
       "27        False           NaN\n",
       "          True            NaN\n",
       "35        False     12.798077\n",
       "          True      10.100000\n",
       "36        False      9.803030\n",
       "          True       6.782609\n",
       "38        False     11.269841\n",
       "          True      10.620690\n",
       "39        False           NaN\n",
       "          True            NaN\n",
       "40        False      9.602649\n",
       "          True       8.485714\n",
       "47        False           NaN\n",
       "          True            NaN\n",
       "48        False           NaN\n",
       "          True            NaN\n",
       "49        False           NaN\n",
       "          True            NaN\n",
       "50        False           NaN\n",
       "          True            NaN\n",
       "54        False           NaN\n",
       "          True            NaN\n",
       "55        False           NaN\n",
       "          True            NaN\n",
       "56        False           NaN\n",
       "          True            NaN\n",
       "57        False     10.988095\n",
       "          True      10.222222\n",
       "58        False           NaN\n",
       "          True            NaN\n",
       "59        False           NaN\n",
       "          True            NaN\n",
       "60        False           NaN\n",
       "          True            NaN\n",
       "Name: medicion, dtype: float64"
      ]
     },
     "execution_count": 35,
     "metadata": {},
     "output_type": "execute_result"
    }
   ],
   "source": [
    "so2.groupby(['estacion', 'lluvia']).medicion.mean()"
   ]
  },
  {
   "cell_type": "markdown",
   "id": "e638eff7-82dd-4c32-80bd-a817abc9096a",
   "metadata": {},
   "source": [
    "The average of meassurements of so2 are higher when there is no rain for every station"
   ]
  },
  {
   "cell_type": "markdown",
   "id": "7c87658c-1489-42ce-b07f-0b9b3ca9ba0f",
   "metadata": {},
   "source": [
    "#### C6\n",
    "**What is the probability that a measurement from the table chosen at random corresponds to nitrogen monoxide (magnitude 7)? Knowing that one measurement corresponds to nitrogen monoxide,\n",
    "what is the probability that it comes from station 24?\n",
    "Use these values to calculate the probability that a randomly chosen measurement is for nitrogen monoxide and was taken at station 24?\n",
    "Check the result by directly calculating that probability.**"
   ]
  },
  {
   "cell_type": "markdown",
   "id": "8ec85a4f-5213-4897-94e6-db852e82dd80",
   "metadata": {},
   "source": [
    "Probability that a random sample corresponds to nitrogen monoxide"
   ]
  },
  {
   "cell_type": "code",
   "execution_count": 49,
   "id": "64942394-2096-448d-9a88-4fab98e889dd",
   "metadata": {},
   "outputs": [
    {
     "data": {
      "text/plain": [
       "0.17305458768873402"
      ]
     },
     "execution_count": 49,
     "metadata": {},
     "output_type": "execute_result"
    }
   ],
   "source": [
    "no = aireMadrid[aireMadrid.magnitud == 7]\n",
    "p_no = len(no)/len(aireMadrid)\n",
    "p_no"
   ]
  },
  {
   "cell_type": "markdown",
   "id": "92414ce6-0e3e-4944-b51d-1014cb59d649",
   "metadata": {},
   "source": [
    "Probability that a random sample corresponds to station 24 given that the magnitude is nitrogen monoxide"
   ]
  },
  {
   "cell_type": "code",
   "execution_count": 50,
   "id": "7c6fc8e4-0790-48d3-a804-9433d7b403b4",
   "metadata": {},
   "outputs": [
    {
     "data": {
      "text/plain": [
       "0.04697986577181208"
      ]
     },
     "execution_count": 50,
     "metadata": {},
     "output_type": "execute_result"
    }
   ],
   "source": [
    "p_24_given_no = sum(no.estacion == 24)/len(no)\n",
    "p_24_given_no"
   ]
  },
  {
   "cell_type": "markdown",
   "id": "4763bbe9-8a12-417f-af6d-b8016cfd06ee",
   "metadata": {},
   "source": [
    "Probability that a random sample is for nitrogen monoxide and was taken at station 24"
   ]
  },
  {
   "cell_type": "code",
   "execution_count": 52,
   "id": "7001a4c5-7bb6-42ce-ac16-ea0427a6bb3b",
   "metadata": {},
   "outputs": [
    {
     "data": {
      "text/plain": [
       "0.008130081300813007"
      ]
     },
     "execution_count": 52,
     "metadata": {},
     "output_type": "execute_result"
    }
   ],
   "source": [
    "p_no_24 = p_no*p_24_given_no\n",
    "p_no_24"
   ]
  },
  {
   "cell_type": "markdown",
   "id": "0012dd29-16b0-43ed-a771-6f5e748d24b2",
   "metadata": {},
   "source": [
    "Probability that a random sample is for nitrogen monoxide and was taken at station 24, calculated directly"
   ]
  },
  {
   "cell_type": "code",
   "execution_count": 48,
   "id": "c9560219-5029-4154-91d4-cac14958188b",
   "metadata": {},
   "outputs": [
    {
     "data": {
      "text/plain": [
       "0.008130081300813009"
      ]
     },
     "execution_count": 48,
     "metadata": {},
     "output_type": "execute_result"
    }
   ],
   "source": [
    "p_no_24 = sum((aireMadrid.magnitud == 7) & (aireMadrid.estacion == 24))/len(aireMadrid)\n",
    "p_no_24"
   ]
  },
  {
   "cell_type": "markdown",
   "id": "ef5d8987-5c44-408f-baa4-26d549977397",
   "metadata": {},
   "source": [
    "#### C7\n",
    "**If we choose 10 measurements at random (and with replacement) from station 49, what is the probability that 3 or more are nitrogen monoxide?**"
   ]
  },
  {
   "cell_type": "code",
   "execution_count": 53,
   "id": "a2e1751d-5ce8-488b-b9a7-e210f01121f1",
   "metadata": {},
   "outputs": [
    {
     "data": {
      "text/html": [
       "<div>\n",
       "<style scoped>\n",
       "    .dataframe tbody tr th:only-of-type {\n",
       "        vertical-align: middle;\n",
       "    }\n",
       "\n",
       "    .dataframe tbody tr th {\n",
       "        vertical-align: top;\n",
       "    }\n",
       "\n",
       "    .dataframe thead th {\n",
       "        text-align: right;\n",
       "    }\n",
       "</style>\n",
       "<table border=\"1\" class=\"dataframe\">\n",
       "  <thead>\n",
       "    <tr style=\"text-align: right;\">\n",
       "      <th></th>\n",
       "      <th>estacion</th>\n",
       "      <th>magnitud</th>\n",
       "      <th>mes</th>\n",
       "      <th>dia</th>\n",
       "      <th>medicion</th>\n",
       "      <th>lluvia_mm</th>\n",
       "      <th>lluvia</th>\n",
       "    </tr>\n",
       "  </thead>\n",
       "  <tbody>\n",
       "    <tr>\n",
       "      <th>18631</th>\n",
       "      <td>49</td>\n",
       "      <td>7</td>\n",
       "      <td>1</td>\n",
       "      <td>1</td>\n",
       "      <td>31.0</td>\n",
       "      <td>0.0</td>\n",
       "      <td>False</td>\n",
       "    </tr>\n",
       "    <tr>\n",
       "      <th>18632</th>\n",
       "      <td>49</td>\n",
       "      <td>7</td>\n",
       "      <td>1</td>\n",
       "      <td>2</td>\n",
       "      <td>62.0</td>\n",
       "      <td>0.0</td>\n",
       "      <td>False</td>\n",
       "    </tr>\n",
       "    <tr>\n",
       "      <th>18633</th>\n",
       "      <td>49</td>\n",
       "      <td>7</td>\n",
       "      <td>1</td>\n",
       "      <td>3</td>\n",
       "      <td>27.0</td>\n",
       "      <td>0.0</td>\n",
       "      <td>False</td>\n",
       "    </tr>\n",
       "    <tr>\n",
       "      <th>18634</th>\n",
       "      <td>49</td>\n",
       "      <td>7</td>\n",
       "      <td>1</td>\n",
       "      <td>4</td>\n",
       "      <td>57.0</td>\n",
       "      <td>0.0</td>\n",
       "      <td>False</td>\n",
       "    </tr>\n",
       "    <tr>\n",
       "      <th>18635</th>\n",
       "      <td>49</td>\n",
       "      <td>7</td>\n",
       "      <td>1</td>\n",
       "      <td>5</td>\n",
       "      <td>90.0</td>\n",
       "      <td>0.0</td>\n",
       "      <td>False</td>\n",
       "    </tr>\n",
       "  </tbody>\n",
       "</table>\n",
       "</div>"
      ],
      "text/plain": [
       "      estacion magnitud mes dia  medicion  lluvia_mm  lluvia\n",
       "18631       49        7   1   1      31.0        0.0   False\n",
       "18632       49        7   1   2      62.0        0.0   False\n",
       "18633       49        7   1   3      27.0        0.0   False\n",
       "18634       49        7   1   4      57.0        0.0   False\n",
       "18635       49        7   1   5      90.0        0.0   False"
      ]
     },
     "execution_count": 53,
     "metadata": {},
     "output_type": "execute_result"
    }
   ],
   "source": [
    "aireMadrid_49 = aireMadrid[aireMadrid.estacion == 49]\n",
    "aireMadrid_49.head()"
   ]
  },
  {
   "cell_type": "code",
   "execution_count": 56,
   "id": "34d5ed21-ad62-4870-b9c4-1955904a444f",
   "metadata": {},
   "outputs": [
    {
     "data": {
      "text/plain": [
       "0.25"
      ]
     },
     "execution_count": 56,
     "metadata": {},
     "output_type": "execute_result"
    }
   ],
   "source": [
    "p_no_given_49 = sum(aireMadrid_49.magnitud == 7)/len(aireMadrid_49)\n",
    "p_no_given_49"
   ]
  },
  {
   "cell_type": "code",
   "execution_count": 57,
   "id": "eb00dba4-58d0-4d70-8e87-ebb16351ce13",
   "metadata": {},
   "outputs": [
    {
     "data": {
      "text/plain": [
       "0.2502822875976565"
      ]
     },
     "execution_count": 57,
     "metadata": {},
     "output_type": "execute_result"
    }
   ],
   "source": [
    "n = 10\n",
    "r = 3\n",
    "p = p_no_given_49\n",
    "stats.binom.pmf(r, n = n, p = p)"
   ]
  },
  {
   "cell_type": "markdown",
   "id": "a353a831-4e52-43ef-81d9-96271be5a08c",
   "metadata": {},
   "source": [
    "The probability is 25.03%"
   ]
  },
  {
   "cell_type": "markdown",
   "id": "102e0732-b0c3-43a4-ba21-44edcb8fc7b8",
   "metadata": {},
   "source": [
    "## Exercise 3"
   ]
  },
  {
   "cell_type": "markdown",
   "id": "c67ab3de-3dc9-4c87-9cfd-50b813ee8240",
   "metadata": {},
   "source": [
    "#### C8\n",
    "**Stations 24 (Casa de Campo) and 56 (Plaza Elíptica) represent very different locations.\n",
    "The former is located in a green area while the latter has high levels of traffic.\n",
    "It is natural to wonder whether the pollutant levels of these two stations differ. For this\n",
    "question we will choose as pollutant particles smaller than 10 µm (magnitude 10). Analyze\n",
    "graphically (with whatever tool you think is most appropriate) whether the location of these stations affects this pollutant**"
   ]
  },
  {
   "cell_type": "code",
   "execution_count": 60,
   "id": "a989917d-2a08-4970-8878-80e0a746b99d",
   "metadata": {},
   "outputs": [],
   "source": [
    "pol = aireMadrid[(aireMadrid.magnitud == 10) & ((aireMadrid.estacion == 24) | (aireMadrid.estacion == 56))]"
   ]
  },
  {
   "cell_type": "code",
   "execution_count": 61,
   "id": "729c8dac-3c21-4cfd-a5dc-d670083167fa",
   "metadata": {},
   "outputs": [
    {
     "data": {
      "image/png": "[encoded data removed]",
      "text/plain": [
       "<Figure size 432x576 with 1 Axes>"
      ]
     },
     "metadata": {},
     "output_type": "display_data"
    }
   ],
   "source": [
    "getPlot = pol.boxplot(column='medicion', by = 'estacion', figsize=(6, 8))"
   ]
  },
  {
   "cell_type": "markdown",
   "id": "9ad1f810-8cd7-4359-86c0-85001e322870",
   "metadata": {},
   "source": [
    "The median of the meassurement of particles of magnitude 10 is higher in Plaza Eliptica (station 57) than in casa de Campo (station 24)"
   ]
  },
  {
   "cell_type": "markdown",
   "id": "24bf0a1c-a840-4cdf-8a61-7692c2e13ba9",
   "metadata": {},
   "source": [
    "#### C9\n",
    "**Calculate a confidence interval for the mean level of particles smaller than 10 µm (magnitude 10) at the Casa Campo station. Do the same for those at Plaza Elíptica. Do the intervals overlap and what conclusion do you draw?**"
   ]
  },
  {
   "cell_type": "code",
   "execution_count": 63,
   "id": "df402985-0c97-4269-bc23-922ab51fb08c",
   "metadata": {},
   "outputs": [
    {
     "data": {
      "text/html": [
       "<div>\n",
       "<style scoped>\n",
       "    .dataframe tbody tr th:only-of-type {\n",
       "        vertical-align: middle;\n",
       "    }\n",
       "\n",
       "    .dataframe tbody tr th {\n",
       "        vertical-align: top;\n",
       "    }\n",
       "\n",
       "    .dataframe thead th {\n",
       "        text-align: right;\n",
       "    }\n",
       "</style>\n",
       "<table border=\"1\" class=\"dataframe\">\n",
       "  <thead>\n",
       "    <tr style=\"text-align: right;\">\n",
       "      <th></th>\n",
       "      <th>estacion</th>\n",
       "      <th>magnitud</th>\n",
       "      <th>mes</th>\n",
       "      <th>dia</th>\n",
       "      <th>medicion</th>\n",
       "      <th>lluvia_mm</th>\n",
       "      <th>lluvia</th>\n",
       "    </tr>\n",
       "  </thead>\n",
       "  <tbody>\n",
       "    <tr>\n",
       "      <th>8959</th>\n",
       "      <td>24</td>\n",
       "      <td>10</td>\n",
       "      <td>1</td>\n",
       "      <td>1</td>\n",
       "      <td>26.0</td>\n",
       "      <td>0.0</td>\n",
       "      <td>False</td>\n",
       "    </tr>\n",
       "    <tr>\n",
       "      <th>8960</th>\n",
       "      <td>24</td>\n",
       "      <td>10</td>\n",
       "      <td>1</td>\n",
       "      <td>2</td>\n",
       "      <td>21.0</td>\n",
       "      <td>0.0</td>\n",
       "      <td>False</td>\n",
       "    </tr>\n",
       "    <tr>\n",
       "      <th>8961</th>\n",
       "      <td>24</td>\n",
       "      <td>10</td>\n",
       "      <td>1</td>\n",
       "      <td>3</td>\n",
       "      <td>17.0</td>\n",
       "      <td>0.0</td>\n",
       "      <td>False</td>\n",
       "    </tr>\n",
       "    <tr>\n",
       "      <th>8962</th>\n",
       "      <td>24</td>\n",
       "      <td>10</td>\n",
       "      <td>1</td>\n",
       "      <td>4</td>\n",
       "      <td>23.0</td>\n",
       "      <td>0.0</td>\n",
       "      <td>False</td>\n",
       "    </tr>\n",
       "    <tr>\n",
       "      <th>8963</th>\n",
       "      <td>24</td>\n",
       "      <td>10</td>\n",
       "      <td>1</td>\n",
       "      <td>5</td>\n",
       "      <td>24.0</td>\n",
       "      <td>0.0</td>\n",
       "      <td>False</td>\n",
       "    </tr>\n",
       "  </tbody>\n",
       "</table>\n",
       "</div>"
      ],
      "text/plain": [
       "     estacion magnitud mes dia  medicion  lluvia_mm  lluvia\n",
       "8959       24       10   1   1      26.0        0.0   False\n",
       "8960       24       10   1   2      21.0        0.0   False\n",
       "8961       24       10   1   3      17.0        0.0   False\n",
       "8962       24       10   1   4      23.0        0.0   False\n",
       "8963       24       10   1   5      24.0        0.0   False"
      ]
     },
     "execution_count": 63,
     "metadata": {},
     "output_type": "execute_result"
    }
   ],
   "source": [
    "aireMadrid_10_24 = aireMadrid[(aireMadrid.magnitud == 10)&(aireMadrid.estacion == 24)]\n",
    "aireMadrid_10_24.head()"
   ]
  },
  {
   "cell_type": "code",
   "execution_count": 65,
   "id": "720e992c-08d4-4c47-a200-44c18d891b8e",
   "metadata": {},
   "outputs": [
    {
     "name": "stdout",
     "output_type": "stream",
     "text": [
      "The confidence interval for the mean level of particles smaller than 10 µm (magnitude 10) at the Casa Campo station is  [11.84606906 14.29371589]\n",
      "Rounded to 4 digits: [11.85, 14.29]\n"
     ]
    }
   ],
   "source": [
    "n = len(aireMadrid_10_24)\n",
    "barX = aireMadrid_10_24.medicion.mean()\n",
    "s = aireMadrid_10_24.medicion.std()\n",
    "\n",
    "# Short version of the critical point computation:\n",
    "cl = 0.95\n",
    "alpha = 1 - cl\n",
    "crit_point = stats.norm.isf(alpha/2, loc = 0, scale = 1)\n",
    "\n",
    "conf_int = barX + np.array([-1, 1]) * crit_point * s / np.sqrt(n)\n",
    "print(\"The confidence interval for the mean level of particles smaller than 10 µm (magnitude 10) at the Casa Campo station is \", conf_int)\n",
    "print(\"Rounded to 4 digits: [{:.4}, {:.4}]\".format(conf_int[0], conf_int[1]))"
   ]
  },
  {
   "cell_type": "code",
   "execution_count": 64,
   "id": "636fd2d3-e5dd-4c75-acb3-1fc3e0b53794",
   "metadata": {},
   "outputs": [
    {
     "data": {
      "text/html": [
       "<div>\n",
       "<style scoped>\n",
       "    .dataframe tbody tr th:only-of-type {\n",
       "        vertical-align: middle;\n",
       "    }\n",
       "\n",
       "    .dataframe tbody tr th {\n",
       "        vertical-align: top;\n",
       "    }\n",
       "\n",
       "    .dataframe thead th {\n",
       "        text-align: right;\n",
       "    }\n",
       "</style>\n",
       "<table border=\"1\" class=\"dataframe\">\n",
       "  <thead>\n",
       "    <tr style=\"text-align: right;\">\n",
       "      <th></th>\n",
       "      <th>estacion</th>\n",
       "      <th>magnitud</th>\n",
       "      <th>mes</th>\n",
       "      <th>dia</th>\n",
       "      <th>medicion</th>\n",
       "      <th>lluvia_mm</th>\n",
       "      <th>lluvia</th>\n",
       "    </tr>\n",
       "  </thead>\n",
       "  <tbody>\n",
       "    <tr>\n",
       "      <th>23095</th>\n",
       "      <td>56</td>\n",
       "      <td>10</td>\n",
       "      <td>1</td>\n",
       "      <td>1</td>\n",
       "      <td>37.0</td>\n",
       "      <td>0.0</td>\n",
       "      <td>False</td>\n",
       "    </tr>\n",
       "    <tr>\n",
       "      <th>23096</th>\n",
       "      <td>56</td>\n",
       "      <td>10</td>\n",
       "      <td>1</td>\n",
       "      <td>2</td>\n",
       "      <td>44.0</td>\n",
       "      <td>0.0</td>\n",
       "      <td>False</td>\n",
       "    </tr>\n",
       "    <tr>\n",
       "      <th>23097</th>\n",
       "      <td>56</td>\n",
       "      <td>10</td>\n",
       "      <td>1</td>\n",
       "      <td>3</td>\n",
       "      <td>37.0</td>\n",
       "      <td>0.0</td>\n",
       "      <td>False</td>\n",
       "    </tr>\n",
       "    <tr>\n",
       "      <th>23098</th>\n",
       "      <td>56</td>\n",
       "      <td>10</td>\n",
       "      <td>1</td>\n",
       "      <td>4</td>\n",
       "      <td>52.0</td>\n",
       "      <td>0.0</td>\n",
       "      <td>False</td>\n",
       "    </tr>\n",
       "    <tr>\n",
       "      <th>23099</th>\n",
       "      <td>56</td>\n",
       "      <td>10</td>\n",
       "      <td>1</td>\n",
       "      <td>5</td>\n",
       "      <td>44.0</td>\n",
       "      <td>0.0</td>\n",
       "      <td>False</td>\n",
       "    </tr>\n",
       "  </tbody>\n",
       "</table>\n",
       "</div>"
      ],
      "text/plain": [
       "      estacion magnitud mes dia  medicion  lluvia_mm  lluvia\n",
       "23095       56       10   1   1      37.0        0.0   False\n",
       "23096       56       10   1   2      44.0        0.0   False\n",
       "23097       56       10   1   3      37.0        0.0   False\n",
       "23098       56       10   1   4      52.0        0.0   False\n",
       "23099       56       10   1   5      44.0        0.0   False"
      ]
     },
     "execution_count": 64,
     "metadata": {},
     "output_type": "execute_result"
    }
   ],
   "source": [
    "aireMadrid_10_56 = aireMadrid[(aireMadrid.magnitud == 10)&(aireMadrid.estacion == 56)]\n",
    "aireMadrid_10_56.head()"
   ]
  },
  {
   "cell_type": "code",
   "execution_count": 66,
   "id": "a5db514e-1673-4be5-a259-d587cc46628c",
   "metadata": {},
   "outputs": [
    {
     "name": "stdout",
     "output_type": "stream",
     "text": [
      "The confidence interval for the mean level of particles smaller than 10 µm (magnitude 10) at the Casa Campo station is  [18.22654734 21.73474298]\n",
      "Rounded to 4 digits: [18.23, 21.73]\n"
     ]
    }
   ],
   "source": [
    "n = len(aireMadrid_10_56)\n",
    "barX = aireMadrid_10_56.medicion.mean()\n",
    "s = aireMadrid_10_56.medicion.std()\n",
    "\n",
    "# Short version of the critical point computation:\n",
    "cl = 0.95\n",
    "alpha = 1 - cl\n",
    "crit_point = stats.norm.isf(alpha/2, loc = 0, scale = 1)\n",
    "\n",
    "conf_int = barX + np.array([-1, 1]) * crit_point * s / np.sqrt(n)\n",
    "print(\"The confidence interval for the mean level of particles smaller than 10 µm (magnitude 10) at the Casa Campo station is \", conf_int)\n",
    "print(\"Rounded to 4 digits: [{:.4}, {:.4}]\".format(conf_int[0], conf_int[1]))"
   ]
  },
  {
   "cell_type": "markdown",
   "id": "6eedeefd-3a37-4c40-a7f2-4e9149c58af0",
   "metadata": {},
   "source": [
    "The intervals do not overlap"
   ]
  },
  {
   "cell_type": "markdown",
   "id": "4bb36897-c119-4772-970b-a2a8dfeaf203",
   "metadata": {},
   "source": [
    "### C10\n",
    "\n",
    "**Haz un contraste de la hipótesis alternativa: el valor medio de las mediciones de partículas de\n",
    "menos de 10 µm en la estación de Casa de Campo es menor que el de Plaza Elíptica.\n",
    "Nota: si no sabes hacer el contraste de dos muestras mira la sesión 6 del curso. Si con eso no te aclaras,\n",
    "alternativamente puedes hacer un contraste de una muestra: calcula la media de las observaciones de\n",
    "Plaza Elíptica. Llama µ0 a ese valor y contrasta la hipótesis alternativa el valor medio de las mediciones\n",
    "de partículas de menos de 10 µm en la estación de Casa de Campo es menor que µ0.**\n"
   ]
  },
  {
   "cell_type": "markdown",
   "id": "e56e6b51-eca0-466b-aeac-37b29440f8bf",
   "metadata": {},
   "source": [
    "Ho: the mean for Casa de Campo is equal or higher than that of plaza Eliptica\n",
    "\n",
    "\n",
    "Ha: the mean for Casa de Campo is lower than that of plaza Eliptica"
   ]
  },
  {
   "cell_type": "code",
   "execution_count": 71,
   "id": "48126acd-d43d-4492-a0cd-f77a715d5bf5",
   "metadata": {},
   "outputs": [
    {
     "data": {
      "text/plain": [
       "Ttest_indResult(statistic=-6.332814124498963, pvalue=4.685282659038652e-10)"
      ]
     },
     "execution_count": 71,
     "metadata": {},
     "output_type": "execute_result"
    }
   ],
   "source": [
    "stats.ttest_ind(a=aireMadrid_10_24.medicion, b=aireMadrid_10_56.medicion, equal_var=False, alternative='less')"
   ]
  },
  {
   "cell_type": "markdown",
   "id": "2eefaeb7-e021-43bd-8c8f-4320bd366987",
   "metadata": {},
   "source": [
    "The p-value is lower than 0.05. Therefore, we can conclude reject the null hypothesis and confirm that the mean for Casa de Campo is lower than that of Plaza Eliptica."
   ]
  },
  {
   "cell_type": "markdown",
   "id": "5d3cd8be-bbe4-4528-a69f-8a658d8d49a2",
   "metadata": {},
   "source": [
    "## Exercise 4"
   ]
  },
  {
   "cell_type": "markdown",
   "id": "5abf776c-45a8-454e-acc1-bf6e956687f1",
   "metadata": {},
   "source": [
    "#### C11\n",
    "**Let's make a linear regression model for the two variables:**\n",
    "\n",
    "\n",
    "**x : level of particles less than 10 µm (magnitude 10)**\n",
    "\n",
    "\n",
    "**y : level of particles less than 2.5 µm (magnitude 9)**\n",
    "\n",
    "**In this question we will only use data from station 38 (Cuatro Caminos) because both values were measured at that station.\n",
    "station the values of both variables were measured on exactly the same days. In order to build the\n",
    "model it is first necessary to identify the measurements of these two variables corresponding to the\n",
    "the same day (the two measurements appear in the same column). You can do this in two ways.\n",
    "The best is to use a tidyR function. If you do this, be sure to adjust the variable names in the table so that they are syntactically correct (numbers do not serve as names). The\n",
    "names function allows you to examine but also modify the names of a table.\n",
    "Alternatively, you can take advantage of the fact that the measurement days are the same and appear in the same order.\n",
    "Thanks to this, you can: (i) split the table in two (one with the x values and the other with the y values), (ii) extract the y values from one of these two tables and (iii) add them to the other.\n",
    "Whichever method you use, build the model and draw the scatter plot of those variables\n",
    "along with the obtained regression line**"
   ]
  },
  {
   "cell_type": "code",
   "execution_count": 72,
   "id": "d51aac62-de5e-45a5-a4b0-1e8197f282f3",
   "metadata": {},
   "outputs": [
    {
     "data": {
      "text/html": [
       "<div>\n",
       "<style scoped>\n",
       "    .dataframe tbody tr th:only-of-type {\n",
       "        vertical-align: middle;\n",
       "    }\n",
       "\n",
       "    .dataframe tbody tr th {\n",
       "        vertical-align: top;\n",
       "    }\n",
       "\n",
       "    .dataframe thead th {\n",
       "        text-align: right;\n",
       "    }\n",
       "</style>\n",
       "<table border=\"1\" class=\"dataframe\">\n",
       "  <thead>\n",
       "    <tr style=\"text-align: right;\">\n",
       "      <th></th>\n",
       "      <th>estacion</th>\n",
       "      <th>magnitud</th>\n",
       "      <th>mes</th>\n",
       "      <th>dia</th>\n",
       "      <th>medicion</th>\n",
       "      <th>lluvia_mm</th>\n",
       "      <th>lluvia</th>\n",
       "    </tr>\n",
       "  </thead>\n",
       "  <tbody>\n",
       "    <tr>\n",
       "      <th>13578</th>\n",
       "      <td>38</td>\n",
       "      <td>1</td>\n",
       "      <td>1</td>\n",
       "      <td>1</td>\n",
       "      <td>20.0</td>\n",
       "      <td>0.0</td>\n",
       "      <td>False</td>\n",
       "    </tr>\n",
       "    <tr>\n",
       "      <th>13579</th>\n",
       "      <td>38</td>\n",
       "      <td>1</td>\n",
       "      <td>1</td>\n",
       "      <td>2</td>\n",
       "      <td>18.0</td>\n",
       "      <td>0.0</td>\n",
       "      <td>False</td>\n",
       "    </tr>\n",
       "    <tr>\n",
       "      <th>13580</th>\n",
       "      <td>38</td>\n",
       "      <td>1</td>\n",
       "      <td>1</td>\n",
       "      <td>3</td>\n",
       "      <td>14.0</td>\n",
       "      <td>0.0</td>\n",
       "      <td>False</td>\n",
       "    </tr>\n",
       "    <tr>\n",
       "      <th>13581</th>\n",
       "      <td>38</td>\n",
       "      <td>1</td>\n",
       "      <td>1</td>\n",
       "      <td>4</td>\n",
       "      <td>17.0</td>\n",
       "      <td>0.0</td>\n",
       "      <td>False</td>\n",
       "    </tr>\n",
       "    <tr>\n",
       "      <th>13582</th>\n",
       "      <td>38</td>\n",
       "      <td>1</td>\n",
       "      <td>1</td>\n",
       "      <td>5</td>\n",
       "      <td>17.0</td>\n",
       "      <td>0.0</td>\n",
       "      <td>False</td>\n",
       "    </tr>\n",
       "  </tbody>\n",
       "</table>\n",
       "</div>"
      ],
      "text/plain": [
       "      estacion magnitud mes dia  medicion  lluvia_mm  lluvia\n",
       "13578       38        1   1   1      20.0        0.0   False\n",
       "13579       38        1   1   2      18.0        0.0   False\n",
       "13580       38        1   1   3      14.0        0.0   False\n",
       "13581       38        1   1   4      17.0        0.0   False\n",
       "13582       38        1   1   5      17.0        0.0   False"
      ]
     },
     "execution_count": 72,
     "metadata": {},
     "output_type": "execute_result"
    }
   ],
   "source": [
    "aireMadrid_38 = aireMadrid[aireMadrid.estacion == 38]\n",
    "aireMadrid_38.head()"
   ]
  },
  {
   "cell_type": "code",
   "execution_count": 81,
   "id": "4ae92fe0-0125-45ac-a1a0-9cdf963e4b50",
   "metadata": {},
   "outputs": [],
   "source": [
    "aireMadrid_38_10 = aireMadrid_38[aireMadrid_38.magnitud == 10]\n",
    "aireMadrid_38_9 = aireMadrid_38[aireMadrid_38.magnitud == 9]"
   ]
  },
  {
   "cell_type": "code",
   "execution_count": 82,
   "id": "1464aef3-d606-4c8a-9390-a0d87dad4cba",
   "metadata": {},
   "outputs": [
    {
     "data": {
      "text/html": [
       "<div>\n",
       "<style scoped>\n",
       "    .dataframe tbody tr th:only-of-type {\n",
       "        vertical-align: middle;\n",
       "    }\n",
       "\n",
       "    .dataframe tbody tr th {\n",
       "        vertical-align: top;\n",
       "    }\n",
       "\n",
       "    .dataframe thead th {\n",
       "        text-align: right;\n",
       "    }\n",
       "</style>\n",
       "<table border=\"1\" class=\"dataframe\">\n",
       "  <thead>\n",
       "    <tr style=\"text-align: right;\">\n",
       "      <th></th>\n",
       "      <th>estacion</th>\n",
       "      <th>magnitud</th>\n",
       "      <th>mes</th>\n",
       "      <th>dia</th>\n",
       "      <th>medicion</th>\n",
       "      <th>lluvia_mm</th>\n",
       "      <th>lluvia</th>\n",
       "    </tr>\n",
       "  </thead>\n",
       "  <tbody>\n",
       "    <tr>\n",
       "      <th>14043</th>\n",
       "      <td>38</td>\n",
       "      <td>9</td>\n",
       "      <td>1</td>\n",
       "      <td>1</td>\n",
       "      <td>27.0</td>\n",
       "      <td>0.0</td>\n",
       "      <td>False</td>\n",
       "    </tr>\n",
       "    <tr>\n",
       "      <th>14044</th>\n",
       "      <td>38</td>\n",
       "      <td>9</td>\n",
       "      <td>1</td>\n",
       "      <td>2</td>\n",
       "      <td>23.0</td>\n",
       "      <td>0.0</td>\n",
       "      <td>False</td>\n",
       "    </tr>\n",
       "    <tr>\n",
       "      <th>14045</th>\n",
       "      <td>38</td>\n",
       "      <td>9</td>\n",
       "      <td>1</td>\n",
       "      <td>3</td>\n",
       "      <td>12.0</td>\n",
       "      <td>0.0</td>\n",
       "      <td>False</td>\n",
       "    </tr>\n",
       "    <tr>\n",
       "      <th>14046</th>\n",
       "      <td>38</td>\n",
       "      <td>9</td>\n",
       "      <td>1</td>\n",
       "      <td>4</td>\n",
       "      <td>20.0</td>\n",
       "      <td>0.0</td>\n",
       "      <td>False</td>\n",
       "    </tr>\n",
       "    <tr>\n",
       "      <th>14047</th>\n",
       "      <td>38</td>\n",
       "      <td>9</td>\n",
       "      <td>1</td>\n",
       "      <td>5</td>\n",
       "      <td>23.0</td>\n",
       "      <td>0.0</td>\n",
       "      <td>False</td>\n",
       "    </tr>\n",
       "    <tr>\n",
       "      <th>...</th>\n",
       "      <td>...</td>\n",
       "      <td>...</td>\n",
       "      <td>...</td>\n",
       "      <td>...</td>\n",
       "      <td>...</td>\n",
       "      <td>...</td>\n",
       "      <td>...</td>\n",
       "    </tr>\n",
       "    <tr>\n",
       "      <th>14193</th>\n",
       "      <td>38</td>\n",
       "      <td>9</td>\n",
       "      <td>12</td>\n",
       "      <td>27</td>\n",
       "      <td>13.0</td>\n",
       "      <td>0.0</td>\n",
       "      <td>False</td>\n",
       "    </tr>\n",
       "    <tr>\n",
       "      <th>14194</th>\n",
       "      <td>38</td>\n",
       "      <td>9</td>\n",
       "      <td>12</td>\n",
       "      <td>28</td>\n",
       "      <td>21.0</td>\n",
       "      <td>0.0</td>\n",
       "      <td>False</td>\n",
       "    </tr>\n",
       "    <tr>\n",
       "      <th>14195</th>\n",
       "      <td>38</td>\n",
       "      <td>9</td>\n",
       "      <td>12</td>\n",
       "      <td>29</td>\n",
       "      <td>16.0</td>\n",
       "      <td>0.0</td>\n",
       "      <td>False</td>\n",
       "    </tr>\n",
       "    <tr>\n",
       "      <th>14196</th>\n",
       "      <td>38</td>\n",
       "      <td>9</td>\n",
       "      <td>12</td>\n",
       "      <td>30</td>\n",
       "      <td>22.0</td>\n",
       "      <td>0.0</td>\n",
       "      <td>False</td>\n",
       "    </tr>\n",
       "    <tr>\n",
       "      <th>14197</th>\n",
       "      <td>38</td>\n",
       "      <td>9</td>\n",
       "      <td>12</td>\n",
       "      <td>31</td>\n",
       "      <td>33.0</td>\n",
       "      <td>0.0</td>\n",
       "      <td>False</td>\n",
       "    </tr>\n",
       "  </tbody>\n",
       "</table>\n",
       "<p>155 rows × 7 columns</p>\n",
       "</div>"
      ],
      "text/plain": [
       "      estacion magnitud mes dia  medicion  lluvia_mm  lluvia\n",
       "14043       38        9   1   1      27.0        0.0   False\n",
       "14044       38        9   1   2      23.0        0.0   False\n",
       "14045       38        9   1   3      12.0        0.0   False\n",
       "14046       38        9   1   4      20.0        0.0   False\n",
       "14047       38        9   1   5      23.0        0.0   False\n",
       "...        ...      ...  ..  ..       ...        ...     ...\n",
       "14193       38        9  12  27      13.0        0.0   False\n",
       "14194       38        9  12  28      21.0        0.0   False\n",
       "14195       38        9  12  29      16.0        0.0   False\n",
       "14196       38        9  12  30      22.0        0.0   False\n",
       "14197       38        9  12  31      33.0        0.0   False\n",
       "\n",
       "[155 rows x 7 columns]"
      ]
     },
     "execution_count": 82,
     "metadata": {},
     "output_type": "execute_result"
    }
   ],
   "source": [
    "aireMadrid_38_9"
   ]
  },
  {
   "cell_type": "code",
   "execution_count": 95,
   "id": "c56f81a8-8499-4dd5-a49e-91764f3c1345",
   "metadata": {},
   "outputs": [
    {
     "data": {
      "text/html": [
       "<div>\n",
       "<style scoped>\n",
       "    .dataframe tbody tr th:only-of-type {\n",
       "        vertical-align: middle;\n",
       "    }\n",
       "\n",
       "    .dataframe tbody tr th {\n",
       "        vertical-align: top;\n",
       "    }\n",
       "\n",
       "    .dataframe thead th {\n",
       "        text-align: right;\n",
       "    }\n",
       "</style>\n",
       "<table border=\"1\" class=\"dataframe\">\n",
       "  <thead>\n",
       "    <tr style=\"text-align: right;\">\n",
       "      <th></th>\n",
       "      <th>estacion</th>\n",
       "      <th>magnitud</th>\n",
       "      <th>mes</th>\n",
       "      <th>dia</th>\n",
       "      <th>medicion</th>\n",
       "      <th>lluvia_mm</th>\n",
       "      <th>lluvia</th>\n",
       "      <th>medicion_y</th>\n",
       "    </tr>\n",
       "  </thead>\n",
       "  <tbody>\n",
       "    <tr>\n",
       "      <th>14198</th>\n",
       "      <td>38</td>\n",
       "      <td>10</td>\n",
       "      <td>1</td>\n",
       "      <td>1</td>\n",
       "      <td>37.0</td>\n",
       "      <td>0.0</td>\n",
       "      <td>False</td>\n",
       "      <td>27.0</td>\n",
       "    </tr>\n",
       "    <tr>\n",
       "      <th>14199</th>\n",
       "      <td>38</td>\n",
       "      <td>10</td>\n",
       "      <td>1</td>\n",
       "      <td>2</td>\n",
       "      <td>36.0</td>\n",
       "      <td>0.0</td>\n",
       "      <td>False</td>\n",
       "      <td>23.0</td>\n",
       "    </tr>\n",
       "    <tr>\n",
       "      <th>14200</th>\n",
       "      <td>38</td>\n",
       "      <td>10</td>\n",
       "      <td>1</td>\n",
       "      <td>3</td>\n",
       "      <td>24.0</td>\n",
       "      <td>0.0</td>\n",
       "      <td>False</td>\n",
       "      <td>12.0</td>\n",
       "    </tr>\n",
       "    <tr>\n",
       "      <th>14201</th>\n",
       "      <td>38</td>\n",
       "      <td>10</td>\n",
       "      <td>1</td>\n",
       "      <td>4</td>\n",
       "      <td>34.0</td>\n",
       "      <td>0.0</td>\n",
       "      <td>False</td>\n",
       "      <td>20.0</td>\n",
       "    </tr>\n",
       "    <tr>\n",
       "      <th>14202</th>\n",
       "      <td>38</td>\n",
       "      <td>10</td>\n",
       "      <td>1</td>\n",
       "      <td>5</td>\n",
       "      <td>36.0</td>\n",
       "      <td>0.0</td>\n",
       "      <td>False</td>\n",
       "      <td>23.0</td>\n",
       "    </tr>\n",
       "  </tbody>\n",
       "</table>\n",
       "</div>"
      ],
      "text/plain": [
       "      estacion magnitud mes dia  medicion  lluvia_mm  lluvia  medicion_y\n",
       "14198       38       10   1   1      37.0        0.0   False        27.0\n",
       "14199       38       10   1   2      36.0        0.0   False        23.0\n",
       "14200       38       10   1   3      24.0        0.0   False        12.0\n",
       "14201       38       10   1   4      34.0        0.0   False        20.0\n",
       "14202       38       10   1   5      36.0        0.0   False        23.0"
      ]
     },
     "execution_count": 95,
     "metadata": {},
     "output_type": "execute_result"
    }
   ],
   "source": [
    "data = aireMadrid_38_10.copy()\n",
    "data[\"medicion_y\"] = aireMadrid_38_9.medicion.values\n",
    "data.head()"
   ]
  },
  {
   "cell_type": "code",
   "execution_count": 96,
   "id": "5ccb236e-4ca7-46b6-80d5-9da250eef680",
   "metadata": {},
   "outputs": [],
   "source": [
    "X = data.medicion\n",
    "Y = data.medicion_y"
   ]
  },
  {
   "cell_type": "code",
   "execution_count": 100,
   "id": "22afdfee-a3ad-4e39-89ac-cc0bf1cc5eb7",
   "metadata": {},
   "outputs": [
    {
     "data": {
      "image/png": "[encoded data removed]",
      "text/plain": [
       "<Figure size 864x864 with 1 Axes>"
      ]
     },
     "metadata": {},
     "output_type": "display_data"
    }
   ],
   "source": [
    "plt.scatter(x = X, y = Y, alpha = 0.5, c = '#d133ff')\n",
    "plt.show()"
   ]
  },
  {
   "cell_type": "code",
   "execution_count": 114,
   "id": "5a5efe72-e6b7-4627-ad02-0747dd1d3bda",
   "metadata": {},
   "outputs": [
    {
     "data": {
      "text/html": [
       "<table class=\"simpletable\">\n",
       "<caption>OLS Regression Results</caption>\n",
       "<tr>\n",
       "  <th>Dep. Variable:</th>       <td>medicion_y</td>    <th>  R-squared:         </th> <td>   0.823</td>\n",
       "</tr>\n",
       "<tr>\n",
       "  <th>Model:</th>                   <td>OLS</td>       <th>  Adj. R-squared:    </th> <td>   0.822</td>\n",
       "</tr>\n",
       "<tr>\n",
       "  <th>Method:</th>             <td>Least Squares</td>  <th>  F-statistic:       </th> <td>   710.8</td>\n",
       "</tr>\n",
       "<tr>\n",
       "  <th>Date:</th>             <td>Sun, 16 Oct 2022</td> <th>  Prob (F-statistic):</th> <td>2.22e-59</td>\n",
       "</tr>\n",
       "<tr>\n",
       "  <th>Time:</th>                 <td>00:21:42</td>     <th>  Log-Likelihood:    </th> <td> -388.83</td>\n",
       "</tr>\n",
       "<tr>\n",
       "  <th>No. Observations:</th>      <td>   155</td>      <th>  AIC:               </th> <td>   781.7</td>\n",
       "</tr>\n",
       "<tr>\n",
       "  <th>Df Residuals:</th>          <td>   153</td>      <th>  BIC:               </th> <td>   787.7</td>\n",
       "</tr>\n",
       "<tr>\n",
       "  <th>Df Model:</th>              <td>     1</td>      <th>                     </th>     <td> </td>   \n",
       "</tr>\n",
       "<tr>\n",
       "  <th>Covariance Type:</th>      <td>nonrobust</td>    <th>                     </th>     <td> </td>   \n",
       "</tr>\n",
       "</table>\n",
       "<table class=\"simpletable\">\n",
       "<tr>\n",
       "      <td></td>        <th>coef</th>     <th>std err</th>      <th>t</th>      <th>P>|t|</th>  <th>[0.025</th>    <th>0.975]</th>  \n",
       "</tr>\n",
       "<tr>\n",
       "  <th>const</th>    <td>   -0.6944</td> <td>    0.476</td> <td>   -1.459</td> <td> 0.146</td> <td>   -1.634</td> <td>    0.246</td>\n",
       "</tr>\n",
       "<tr>\n",
       "  <th>medicion</th> <td>    0.6014</td> <td>    0.023</td> <td>   26.660</td> <td> 0.000</td> <td>    0.557</td> <td>    0.646</td>\n",
       "</tr>\n",
       "</table>\n",
       "<table class=\"simpletable\">\n",
       "<tr>\n",
       "  <th>Omnibus:</th>       <td> 9.618</td> <th>  Durbin-Watson:     </th> <td>   0.526</td>\n",
       "</tr>\n",
       "<tr>\n",
       "  <th>Prob(Omnibus):</th> <td> 0.008</td> <th>  Jarque-Bera (JB):  </th> <td>  10.079</td>\n",
       "</tr>\n",
       "<tr>\n",
       "  <th>Skew:</th>          <td> 0.500</td> <th>  Prob(JB):          </th> <td> 0.00648</td>\n",
       "</tr>\n",
       "<tr>\n",
       "  <th>Kurtosis:</th>      <td> 3.747</td> <th>  Cond. No.          </th> <td>    41.8</td>\n",
       "</tr>\n",
       "</table><br/><br/>Notes:<br/>[1] Standard Errors assume that the covariance matrix of the errors is correctly specified."
      ],
      "text/plain": [
       "<class 'statsmodels.iolib.summary.Summary'>\n",
       "\"\"\"\n",
       "                            OLS Regression Results                            \n",
       "==============================================================================\n",
       "Dep. Variable:             medicion_y   R-squared:                       0.823\n",
       "Model:                            OLS   Adj. R-squared:                  0.822\n",
       "Method:                 Least Squares   F-statistic:                     710.8\n",
       "Date:                Sun, 16 Oct 2022   Prob (F-statistic):           2.22e-59\n",
       "Time:                        00:21:42   Log-Likelihood:                -388.83\n",
       "No. Observations:                 155   AIC:                             781.7\n",
       "Df Residuals:                     153   BIC:                             787.7\n",
       "Df Model:                           1                                         \n",
       "Covariance Type:            nonrobust                                         \n",
       "==============================================================================\n",
       "                 coef    std err          t      P>|t|      [0.025      0.975]\n",
       "------------------------------------------------------------------------------\n",
       "const         -0.6944      0.476     -1.459      0.146      -1.634       0.246\n",
       "medicion       0.6014      0.023     26.660      0.000       0.557       0.646\n",
       "==============================================================================\n",
       "Omnibus:                        9.618   Durbin-Watson:                   0.526\n",
       "Prob(Omnibus):                  0.008   Jarque-Bera (JB):               10.079\n",
       "Skew:                           0.500   Prob(JB):                      0.00648\n",
       "Kurtosis:                       3.747   Cond. No.                         41.8\n",
       "==============================================================================\n",
       "\n",
       "Notes:\n",
       "[1] Standard Errors assume that the covariance matrix of the errors is correctly specified.\n",
       "\"\"\""
      ]
     },
     "execution_count": 114,
     "metadata": {},
     "output_type": "execute_result"
    }
   ],
   "source": [
    "import statsmodels.api as sm \n",
    "import statsmodels.formula.api as smf \n",
    "X_1 = sm.add_constant(X)\n",
    "model = sm.OLS(Y, X_1) # OLS comes from Ordinary Least Squares\n",
    "fit = model.fit()\n",
    "fit.summary()"
   ]
  },
  {
   "cell_type": "markdown",
   "id": "da079d8a-f7c8-46e6-8e7e-3f42fc274194",
   "metadata": {},
   "source": [
    "Dispersion diagram"
   ]
  },
  {
   "cell_type": "code",
   "execution_count": 116,
   "id": "c46d385e-0351-4f13-a911-2ee331b7140f",
   "metadata": {},
   "outputs": [
    {
     "data": {
      "text/plain": [
       "[<matplotlib.lines.Line2D at 0x23827b3e550>]"
      ]
     },
     "execution_count": 116,
     "metadata": {},
     "output_type": "execute_result"
    },
    {
     "data": {
      "image/png": "[encoded data removed]",
      "text/plain": [
       "<Figure size 576x432 with 1 Axes>"
      ]
     },
     "metadata": {},
     "output_type": "display_data"
    }
   ],
   "source": [
    "X_new = np.linspace(X.min(), X.max(), 100)\n",
    "X_new = sm.add_constant(X_new)\n",
    "fit.pred = fit.get_prediction(X_new)\n",
    "fit_fitted_new = fit.pred.summary_frame(alpha=0.05)[\"mean\"]\n",
    "fig, ax = plt.subplots(figsize=(8, 6))\n",
    "ax.plot(X, Y, \"o\", label=\"data\")\n",
    "ax.plot(X_new[:,1], fit_fitted_new, \"y--\", lw = 4)"
   ]
  },
  {
   "cell_type": "markdown",
   "id": "b7afea8b-b904-4803-b65f-859b81db624b",
   "metadata": {},
   "source": [
    "#### C12\n",
    "**What percentage of the variability in the level of particles smaller than 2.5 µm is explained by the model?\n",
    "Also examine the diagnostic plots of the model and use them to make a judgment as to whether that\n",
    "model meets the linear model assumptions.**"
   ]
  },
  {
   "cell_type": "markdown",
   "id": "bf203c91-b7fc-4c3f-9899-13bbd038f9d6",
   "metadata": {},
   "source": [
    "The variance explained is r2 = 0.823"
   ]
  },
  {
   "cell_type": "code",
   "execution_count": 117,
   "id": "603620c1-6735-48e3-9ff6-d95f03310fcd",
   "metadata": {},
   "outputs": [],
   "source": [
    "%run ./code/Linear_Reg_Diagnostic.py\n",
    "fit_diagnose = Linear_Reg_Diagnostic(fit)"
   ]
  },
  {
   "cell_type": "markdown",
   "id": "0b18132b-29a4-4628-bb35-bd6a6d7e5080",
   "metadata": {},
   "source": [
    "Residual vs fitted plot"
   ]
  },
  {
   "cell_type": "code",
   "execution_count": 119,
   "id": "3283e478-641a-44ce-bab5-89540ae16ccb",
   "metadata": {},
   "outputs": [
    {
     "data": {
      "image/png": "[encoded data removed]",
      "text/plain": [
       "<Figure size 864x864 with 1 Axes>"
      ]
     },
     "metadata": {},
     "output_type": "display_data"
    }
   ],
   "source": [
    "fit_diagnose.residual_plot()\n",
    "plt.show()"
   ]
  },
  {
   "cell_type": "markdown",
   "id": "42c5e9a1-357c-4de9-b6fc-e008b9f531eb",
   "metadata": {},
   "source": [
    "For the distribution of the residuals to be correct, the horizontal red line should be as horizontal as possible"
   ]
  },
  {
   "cell_type": "code",
   "execution_count": 120,
   "id": "026163de-42c2-46c8-8e69-ffeb3f16d8c2",
   "metadata": {},
   "outputs": [
    {
     "data": {
      "image/png": "[encoded data removed]",
      "text/plain": [
       "<Figure size 864x864 with 1 Axes>"
      ]
     },
     "metadata": {},
     "output_type": "display_data"
    }
   ],
   "source": [
    "fit_diagnose.qq_plot()\n",
    "plt.show()"
   ]
  },
  {
   "cell_type": "markdown",
   "id": "cd57b407-924b-4003-b892-1301e689f482",
   "metadata": {},
   "source": [
    "The qq-plot shows that the distribution of the residuals is quite normal, although for the highest values, the points are further from the normal line."
   ]
  },
  {
   "cell_type": "code",
   "execution_count": 121,
   "id": "3bd3293b-3bc3-4135-ae5d-66f5ee523c29",
   "metadata": {},
   "outputs": [
    {
     "data": {
      "image/png": "[encoded data removed]",
      "text/plain": [
       "<Figure size 864x864 with 1 Axes>"
      ]
     },
     "metadata": {},
     "output_type": "display_data"
    }
   ],
   "source": [
    "fit_diagnose.scale_location_plot()\n",
    "plt.show()"
   ]
  },
  {
   "cell_type": "markdown",
   "id": "fea91480-c503-4f76-9ce3-33ea0e0d2482",
   "metadata": {},
   "source": [
    "Same as residual vs fitted"
   ]
  },
  {
   "cell_type": "code",
   "execution_count": null,
   "id": "223148a0-70ac-4a14-8d38-001e20cc23ee",
   "metadata": {},
   "outputs": [],
   "source": []
  }
 ],
 "metadata": {
  "kernelspec": {
   "display_name": "Python 3",
   "language": "python",
   "name": "python3"
  },
  "language_info": {
   "codemirror_mode": {
    "name": "ipython",
    "version": 3
   },
   "file_extension": ".py",
   "mimetype": "text/x-python",
   "name": "python",
   "nbconvert_exporter": "python",
   "pygments_lexer": "ipython3",
   "version": "3.8.8"
  }
 },
 "nbformat": 4,
 "nbformat_minor": 5
}
