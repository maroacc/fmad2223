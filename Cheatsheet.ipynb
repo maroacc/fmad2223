{
 "cells": [
  {
   "cell_type": "markdown",
   "id": "dbdb6bbb-55c1-4ed7-9f91-93dfdfd7a8f6",
   "metadata": {},
   "source": [
    "# Cheatsheet Exam FMAD\n",
    "Cheatsheet for code for the fmad exam"
   ]
  },
  {
   "cell_type": "code",
   "execution_count": 2,
   "id": "ab697f34-2d25-42a5-9a8d-ff6d93a76c96",
   "metadata": {},
   "outputs": [],
   "source": [
    "# Imports\n",
    "\n",
    "import numpy as np\n",
    "import pandas as pd\n",
    "import matplotlib.pyplot as plt\n",
    "import scipy as scp\n",
    "import seaborn as sns\n",
    "import scipy.stats as stats\n",
    "import statsmodels.stats.power as smp\n",
    "import statsmodels.api as sm \n",
    "import statsmodels.formula.api as smf \n",
    "\n",
    "sns.set(rc={'figure.figsize':(12, 12)})"
   ]
  },
  {
   "cell_type": "markdown",
   "id": "04f9b07b-df76-4ace-a2de-506991f1faf2",
   "metadata": {},
   "source": [
    "## Exploratory Analysis"
   ]
  },
  {
   "cell_type": "code",
   "execution_count": 2,
   "id": "16d76c75-6dd6-4eb9-8e67-b03a34d1aad5",
   "metadata": {},
   "outputs": [
    {
     "data": {
      "text/html": [
       "<div>\n",
       "<style scoped>\n",
       "    .dataframe tbody tr th:only-of-type {\n",
       "        vertical-align: middle;\n",
       "    }\n",
       "\n",
       "    .dataframe tbody tr th {\n",
       "        vertical-align: top;\n",
       "    }\n",
       "\n",
       "    .dataframe thead th {\n",
       "        text-align: right;\n",
       "    }\n",
       "</style>\n",
       "<table border=\"1\" class=\"dataframe\">\n",
       "  <thead>\n",
       "    <tr style=\"text-align: right;\">\n",
       "      <th></th>\n",
       "      <th>Age</th>\n",
       "      <th>Attrition</th>\n",
       "      <th>BusinessTravel</th>\n",
       "      <th>Department</th>\n",
       "      <th>DistanceFromHome</th>\n",
       "      <th>Gender</th>\n",
       "      <th>JobLevel</th>\n",
       "      <th>JobRole</th>\n",
       "      <th>JobSatisfaction</th>\n",
       "      <th>MaritalStatus</th>\n",
       "      <th>...</th>\n",
       "      <th>NumCompaniesWorked</th>\n",
       "      <th>OverTime</th>\n",
       "      <th>PerformanceRating</th>\n",
       "      <th>TotalWorkingYears</th>\n",
       "      <th>TrainingTimesLastYear</th>\n",
       "      <th>YearsAtCompany</th>\n",
       "      <th>YearsInCurrentRole</th>\n",
       "      <th>RateType</th>\n",
       "      <th>Rate</th>\n",
       "      <th>Education_Field</th>\n",
       "    </tr>\n",
       "  </thead>\n",
       "  <tbody>\n",
       "    <tr>\n",
       "      <th>0</th>\n",
       "      <td>31</td>\n",
       "      <td>No</td>\n",
       "      <td>Travel_Rarely</td>\n",
       "      <td>Research_Development</td>\n",
       "      <td>23.0</td>\n",
       "      <td>Male</td>\n",
       "      <td>2</td>\n",
       "      <td>Healthcare_Representative</td>\n",
       "      <td>Very_High</td>\n",
       "      <td>Married</td>\n",
       "      <td>...</td>\n",
       "      <td>0.0</td>\n",
       "      <td>No</td>\n",
       "      <td>Outstanding</td>\n",
       "      <td>10</td>\n",
       "      <td>2</td>\n",
       "      <td>9</td>\n",
       "      <td>0</td>\n",
       "      <td>DailyRate</td>\n",
       "      <td>1463</td>\n",
       "      <td>Bachelor//Medical</td>\n",
       "    </tr>\n",
       "    <tr>\n",
       "      <th>1</th>\n",
       "      <td>31</td>\n",
       "      <td>No</td>\n",
       "      <td>Travel_Rarely</td>\n",
       "      <td>Research_Development</td>\n",
       "      <td>23.0</td>\n",
       "      <td>Male</td>\n",
       "      <td>2</td>\n",
       "      <td>Healthcare_Representative</td>\n",
       "      <td>Very_High</td>\n",
       "      <td>Married</td>\n",
       "      <td>...</td>\n",
       "      <td>0.0</td>\n",
       "      <td>No</td>\n",
       "      <td>Outstanding</td>\n",
       "      <td>10</td>\n",
       "      <td>2</td>\n",
       "      <td>9</td>\n",
       "      <td>0</td>\n",
       "      <td>HourlyRate</td>\n",
       "      <td>64</td>\n",
       "      <td>Bachelor//Medical</td>\n",
       "    </tr>\n",
       "    <tr>\n",
       "      <th>2</th>\n",
       "      <td>31</td>\n",
       "      <td>No</td>\n",
       "      <td>Travel_Rarely</td>\n",
       "      <td>Research_Development</td>\n",
       "      <td>23.0</td>\n",
       "      <td>Male</td>\n",
       "      <td>2</td>\n",
       "      <td>Healthcare_Representative</td>\n",
       "      <td>Very_High</td>\n",
       "      <td>Married</td>\n",
       "      <td>...</td>\n",
       "      <td>0.0</td>\n",
       "      <td>No</td>\n",
       "      <td>Outstanding</td>\n",
       "      <td>10</td>\n",
       "      <td>2</td>\n",
       "      <td>9</td>\n",
       "      <td>0</td>\n",
       "      <td>MonthlyRate</td>\n",
       "      <td>14408</td>\n",
       "      <td>Bachelor//Medical</td>\n",
       "    </tr>\n",
       "    <tr>\n",
       "      <th>3</th>\n",
       "      <td>31</td>\n",
       "      <td>Yes</td>\n",
       "      <td>Travel_Frequently</td>\n",
       "      <td>Research_Development</td>\n",
       "      <td>15.0</td>\n",
       "      <td>Male</td>\n",
       "      <td>1</td>\n",
       "      <td>Laboratory_Technician</td>\n",
       "      <td>High</td>\n",
       "      <td>Married</td>\n",
       "      <td>...</td>\n",
       "      <td>1.0</td>\n",
       "      <td>No</td>\n",
       "      <td>Excellent</td>\n",
       "      <td>2</td>\n",
       "      <td>5</td>\n",
       "      <td>2</td>\n",
       "      <td>2</td>\n",
       "      <td>DailyRate</td>\n",
       "      <td>874</td>\n",
       "      <td>Bachelor//Medical</td>\n",
       "    </tr>\n",
       "    <tr>\n",
       "      <th>4</th>\n",
       "      <td>31</td>\n",
       "      <td>Yes</td>\n",
       "      <td>Travel_Frequently</td>\n",
       "      <td>Research_Development</td>\n",
       "      <td>15.0</td>\n",
       "      <td>Male</td>\n",
       "      <td>1</td>\n",
       "      <td>Laboratory_Technician</td>\n",
       "      <td>High</td>\n",
       "      <td>Married</td>\n",
       "      <td>...</td>\n",
       "      <td>1.0</td>\n",
       "      <td>No</td>\n",
       "      <td>Excellent</td>\n",
       "      <td>2</td>\n",
       "      <td>5</td>\n",
       "      <td>2</td>\n",
       "      <td>2</td>\n",
       "      <td>HourlyRate</td>\n",
       "      <td>72</td>\n",
       "      <td>Bachelor//Medical</td>\n",
       "    </tr>\n",
       "  </tbody>\n",
       "</table>\n",
       "<p>5 rows × 21 columns</p>\n",
       "</div>"
      ],
      "text/plain": [
       "   Age Attrition     BusinessTravel            Department  DistanceFromHome  \\\n",
       "0   31        No      Travel_Rarely  Research_Development              23.0   \n",
       "1   31        No      Travel_Rarely  Research_Development              23.0   \n",
       "2   31        No      Travel_Rarely  Research_Development              23.0   \n",
       "3   31       Yes  Travel_Frequently  Research_Development              15.0   \n",
       "4   31       Yes  Travel_Frequently  Research_Development              15.0   \n",
       "\n",
       "  Gender  JobLevel                    JobRole JobSatisfaction MaritalStatus  \\\n",
       "0   Male         2  Healthcare_Representative       Very_High       Married   \n",
       "1   Male         2  Healthcare_Representative       Very_High       Married   \n",
       "2   Male         2  Healthcare_Representative       Very_High       Married   \n",
       "3   Male         1      Laboratory_Technician            High       Married   \n",
       "4   Male         1      Laboratory_Technician            High       Married   \n",
       "\n",
       "   ...  NumCompaniesWorked  OverTime PerformanceRating TotalWorkingYears  \\\n",
       "0  ...                 0.0        No       Outstanding                10   \n",
       "1  ...                 0.0        No       Outstanding                10   \n",
       "2  ...                 0.0        No       Outstanding                10   \n",
       "3  ...                 1.0        No         Excellent                 2   \n",
       "4  ...                 1.0        No         Excellent                 2   \n",
       "\n",
       "   TrainingTimesLastYear  YearsAtCompany  YearsInCurrentRole     RateType  \\\n",
       "0                      2               9                   0    DailyRate   \n",
       "1                      2               9                   0   HourlyRate   \n",
       "2                      2               9                   0  MonthlyRate   \n",
       "3                      5               2                   2    DailyRate   \n",
       "4                      5               2                   2   HourlyRate   \n",
       "\n",
       "    Rate    Education_Field  \n",
       "0   1463  Bachelor//Medical  \n",
       "1     64  Bachelor//Medical  \n",
       "2  14408  Bachelor//Medical  \n",
       "3    874  Bachelor//Medical  \n",
       "4     72  Bachelor//Medical  \n",
       "\n",
       "[5 rows x 21 columns]"
      ]
     },
     "execution_count": 2,
     "metadata": {},
     "output_type": "execute_result"
    }
   ],
   "source": [
    "path = 'PreviousExams/data/empleados.csv' # Change\n",
    "data = pd.read_csv(path)\n",
    "data.head()"
   ]
  },
  {
   "cell_type": "markdown",
   "id": "253bf29a-a3dc-4649-b350-743866a4eb13",
   "metadata": {},
   "source": [
    "### Variable description"
   ]
  },
  {
   "cell_type": "markdown",
   "id": "894ece50-aa4f-4537-a3c5-2ec996dcaf1c",
   "metadata": {},
   "source": [
    "#### Number of rows and columns"
   ]
  },
  {
   "cell_type": "code",
   "execution_count": 3,
   "id": "849a3768-f843-4223-8006-c93bc5570da4",
   "metadata": {},
   "outputs": [
    {
     "name": "stdout",
     "output_type": "stream",
     "text": [
      "There are 3528 observations in the table\n",
      "There are 21 variables in the table\n"
     ]
    }
   ],
   "source": [
    "print(f\"There are {len(data)} observations in the table\")\n",
    "print(f\"There are {len(data.columns)} variables in the table\")"
   ]
  },
  {
   "cell_type": "markdown",
   "id": "e6573a64-e010-4327-b05c-927503fc35e9",
   "metadata": {},
   "source": [
    "#### Non-null count and variable type"
   ]
  },
  {
   "cell_type": "code",
   "execution_count": 4,
   "id": "4501fbdc-c2c0-454e-a0fe-583f270a0816",
   "metadata": {},
   "outputs": [
    {
     "name": "stdout",
     "output_type": "stream",
     "text": [
      "<class 'pandas.core.frame.DataFrame'>\n",
      "RangeIndex: 3528 entries, 0 to 3527\n",
      "Data columns (total 21 columns):\n",
      " #   Column                 Non-Null Count  Dtype  \n",
      "---  ------                 --------------  -----  \n",
      " 0   Age                    3528 non-null   int64  \n",
      " 1   Attrition              3528 non-null   object \n",
      " 2   BusinessTravel         3528 non-null   object \n",
      " 3   Department             3528 non-null   object \n",
      " 4   DistanceFromHome       3519 non-null   float64\n",
      " 5   Gender                 3528 non-null   object \n",
      " 6   JobLevel               3528 non-null   int64  \n",
      " 7   JobRole                3528 non-null   object \n",
      " 8   JobSatisfaction        3528 non-null   object \n",
      " 9   MaritalStatus          3528 non-null   object \n",
      " 10  MonthlyIncome          3528 non-null   int64  \n",
      " 11  NumCompaniesWorked     3522 non-null   float64\n",
      " 12  OverTime               3528 non-null   object \n",
      " 13  PerformanceRating      3528 non-null   object \n",
      " 14  TotalWorkingYears      3528 non-null   int64  \n",
      " 15  TrainingTimesLastYear  3528 non-null   int64  \n",
      " 16  YearsAtCompany         3528 non-null   int64  \n",
      " 17  YearsInCurrentRole     3528 non-null   int64  \n",
      " 18  RateType               3528 non-null   object \n",
      " 19  Rate                   3528 non-null   int64  \n",
      " 20  Education_Field        3528 non-null   object \n",
      "dtypes: float64(2), int64(8), object(11)\n",
      "memory usage: 578.9+ KB\n"
     ]
    }
   ],
   "source": [
    "data.info()"
   ]
  },
  {
   "cell_type": "markdown",
   "id": "560f24e0-8fda-42ce-b557-1caad5728849",
   "metadata": {},
   "source": [
    "#### Variable decription (mean, std etc)"
   ]
  },
  {
   "cell_type": "code",
   "execution_count": 5,
   "id": "7c476f9e-8774-41c8-9a6b-74516043f432",
   "metadata": {},
   "outputs": [
    {
     "data": {
      "text/html": [
       "<div>\n",
       "<style scoped>\n",
       "    .dataframe tbody tr th:only-of-type {\n",
       "        vertical-align: middle;\n",
       "    }\n",
       "\n",
       "    .dataframe tbody tr th {\n",
       "        vertical-align: top;\n",
       "    }\n",
       "\n",
       "    .dataframe thead th {\n",
       "        text-align: right;\n",
       "    }\n",
       "</style>\n",
       "<table border=\"1\" class=\"dataframe\">\n",
       "  <thead>\n",
       "    <tr style=\"text-align: right;\">\n",
       "      <th></th>\n",
       "      <th>Age</th>\n",
       "      <th>DistanceFromHome</th>\n",
       "      <th>JobLevel</th>\n",
       "      <th>MonthlyIncome</th>\n",
       "      <th>NumCompaniesWorked</th>\n",
       "      <th>TotalWorkingYears</th>\n",
       "      <th>TrainingTimesLastYear</th>\n",
       "      <th>YearsAtCompany</th>\n",
       "      <th>YearsInCurrentRole</th>\n",
       "      <th>Rate</th>\n",
       "    </tr>\n",
       "  </thead>\n",
       "  <tbody>\n",
       "    <tr>\n",
       "      <th>count</th>\n",
       "      <td>3528.000000</td>\n",
       "      <td>3519.000000</td>\n",
       "      <td>3528.000000</td>\n",
       "      <td>3528.000000</td>\n",
       "      <td>3522.000000</td>\n",
       "      <td>3528.000000</td>\n",
       "      <td>3528.000000</td>\n",
       "      <td>3528.000000</td>\n",
       "      <td>3528.000000</td>\n",
       "      <td>3528.000000</td>\n",
       "    </tr>\n",
       "    <tr>\n",
       "      <th>mean</th>\n",
       "      <td>36.915816</td>\n",
       "      <td>9.291560</td>\n",
       "      <td>2.059524</td>\n",
       "      <td>6494.353741</td>\n",
       "      <td>2.706133</td>\n",
       "      <td>11.278912</td>\n",
       "      <td>2.809524</td>\n",
       "      <td>7.011054</td>\n",
       "      <td>4.227041</td>\n",
       "      <td>5071.344955</td>\n",
       "    </tr>\n",
       "    <tr>\n",
       "      <th>std</th>\n",
       "      <td>9.080524</td>\n",
       "      <td>8.217462</td>\n",
       "      <td>1.098947</td>\n",
       "      <td>4681.281775</td>\n",
       "      <td>2.486022</td>\n",
       "      <td>7.732697</td>\n",
       "      <td>1.250120</td>\n",
       "      <td>6.150844</td>\n",
       "      <td>3.621172</td>\n",
       "      <td>7755.001787</td>\n",
       "    </tr>\n",
       "    <tr>\n",
       "      <th>min</th>\n",
       "      <td>18.000000</td>\n",
       "      <td>1.000000</td>\n",
       "      <td>1.000000</td>\n",
       "      <td>1009.000000</td>\n",
       "      <td>0.000000</td>\n",
       "      <td>0.000000</td>\n",
       "      <td>0.000000</td>\n",
       "      <td>0.000000</td>\n",
       "      <td>0.000000</td>\n",
       "      <td>30.000000</td>\n",
       "    </tr>\n",
       "    <tr>\n",
       "      <th>25%</th>\n",
       "      <td>30.000000</td>\n",
       "      <td>2.000000</td>\n",
       "      <td>1.000000</td>\n",
       "      <td>2933.500000</td>\n",
       "      <td>1.000000</td>\n",
       "      <td>6.000000</td>\n",
       "      <td>2.000000</td>\n",
       "      <td>3.000000</td>\n",
       "      <td>2.000000</td>\n",
       "      <td>83.000000</td>\n",
       "    </tr>\n",
       "    <tr>\n",
       "      <th>50%</th>\n",
       "      <td>35.000000</td>\n",
       "      <td>7.000000</td>\n",
       "      <td>2.000000</td>\n",
       "      <td>4880.000000</td>\n",
       "      <td>2.000000</td>\n",
       "      <td>10.000000</td>\n",
       "      <td>3.000000</td>\n",
       "      <td>5.000000</td>\n",
       "      <td>3.000000</td>\n",
       "      <td>798.500000</td>\n",
       "    </tr>\n",
       "    <tr>\n",
       "      <th>75%</th>\n",
       "      <td>43.000000</td>\n",
       "      <td>14.000000</td>\n",
       "      <td>3.000000</td>\n",
       "      <td>8383.750000</td>\n",
       "      <td>4.000000</td>\n",
       "      <td>15.000000</td>\n",
       "      <td>3.000000</td>\n",
       "      <td>10.000000</td>\n",
       "      <td>7.000000</td>\n",
       "      <td>8047.000000</td>\n",
       "    </tr>\n",
       "    <tr>\n",
       "      <th>max</th>\n",
       "      <td>60.000000</td>\n",
       "      <td>29.000000</td>\n",
       "      <td>5.000000</td>\n",
       "      <td>19999.000000</td>\n",
       "      <td>9.000000</td>\n",
       "      <td>40.000000</td>\n",
       "      <td>6.000000</td>\n",
       "      <td>40.000000</td>\n",
       "      <td>18.000000</td>\n",
       "      <td>26999.000000</td>\n",
       "    </tr>\n",
       "  </tbody>\n",
       "</table>\n",
       "</div>"
      ],
      "text/plain": [
       "               Age  DistanceFromHome     JobLevel  MonthlyIncome  \\\n",
       "count  3528.000000       3519.000000  3528.000000    3528.000000   \n",
       "mean     36.915816          9.291560     2.059524    6494.353741   \n",
       "std       9.080524          8.217462     1.098947    4681.281775   \n",
       "min      18.000000          1.000000     1.000000    1009.000000   \n",
       "25%      30.000000          2.000000     1.000000    2933.500000   \n",
       "50%      35.000000          7.000000     2.000000    4880.000000   \n",
       "75%      43.000000         14.000000     3.000000    8383.750000   \n",
       "max      60.000000         29.000000     5.000000   19999.000000   \n",
       "\n",
       "       NumCompaniesWorked  TotalWorkingYears  TrainingTimesLastYear  \\\n",
       "count         3522.000000        3528.000000            3528.000000   \n",
       "mean             2.706133          11.278912               2.809524   \n",
       "std              2.486022           7.732697               1.250120   \n",
       "min              0.000000           0.000000               0.000000   \n",
       "25%              1.000000           6.000000               2.000000   \n",
       "50%              2.000000          10.000000               3.000000   \n",
       "75%              4.000000          15.000000               3.000000   \n",
       "max              9.000000          40.000000               6.000000   \n",
       "\n",
       "       YearsAtCompany  YearsInCurrentRole          Rate  \n",
       "count     3528.000000         3528.000000   3528.000000  \n",
       "mean         7.011054            4.227041   5071.344955  \n",
       "std          6.150844            3.621172   7755.001787  \n",
       "min          0.000000            0.000000     30.000000  \n",
       "25%          3.000000            2.000000     83.000000  \n",
       "50%          5.000000            3.000000    798.500000  \n",
       "75%         10.000000            7.000000   8047.000000  \n",
       "max         40.000000           18.000000  26999.000000  "
      ]
     },
     "execution_count": 5,
     "metadata": {},
     "output_type": "execute_result"
    }
   ],
   "source": [
    "data.describe()"
   ]
  },
  {
   "cell_type": "markdown",
   "id": "e6325aa5-fd54-4a3a-b386-52471057799b",
   "metadata": {},
   "source": [
    "#### Null count"
   ]
  },
  {
   "cell_type": "code",
   "execution_count": 6,
   "id": "0d736a6b-d3ad-4d46-b6d0-51ff841e08e0",
   "metadata": {},
   "outputs": [
    {
     "data": {
      "text/plain": [
       "Age                      0\n",
       "Attrition                0\n",
       "BusinessTravel           0\n",
       "Department               0\n",
       "DistanceFromHome         9\n",
       "Gender                   0\n",
       "JobLevel                 0\n",
       "JobRole                  0\n",
       "JobSatisfaction          0\n",
       "MaritalStatus            0\n",
       "MonthlyIncome            0\n",
       "NumCompaniesWorked       6\n",
       "OverTime                 0\n",
       "PerformanceRating        0\n",
       "TotalWorkingYears        0\n",
       "TrainingTimesLastYear    0\n",
       "YearsAtCompany           0\n",
       "YearsInCurrentRole       0\n",
       "RateType                 0\n",
       "Rate                     0\n",
       "Education_Field          0\n",
       "dtype: int64"
      ]
     },
     "execution_count": 6,
     "metadata": {},
     "output_type": "execute_result"
    }
   ],
   "source": [
    "data_na =  data.isna()\n",
    "data_na.sum()"
   ]
  },
  {
   "cell_type": "code",
   "execution_count": null,
   "id": "07c7f71a-6eef-42a9-b5f4-d5d1c5e55205",
   "metadata": {},
   "outputs": [],
   "source": [
    "data.dropna(inplace=True)"
   ]
  },
  {
   "cell_type": "markdown",
   "id": "ec6dd309-501e-41a7-afbc-56623045d62e",
   "metadata": {},
   "source": [
    "We check"
   ]
  },
  {
   "cell_type": "code",
   "execution_count": 7,
   "id": "9c04ab25-0424-4d85-bdd2-1e047cf08470",
   "metadata": {},
   "outputs": [
    {
     "data": {
      "text/plain": [
       "True"
      ]
     },
     "execution_count": 7,
     "metadata": {},
     "output_type": "execute_result"
    }
   ],
   "source": [
    "np.any(data.isna())"
   ]
  },
  {
   "cell_type": "markdown",
   "id": "94fb2e8c-12a2-4df5-9e4f-9a8d5e3c2fc9",
   "metadata": {},
   "source": [
    "#### Conversion to category"
   ]
  },
  {
   "cell_type": "code",
   "execution_count": 18,
   "id": "daff372c-d158-4604-881c-a37ee89fe60d",
   "metadata": {},
   "outputs": [],
   "source": [
    "data_objects = data.columns[data.dtypes == 'object']\n",
    "data[data_objects] = data[data_objects].astype('category', )"
   ]
  },
  {
   "cell_type": "markdown",
   "id": "ca1ebaf2-a49c-4c1a-b72c-461a7e22014a",
   "metadata": {},
   "source": [
    "#### Bin"
   ]
  },
  {
   "cell_type": "code",
   "execution_count": null,
   "id": "9a914e1f-0149-4a06-b8e7-d0baea78f4cc",
   "metadata": {},
   "outputs": [],
   "source": [
    "start = 30 # Change\n",
    "stop = 80 # Change\n",
    "step = 10 # Change\n",
    "\n",
    "C_nodes = np.arange(start, stop, step)\n",
    "print(C_nodes)\n",
    "data['age_binned'] = pd.cut(data['age'], bins=C_nodes, ordered=True) #Change\n",
    "print(data.head(10))"
   ]
  },
  {
   "cell_type": "code",
   "execution_count": null,
   "id": "482872d8-dbc3-4bff-aa1e-1a7d52c0a92f",
   "metadata": {},
   "outputs": [],
   "source": [
    "numpy.linspace(start, stop, num=50, endpoint=True, retstep=False, dtype=None, axis=0)"
   ]
  },
  {
   "cell_type": "markdown",
   "id": "680e0123-c20c-4151-8445-8123d4acc2e0",
   "metadata": {},
   "source": [
    "#### Crosstab"
   ]
  },
  {
   "cell_type": "code",
   "execution_count": 19,
   "id": "f54be275-961f-448d-9d8f-f72b44309969",
   "metadata": {},
   "outputs": [
    {
     "data": {
      "text/html": [
       "<div>\n",
       "<style scoped>\n",
       "    .dataframe tbody tr th:only-of-type {\n",
       "        vertical-align: middle;\n",
       "    }\n",
       "\n",
       "    .dataframe tbody tr th {\n",
       "        vertical-align: top;\n",
       "    }\n",
       "\n",
       "    .dataframe thead th {\n",
       "        text-align: right;\n",
       "    }\n",
       "</style>\n",
       "<table border=\"1\" class=\"dataframe\">\n",
       "  <thead>\n",
       "    <tr style=\"text-align: right;\">\n",
       "      <th>OverTime</th>\n",
       "      <th>No</th>\n",
       "      <th>Yes</th>\n",
       "    </tr>\n",
       "    <tr>\n",
       "      <th>Attrition</th>\n",
       "      <th></th>\n",
       "      <th></th>\n",
       "    </tr>\n",
       "  </thead>\n",
       "  <tbody>\n",
       "    <tr>\n",
       "      <th>No</th>\n",
       "      <td>2298</td>\n",
       "      <td>681</td>\n",
       "    </tr>\n",
       "    <tr>\n",
       "      <th>Yes</th>\n",
       "      <td>252</td>\n",
       "      <td>297</td>\n",
       "    </tr>\n",
       "  </tbody>\n",
       "</table>\n",
       "</div>"
      ],
      "text/plain": [
       "OverTime     No  Yes\n",
       "Attrition           \n",
       "No         2298  681\n",
       "Yes         252  297"
      ]
     },
     "execution_count": 19,
     "metadata": {},
     "output_type": "execute_result"
    }
   ],
   "source": [
    "pd.crosstab(data.Attrition, data.OverTime)"
   ]
  },
  {
   "cell_type": "markdown",
   "id": "89de6870-4b02-4bda-bfb7-100c22de2a37",
   "metadata": {},
   "source": [
    "### Plots"
   ]
  },
  {
   "cell_type": "markdown",
   "id": "62000472-b71b-40ef-b71e-333c768f4207",
   "metadata": {},
   "source": [
    "#### Histogram + Density curve"
   ]
  },
  {
   "cell_type": "code",
   "execution_count": 9,
   "id": "0fabb972-cd97-4ef0-8852-4b82ce42686b",
   "metadata": {},
   "outputs": [
    {
     "data": {
      "image/png": "[encoded data removed]",
      "text/plain": [
       "<Figure size 864x864 with 1 Axes>"
      ]
     },
     "metadata": {},
     "output_type": "display_data"
    }
   ],
   "source": [
    "dens_plot = sns.histplot(data = data, x = 'Age', kde=True)\n",
    "dens_plot.lines[0].set_color('red')\n",
    "dens_plot.lines[0].set_linewidth(3)"
   ]
  },
  {
   "cell_type": "markdown",
   "id": "0e23797b-a169-43c1-af48-379a9b6b9b27",
   "metadata": {},
   "source": [
    "#### Boxplot"
   ]
  },
  {
   "cell_type": "code",
   "execution_count": 10,
   "id": "109a41d5-c4df-47c5-a77f-d81921232c39",
   "metadata": {},
   "outputs": [
    {
     "data": {
      "image/png": "[encoded data removed]",
      "text/plain": [
       "<Figure size 432x576 with 1 Axes>"
      ]
     },
     "metadata": {},
     "output_type": "display_data"
    }
   ],
   "source": [
    "getPlot = data.boxplot(column='Age', by = 'Attrition', figsize=(6, 8))"
   ]
  },
  {
   "cell_type": "code",
   "execution_count": 11,
   "id": "b646f1bf-c35e-4f5f-b3ed-514fa14404b5",
   "metadata": {},
   "outputs": [
    {
     "data": {
      "image/png": "[encoded data removed]",
      "text/plain": [
       "<Figure size 864x864 with 1 Axes>"
      ]
     },
     "metadata": {},
     "output_type": "display_data"
    }
   ],
   "source": [
    "sns.boxplot(x='Attrition', y='Age', hue='Gender', data=data)\n",
    "plt.show()"
   ]
  },
  {
   "cell_type": "markdown",
   "id": "e65c658e-6b30-4994-9feb-c432d6ca9b21",
   "metadata": {},
   "source": [
    "#### Bar plot"
   ]
  },
  {
   "cell_type": "code",
   "execution_count": 12,
   "id": "aa6c66e7-99b6-4939-8f8a-29293bb63ae6",
   "metadata": {},
   "outputs": [
    {
     "data": {
      "text/plain": [
       "<AxesSubplot:xlabel='JobSatisfaction', ylabel='count'>"
      ]
     },
     "execution_count": 12,
     "metadata": {},
     "output_type": "execute_result"
    },
    {
     "data": {
      "image/png": "[encoded data removed]",
      "text/plain": [
       "<Figure size 864x864 with 1 Axes>"
      ]
     },
     "metadata": {},
     "output_type": "display_data"
    }
   ],
   "source": [
    "order = [\"Low\", \"Medium\", \"High\", \"Very_High\"]\n",
    "sns.countplot(x = \"JobSatisfaction\", data = data, order = order)"
   ]
  },
  {
   "cell_type": "markdown",
   "id": "fcaf17f8-c12c-4773-b840-51d946678e13",
   "metadata": {},
   "source": [
    "##### Stack with percentages"
   ]
  },
  {
   "cell_type": "code",
   "execution_count": null,
   "id": "e377ee20-97c7-450c-aba2-d47cf9773688",
   "metadata": {},
   "outputs": [],
   "source": [
    "CT = pd.crosstab(frami['currentSmoker'], frami['male'])\n",
    "CT\n",
    "# We add to the table the totals for each row\n",
    "CT['total'] = CT.sum(axis=1)\n",
    "# Sort the table using those totals\n",
    "CT.sort_values('total', inplace=True)\n",
    "\n",
    "# Remove them so thay do not interfere with the graphic\n",
    "CT2= CT.drop(columns='total')\n",
    "\n",
    "percents = CT2.div(CT.total, axis = 0).mul(100).round(2)\n",
    "#La tabla percents seria la tabla de las probabilidades\n",
    "percents.to_numpy()\n",
    "print(percents)\n",
    "\n",
    "percents.iloc[:, 0]\n",
    "ax = CT2.plot.bar(stacked = True, rot = 0)\n",
    "\n",
    "for i in range(len(ax.containers)):\n",
    "    c = ax.containers[i]  \n",
    "    # percent labels (or empty string below a threshold for close to 0%)\n",
    "    labels = [f'{v:2.2f}%' if (v > 1) else '' for v in percents.iloc[:, i]]  \n",
    "    # add labels to bars\n",
    "    ax.bar_label(c, labels=labels, label_type='center',   fontsize=15)\n",
    "\n",
    "plt.show()"
   ]
  },
  {
   "cell_type": "markdown",
   "id": "1a6f7534-2009-40a5-b97a-c64585756192",
   "metadata": {},
   "source": [
    "## Probability"
   ]
  },
  {
   "cell_type": "markdown",
   "id": "c45a2e48-57c7-407e-8883-130ad76350b4",
   "metadata": {},
   "source": [
    "### Binomial"
   ]
  },
  {
   "cell_type": "markdown",
   "id": "1a6f592e-1ce4-4139-88b6-eac1f3148613",
   "metadata": {},
   "source": [
    "The binom.pmf function takes in three parameters:\n",
    "\n",
    "- n: the total number of trials or times the experiment will be carried out.\n",
    "- r: a list of integers from 0 to n, inclusive.\n",
    "- p: the probability that the outcome of a single experiment will be a success. The value of p must be between 0 and 1, inclusive."
   ]
  },
  {
   "cell_type": "markdown",
   "id": "6b791fac-d6cf-47de-bd7f-16b202a42127",
   "metadata": {},
   "source": [
    "#### Probability mass funcion\n",
    "Prob of k = n"
   ]
  },
  {
   "cell_type": "code",
   "execution_count": 3,
   "id": "30391d77-d1cc-4a49-8bbc-b65c4ab4e860",
   "metadata": {},
   "outputs": [
    {
     "data": {
      "text/plain": [
       "0.20206092562597672"
      ]
     },
     "execution_count": 3,
     "metadata": {},
     "output_type": "execute_result"
    }
   ],
   "source": [
    "n = 12 # Change\n",
    "k = 4 # Change\n",
    "p = 0.41417591801878734 # Change\n",
    "stats.binom.pmf(k, n = n, p = p)"
   ]
  },
  {
   "cell_type": "markdown",
   "id": "6f0d4fa9-cbeb-4e6d-b6ad-32b06d176ed1",
   "metadata": {},
   "source": [
    "#### Cumulative distribution function\n",
    "Prob of k <= n"
   ]
  },
  {
   "cell_type": "code",
   "execution_count": 6,
   "id": "e7739f03-0c38-47ea-bea4-f91e9da1658d",
   "metadata": {},
   "outputs": [
    {
     "data": {
      "text/plain": [
       "0.015495178760459893"
      ]
     },
     "execution_count": 6,
     "metadata": {},
     "output_type": "execute_result"
    }
   ],
   "source": [
    "n = 12 # Change\n",
    "r = 1 # Change\n",
    "p = 0.41417591801878734 # Change\n",
    "stats.binom.cdf(r, n = n, p = p)"
   ]
  },
  {
   "cell_type": "markdown",
   "id": "0cfcb41e-50eb-4412-b6c9-19eeaf14529d",
   "metadata": {},
   "source": [
    "#### Survival function\n",
    "Prob of k > n"
   ]
  },
  {
   "cell_type": "code",
   "execution_count": 10,
   "id": "37ac9a1d-dc46-4f10-b19a-cd17160137c3",
   "metadata": {},
   "outputs": [
    {
     "data": {
      "text/plain": [
       "0.19591409418211658"
      ]
     },
     "execution_count": 10,
     "metadata": {},
     "output_type": "execute_result"
    }
   ],
   "source": [
    "n = 4 # Change\n",
    "r = 2 # Change\n",
    "p = 0.41417591801878734 # Change\n",
    "stats.binom.sf(r, n = n, p = p)"
   ]
  },
  {
   "cell_type": "code",
   "execution_count": 11,
   "id": "910320d4-b920-49f6-9b89-e70dbfdc8385",
   "metadata": {},
   "outputs": [
    {
     "data": {
      "text/plain": [
       "0.19591409418211667"
      ]
     },
     "execution_count": 11,
     "metadata": {},
     "output_type": "execute_result"
    }
   ],
   "source": [
    "stats.binom.pmf(3, n = n, p = p) + stats.binom.pmf(4, n = n, p = p)"
   ]
  },
  {
   "cell_type": "markdown",
   "id": "3ebf3077-147f-47f8-8f34-2095dcd003fa",
   "metadata": {},
   "source": [
    "#### Interval"
   ]
  },
  {
   "cell_type": "markdown",
   "id": "c6546251-2cd5-4697-9b39-8fa306b65f02",
   "metadata": {},
   "source": [
    "B(12,0.4) . Calcula la probabilidad\n",
    "P(2<X<5)"
   ]
  },
  {
   "cell_type": "code",
   "execution_count": 19,
   "id": "dafd3977-f490-4d6d-b821-e4d9a979016e",
   "metadata": {},
   "outputs": [
    {
     "data": {
      "text/plain": [
       "0.3547348992"
      ]
     },
     "execution_count": 19,
     "metadata": {},
     "output_type": "execute_result"
    }
   ],
   "source": [
    "n = 12 # Change\n",
    "p = 0.4 # Change\n",
    "# start and stop are INCLUDED\n",
    "start = 3 # Change\n",
    "stop = 4\n",
    "stats.binom.cdf(k = stop, n = n, p = p) - stats.binom.cdf(k = start - 1, n = n, p = p)"
   ]
  },
  {
   "cell_type": "code",
   "execution_count": 20,
   "id": "49ab33d8-2bdd-4249-8932-2850cfccc291",
   "metadata": {},
   "outputs": [
    {
     "data": {
      "text/plain": [
       "0.35473489919999956"
      ]
     },
     "execution_count": 20,
     "metadata": {},
     "output_type": "execute_result"
    }
   ],
   "source": [
    "stats.binom.pmf(3, n = n, p = p) + stats.binom.pmf(4, n = n, p = p)"
   ]
  },
  {
   "cell_type": "markdown",
   "id": "28322b91-2a8c-4f63-bea0-85d1d16cfbb0",
   "metadata": {},
   "source": [
    "## Statistics"
   ]
  },
  {
   "cell_type": "markdown",
   "id": "db24d645-b11d-49aa-9fda-270662a734d1",
   "metadata": {},
   "source": [
    "### Confidence Interval"
   ]
  },
  {
   "cell_type": "code",
   "execution_count": null,
   "id": "9590548e-f407-4a59-884e-674b424f811f",
   "metadata": {},
   "outputs": [],
   "source": [
    "n = 100 # Change\n",
    "barX = 7.34 # Change\n",
    "s = 0.31 # Change\n",
    "\n",
    "# Short version of the critical point computation:\n",
    "cl = 0.95 # Change\n",
    "alpha = 1 - cl\n",
    "crit_point = stats.norm.isf(alpha/2, loc = 0, scale = 1)\n",
    "\n",
    "conf_int = barX + np.array([-1, 1]) * crit_point * s / np.sqrt(n)\n",
    "print(\"The confidence interval is \", conf_int)\n",
    "print(\"Rounded to 4 digits: [{:.4}, {:.4}]\".format(conf_int[0], conf_int[1]))"
   ]
  },
  {
   "cell_type": "markdown",
   "id": "2ab8497f-c20f-4b6a-af1e-3beb0eae56f5",
   "metadata": {},
   "source": [
    "### N samples of dataframe"
   ]
  },
  {
   "cell_type": "code",
   "execution_count": null,
   "id": "7f149cf6-0cc6-4d08-879d-e15693531025",
   "metadata": {},
   "outputs": [],
   "source": [
    "path = 'PreviousExams/data/empleados.csv'\n",
    "data = pd.read_csv(path)\n",
    "data.head()\n",
    "\n",
    "N = 100000 # Number of iterations of the experiment\n",
    "n = 12 # number of employees\n",
    "sample = data.sample(n*N, replace = True) # We sample n employees with replacement N times\n",
    "samples = sample.NumCompaniesWorked.values.reshape([n, N]) # We reshape the sample into a nxN matrix in order to keep the experiments separated"
   ]
  },
  {
   "cell_type": "markdown",
   "id": "94634141-145d-420d-acb2-d18ffc8d444b",
   "metadata": {},
   "source": [
    "### Mean representativity"
   ]
  },
  {
   "cell_type": "code",
   "execution_count": null,
   "id": "ae06916d-91f2-48c5-96a0-eeb6ec19abc5",
   "metadata": {},
   "outputs": [],
   "source": [
    "barX=frami.heartRate.mean() # Change\n",
    "s=frami.heartRate.std() # Change\n",
    "dispersion=(s/barX)*100\n",
    "print(f'Como el factor de dispersion es {dispersion} la media tiene una alta representatividad')\n",
    "\n",
    "getPlot = frami.heartRate.plot.density() #Change"
   ]
  },
  {
   "cell_type": "markdown",
   "id": "872da91f-860f-4df7-9d28-f6615e5c7535",
   "metadata": {},
   "source": [
    "### Sample means of population"
   ]
  },
  {
   "cell_type": "code",
   "execution_count": 17,
   "id": "ae6b34c3-db96-45ec-9957-0573f635a9e5",
   "metadata": {},
   "outputs": [
    {
     "data": {
      "text/html": [
       "<div>\n",
       "<style scoped>\n",
       "    .dataframe tbody tr th:only-of-type {\n",
       "        vertical-align: middle;\n",
       "    }\n",
       "\n",
       "    .dataframe tbody tr th {\n",
       "        vertical-align: top;\n",
       "    }\n",
       "\n",
       "    .dataframe thead th {\n",
       "        text-align: right;\n",
       "    }\n",
       "</style>\n",
       "<table border=\"1\" class=\"dataframe\">\n",
       "  <thead>\n",
       "    <tr style=\"text-align: right;\">\n",
       "      <th></th>\n",
       "      <th>Pob</th>\n",
       "    </tr>\n",
       "  </thead>\n",
       "  <tbody>\n",
       "    <tr>\n",
       "      <th>0</th>\n",
       "      <td>3.714471</td>\n",
       "    </tr>\n",
       "    <tr>\n",
       "      <th>1</th>\n",
       "      <td>3.852791</td>\n",
       "    </tr>\n",
       "    <tr>\n",
       "      <th>2</th>\n",
       "      <td>3.786909</td>\n",
       "    </tr>\n",
       "    <tr>\n",
       "      <th>3</th>\n",
       "      <td>3.729123</td>\n",
       "    </tr>\n",
       "    <tr>\n",
       "      <th>4</th>\n",
       "      <td>3.817796</td>\n",
       "    </tr>\n",
       "  </tbody>\n",
       "</table>\n",
       "</div>"
      ],
      "text/plain": [
       "        Pob\n",
       "0  3.714471\n",
       "1  3.852791\n",
       "2  3.786909\n",
       "3  3.729123\n",
       "4  3.817796"
      ]
     },
     "execution_count": 17,
     "metadata": {},
     "output_type": "execute_result"
    }
   ],
   "source": [
    "mu = 4.01 # Change\n",
    "sigma = 0.912 # Change\n",
    "N = 554 # Change\n",
    "\n",
    "pob = np.random.default_rng(2022).normal(loc = mu, scale = sigma, size = N)\n",
    "n=25 # Change\n",
    "n_samples=10000\n",
    "Population = pd.DataFrame({'Pob':pob})\n",
    "sample_means = pd.DataFrame([Population.sample(n, replace=True).mean() for item in range(n_samples)], \n",
    "                            columns=['Pob'])\n",
    "sample_means.head()"
   ]
  },
  {
   "cell_type": "markdown",
   "id": "720fc7c0-aed0-4fed-a261-0420d7856862",
   "metadata": {},
   "source": [
    "## Hypothesis testing"
   ]
  },
  {
   "cell_type": "markdown",
   "id": "7644bda6-8d18-4594-a174-e5cdf8a8ddd0",
   "metadata": {},
   "source": [
    "### p-Value\n",
    "\n",
    "+ We **initially assume that the null hypothesis is true**. That is we assume:\n",
    "$$\\mu = \\mu_0$$\n",
    "\n",
    "+ CLT states:\n",
    "$$\n",
    "\\bar X \\sim N\\left(\\dfrac{\\mu_0}{\\frac{s}{\\sqrt{n}}}\\right)\n",
    "$$\n",
    "and as a consequence:\n",
    "$$\n",
    "\\quad\\\\\n",
    "\\dfrac{\\bar X - \\mu_0}{\\frac{s}{\\sqrt{n}}}\\sim Z\n",
    "\\quad\\\\\n",
    "$$\n",
    "+ We can use this information and our knowledge of the standard normal $Z$ to compute the probability of randomly obtaining a sample *as bad for $H_0$ or worse* as the one we have."
   ]
  },
  {
   "cell_type": "markdown",
   "id": "5b9cb10d-ec66-4db0-ba9b-4b2743a2820f",
   "metadata": {},
   "source": [
    "### Normality test"
   ]
  },
  {
   "cell_type": "markdown",
   "id": "aadba985-6007-4313-ad43-8093e8e10434",
   "metadata": {},
   "source": [
    "The left tail looks too long to be a normal variable. We confirm this by calculating it mathematically with the Shapiro-Wilk test.\n",
    "- Ho: the data was drawn from a normal distribution\n",
    "- Ha: the data was not drawn from a normal distribution"
   ]
  },
  {
   "cell_type": "code",
   "execution_count": 24,
   "id": "cab200f7-72e4-47ef-923c-bf35f9946425",
   "metadata": {},
   "outputs": [
    {
     "data": {
      "text/plain": [
       "3.938348231840188e-24"
      ]
     },
     "execution_count": 24,
     "metadata": {},
     "output_type": "execute_result"
    }
   ],
   "source": [
    "shap_wilk = stats.shapiro(data.Age)\n",
    "shap_wilk.pvalue"
   ]
  },
  {
   "cell_type": "markdown",
   "id": "ed07b097-2262-461b-a148-1fc0d3d83d96",
   "metadata": {},
   "source": [
    "The p-value is lower than 0.05, therefore we reject the null hypothesis and we confirm that the sample was not drawn from a normal distribution "
   ]
  },
  {
   "cell_type": "markdown",
   "id": "2c261e06-a88e-4a82-9500-514eb7b9d3f5",
   "metadata": {},
   "source": [
    "### Mean testing"
   ]
  },
  {
   "cell_type": "code",
   "execution_count": 11,
   "id": "bc0b6af9-fcd3-4b24-9095-8eba667c75d3",
   "metadata": {},
   "outputs": [
    {
     "name": "stdout",
     "output_type": "stream",
     "text": [
      "The Z score for this sample is -2.497\n",
      "The critical value (defining the rejection region) is: -1.645\n",
      "And the resulting p-value is: 0.006271\n"
     ]
    }
   ],
   "source": [
    "n = 100 # Change\n",
    "mu0 = 1000 # Change\n",
    "barX = 998.5 # Change\n",
    "s = np.sqrt(36.1) # Change\n",
    "\n",
    "Zscore = (barX - mu0)/(s/np.sqrt(n))\n",
    "print(\"The Z score for this sample is {:.4}\".format(Zscore))\n",
    "\n",
    "\n",
    "sl = 0.95\n",
    "alpha = 1 - sl\n",
    "criticalValue = stats.norm.isf(1 - alpha)\n",
    "print(\"The critical value (defining the rejection region) is: {:.4}\".format(criticalValue))\n",
    "\n",
    "pValue = stats.norm.cdf(Zscore) # Change\n",
    "# pValue = stats.norm.sf(Zscore)\n",
    "# pValue = 2 * stats.norm.sf(Zscore) \n",
    "\n",
    "print(\"And the resulting p-value is: {:.4}\".format(pValue))"
   ]
  },
  {
   "cell_type": "markdown",
   "id": "9cee58c7-ac11-49a9-9386-e8fa32e64650",
   "metadata": {},
   "source": [
    "### T-test"
   ]
  },
  {
   "cell_type": "markdown",
   "id": "429d60dc-e52d-4218-a524-43242ad2e2bd",
   "metadata": {},
   "source": [
    "#### Without file"
   ]
  },
  {
   "cell_type": "code",
   "execution_count": 12,
   "id": "61ab5b81-1cc6-4461-be8a-d625c0356a99",
   "metadata": {},
   "outputs": [
    {
     "name": "stdout",
     "output_type": "stream",
     "text": [
      "The T score for this sample is -2.497\n",
      "The critical value (defining the rejection region) is: -1.66\n",
      "And the resulting p-value is: 0.007096\n"
     ]
    }
   ],
   "source": [
    "n = 100 # Change\n",
    "mu0 = 1000 # Change\n",
    "barX = 998.5 # Change\n",
    "s = np.sqrt(36.1) # Change\n",
    "df = n -1\n",
    "\n",
    "Tscore = (barX - mu0)/(s/np.sqrt(n))\n",
    "print(\"The T score for this sample is {:.4}\".format(Tscore))\n",
    "\n",
    "\n",
    "sl = 0.95\n",
    "alpha = 1 - sl\n",
    "criticalValue = stats.t.isf(1 - alpha,  df, loc=0, scale=1)\n",
    "print(\"The critical value (defining the rejection region) is: {:.4}\".format(criticalValue))\n",
    "\n",
    "pValue = stats.t.cdf(Tscore,  df, loc=0, scale=1) # Change\n",
    "# pValue = stats.t.sf(Tscore,  df, loc=0, scale=1)\n",
    "# pValue = 2 * t.norm.sf(Tscore,  df, loc=0, scale=1) \n",
    "\n",
    "print(\"And the resulting p-value is: {:.4}\".format(pValue))"
   ]
  },
  {
   "cell_type": "markdown",
   "id": "51ef3613-ccfa-4875-9804-9f3e2b0003dc",
   "metadata": {},
   "source": [
    "#### With file"
   ]
  },
  {
   "cell_type": "code",
   "execution_count": null,
   "id": "a0fe0bae-d0d8-4659-b2b2-16b471fa77d9",
   "metadata": {},
   "outputs": [],
   "source": [
    "link = \"https://raw.githubusercontent.com/tidyverse/ggplot2/main/data-raw/mpg.csv\" # Change link\n",
    "data = pd.read_csv(link)\n",
    "X = data.cty # Change to the desired variable\n",
    "\n",
    "mu0 = 16 # Change to null hypothesis mean\n",
    "alternative = \"greater\" # Change to alternative hypothesis: less, greater or two-sided\n",
    "\n",
    "Tscore, pValue = stats.ttest_1samp(X, \n",
    "                                   popmean=mu0,\n",
    "                                   alternative=alternative)\n",
    "\n",
    "print(\"The sample size is {:3d}\".format(len(X)))\n",
    "print(\"The sample mean is {:.4}\".format(X.mean()))\n",
    "print(\"The T score is {:.4}\".format(Tscore))\n",
    "print(\"And the corresponding p-value is {:.4}\".format(pValue))"
   ]
  },
  {
   "cell_type": "markdown",
   "id": "339449b4-4e50-425b-a9d2-2e7413444eb1",
   "metadata": {},
   "source": [
    "### Power\n",
    "Probability of rejecting false null hypothesis"
   ]
  },
  {
   "cell_type": "markdown",
   "id": "cfd79909-5013-4e1c-9b52-a7660ff255b2",
   "metadata": {},
   "source": [
    "#### Theory"
   ]
  },
  {
   "cell_type": "markdown",
   "id": "304989ea-4c6b-48d3-bccf-0bbb5d3466af",
   "metadata": {},
   "source": [
    "Errors of Types I and II\n",
    "\n",
    "<div class=\"center\">\n",
    "<table>\n",
    "<tbody>\n",
    "<tr class=\"odd\">\n",
    "<th style=\"text-align: center;\"></th>\n",
    "<th style=\"text-align: center;\"></th>\n",
    "<th colspan=\"2\" style=\"text-align: center;\"><u><strong>What hypothesis is true?</strong></u></th>\n",
    "</tr>\n",
    "<tr class=\"even\">\n",
    "<td style=\"text-align: center;\"></td>\n",
    "<td style=\"text-align: center;\"></td>\n",
    "<td style=\"text-align: center;\"><strong><span\n",
    "class=\"math inline\"><em>H</em><sub><em>a</em></sub></span> (alternative)\n",
    "is true</strong></td>\n",
    "<td style=\"text-align: center;\"><strong><span\n",
    "class=\"math inline\"><em>H</em><sub>0</sub></span> (null) is\n",
    "true</strong></td>\n",
    "</tr>\n",
    "<tr class=\"odd\">\n",
    "<td style=\"text-align: left;\"><u><strong>Test Result</strong></u></td>\n",
    "<td style=\"text-align: center;\"><strong>Reject <span\n",
    "class=\"math inline\"><em>H</em><sub>0</sub></span></strong></td>\n",
    "<td style=\"text-align: center;\">Right decision</td>\n",
    "<td style=\"text-align: center;\">Error type I (<span\n",
    "class=\"math inline\"><em>α</em></span>)</td>\n",
    "</tr>\n",
    "<tr class=\"even\">\n",
    "<td style=\"text-align: center;\"></td>\n",
    "<td style=\"text-align: center;\"><strong>Reject <span\n",
    "class=\"math inline\"><em>H</em><sub><em>a</em></sub></span></strong></td>\n",
    "<td style=\"text-align: center;\">Error type II (<span\n",
    "class=\"math inline\"><em>β</em></span>)</td>\n",
    "<td style=\"text-align: center;\">Right decision</td>\n",
    "</tr>\n",
    "</tbody>\n",
    "</table>\n",
    "</div>  \n"
   ]
  },
  {
   "cell_type": "markdown",
   "id": "886053a4-8673-4e09-a7a5-2369ce75391a",
   "metadata": {},
   "source": [
    "<p style='font-family: Optima;color:blue;background-color:#f0f0f5'>\n",
    "$$\n",
    "\\fbox{\n",
    "$\n",
    "\\quad\\\\\n",
    "\\text{power} = 1 - \\beta = K\\, \\dfrac{\\delta\\,\\sqrt{n}\\,\\alpha}{\\sigma}\n",
    "\\quad\\\\\n",
    "$\n",
    "}\n",
    "$$\n",
    "</p> \n",
    "\n",
    "  where $K$ is a certain constant (we don't need to worry about it) and:\n",
    "   + $n$ is the sample size\n",
    "   + $\\sigma$ is the population standard deviation.\n",
    "   + $\\delta$ is the **effect size**. That is the *minimal difference between $\\mu$ and $\\mu_0$ that we want the test to be able to detect* (in order to reject the null). This is analogous to the width of the confidence interval that we discussed in the previous session. "
   ]
  },
  {
   "cell_type": "code",
   "execution_count": null,
   "id": "cbd82212-36f2-4f75-940a-86adf456cc0d",
   "metadata": {},
   "outputs": [],
   "source": [
    "delta = 0.1 # Change\n",
    "sd = 0.5 # Change\n",
    "alpha = 0.05 # Change\n",
    "n = 100 # Change"
   ]
  },
  {
   "cell_type": "markdown",
   "id": "5904b535-87b1-47fe-81c5-ebfde78a490b",
   "metadata": {},
   "source": [
    "Calculate power"
   ]
  },
  {
   "cell_type": "code",
   "execution_count": null,
   "id": "be3bbb4d-99e7-447f-8a9c-2adf3fd1d6b5",
   "metadata": {},
   "outputs": [],
   "source": [
    "power = smp.ttest_power(effect_size = delta / sd, \n",
    "                nobs=n, alpha=alpha, alternative=\"larger\")\n",
    "\n",
    "print(\"The power for the test is {:.3}\".format(power))"
   ]
  },
  {
   "cell_type": "markdown",
   "id": "ae557f54-3eb3-41ee-a4df-13cde6b7d0b8",
   "metadata": {},
   "source": [
    "Calculate sample size for given power"
   ]
  },
  {
   "cell_type": "code",
   "execution_count": null,
   "id": "968c6ebc-7496-41a8-964e-76578a064086",
   "metadata": {},
   "outputs": [],
   "source": [
    "power = 0.8\n",
    "\n",
    "sample_size = smp.tt_solve_power(effect_size = delta / sd, \n",
    "                power = power, alpha = alpha, alternative = \"larger\")\n",
    "\n",
    "print(\"The minimum sample size to get that power is at least {:3d}\".format(\n",
    "        int(np.ceil(sample_size))))"
   ]
  },
  {
   "cell_type": "markdown",
   "id": "4bd82d33-7f04-40fd-b63d-8702cfbed027",
   "metadata": {},
   "source": [
    "### Chi-squared"
   ]
  },
  {
   "cell_type": "markdown",
   "id": "51c7fd03-4146-46fa-a975-d2b977715616",
   "metadata": {},
   "source": [
    "+ Three cases:\n",
    "$$\\begin{cases}\n",
    "&\\text{Null Hypothesis}&\\text{Alternative Hypothesis}\\\\\n",
    "\\text{One sided (left):}& H_0 = \\{\\sigma^2 \\leq \\sigma^2_0\\}, & H_a = \\{\\sigma^2 > \\sigma^2_0\\}\\\\\n",
    "\\text{One sided (right):}& H_0 = \\{\\sigma^2 \\geq \\sigma^2_0\\}, & H_a = \\{\\sigma^2 < \\sigma^2_0\\}\\\\\n",
    "\\text{Two sided:}& H_0 = \\{\\sigma^2 = \\sigma^2_0\\}, & H_a = \\{\\sigma^2 \\neq \\sigma^2_0\\}\n",
    "\\end{cases}\n",
    "$$\n",
    "\n",
    "+ The right kind of comparison uses quotients and not differences. The sampling distribution of the variance was described by this equation\n",
    "$$\n",
    "\\quad\\\\\n",
    "Y = (n-1)\\dfrac{s^2}{\\sigma^2}\\, \\sim\\,\\chi^2_k,\\quad\\mbox{ where }\\,k=n-1.\\\\\n",
    "$$\n",
    "This equation can be used to obtain a $Y$-score that will define a p-value when we use the corresponding $\\chi^2_k$ as the probability scale.  The only thing to keep in mind is that when we use this result we will change $\\sigma^2$ with $\\sigma_0^2$ because, just as in the case of the mean, that choice is the one that favors the null hypothesis the most.\n",
    "\n",
    "+ Finally, when a test for the standard deviation is required we have to pay to attention and take the square or the square root of the sample values as needed. "
   ]
  },
  {
   "cell_type": "code",
   "execution_count": null,
   "id": "49fb7587-336e-486c-bcf7-ce92fde02aeb",
   "metadata": {},
   "outputs": [],
   "source": [
    "# Load the data and check the first lines\n",
    "link = \"data/GEAR.txt\" # Change\n",
    "data = pd.read_csv(link)\n",
    "data.head()\n",
    "X = data.DIAMETER # Change\n",
    "\n",
    "# Compute the required sample measures\n",
    "s = X.std()\n",
    "print(\"Sample standard deviation s =  {:.4}\".format(s))\n",
    "n = len(data)\n",
    "print(\"Sample size n =  {:4d}\".format(n))\n",
    "\n",
    "# Enter the reference value sigma0 \n",
    "####  Double check if it is squared!! #######\n",
    "sigma0_2 = 0.000025 # Change\n",
    "\n",
    "# Compute the chi score\n",
    "chiScore = (n - 1) * s**2/sigma0_2\n",
    "print(\"The chi square score is {:.4}\".format(chiScore))\n",
    "\n",
    "\n",
    "pValue = stats.chi2.cdf(chiScore, df = n -1) # Change\n",
    "# pValue = stats.chi2.sf(chiScore, df = n -1)\n",
    "# pValue = 2 * stats.chi2.sf(chiScore, df = n -1) \n",
    "print(\"The p-value is {:.4}\".format(pvalue))"
   ]
  },
  {
   "cell_type": "markdown",
   "id": "c9ac7d57-e6a8-4b37-9cf5-b47b02015c62",
   "metadata": {},
   "source": [
    "## Modeling"
   ]
  },
  {
   "cell_type": "markdown",
   "id": "17844c97-0fa7-4b3b-bbda-6331259a7cb0",
   "metadata": {},
   "source": [
    "### Plots"
   ]
  },
  {
   "cell_type": "markdown",
   "id": "caab1e2b-1958-49df-a0d6-8aadb74e737c",
   "metadata": {},
   "source": [
    "#### Continuous variables - Scatter plot"
   ]
  },
  {
   "cell_type": "code",
   "execution_count": null,
   "id": "28459e73-510c-4693-aa52-5d3cd9f16e03",
   "metadata": {},
   "outputs": [],
   "source": [
    "link = \"https://raw.githubusercontent.com/tidyverse/ggplot2/main/data-raw/mpg.csv\" # Change\n",
    "data = pd.read_csv(link) \n",
    "\n",
    "sns.set(rc={'figure.figsize':(12, 8)})\n",
    "x = 'hwy' # Change\n",
    "y = 'cty' # Change\n",
    "plt.plot(x, y, 'bo', data=data)\n",
    "plt.xlabel(x, fontdict={'fontsize':20})   \n",
    "plt.ylabel(y, fontdict={'fontsize':20})\n",
    "plt.title('Highway vs Urban fuel consumption (miles per gallon)', fontdict={'fontsize':25}) # Change\n",
    "plt.show()"
   ]
  },
  {
   "cell_type": "markdown",
   "id": "fc185443-48bb-4b1b-9fa7-62ad04c19bfd",
   "metadata": {},
   "source": [
    "#### Continuous vs categorical variable - Boxplots and Violin plots"
   ]
  },
  {
   "cell_type": "code",
   "execution_count": null,
   "id": "b2ce849c-8e19-4372-8760-3415b3c3082e",
   "metadata": {},
   "outputs": [],
   "source": [
    "link = \"https://raw.githubusercontent.com/tidyverse/ggplot2/main/data-raw/mpg.csv\" # Change\n",
    "data = pd.read_csv(link) \n",
    "\n",
    "cont = 'cty' # Change\n",
    "cat = 'class' # Change\n",
    "\n",
    "class_order_by_cty = list(data[[cont, cat]].groupby(cat).median().sort_values(cont).index)\n",
    "\n",
    "sns.boxplot(x='class', y='cty', data=data, order=class_order_by_cty)\n",
    "plt.show()"
   ]
  },
  {
   "cell_type": "code",
   "execution_count": null,
   "id": "14e2663e-19f1-44f8-8a37-6852c7fc204c",
   "metadata": {},
   "outputs": [],
   "source": [
    "sns.violinplot(data=data, x=cat, y=cont, order=class_order_by_cty)\n",
    "plt.show()"
   ]
  },
  {
   "cell_type": "markdown",
   "id": "70424811-11e0-45e0-9998-f5590de0ff23",
   "metadata": {},
   "source": [
    "#### Pairplot"
   ]
  },
  {
   "cell_type": "code",
   "execution_count": null,
   "id": "aa5bf68e-4ef8-4b2a-b2c9-d9c41d225995",
   "metadata": {},
   "outputs": [],
   "source": [
    "sns.set_style(\"white\")\n",
    "sns.pairplot(data)\n",
    "# sns.pairplot(data, hue=\"drv\") # Change\n",
    "plt.show()"
   ]
  },
  {
   "cell_type": "markdown",
   "id": "05d2cc69-c326-418b-898f-5472e02f1482",
   "metadata": {},
   "source": [
    "### Regression"
   ]
  },
  {
   "cell_type": "markdown",
   "id": "8d6b06af-8363-431d-aee0-8095def2966c",
   "metadata": {},
   "source": [
    "#### Visualization"
   ]
  },
  {
   "cell_type": "code",
   "execution_count": null,
   "id": "7a8b9271-c46d-4959-977e-7230f1e07215",
   "metadata": {},
   "outputs": [],
   "source": [
    "link = \"./data/07_simple_linear_regression_01.csv\"\n",
    "data = pd.read_csv(link)"
   ]
  },
  {
   "cell_type": "code",
   "execution_count": null,
   "id": "32832449-51ab-41b2-a390-fa0941d299e4",
   "metadata": {},
   "outputs": [],
   "source": [
    "data.corr()"
   ]
  },
  {
   "cell_type": "code",
   "execution_count": null,
   "id": "d635d241-8b6f-4a58-aa8d-51dac8c90ea8",
   "metadata": {},
   "outputs": [],
   "source": [
    "sns.pairplot(data)\n",
    "plt.show()"
   ]
  },
  {
   "cell_type": "markdown",
   "id": "d7cdab46-7a46-452c-9829-879ed20e83cd",
   "metadata": {},
   "source": [
    "#### Training"
   ]
  },
  {
   "cell_type": "markdown",
   "id": "bd8864d1-3eb0-4cee-919b-1564cb55c031",
   "metadata": {},
   "source": [
    "##### Sci-py"
   ]
  },
  {
   "cell_type": "code",
   "execution_count": 20,
   "id": "50c2d40e-e706-4a9c-81c1-75196ae12be8",
   "metadata": {},
   "outputs": [
    {
     "ename": "AttributeError",
     "evalue": "'DataFrame' object has no attribute 'X'",
     "output_type": "error",
     "traceback": [
      "\u001b[1;31m---------------------------------------------------------------------------\u001b[0m",
      "\u001b[1;31mAttributeError\u001b[0m                            Traceback (most recent call last)",
      "\u001b[1;32m<ipython-input-20-21b45718b70f>\u001b[0m in \u001b[0;36m<module>\u001b[1;34m\u001b[0m\n\u001b[0;32m      3\u001b[0m \u001b[1;31m# single column gives a 1D array. That is why, after\u001b[0m\u001b[1;33m\u001b[0m\u001b[1;33m\u001b[0m\u001b[1;33m\u001b[0m\u001b[0m\n\u001b[0;32m      4\u001b[0m \u001b[1;31m# extracting the values from the columns we reshape it.\u001b[0m\u001b[1;33m\u001b[0m\u001b[1;33m\u001b[0m\u001b[1;33m\u001b[0m\u001b[0m\n\u001b[1;32m----> 5\u001b[1;33m \u001b[0mX\u001b[0m \u001b[1;33m=\u001b[0m \u001b[0mdata\u001b[0m\u001b[1;33m.\u001b[0m\u001b[0mX\u001b[0m\u001b[1;33m.\u001b[0m\u001b[0mvalues\u001b[0m\u001b[1;33m\u001b[0m\u001b[1;33m\u001b[0m\u001b[0m\n\u001b[0m\u001b[0;32m      6\u001b[0m \u001b[0mX\u001b[0m \u001b[1;33m=\u001b[0m \u001b[0mX\u001b[0m\u001b[1;33m[\u001b[0m\u001b[1;33m:\u001b[0m\u001b[1;33m,\u001b[0m \u001b[0mnp\u001b[0m\u001b[1;33m.\u001b[0m\u001b[0mnewaxis\u001b[0m\u001b[1;33m]\u001b[0m\u001b[1;33m\u001b[0m\u001b[1;33m\u001b[0m\u001b[0m\n\u001b[0;32m      7\u001b[0m \u001b[1;33m\u001b[0m\u001b[0m\n",
      "\u001b[1;32m~\\anaconda3\\lib\\site-packages\\pandas\\core\\generic.py\u001b[0m in \u001b[0;36m__getattr__\u001b[1;34m(self, name)\u001b[0m\n\u001b[0;32m   5463\u001b[0m             \u001b[1;32mif\u001b[0m \u001b[0mself\u001b[0m\u001b[1;33m.\u001b[0m\u001b[0m_info_axis\u001b[0m\u001b[1;33m.\u001b[0m\u001b[0m_can_hold_identifiers_and_holds_name\u001b[0m\u001b[1;33m(\u001b[0m\u001b[0mname\u001b[0m\u001b[1;33m)\u001b[0m\u001b[1;33m:\u001b[0m\u001b[1;33m\u001b[0m\u001b[1;33m\u001b[0m\u001b[0m\n\u001b[0;32m   5464\u001b[0m                 \u001b[1;32mreturn\u001b[0m \u001b[0mself\u001b[0m\u001b[1;33m[\u001b[0m\u001b[0mname\u001b[0m\u001b[1;33m]\u001b[0m\u001b[1;33m\u001b[0m\u001b[1;33m\u001b[0m\u001b[0m\n\u001b[1;32m-> 5465\u001b[1;33m             \u001b[1;32mreturn\u001b[0m \u001b[0mobject\u001b[0m\u001b[1;33m.\u001b[0m\u001b[0m__getattribute__\u001b[0m\u001b[1;33m(\u001b[0m\u001b[0mself\u001b[0m\u001b[1;33m,\u001b[0m \u001b[0mname\u001b[0m\u001b[1;33m)\u001b[0m\u001b[1;33m\u001b[0m\u001b[1;33m\u001b[0m\u001b[0m\n\u001b[0m\u001b[0;32m   5466\u001b[0m \u001b[1;33m\u001b[0m\u001b[0m\n\u001b[0;32m   5467\u001b[0m     \u001b[1;32mdef\u001b[0m \u001b[0m__setattr__\u001b[0m\u001b[1;33m(\u001b[0m\u001b[0mself\u001b[0m\u001b[1;33m,\u001b[0m \u001b[0mname\u001b[0m\u001b[1;33m:\u001b[0m \u001b[0mstr\u001b[0m\u001b[1;33m,\u001b[0m \u001b[0mvalue\u001b[0m\u001b[1;33m)\u001b[0m \u001b[1;33m->\u001b[0m \u001b[1;32mNone\u001b[0m\u001b[1;33m:\u001b[0m\u001b[1;33m\u001b[0m\u001b[1;33m\u001b[0m\u001b[0m\n",
      "\u001b[1;31mAttributeError\u001b[0m: 'DataFrame' object has no attribute 'X'"
     ]
    }
   ],
   "source": [
    "# The linear regression model in Scikit requires that\n",
    "# the X array be two-dimensional. But in our case a \n",
    "# single column gives a 1D array. That is why, after\n",
    "# extracting the values from the columns we reshape it.\n",
    "X = data.X.values\n",
    "X = X[:, np.newaxis]\n",
    "\n",
    "# For Y it is enough to extract the values,\n",
    "# because Scikit already expects it to be 1D\n",
    "Y = data.Y.values\n",
    "\n",
    "# Now we load the required function from the scikit module\n",
    "from sklearn.linear_model import LinearRegression\n",
    "# Create the model\n",
    "modelXY = LinearRegression(fit_intercept=True)\n",
    "# Fit the model to \n",
    "XY_fit = modelXY.fit(X, Y)\n",
    "\n",
    "# And extract the coefficients. \n",
    "# Note that b1 is returned as an array \n",
    "b1 = XY_fit.coef_[0]\n",
    "b0 = XY_fit.intercept_\n",
    "\n",
    "print(\"The regression line is y = {:.6} + {:.6} x\".format(b0, b1))"
   ]
  },
  {
   "cell_type": "markdown",
   "id": "f26bc8bc-55f5-4ab3-a847-b1e43335f702",
   "metadata": {},
   "source": [
    "##### Statsmodels"
   ]
  },
  {
   "cell_type": "code",
   "execution_count": null,
   "id": "a6227027-3cc3-4b92-b05f-b713b2ab7d07",
   "metadata": {},
   "outputs": [],
   "source": [
    "X_1 = sm.add_constant(X)\n",
    "model_DF0 = sm.OLS(Y, X_1) # OLS comes from Ordinary Least Squares\n",
    "DF0_fit = model_DF0.fit()\n",
    "DF0_fit.summary()"
   ]
  },
  {
   "cell_type": "markdown",
   "id": "5de278dc-0554-4cf6-8c4a-310f6d958487",
   "metadata": {},
   "source": [
    "#### Prediction"
   ]
  },
  {
   "cell_type": "markdown",
   "id": "8cb3cf26-47b8-46c4-bf97-387b53f3d2c6",
   "metadata": {},
   "source": [
    "##### Sci-py"
   ]
  },
  {
   "cell_type": "code",
   "execution_count": 22,
   "id": "ffb59b18-6f83-44da-a9f7-163bf1b66cff",
   "metadata": {},
   "outputs": [
    {
     "ename": "NameError",
     "evalue": "name 'XY_fit' is not defined",
     "output_type": "error",
     "traceback": [
      "\u001b[1;31m---------------------------------------------------------------------------\u001b[0m",
      "\u001b[1;31mNameError\u001b[0m                                 Traceback (most recent call last)",
      "\u001b[1;32m<ipython-input-22-12a8eb0f1de1>\u001b[0m in \u001b[0;36m<module>\u001b[1;34m\u001b[0m\n\u001b[0;32m      4\u001b[0m \u001b[0mX_new\u001b[0m \u001b[1;33m=\u001b[0m \u001b[0mX_new\u001b[0m\u001b[1;33m[\u001b[0m\u001b[1;33m:\u001b[0m\u001b[1;33m,\u001b[0m \u001b[0mnp\u001b[0m\u001b[1;33m.\u001b[0m\u001b[0mnewaxis\u001b[0m\u001b[1;33m]\u001b[0m\u001b[1;33m\u001b[0m\u001b[1;33m\u001b[0m\u001b[0m\n\u001b[0;32m      5\u001b[0m \u001b[1;31m# Use the predict method from our model\u001b[0m\u001b[1;33m\u001b[0m\u001b[1;33m\u001b[0m\u001b[1;33m\u001b[0m\u001b[0m\n\u001b[1;32m----> 6\u001b[1;33m \u001b[0mY_new\u001b[0m \u001b[1;33m=\u001b[0m \u001b[0mXY_fit\u001b[0m\u001b[1;33m.\u001b[0m\u001b[0mpredict\u001b[0m\u001b[1;33m(\u001b[0m\u001b[0mX_new\u001b[0m\u001b[1;33m)\u001b[0m\u001b[1;33m\u001b[0m\u001b[1;33m\u001b[0m\u001b[0m\n\u001b[0m\u001b[0;32m      7\u001b[0m \u001b[1;31m# Look at the predicted values\u001b[0m\u001b[1;33m\u001b[0m\u001b[1;33m\u001b[0m\u001b[1;33m\u001b[0m\u001b[0m\n\u001b[0;32m      8\u001b[0m \u001b[0mprint\u001b[0m\u001b[1;33m(\u001b[0m\u001b[1;34mf\"The predicted value is {Y_new}\"\u001b[0m\u001b[1;33m)\u001b[0m\u001b[1;33m\u001b[0m\u001b[1;33m\u001b[0m\u001b[0m\n",
      "\u001b[1;31mNameError\u001b[0m: name 'XY_fit' is not defined"
     ]
    }
   ],
   "source": [
    "# Create an array from the list of X coordinates of new observtions\n",
    "X_new = np.array([0.3])\n",
    "# Make it 2D\n",
    "X_new = X_new[:, np.newaxis]\n",
    "# Use the predict method from our model\n",
    "Y_new = XY_fit.predict(X_new)\n",
    "# Look at the predicted values\n",
    "print(f\"The predicted value is {Y_new}\")"
   ]
  },
  {
   "cell_type": "markdown",
   "id": "3aad2148-f5bc-4655-883b-9bd2199bff0c",
   "metadata": {},
   "source": [
    "##### Statsmodels"
   ]
  },
  {
   "cell_type": "code",
   "execution_count": null,
   "id": "11997026-e55d-4aed-bcd7-4ad3a1bdd6b1",
   "metadata": {},
   "outputs": [],
   "source": [
    "X_new = [1,0.3]\n",
    "fit.predict(X_new)"
   ]
  },
  {
   "cell_type": "markdown",
   "id": "e5e8ebd5-3834-411c-ae46-61c7797a2fc1",
   "metadata": {},
   "source": [
    "##### Plot dispersion diagram sci-py"
   ]
  },
  {
   "cell_type": "code",
   "execution_count": 17,
   "id": "8b71d279-b792-4d2c-9cf3-c56f98dc4921",
   "metadata": {},
   "outputs": [
    {
     "ename": "NameError",
     "evalue": "name 'X' is not defined",
     "output_type": "error",
     "traceback": [
      "\u001b[1;31m---------------------------------------------------------------------------\u001b[0m",
      "\u001b[1;31mNameError\u001b[0m                                 Traceback (most recent call last)",
      "\u001b[1;32m<ipython-input-17-54be9e85fcc6>\u001b[0m in \u001b[0;36m<module>\u001b[1;34m\u001b[0m\n\u001b[0;32m      1\u001b[0m \u001b[1;31m# The linspace funtion generates the grid\u001b[0m\u001b[1;33m\u001b[0m\u001b[1;33m\u001b[0m\u001b[1;33m\u001b[0m\u001b[0m\n\u001b[1;32m----> 2\u001b[1;33m \u001b[0mX_new\u001b[0m \u001b[1;33m=\u001b[0m \u001b[0mnp\u001b[0m\u001b[1;33m.\u001b[0m\u001b[0mlinspace\u001b[0m\u001b[1;33m(\u001b[0m\u001b[0mX\u001b[0m\u001b[1;33m.\u001b[0m\u001b[0mmin\u001b[0m\u001b[1;33m(\u001b[0m\u001b[1;33m)\u001b[0m\u001b[1;33m,\u001b[0m \u001b[0mX\u001b[0m\u001b[1;33m.\u001b[0m\u001b[0mmax\u001b[0m\u001b[1;33m(\u001b[0m\u001b[1;33m)\u001b[0m\u001b[1;33m,\u001b[0m \u001b[0mnum\u001b[0m \u001b[1;33m=\u001b[0m \u001b[1;36m100\u001b[0m\u001b[1;33m)\u001b[0m\u001b[1;33m\u001b[0m\u001b[1;33m\u001b[0m\u001b[0m\n\u001b[0m\u001b[0;32m      3\u001b[0m \u001b[1;31m# Make it 2D\u001b[0m\u001b[1;33m\u001b[0m\u001b[1;33m\u001b[0m\u001b[1;33m\u001b[0m\u001b[0m\n\u001b[0;32m      4\u001b[0m \u001b[0mX_new\u001b[0m \u001b[1;33m=\u001b[0m \u001b[0mX_new\u001b[0m\u001b[1;33m[\u001b[0m\u001b[1;33m:\u001b[0m\u001b[1;33m,\u001b[0m \u001b[0mnp\u001b[0m\u001b[1;33m.\u001b[0m\u001b[0mnewaxis\u001b[0m\u001b[1;33m]\u001b[0m\u001b[1;33m\u001b[0m\u001b[1;33m\u001b[0m\u001b[0m\n\u001b[0;32m      5\u001b[0m \u001b[1;33m\u001b[0m\u001b[0m\n",
      "\u001b[1;31mNameError\u001b[0m: name 'X' is not defined"
     ]
    }
   ],
   "source": [
    "# The linspace funtion generates the grid\n",
    "X_new = np.linspace(X.min(), X.max(), num = 100)\n",
    "# Make it 2D\n",
    "X_new = X_new[:, np.newaxis]\n",
    "\n",
    "# Predict the corresponding Y-values\n",
    "Y_new = XY_fit.predict(X_new)\n",
    "\n",
    "#Plot the sample\n",
    "plt.plot(X, Y, 'ro')\n",
    "# And the regression line = \"predicted points\"\n",
    "plt.plot(X_new, Y_new)\n",
    "plt.show()\n",
    "plt.xlabel('diaBP') # Change\n",
    "plt.ylabel('sysBP') \n",
    "plt.title('Linear Regression') # Change"
   ]
  },
  {
   "cell_type": "markdown",
   "id": "5712f206-92e8-4669-ac66-fcbd6c666ce8",
   "metadata": {},
   "source": [
    "##### Plot dispersion diagram statsmodels"
   ]
  },
  {
   "cell_type": "code",
   "execution_count": null,
   "id": "7d1ed593-8427-4361-a975-e05835f26592",
   "metadata": {},
   "outputs": [],
   "source": [
    "X_new = np.linspace(X.min(), X.max(), 100)\n",
    "X_new = sm.add_constant(X_new)\n",
    "fit.pred = fit.get_prediction(X_new)\n",
    "fit_fitted_new = fit.pred.summary_frame(alpha=0.05)[\"mean\"]\n",
    "fig, ax = plt.subplots(figsize=(8, 6))\n",
    "ax.plot(X, Y, \"o\", label=\"data\")\n",
    "ax.plot(X_new[:,1], fit_fitted_new, \"y--\", lw = 4)\n",
    "plt.xlabel('diaBP') # Change\n",
    "plt.ylabel('sysBP') \n",
    "plt.title('Linear Regression') # Change"
   ]
  },
  {
   "cell_type": "markdown",
   "id": "c1eebe44-1ae2-4d3a-bb8f-6d1eb1ac8522",
   "metadata": {},
   "source": [
    "#### Inference"
   ]
  },
  {
   "cell_type": "code",
   "execution_count": null,
   "id": "ec178826-265e-42ff-b745-24783a7a6b77",
   "metadata": {},
   "outputs": [],
   "source": [
    "import statsmodels.api as sm \n",
    "import statsmodels.formula.api as smf \n",
    "X_1 = sm.add_constant(X)\n",
    "model_DF0 = sm.OLS(Y, X_1) # OLS comes from Ordinary Least Squares\n",
    "DF0_fit = model_DF0.fit()\n",
    "DF0_fit.summary()"
   ]
  },
  {
   "cell_type": "markdown",
   "id": "272b5177-1e03-40cd-ab2a-d9add01e4404",
   "metadata": {},
   "source": [
    "The const and x1 lines show the std error, the p-value and the conf interval"
   ]
  },
  {
   "cell_type": "code",
   "execution_count": null,
   "id": "b842b8d9-d5e2-48e8-a025-84bef4073a18",
   "metadata": {},
   "outputs": [],
   "source": [
    "# Coefficients\n",
    "print(f'Coefficients: {DF0_fit.params}')\n",
    "# Standard error\n",
    "print(f'Standard error: {DF0_fit.bse}')\n",
    "# Confidence intervals\n",
    "print(f' Confidence intervals: {DF0_fit.conf_int(alpha=0.05)}')\n",
    "# P-values\n",
    "print(f'P-values: {DF0_fit.pvalues}')\n",
    "# Pearson correlation coefficient\n",
    "print(f'Pearson correlation coefficient: {DF0_fit.rsquared}')"
   ]
  },
  {
   "cell_type": "markdown",
   "id": "38db9718-feed-4c66-b7e4-438cc0976937",
   "metadata": {},
   "source": [
    "#### Confidence bands"
   ]
  },
  {
   "cell_type": "code",
   "execution_count": null,
   "id": "1adab46d-3991-4521-a856-7702439e7efe",
   "metadata": {},
   "outputs": [],
   "source": [
    "# We create a new dataset that has 100 points equally spaced in the interval of the training set\n",
    "X_new = np.linspace(X.min(), X.max(), 100)\n",
    "X_new = sm.add_constant(X_new)\n",
    "# We predict for those values\n",
    "DF0_fit.pred = DF0_fit.get_prediction(X_new)"
   ]
  },
  {
   "cell_type": "code",
   "execution_count": null,
   "id": "77d05155-81a6-4c6c-923e-28840d3faf43",
   "metadata": {},
   "outputs": [],
   "source": [
    "# Summary frame for alpha = 0.05\n",
    "DF0_fit.pred.summary_frame(alpha=0.05).head()"
   ]
  },
  {
   "cell_type": "code",
   "execution_count": null,
   "id": "f17e22c9-c61e-441f-8153-740d3aa6ae36",
   "metadata": {},
   "outputs": [],
   "source": [
    "DF0_fit_fitted_new = DF0_fit.pred.summary_frame(alpha=0.05)[\"mean\"]\n",
    "DF0_fit_confBand_low = DF0_fit.pred.summary_frame(alpha=0.05)[\"mean_ci_lower\"]\n",
    "DF0_fit_confBand_high = DF0_fit.pred.summary_frame(alpha=0.05)[\"mean_ci_upper\"]"
   ]
  },
  {
   "cell_type": "code",
   "execution_count": null,
   "id": "1a7fe764-0ff8-44ac-bfa7-c24692b92f56",
   "metadata": {},
   "outputs": [],
   "source": [
    "fig, ax = plt.subplots(figsize=(8, 6))\n",
    "\n",
    "ax.plot(X, Y, \"o\", label=\"data\")\n",
    "#ax.plot(X_new[:,1], DF_fit_fitted_new, \"r--.\", label=\"OLS\", lw = 4)\n",
    "ax.plot(X_new[:,1], DF0_fit_confBand_low, \"y--\", lw = 4)\n",
    "ax.plot(X_new[:,1], DF0_fit_confBand_high, \"y--\", lw = 4)\n",
    "ax.fill_between(X_new[:,1], \n",
    "                y1 = DF0_fit_confBand_low, \n",
    "                y2 = DF0_fit_confBand_high, \n",
    "                color='cyan', alpha = 0.5)\n",
    "\n",
    "# Now let us fit a regression line for each sample and plot the result.\n",
    "# N = 5\n",
    "# palette2 = iter(sns.color_palette(palette=\"deep\", n_colors=N))\n",
    "# for sample in range(N):\n",
    "#     # select the sample\n",
    "#     DFs = DF.loc[sampleId == sample, :] \n",
    "#     Xs = DFs.X\n",
    "#     Ys = DFs.Y\n",
    "#     # fit the regression line\n",
    "#     b0, b1 = getLM(Xs,Ys)\n",
    "#     #print(sample, b0, b1,\"\\n\", \"--\"*5)\n",
    "#     # plot the line\n",
    "#     Xnew = np.linspace(0, 1, num = 100)\n",
    "#     Ynew = b0 + b1 * Xnew\n",
    "\n",
    "#     plt.plot(Xnew, Ynew, color = next(palette2), alpha = 0.1)"
   ]
  },
  {
   "cell_type": "markdown",
   "id": "63415138-73b2-427e-bb8e-be837c9568a7",
   "metadata": {},
   "source": [
    "#### Prediction bands"
   ]
  },
  {
   "cell_type": "code",
   "execution_count": null,
   "id": "ae041e3d-a14d-4caf-bb60-3901d43f3e30",
   "metadata": {},
   "outputs": [],
   "source": [
    "DF0_fit_predBand_low = DF0_fit.pred.summary_frame(alpha=0.05)[\"obs_ci_lower\"]\n",
    "DF0_fit_predBand_high = DF0_fit.pred.summary_frame(alpha=0.05)[\"obs_ci_upper\"]\n",
    "\n",
    "fig, ax = plt.subplots(figsize=(8, 6))\n",
    "\n",
    "ax.plot(X, Y, \"o\", label=\"data\")\n",
    "#ax.plot(X_new[:,1], DF_fit_fitted_new, \"r--.\", label=\"OLS\", lw = 4)\n",
    "ax.plot(X_new[:, 1], DF0_fit_predBand_low, \"y--\", lw = 4)\n",
    "ax.plot(X_new[:, 1], DF0_fit_predBand_high, \"y--\", lw = 4)\n",
    "ax.fill_between(X_new[:, 1], \n",
    "                y1 = DF0_fit_predBand_low, \n",
    "                y2 = DF0_fit_predBand_high, \n",
    "                color='cyan', alpha = 0.5)"
   ]
  },
  {
   "cell_type": "markdown",
   "id": "3e2122ac-096a-4b39-aed8-e034107be6b5",
   "metadata": {},
   "source": [
    "#### Diagnosis plots"
   ]
  },
  {
   "cell_type": "code",
   "execution_count": null,
   "id": "bb24a978-1764-4a09-9530-7a765baaa762",
   "metadata": {},
   "outputs": [],
   "source": [
    "%run ./code/Linear_Reg_Diagnostic.py\n",
    "DF0_fit_diagnose = Linear_Reg_Diagnostic(DF0_fit)"
   ]
  },
  {
   "cell_type": "markdown",
   "id": "e10066ed-d141-45f5-961a-787b3409b28f",
   "metadata": {},
   "source": [
    "##### Residual vs Fitted plot"
   ]
  },
  {
   "cell_type": "markdown",
   "id": "dad4af12-9af6-4938-9fa6-d1d17fe745f3",
   "metadata": {},
   "source": [
    "This graph shows if there are any nonlinear patterns in the residuals, and thus in the data as well. One of the mathematical assumptions in building an OLS model is that the data can be fit by a line. If this assumption holds and our data can be fit by a linear model, then we should see a relatively flat line when looking at the residuals vs fitted."
   ]
  },
  {
   "cell_type": "code",
   "execution_count": null,
   "id": "d7ec61d2-cfdb-4353-82a4-a1ab52f8e1d0",
   "metadata": {},
   "outputs": [],
   "source": [
    "DF0_fit_diagnose.residual_plot()\n",
    "plt.show()"
   ]
  },
  {
   "cell_type": "markdown",
   "id": "21b517a8-254d-4b02-ab46-90be29f5862c",
   "metadata": {},
   "source": [
    "- The residuals should seem to follow a homogenous random vertical distribution all across the horizontal axis\n",
    "- The red line should be as horizontal as possible"
   ]
  },
  {
   "cell_type": "markdown",
   "id": "dfc64590-134f-4a22-aee8-51a86e7ef4b6",
   "metadata": {},
   "source": [
    "##### Residual QQ-plot"
   ]
  },
  {
   "cell_type": "code",
   "execution_count": null,
   "id": "f9bbe4b3-7d1f-4abb-96b5-cd749562f023",
   "metadata": {},
   "outputs": [],
   "source": [
    "DF0_fit_diagnose.qq_plot()\n",
    "plt.show()"
   ]
  },
  {
   "cell_type": "markdown",
   "id": "b92fbff7-727c-4029-bf5e-86b1d341c67e",
   "metadata": {},
   "source": [
    "- The dots should mostly follow the red line"
   ]
  },
  {
   "cell_type": "markdown",
   "id": "2b7a5cc7-7375-4933-9a5d-b53ee13d3d7b",
   "metadata": {},
   "source": [
    "![title](fig/ZXRkL.png)"
   ]
  },
  {
   "cell_type": "markdown",
   "id": "a90cff90-fda3-48bc-9668-4fce14e58396",
   "metadata": {},
   "source": [
    "- Heavy tailed: Notice the points fall along a line in the middle of the graph, but curve off in the extremities. Normal Q-Q plots that exhibit this behavior usually mean your data has more extreme values than would be expected if they truly came from a Normal distribution.\n",
    "- Skewed: Notice the points form a curve instead of a straight line. Normal Q-Q plots that look like this usually mean your sample data are skewed."
   ]
  },
  {
   "cell_type": "markdown",
   "id": "58d2512c-5d55-4a24-927d-2bce3fc08827",
   "metadata": {},
   "source": [
    "##### Scale-location plot"
   ]
  },
  {
   "cell_type": "code",
   "execution_count": null,
   "id": "352a8865-9aad-4289-a85f-0c0b19d7ff5b",
   "metadata": {},
   "outputs": [],
   "source": [
    "DF0_fit_diagnose.scale_location_plot()\n",
    "plt.show()"
   ]
  },
  {
   "cell_type": "markdown",
   "id": "0f34726c-ea4f-4a27-95f3-6321728ab4ed",
   "metadata": {},
   "source": [
    "- Like resudials vs fitted"
   ]
  },
  {
   "cell_type": "markdown",
   "id": "714d9e01-65a5-4fb2-8d6d-025aad66ec78",
   "metadata": {},
   "source": [
    "##### The Residual vs Leverage plot"
   ]
  },
  {
   "cell_type": "markdown",
   "id": "18ebeea0-a312-48d6-a1b9-b08dd21e6252",
   "metadata": {},
   "source": [
    "We look for influential values"
   ]
  },
  {
   "cell_type": "code",
   "execution_count": null,
   "id": "64a8a504-50e6-475c-adde-e128c561c30b",
   "metadata": {},
   "outputs": [],
   "source": [
    "DF0_fit_influence = DF0_fit.get_influence()\n",
    "DF0_hatValues = DF0_fit_influence.hat_matrix_diag\n",
    "any(DF0_hatValues > 4 / n)"
   ]
  },
  {
   "cell_type": "code",
   "execution_count": null,
   "id": "8d72a4f2-4ae8-41ca-b87a-8bdd28f1730d",
   "metadata": {},
   "outputs": [],
   "source": [
    "DF0_fit_diagnose.leverage_plot()\n",
    "plt.show()"
   ]
  },
  {
   "cell_type": "markdown",
   "id": "3d0ca0df-dc17-4b1e-bda3-669f8cfd5729",
   "metadata": {},
   "source": [
    "- Influential points are located above the curves\n",
    "- If found, treat like outliers (do the regression with and without to understand the behavior)"
   ]
  },
  {
   "cell_type": "markdown",
   "id": "d5fe7a3c-e8fa-4c18-9112-b130a74336f1",
   "metadata": {},
   "source": [
    "### Linear Regression for Curves"
   ]
  },
  {
   "cell_type": "code",
   "execution_count": null,
   "id": "a2b69e46-c967-414e-a9a0-b8ae0086e3ec",
   "metadata": {},
   "outputs": [],
   "source": [
    "S2 = pd.read_csv(\"./data/07_simple_linear_regression_02.csv\")\n",
    "sns.scatterplot(x = S2.X, y = S2.Y)\n",
    "plt.show()"
   ]
  },
  {
   "cell_type": "markdown",
   "id": "25a4585f-6e8a-43aa-b891-ba623305317f",
   "metadata": {},
   "source": [
    "#### Training"
   ]
  },
  {
   "cell_type": "markdown",
   "id": "8b3bfeae-41f5-450b-ac6a-a2a5be38b4df",
   "metadata": {},
   "source": [
    "We create a column with the squared of x"
   ]
  },
  {
   "cell_type": "code",
   "execution_count": null,
   "id": "f6e77d79-9c8d-4c9f-97b6-c05c343ce84c",
   "metadata": {},
   "outputs": [],
   "source": [
    "S2[\"X2\"] = S2.X**2\n",
    "print(S2.head())"
   ]
  },
  {
   "cell_type": "markdown",
   "id": "480c56dc-163e-49eb-9bf5-e84c6a16fa7a",
   "metadata": {},
   "source": [
    "We fit the model"
   ]
  },
  {
   "cell_type": "code",
   "execution_count": null,
   "id": "cb3b4278-ea73-4e27-b986-67cc58cd065b",
   "metadata": {},
   "outputs": [],
   "source": [
    "S2_fit = sm.OLS(S2.Y, sm.add_constant(S2[[\"X\", \"X2\"]])).fit()\n",
    "S2_fit.summary()"
   ]
  },
  {
   "cell_type": "markdown",
   "id": "3b0acd92-8299-42ea-ac28-0b878e8290f3",
   "metadata": {},
   "source": [
    "#### Plot the regression line"
   ]
  },
  {
   "cell_type": "code",
   "execution_count": null,
   "id": "21b1bfb3-55b9-4860-9a44-60e8cc6266d9",
   "metadata": {},
   "outputs": [],
   "source": [
    "X_new = np.linspace(S2.X.min(), S2.X.max(), 100)\n",
    "newData = pd.DataFrame({'X':X_new, 'X2':X_new**2})\n",
    "newData = sm.add_constant(newData)\n",
    "newData.head()"
   ]
  },
  {
   "cell_type": "code",
   "execution_count": null,
   "id": "4a65e5ac-abf9-45bf-8ecc-e2378363e68b",
   "metadata": {},
   "outputs": [],
   "source": [
    "S2_pred = S2_fit.get_prediction(newData)\n",
    "S2_fitted_new = S2_pred.summary_frame(alpha=0.05)[\"mean\"]\n",
    "S2_pred.summary_frame()\n",
    "sns.scatterplot(x = S2.X, y = S2.Y)\n",
    "sns.scatterplot(x = newData['X'], y = S2_pred.summary_frame()[\"mean\"], color =\"red\")\n",
    "plt.show()"
   ]
  },
  {
   "cell_type": "markdown",
   "id": "247089b6-00fe-4c7a-bab8-59f5aea1e5d5",
   "metadata": {},
   "source": [
    "### Multivariate linear models"
   ]
  },
  {
   "cell_type": "code",
   "execution_count": null,
   "id": "0b853e0e-e226-4712-b349-d46c23862ae4",
   "metadata": {},
   "outputs": [],
   "source": [
    "framingham_url = \"https://raw.githubusercontent.com/mbdfmad/fmad2122/main/data/framingham.csv\" # Change\n",
    "framingham = pd.read_csv(framingham_url)\n",
    "fram = framingham # shorten name\n",
    "fram.dropna(inplace=True)\n",
    "fram.isna().sum()"
   ]
  },
  {
   "cell_type": "markdown",
   "id": "40b8b137-b080-46e6-80cd-55c9484e7e21",
   "metadata": {},
   "source": [
    "#### Training"
   ]
  },
  {
   "cell_type": "code",
   "execution_count": null,
   "id": "70968bb4-2aee-4806-8144-a38613cdd116",
   "metadata": {},
   "outputs": [],
   "source": [
    "fram_fit = sm.OLS(fram.totChol, sm.add_constant(fram[[\"age\", \"BMI\"]])).fit()\n",
    "fram_fit.summary()"
   ]
  },
  {
   "cell_type": "markdown",
   "id": "f4f172a2-41d2-4bf2-acdc-9b07b1a6aa4d",
   "metadata": {},
   "source": [
    "#### Prediction"
   ]
  },
  {
   "cell_type": "code",
   "execution_count": null,
   "id": "8f3918e0-4d42-4d7a-b9e1-df094acf8018",
   "metadata": {},
   "outputs": [],
   "source": [
    "fram_pred = fram_fit.get_prediction(newData)"
   ]
  },
  {
   "cell_type": "markdown",
   "id": "881a3335-97d2-46d3-9cf8-091ba985d577",
   "metadata": {},
   "source": [
    "### ANOVA\n",
    "Explanatory variable is a factor"
   ]
  },
  {
   "cell_type": "code",
   "execution_count": null,
   "id": "82b8633c-34de-43da-a934-bcb529e9133b",
   "metadata": {},
   "outputs": [],
   "source": [
    "iris = pd.read_csv(\"./data/iris.csv\")\n",
    "iris.head()\n",
    "# Check that there are no NAs!\n",
    "iris.rename(columns= {'Sepal.Length':'SepalLength'},inplace=True)"
   ]
  },
  {
   "cell_type": "markdown",
   "id": "de399bf4-a3a7-44b2-b455-c33f44525dfd",
   "metadata": {},
   "source": [
    "Create dummies for the different species"
   ]
  },
  {
   "cell_type": "code",
   "execution_count": null,
   "id": "cea1e528-3cd2-4219-a95d-01aa5e484d1d",
   "metadata": {},
   "outputs": [],
   "source": [
    "Species_dummies = pd.get_dummies(iris.Species).values\n",
    "Species_dummies[45:55, :]"
   ]
  },
  {
   "cell_type": "markdown",
   "id": "3b6e4bea-a0bc-4312-b156-783784af4ba7",
   "metadata": {},
   "source": [
    "We eliminate one of the variables because they are not independent between them, then we use the other two for a regression model"
   ]
  },
  {
   "cell_type": "code",
   "execution_count": null,
   "id": "436ac2a2-3fbf-422c-805c-bac07efbc8a5",
   "metadata": {},
   "outputs": [],
   "source": [
    "Species_dummies = Species_dummies[:, 1:]"
   ]
  },
  {
   "cell_type": "code",
   "execution_count": null,
   "id": "392fd226-e156-4761-b49e-2843415859ec",
   "metadata": {},
   "outputs": [],
   "source": [
    "X = Species_dummies\n",
    "X = sm.add_constant(X)\n",
    "iris_fit = sm.OLS(iris.SepalLength, X).fit()\n",
    "iris_fit.summary()"
   ]
  },
  {
   "cell_type": "markdown",
   "id": "a1fdfbcc-dca1-432e-b68b-def7db26078c",
   "metadata": {},
   "source": [
    "+ A model like this one is an example of the classical *One-way Anova* (one way meaning one factor):\n",
    "$$\n",
    "Y = \\beta_0 + \\beta_1 X_1 + \\beta_2 X_2 + \\epsilon, \\qquad \\text{ with }\\quad \\epsilon\\sim N(0, \\sigma)\n",
    "$$\n",
    "and $X_1, X_2$ being the reamining dummy variables.\n",
    "\n",
    "+ You can see that the summary table for the fit contains three parameters for the model. What is their interpretation? \n",
    "  + The intercept is the mean of $Y$ = `SepalLength` of the reference level.\n",
    "  + The remaining two parameters represent the difference between the mean of `SepalLength` for that level and the mean for the reference level. \n",
    "![](./fig/07-AnovaBoxplots.png)  \n",
    "Let us check this:"
   ]
  },
  {
   "cell_type": "markdown",
   "id": "e5f70b07-f7fa-4a2a-82b4-377c56d2b953",
   "metadata": {},
   "source": [
    "+ The nice thing about this is that we also have inference results about the difference of those means. For example, we have a p-value to tell us if the means of `SepalLength` for `Species = setosa`,  can be considered to be significantly different from that for  `Species = virginia` and `Species = versicolor`. To be precise, the null hypothesis being tested here is:\n",
    "$$\n",
    "\\quad\\\\\n",
    "H_0 = \\{\\mu_1 = \\mu_2 = \\mu_3\\}\n",
    "\\quad\\\\\n",
    "$$\n",
    "and in particular the alternative is **not** all the three means are different, but *there are two of them that are different*. But if we reject that null, we can not yet identify a significantly different pair, because that brings ut back to the problem of multiple testing, and we know that this requires extra work that we will not make here."
   ]
  },
  {
   "cell_type": "code",
   "execution_count": null,
   "id": "4e7256ea-dede-4a3e-8977-f32499e8a4dc",
   "metadata": {},
   "outputs": [],
   "source": []
  }
 ],
 "metadata": {
  "kernelspec": {
   "display_name": "Python 3",
   "language": "python",
   "name": "python3"
  },
  "language_info": {
   "codemirror_mode": {
    "name": "ipython",
    "version": 3
   },
   "file_extension": ".py",
   "mimetype": "text/x-python",
   "name": "python",
   "nbconvert_exporter": "python",
   "pygments_lexer": "ipython3",
   "version": "3.8.8"
  }
 },
 "nbformat": 4,
 "nbformat_minor": 5
}
