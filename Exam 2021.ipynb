{
 "cells": [
  {
   "cell_type": "markdown",
   "id": "921cd693-fad8-4486-8a16-624c91c0543e",
   "metadata": {},
   "source": [
    "# Final exam 2021\n",
    "Maria Jose Medina Hernandez"
   ]
  },
  {
   "cell_type": "code",
   "execution_count": 81,
   "id": "eff44e08-d646-4c1a-9011-0a626a8b1b82",
   "metadata": {},
   "outputs": [],
   "source": [
    "# Imports\n",
    "import numpy as np\n",
    "import pandas as pd\n",
    "import matplotlib.pyplot as plt\n",
    "import scipy as scp\n",
    "import seaborn as sns\n",
    "import scipy.stats as stats\n",
    "import statsmodels.stats.power as smp\n",
    "import random\n",
    "\n",
    "sns.set(rc={'figure.figsize':(12, 12)})"
   ]
  },
  {
   "cell_type": "markdown",
   "id": "febb451b-e0a2-458f-83dd-b92c55adc665",
   "metadata": {},
   "source": [
    "## Data Extraction"
   ]
  },
  {
   "cell_type": "code",
   "execution_count": 2,
   "id": "a624780d-8c64-47ed-aa8b-80ee09cd079c",
   "metadata": {},
   "outputs": [
    {
     "data": {
      "text/html": [
       "<div>\n",
       "<style scoped>\n",
       "    .dataframe tbody tr th:only-of-type {\n",
       "        vertical-align: middle;\n",
       "    }\n",
       "\n",
       "    .dataframe tbody tr th {\n",
       "        vertical-align: top;\n",
       "    }\n",
       "\n",
       "    .dataframe thead th {\n",
       "        text-align: right;\n",
       "    }\n",
       "</style>\n",
       "<table border=\"1\" class=\"dataframe\">\n",
       "  <thead>\n",
       "    <tr style=\"text-align: right;\">\n",
       "      <th></th>\n",
       "      <th>Age</th>\n",
       "      <th>Attrition</th>\n",
       "      <th>BusinessTravel</th>\n",
       "      <th>Department</th>\n",
       "      <th>DistanceFromHome</th>\n",
       "      <th>Gender</th>\n",
       "      <th>JobLevel</th>\n",
       "      <th>JobRole</th>\n",
       "      <th>JobSatisfaction</th>\n",
       "      <th>MaritalStatus</th>\n",
       "      <th>...</th>\n",
       "      <th>NumCompaniesWorked</th>\n",
       "      <th>OverTime</th>\n",
       "      <th>PerformanceRating</th>\n",
       "      <th>TotalWorkingYears</th>\n",
       "      <th>TrainingTimesLastYear</th>\n",
       "      <th>YearsAtCompany</th>\n",
       "      <th>YearsInCurrentRole</th>\n",
       "      <th>RateType</th>\n",
       "      <th>Rate</th>\n",
       "      <th>Education_Field</th>\n",
       "    </tr>\n",
       "  </thead>\n",
       "  <tbody>\n",
       "    <tr>\n",
       "      <th>0</th>\n",
       "      <td>31</td>\n",
       "      <td>No</td>\n",
       "      <td>Travel_Rarely</td>\n",
       "      <td>Research_Development</td>\n",
       "      <td>23.0</td>\n",
       "      <td>Male</td>\n",
       "      <td>2</td>\n",
       "      <td>Healthcare_Representative</td>\n",
       "      <td>Very_High</td>\n",
       "      <td>Married</td>\n",
       "      <td>...</td>\n",
       "      <td>0.0</td>\n",
       "      <td>No</td>\n",
       "      <td>Outstanding</td>\n",
       "      <td>10</td>\n",
       "      <td>2</td>\n",
       "      <td>9</td>\n",
       "      <td>0</td>\n",
       "      <td>DailyRate</td>\n",
       "      <td>1463</td>\n",
       "      <td>Bachelor//Medical</td>\n",
       "    </tr>\n",
       "    <tr>\n",
       "      <th>1</th>\n",
       "      <td>31</td>\n",
       "      <td>No</td>\n",
       "      <td>Travel_Rarely</td>\n",
       "      <td>Research_Development</td>\n",
       "      <td>23.0</td>\n",
       "      <td>Male</td>\n",
       "      <td>2</td>\n",
       "      <td>Healthcare_Representative</td>\n",
       "      <td>Very_High</td>\n",
       "      <td>Married</td>\n",
       "      <td>...</td>\n",
       "      <td>0.0</td>\n",
       "      <td>No</td>\n",
       "      <td>Outstanding</td>\n",
       "      <td>10</td>\n",
       "      <td>2</td>\n",
       "      <td>9</td>\n",
       "      <td>0</td>\n",
       "      <td>HourlyRate</td>\n",
       "      <td>64</td>\n",
       "      <td>Bachelor//Medical</td>\n",
       "    </tr>\n",
       "    <tr>\n",
       "      <th>2</th>\n",
       "      <td>31</td>\n",
       "      <td>No</td>\n",
       "      <td>Travel_Rarely</td>\n",
       "      <td>Research_Development</td>\n",
       "      <td>23.0</td>\n",
       "      <td>Male</td>\n",
       "      <td>2</td>\n",
       "      <td>Healthcare_Representative</td>\n",
       "      <td>Very_High</td>\n",
       "      <td>Married</td>\n",
       "      <td>...</td>\n",
       "      <td>0.0</td>\n",
       "      <td>No</td>\n",
       "      <td>Outstanding</td>\n",
       "      <td>10</td>\n",
       "      <td>2</td>\n",
       "      <td>9</td>\n",
       "      <td>0</td>\n",
       "      <td>MonthlyRate</td>\n",
       "      <td>14408</td>\n",
       "      <td>Bachelor//Medical</td>\n",
       "    </tr>\n",
       "    <tr>\n",
       "      <th>3</th>\n",
       "      <td>31</td>\n",
       "      <td>Yes</td>\n",
       "      <td>Travel_Frequently</td>\n",
       "      <td>Research_Development</td>\n",
       "      <td>15.0</td>\n",
       "      <td>Male</td>\n",
       "      <td>1</td>\n",
       "      <td>Laboratory_Technician</td>\n",
       "      <td>High</td>\n",
       "      <td>Married</td>\n",
       "      <td>...</td>\n",
       "      <td>1.0</td>\n",
       "      <td>No</td>\n",
       "      <td>Excellent</td>\n",
       "      <td>2</td>\n",
       "      <td>5</td>\n",
       "      <td>2</td>\n",
       "      <td>2</td>\n",
       "      <td>DailyRate</td>\n",
       "      <td>874</td>\n",
       "      <td>Bachelor//Medical</td>\n",
       "    </tr>\n",
       "    <tr>\n",
       "      <th>4</th>\n",
       "      <td>31</td>\n",
       "      <td>Yes</td>\n",
       "      <td>Travel_Frequently</td>\n",
       "      <td>Research_Development</td>\n",
       "      <td>15.0</td>\n",
       "      <td>Male</td>\n",
       "      <td>1</td>\n",
       "      <td>Laboratory_Technician</td>\n",
       "      <td>High</td>\n",
       "      <td>Married</td>\n",
       "      <td>...</td>\n",
       "      <td>1.0</td>\n",
       "      <td>No</td>\n",
       "      <td>Excellent</td>\n",
       "      <td>2</td>\n",
       "      <td>5</td>\n",
       "      <td>2</td>\n",
       "      <td>2</td>\n",
       "      <td>HourlyRate</td>\n",
       "      <td>72</td>\n",
       "      <td>Bachelor//Medical</td>\n",
       "    </tr>\n",
       "  </tbody>\n",
       "</table>\n",
       "<p>5 rows × 21 columns</p>\n",
       "</div>"
      ],
      "text/plain": [
       "   Age Attrition     BusinessTravel            Department  DistanceFromHome  \\\n",
       "0   31        No      Travel_Rarely  Research_Development              23.0   \n",
       "1   31        No      Travel_Rarely  Research_Development              23.0   \n",
       "2   31        No      Travel_Rarely  Research_Development              23.0   \n",
       "3   31       Yes  Travel_Frequently  Research_Development              15.0   \n",
       "4   31       Yes  Travel_Frequently  Research_Development              15.0   \n",
       "\n",
       "  Gender  JobLevel                    JobRole JobSatisfaction MaritalStatus  \\\n",
       "0   Male         2  Healthcare_Representative       Very_High       Married   \n",
       "1   Male         2  Healthcare_Representative       Very_High       Married   \n",
       "2   Male         2  Healthcare_Representative       Very_High       Married   \n",
       "3   Male         1      Laboratory_Technician            High       Married   \n",
       "4   Male         1      Laboratory_Technician            High       Married   \n",
       "\n",
       "   ...  NumCompaniesWorked  OverTime PerformanceRating TotalWorkingYears  \\\n",
       "0  ...                 0.0        No       Outstanding                10   \n",
       "1  ...                 0.0        No       Outstanding                10   \n",
       "2  ...                 0.0        No       Outstanding                10   \n",
       "3  ...                 1.0        No         Excellent                 2   \n",
       "4  ...                 1.0        No         Excellent                 2   \n",
       "\n",
       "   TrainingTimesLastYear  YearsAtCompany  YearsInCurrentRole     RateType  \\\n",
       "0                      2               9                   0    DailyRate   \n",
       "1                      2               9                   0   HourlyRate   \n",
       "2                      2               9                   0  MonthlyRate   \n",
       "3                      5               2                   2    DailyRate   \n",
       "4                      5               2                   2   HourlyRate   \n",
       "\n",
       "    Rate    Education_Field  \n",
       "0   1463  Bachelor//Medical  \n",
       "1     64  Bachelor//Medical  \n",
       "2  14408  Bachelor//Medical  \n",
       "3    874  Bachelor//Medical  \n",
       "4     72  Bachelor//Medical  \n",
       "\n",
       "[5 rows x 21 columns]"
      ]
     },
     "execution_count": 2,
     "metadata": {},
     "output_type": "execute_result"
    }
   ],
   "source": [
    "path = 'PreviousExams/data/empleados.csv'\n",
    "data = pd.read_csv(path)\n",
    "data.head()"
   ]
  },
  {
   "cell_type": "markdown",
   "id": "b2c3fae2-38a6-4d57-8b34-d60dfdd27ca1",
   "metadata": {},
   "source": [
    "## Exercise 1"
   ]
  },
  {
   "cell_type": "markdown",
   "id": "8013a38e-765c-4bd2-a26d-621a02df223d",
   "metadata": {},
   "source": [
    "#### Q1\n",
    "**How many observations are there in the table? How many variables? Are there missing data? If the answer\n",
    "to the last question is affirmative, locate these missing data indicating in which rows and columns they are found.\n",
    "columns. Then, before proceeding further, delete the rows containing these data from the table.**"
   ]
  },
  {
   "cell_type": "code",
   "execution_count": 3,
   "id": "e9a33ea7-9e92-4c7e-af10-b2c41451d268",
   "metadata": {},
   "outputs": [
    {
     "name": "stdout",
     "output_type": "stream",
     "text": [
      "There are 3528 observations in the table\n"
     ]
    }
   ],
   "source": [
    "print(f\"There are {len(data)} observations in the table\")"
   ]
  },
  {
   "cell_type": "code",
   "execution_count": 4,
   "id": "33b3086c-70be-4746-9bd4-0bd92019c826",
   "metadata": {},
   "outputs": [
    {
     "name": "stdout",
     "output_type": "stream",
     "text": [
      "There are 21 variables in the table\n"
     ]
    }
   ],
   "source": [
    "print(f\"There are {len(data.columns)} variables in the table\")"
   ]
  },
  {
   "cell_type": "code",
   "execution_count": 5,
   "id": "143c1348-d169-4102-b4e8-b9f51457fb2e",
   "metadata": {},
   "outputs": [
    {
     "name": "stdout",
     "output_type": "stream",
     "text": [
      "<class 'pandas.core.frame.DataFrame'>\n",
      "RangeIndex: 3528 entries, 0 to 3527\n",
      "Data columns (total 21 columns):\n",
      " #   Column                 Non-Null Count  Dtype  \n",
      "---  ------                 --------------  -----  \n",
      " 0   Age                    3528 non-null   int64  \n",
      " 1   Attrition              3528 non-null   object \n",
      " 2   BusinessTravel         3528 non-null   object \n",
      " 3   Department             3528 non-null   object \n",
      " 4   DistanceFromHome       3519 non-null   float64\n",
      " 5   Gender                 3528 non-null   object \n",
      " 6   JobLevel               3528 non-null   int64  \n",
      " 7   JobRole                3528 non-null   object \n",
      " 8   JobSatisfaction        3528 non-null   object \n",
      " 9   MaritalStatus          3528 non-null   object \n",
      " 10  MonthlyIncome          3528 non-null   int64  \n",
      " 11  NumCompaniesWorked     3522 non-null   float64\n",
      " 12  OverTime               3528 non-null   object \n",
      " 13  PerformanceRating      3528 non-null   object \n",
      " 14  TotalWorkingYears      3528 non-null   int64  \n",
      " 15  TrainingTimesLastYear  3528 non-null   int64  \n",
      " 16  YearsAtCompany         3528 non-null   int64  \n",
      " 17  YearsInCurrentRole     3528 non-null   int64  \n",
      " 18  RateType               3528 non-null   object \n",
      " 19  Rate                   3528 non-null   int64  \n",
      " 20  Education_Field        3528 non-null   object \n",
      "dtypes: float64(2), int64(8), object(11)\n",
      "memory usage: 578.9+ KB\n"
     ]
    }
   ],
   "source": [
    "data.info()"
   ]
  },
  {
   "cell_type": "markdown",
   "id": "0ddcb95e-8239-466d-a56c-7df1e8e6d3eb",
   "metadata": {},
   "source": [
    "There are missing data in the columns 'DistanceFromHome' and 'NumCompaniesWorked'. The rows where this occurs are the following:"
   ]
  },
  {
   "cell_type": "code",
   "execution_count": 6,
   "id": "7d73301a-836f-4b34-b4d3-728556aaf11c",
   "metadata": {},
   "outputs": [
    {
     "name": "stdout",
     "output_type": "stream",
     "text": [
      "The rows where there is missing data are 15: Int64Index([30, 31, 32, 147, 148, 149, 897, 898, 899, 1092, 1093, 1094, 1593,\n",
      "            1594, 1595],\n",
      "           dtype='int64')\n"
     ]
    }
   ],
   "source": [
    "na_rows = data[data.DistanceFromHome.isna() | data.NumCompaniesWorked.isna()].index\n",
    "print(f\"The rows where there is missing data are {len(na_rows)}: {na_rows}\")"
   ]
  },
  {
   "cell_type": "markdown",
   "id": "678f9b9c-0cd0-4bb7-a415-5876e6254cf0",
   "metadata": {},
   "source": [
    "We delete the missing data"
   ]
  },
  {
   "cell_type": "code",
   "execution_count": 7,
   "id": "b62db1cb-2efa-446d-bfeb-5c10b7a426b2",
   "metadata": {},
   "outputs": [],
   "source": [
    "data = data.dropna()"
   ]
  },
  {
   "cell_type": "code",
   "execution_count": 8,
   "id": "96f864ef-9ccd-412b-88cc-c785452317a1",
   "metadata": {},
   "outputs": [
    {
     "data": {
      "text/plain": [
       "(3513, 21)"
      ]
     },
     "execution_count": 8,
     "metadata": {},
     "output_type": "execute_result"
    }
   ],
   "source": [
    "data.shape"
   ]
  },
  {
   "cell_type": "markdown",
   "id": "5c02bbb0-5645-4bdc-8590-39805ac95056",
   "metadata": {},
   "source": [
    "#### Q2\n",
    "**Let's look at the last three columns of the table, which are:\n",
    "RateType, Rate, Education_Field.**\n",
    "\n",
    "**In particular, you will see that the Rate and RateType columns do not meet one of the conditions that define tidy datasets, because the Rate column mixes the values of more than one\n",
    "tidy data sets, because the Rate column mixes the values of more than one variable.\n",
    "The corresponding variable is indicated in the Rate_type column. On the other hand, Education_Field\n",
    "violates another of these conditions, because each row of this table combines the values of two variables. At\n",
    "this section you should clean up the dataset using the tidyverse tools. Display\n",
    "the result using select so that the output of the code shows only the variables that have been modified in this\n",
    "modified in this section (be careful, do not modify the data when doing this!).**"
   ]
  },
  {
   "cell_type": "markdown",
   "id": "9f9ed67c-880e-4d7c-8254-ed0f6b7eb9a9",
   "metadata": {},
   "source": [
    "We look up the columns mentioned to see whats happening"
   ]
  },
  {
   "cell_type": "code",
   "execution_count": 9,
   "id": "e402b620-1676-4656-97f1-28b26a15db63",
   "metadata": {},
   "outputs": [
    {
     "data": {
      "text/html": [
       "<div>\n",
       "<style scoped>\n",
       "    .dataframe tbody tr th:only-of-type {\n",
       "        vertical-align: middle;\n",
       "    }\n",
       "\n",
       "    .dataframe tbody tr th {\n",
       "        vertical-align: top;\n",
       "    }\n",
       "\n",
       "    .dataframe thead th {\n",
       "        text-align: right;\n",
       "    }\n",
       "</style>\n",
       "<table border=\"1\" class=\"dataframe\">\n",
       "  <thead>\n",
       "    <tr style=\"text-align: right;\">\n",
       "      <th></th>\n",
       "      <th>Rate</th>\n",
       "      <th>RateType</th>\n",
       "    </tr>\n",
       "  </thead>\n",
       "  <tbody>\n",
       "    <tr>\n",
       "      <th>0</th>\n",
       "      <td>1463</td>\n",
       "      <td>DailyRate</td>\n",
       "    </tr>\n",
       "    <tr>\n",
       "      <th>1</th>\n",
       "      <td>64</td>\n",
       "      <td>HourlyRate</td>\n",
       "    </tr>\n",
       "    <tr>\n",
       "      <th>2</th>\n",
       "      <td>14408</td>\n",
       "      <td>MonthlyRate</td>\n",
       "    </tr>\n",
       "    <tr>\n",
       "      <th>3</th>\n",
       "      <td>874</td>\n",
       "      <td>DailyRate</td>\n",
       "    </tr>\n",
       "    <tr>\n",
       "      <th>4</th>\n",
       "      <td>72</td>\n",
       "      <td>HourlyRate</td>\n",
       "    </tr>\n",
       "  </tbody>\n",
       "</table>\n",
       "</div>"
      ],
      "text/plain": [
       "    Rate     RateType\n",
       "0   1463    DailyRate\n",
       "1     64   HourlyRate\n",
       "2  14408  MonthlyRate\n",
       "3    874    DailyRate\n",
       "4     72   HourlyRate"
      ]
     },
     "execution_count": 9,
     "metadata": {},
     "output_type": "execute_result"
    }
   ],
   "source": [
    "data[[\"Rate\", \"RateType\"]].head()"
   ]
  },
  {
   "cell_type": "markdown",
   "id": "259054d4-42d5-4e24-88a0-1c1be6dc2e80",
   "metadata": {},
   "source": [
    "We can see that there should be multiple columns in stead of one. We check that there are only the three values of RateType that are visible above and we create three columns accordingly"
   ]
  },
  {
   "cell_type": "code",
   "execution_count": 10,
   "id": "173426e2-eb3e-4f93-a2be-cd2f760da6a2",
   "metadata": {},
   "outputs": [
    {
     "data": {
      "text/plain": [
       "MonthlyRate    1171\n",
       "DailyRate      1171\n",
       "HourlyRate     1171\n",
       "Name: RateType, dtype: int64"
      ]
     },
     "execution_count": 10,
     "metadata": {},
     "output_type": "execute_result"
    }
   ],
   "source": [
    "data.RateType.value_counts(dropna=False)"
   ]
  },
  {
   "cell_type": "code",
   "execution_count": 11,
   "id": "9c91475f-458c-4031-b9b2-8fc3b4c0cf31",
   "metadata": {},
   "outputs": [],
   "source": [
    "data[\"HourlyRate\"] = data[data.RateType == 'HourlyRate'].Rate\n",
    "data[\"DailyRate\"] = data[data.RateType == 'DailyRate'].Rate\n",
    "data[\"MonthlyRate\"] = data[data.RateType == 'MonthlyRate'].Rate"
   ]
  },
  {
   "cell_type": "markdown",
   "id": "45bd986c-cece-4f54-8990-8500491da64b",
   "metadata": {},
   "source": [
    "We display the new columns"
   ]
  },
  {
   "cell_type": "code",
   "execution_count": 12,
   "id": "2167468c-bf66-4122-8fbd-62f37fe547b7",
   "metadata": {},
   "outputs": [
    {
     "data": {
      "text/html": [
       "<div>\n",
       "<style scoped>\n",
       "    .dataframe tbody tr th:only-of-type {\n",
       "        vertical-align: middle;\n",
       "    }\n",
       "\n",
       "    .dataframe tbody tr th {\n",
       "        vertical-align: top;\n",
       "    }\n",
       "\n",
       "    .dataframe thead th {\n",
       "        text-align: right;\n",
       "    }\n",
       "</style>\n",
       "<table border=\"1\" class=\"dataframe\">\n",
       "  <thead>\n",
       "    <tr style=\"text-align: right;\">\n",
       "      <th></th>\n",
       "      <th>HourlyRate</th>\n",
       "      <th>DailyRate</th>\n",
       "      <th>MonthlyRate</th>\n",
       "    </tr>\n",
       "  </thead>\n",
       "  <tbody>\n",
       "    <tr>\n",
       "      <th>0</th>\n",
       "      <td>NaN</td>\n",
       "      <td>1463.0</td>\n",
       "      <td>NaN</td>\n",
       "    </tr>\n",
       "    <tr>\n",
       "      <th>1</th>\n",
       "      <td>64.0</td>\n",
       "      <td>NaN</td>\n",
       "      <td>NaN</td>\n",
       "    </tr>\n",
       "    <tr>\n",
       "      <th>2</th>\n",
       "      <td>NaN</td>\n",
       "      <td>NaN</td>\n",
       "      <td>14408.0</td>\n",
       "    </tr>\n",
       "    <tr>\n",
       "      <th>3</th>\n",
       "      <td>NaN</td>\n",
       "      <td>874.0</td>\n",
       "      <td>NaN</td>\n",
       "    </tr>\n",
       "    <tr>\n",
       "      <th>4</th>\n",
       "      <td>72.0</td>\n",
       "      <td>NaN</td>\n",
       "      <td>NaN</td>\n",
       "    </tr>\n",
       "  </tbody>\n",
       "</table>\n",
       "</div>"
      ],
      "text/plain": [
       "   HourlyRate  DailyRate  MonthlyRate\n",
       "0         NaN     1463.0          NaN\n",
       "1        64.0        NaN          NaN\n",
       "2         NaN        NaN      14408.0\n",
       "3         NaN      874.0          NaN\n",
       "4        72.0        NaN          NaN"
      ]
     },
     "execution_count": 12,
     "metadata": {},
     "output_type": "execute_result"
    }
   ],
   "source": [
    "data[[\"HourlyRate\", \"DailyRate\", \"MonthlyRate\"]].head()"
   ]
  },
  {
   "cell_type": "code",
   "execution_count": 13,
   "id": "4039f734-62f2-4827-980b-8852a5b20a69",
   "metadata": {},
   "outputs": [
    {
     "data": {
      "text/plain": [
       "Bachelor//Life_Sciences            558\n",
       "Bachelor//Medical                  456\n",
       "Master//Life_Sciences              393\n",
       "College//Life_Sciences             282\n",
       "Master//Medical                    258\n",
       "College//Medical                   210\n",
       "Below_College//Medical             162\n",
       "Below_College//Life_Sciences       150\n",
       "Bachelor//Marketing                141\n",
       "Bachelor//Technical_Degree         138\n",
       "Master//Marketing                  105\n",
       "Master//Other                       87\n",
       "Master//Technical_Degree            75\n",
       "Bachelor//Other                     63\n",
       "College//Other                      57\n",
       "College//Technical_Degree           54\n",
       "College//Marketing                  48\n",
       "Doctor//Life_Sciences               48\n",
       "Bachelor//Human_Resources           45\n",
       "Below_College//Technical_Degree     42\n",
       "Doctor//Medical                     36\n",
       "Doctor//Marketing                   30\n",
       "Below_College//Marketing            27\n",
       "Master//Human_Resources             15\n",
       "Below_College//Other                12\n",
       "Doctor//Technical_Degree             9\n",
       "College//Human_Resources             6\n",
       "Doctor//Human_Resources              3\n",
       "Below_College//Human_Resources       3\n",
       "Name: Education_Field, dtype: int64"
      ]
     },
     "execution_count": 13,
     "metadata": {},
     "output_type": "execute_result"
    }
   ],
   "source": [
    "data.Education_Field.value_counts(dropna=False)"
   ]
  },
  {
   "cell_type": "code",
   "execution_count": 17,
   "id": "171f1338-7b2d-4a13-b73c-94ca274eab22",
   "metadata": {},
   "outputs": [],
   "source": [
    "ed = data[\"Education_Field\"].str.split(pat=\"//\", expand=True) "
   ]
  },
  {
   "cell_type": "code",
   "execution_count": 123,
   "id": "15433de4-4a14-4a6f-b0cc-10db5da2b8c1",
   "metadata": {},
   "outputs": [
    {
     "data": {
      "text/html": [
       "<div>\n",
       "<style scoped>\n",
       "    .dataframe tbody tr th:only-of-type {\n",
       "        vertical-align: middle;\n",
       "    }\n",
       "\n",
       "    .dataframe tbody tr th {\n",
       "        vertical-align: top;\n",
       "    }\n",
       "\n",
       "    .dataframe thead th {\n",
       "        text-align: right;\n",
       "    }\n",
       "</style>\n",
       "<table border=\"1\" class=\"dataframe\">\n",
       "  <thead>\n",
       "    <tr style=\"text-align: right;\">\n",
       "      <th></th>\n",
       "      <th>Education_Field</th>\n",
       "      <th>Education</th>\n",
       "      <th>Field</th>\n",
       "    </tr>\n",
       "  </thead>\n",
       "  <tbody>\n",
       "    <tr>\n",
       "      <th>0</th>\n",
       "      <td>Bachelor//Medical</td>\n",
       "      <td>Bachelor</td>\n",
       "      <td>Medical</td>\n",
       "    </tr>\n",
       "    <tr>\n",
       "      <th>1</th>\n",
       "      <td>Bachelor//Medical</td>\n",
       "      <td>Bachelor</td>\n",
       "      <td>Medical</td>\n",
       "    </tr>\n",
       "    <tr>\n",
       "      <th>2</th>\n",
       "      <td>Bachelor//Medical</td>\n",
       "      <td>Bachelor</td>\n",
       "      <td>Medical</td>\n",
       "    </tr>\n",
       "    <tr>\n",
       "      <th>3</th>\n",
       "      <td>Bachelor//Medical</td>\n",
       "      <td>Bachelor</td>\n",
       "      <td>Medical</td>\n",
       "    </tr>\n",
       "    <tr>\n",
       "      <th>4</th>\n",
       "      <td>Bachelor//Medical</td>\n",
       "      <td>Bachelor</td>\n",
       "      <td>Medical</td>\n",
       "    </tr>\n",
       "  </tbody>\n",
       "</table>\n",
       "</div>"
      ],
      "text/plain": [
       "     Education_Field Education    Field\n",
       "0  Bachelor//Medical  Bachelor  Medical\n",
       "1  Bachelor//Medical  Bachelor  Medical\n",
       "2  Bachelor//Medical  Bachelor  Medical\n",
       "3  Bachelor//Medical  Bachelor  Medical\n",
       "4  Bachelor//Medical  Bachelor  Medical"
      ]
     },
     "execution_count": 123,
     "metadata": {},
     "output_type": "execute_result"
    }
   ],
   "source": [
    "data[['Education', 'Field']] = data.Education_Field.str.split('//',expand=True)\n",
    "data[['Education_Field', 'Education', 'Field']].head()"
   ]
  },
  {
   "cell_type": "markdown",
   "id": "4f0c045c-162c-4835-9d76-cd372ab32703",
   "metadata": {},
   "source": [
    "#### C3\n",
    "**Once the data is cleaned: what type are the variables in the data set? Make sure that all variables in this table that have been read as character are converted to factors.\n",
    "This table that have been read as character are converted to factors. See the mutate_if\n",
    "to do this if you need to.**\n",
    "\n",
    "**Then make a list of quantitative variables and a list of qualitative variables (factors).\n",
    "Which, within the latter, are ordered factors (it is not necessary to include the order in the transformation process).?** \n",
    "\n",
    "**Then make a list of quantitative variables and a list of qualitative variables (factors).**"
   ]
  },
  {
   "cell_type": "code",
   "execution_count": 20,
   "id": "708f98c8-9a94-4024-831b-447b026d54a7",
   "metadata": {},
   "outputs": [
    {
     "name": "stdout",
     "output_type": "stream",
     "text": [
      "<class 'pandas.core.frame.DataFrame'>\n",
      "Int64Index: 3513 entries, 0 to 3527\n",
      "Data columns (total 26 columns):\n",
      " #   Column                 Non-Null Count  Dtype  \n",
      "---  ------                 --------------  -----  \n",
      " 0   Age                    3513 non-null   int64  \n",
      " 1   Attrition              3513 non-null   object \n",
      " 2   BusinessTravel         3513 non-null   object \n",
      " 3   Department             3513 non-null   object \n",
      " 4   DistanceFromHome       3513 non-null   float64\n",
      " 5   Gender                 3513 non-null   object \n",
      " 6   JobLevel               3513 non-null   int64  \n",
      " 7   JobRole                3513 non-null   object \n",
      " 8   JobSatisfaction        3513 non-null   object \n",
      " 9   MaritalStatus          3513 non-null   object \n",
      " 10  MonthlyIncome          3513 non-null   int64  \n",
      " 11  NumCompaniesWorked     3513 non-null   float64\n",
      " 12  OverTime               3513 non-null   object \n",
      " 13  PerformanceRating      3513 non-null   object \n",
      " 14  TotalWorkingYears      3513 non-null   int64  \n",
      " 15  TrainingTimesLastYear  3513 non-null   int64  \n",
      " 16  YearsAtCompany         3513 non-null   int64  \n",
      " 17  YearsInCurrentRole     3513 non-null   int64  \n",
      " 18  RateType               3513 non-null   object \n",
      " 19  Rate                   3513 non-null   int64  \n",
      " 20  Education_Field        3513 non-null   object \n",
      " 21  HourlyRate             1171 non-null   float64\n",
      " 22  DailyRate              1171 non-null   float64\n",
      " 23  MonthlyRate            1171 non-null   float64\n",
      " 24  EducationLevel         3513 non-null   object \n",
      " 25  EducationField         3513 non-null   object \n",
      "dtypes: float64(5), int64(8), object(13)\n",
      "memory usage: 741.0+ KB\n"
     ]
    }
   ],
   "source": [
    "data.info()"
   ]
  },
  {
   "cell_type": "code",
   "execution_count": 21,
   "id": "ecdb1963-bf3b-4100-bd9f-77c513340663",
   "metadata": {},
   "outputs": [
    {
     "name": "stdout",
     "output_type": "stream",
     "text": [
      "The qualitative factors are: Index(['Attrition', 'BusinessTravel', 'Department', 'Gender', 'JobRole',\n",
      "       'JobSatisfaction', 'MaritalStatus', 'OverTime', 'PerformanceRating',\n",
      "       'RateType', 'Education_Field', 'EducationLevel', 'EducationField'],\n",
      "      dtype='object')\n"
     ]
    }
   ],
   "source": [
    "print(f\"The qualitative factors are: {data.select_dtypes(include=[object]).columns}\")"
   ]
  },
  {
   "cell_type": "markdown",
   "id": "6d1cea6a-2bc5-41fe-afcc-fe81168fa7f4",
   "metadata": {},
   "source": [
    "Of those, ordered factors are: BusinessTravel, JobSatisfaction, PerformanceRating, RateType, EducationLevel"
   ]
  },
  {
   "cell_type": "markdown",
   "id": "3a976e16-c87f-4928-86f7-3e0196278823",
   "metadata": {},
   "source": [
    "## Exercise 2"
   ]
  },
  {
   "cell_type": "markdown",
   "id": "6d2ba573-e94e-4cd2-bc56-2e92fa4cdb94",
   "metadata": {},
   "source": [
    "#### C4\n",
    "**Graph the distribution of the variable age Age by means of a histogram with the density curve of the superimposed variable.\n",
    "density curve of the superimposed variable.**\n",
    "\n",
    "**Also represent a boxplot of the variable age. Optionally\n",
    "you can use a violinpot or add the sample points (in this case make sure that they do not block the boxplot).**"
   ]
  },
  {
   "cell_type": "markdown",
   "id": "de0e6bc0-a32a-4829-a53f-d751929d864a",
   "metadata": {},
   "source": [
    "Histogram with density curve superimposed"
   ]
  },
  {
   "cell_type": "code",
   "execution_count": 22,
   "id": "250414dc-8721-407f-a7f3-7f2161f9601c",
   "metadata": {},
   "outputs": [
    {
     "data": {
      "image/png": "[encoded data removed]",
      "text/plain": [
       "<Figure size 864x864 with 1 Axes>"
      ]
     },
     "metadata": {},
     "output_type": "display_data"
    }
   ],
   "source": [
    "dens_plot = sns.histplot(data = data, x = 'Age', kde=True)\n",
    "dens_plot.lines[0].set_color('red')\n",
    "dens_plot.lines[0].set_linewidth(3)"
   ]
  },
  {
   "cell_type": "markdown",
   "id": "550f5fb0-f444-4cbe-86bb-3facc486c7b7",
   "metadata": {},
   "source": [
    "Boxplot"
   ]
  },
  {
   "cell_type": "code",
   "execution_count": 23,
   "id": "230cfefd-1ef7-45bb-9219-cfee8bdee8f5",
   "metadata": {},
   "outputs": [
    {
     "data": {
      "image/png": "[encoded data removed]",
      "text/plain": [
       "<Figure size 432x576 with 1 Axes>"
      ]
     },
     "metadata": {},
     "output_type": "display_data"
    }
   ],
   "source": [
    "getPlot = data.boxplot(column='Age', figsize=(6, 8))"
   ]
  },
  {
   "cell_type": "markdown",
   "id": "5cb66e3d-326e-463a-99b2-2773260cb0f0",
   "metadata": {},
   "source": [
    "#### C5 \n",
    "**Estudia gráficamente (por ejemplo con boxplots) la relación entre la variable Age y la variable\n",
    "Attrition. ¿Influye el género en esa relación? Usa los recursos gráficos para discutir la\n",
    "respuesta, lo que se busca es un juicio inicial basado en una exploración gráfica.**"
   ]
  },
  {
   "cell_type": "code",
   "execution_count": 24,
   "id": "2be6f675-463e-4a49-a6df-ea369b5ab887",
   "metadata": {},
   "outputs": [
    {
     "data": {
      "image/png": "[encoded data removed]",
      "text/plain": [
       "<Figure size 432x576 with 1 Axes>"
      ]
     },
     "metadata": {},
     "output_type": "display_data"
    }
   ],
   "source": [
    "getPlot = data.boxplot(column='Age', by = 'Attrition', figsize=(6, 8))"
   ]
  },
  {
   "cell_type": "markdown",
   "id": "640d5925-e73d-42be-952c-954c117def6e",
   "metadata": {},
   "source": [
    "Most employees that present attrition are older"
   ]
  },
  {
   "cell_type": "code",
   "execution_count": 126,
   "id": "b170ffd4-f8ee-4d97-b3fc-30028c13d0a1",
   "metadata": {},
   "outputs": [
    {
     "data": {
      "image/png": "[encoded data removed]",
      "text/plain": [
       "<Figure size 864x864 with 1 Axes>"
      ]
     },
     "metadata": {},
     "output_type": "display_data"
    }
   ],
   "source": [
    "sns.boxplot(x='Attrition', y='Age', hue='Gender', data=data)\n",
    "plt.show()"
   ]
  },
  {
   "cell_type": "markdown",
   "id": "367c08bc-0a19-4a4a-8192-ef9493dd7f46",
   "metadata": {},
   "source": [
    "The difference is bigger for women"
   ]
  },
  {
   "cell_type": "markdown",
   "id": "0fa9f183-3116-4491-90e3-b9882109ede3",
   "metadata": {},
   "source": [
    "#### C6\n",
    "**Haz la tabla de frecuencias absolutas del factor JobSatisfaction. Después haz una representación\n",
    "gráfica adecuada de esa tabla. Opcionales:**"
   ]
  },
  {
   "cell_type": "markdown",
   "id": "ab91f93c-6f7a-4f30-b35a-371fdff0e143",
   "metadata": {},
   "source": [
    "    + **Juega con los argumentos fill y position de ggplot para incorporar al gráfico la información\n",
    "    de Attrition mediante colores.**\n",
    "    + ** ten en cuenta que JobSatisfaction es un factor ordenado y trata de incorporar esa ordenación a\n",
    "    la representación gráfica. Indicación: usa la función factor y sus argumentos levels y ordered\n",
    "    para esto.**"
   ]
  },
  {
   "cell_type": "code",
   "execution_count": 26,
   "id": "11288d76-32b7-497a-acbf-c39f2a590374",
   "metadata": {},
   "outputs": [
    {
     "data": {
      "text/plain": [
       "Very_High    1107\n",
       "High         1056\n",
       "Low           693\n",
       "Medium        657\n",
       "Name: JobSatisfaction, dtype: int64"
      ]
     },
     "execution_count": 26,
     "metadata": {},
     "output_type": "execute_result"
    }
   ],
   "source": [
    "data.JobSatisfaction.value_counts(dropna=False)"
   ]
  },
  {
   "cell_type": "code",
   "execution_count": 27,
   "id": "295ff964-de5c-44eb-be0a-d6660e905d81",
   "metadata": {},
   "outputs": [
    {
     "data": {
      "text/plain": [
       "<AxesSubplot:xlabel='JobSatisfaction', ylabel='count'>"
      ]
     },
     "execution_count": 27,
     "metadata": {},
     "output_type": "execute_result"
    },
    {
     "data": {
      "image/png": "[encoded data removed]",
      "text/plain": [
       "<Figure size 864x864 with 1 Axes>"
      ]
     },
     "metadata": {},
     "output_type": "display_data"
    }
   ],
   "source": [
    "order = [\"Low\", \"Medium\", \"High\", \"Very_High\"]\n",
    "sns.countplot(x = \"JobSatisfaction\", data = data, order = order)"
   ]
  },
  {
   "cell_type": "markdown",
   "id": "ff20cf74-0aa4-4838-a07c-1d0930da85a5",
   "metadata": {},
   "source": [
    "We need to add the Attrition"
   ]
  },
  {
   "cell_type": "code",
   "execution_count": 130,
   "id": "db74b524-5627-4f44-a4e6-367d48c533a0",
   "metadata": {},
   "outputs": [
    {
     "data": {
      "text/html": [
       "<div>\n",
       "<style scoped>\n",
       "    .dataframe tbody tr th:only-of-type {\n",
       "        vertical-align: middle;\n",
       "    }\n",
       "\n",
       "    .dataframe tbody tr th {\n",
       "        vertical-align: top;\n",
       "    }\n",
       "\n",
       "    .dataframe thead th {\n",
       "        text-align: right;\n",
       "    }\n",
       "</style>\n",
       "<table border=\"1\" class=\"dataframe\">\n",
       "  <thead>\n",
       "    <tr style=\"text-align: right;\">\n",
       "      <th>Attrition</th>\n",
       "      <th>No</th>\n",
       "      <th>Yes</th>\n",
       "      <th>All</th>\n",
       "    </tr>\n",
       "    <tr>\n",
       "      <th>JobSatisfaction</th>\n",
       "      <th></th>\n",
       "      <th></th>\n",
       "      <th></th>\n",
       "    </tr>\n",
       "  </thead>\n",
       "  <tbody>\n",
       "    <tr>\n",
       "      <th>High</th>\n",
       "      <td>891</td>\n",
       "      <td>165</td>\n",
       "      <td>1056</td>\n",
       "    </tr>\n",
       "    <tr>\n",
       "      <th>Low</th>\n",
       "      <td>534</td>\n",
       "      <td>159</td>\n",
       "      <td>693</td>\n",
       "    </tr>\n",
       "    <tr>\n",
       "      <th>Medium</th>\n",
       "      <td>555</td>\n",
       "      <td>102</td>\n",
       "      <td>657</td>\n",
       "    </tr>\n",
       "    <tr>\n",
       "      <th>Very_High</th>\n",
       "      <td>990</td>\n",
       "      <td>117</td>\n",
       "      <td>1107</td>\n",
       "    </tr>\n",
       "    <tr>\n",
       "      <th>All</th>\n",
       "      <td>2970</td>\n",
       "      <td>543</td>\n",
       "      <td>3513</td>\n",
       "    </tr>\n",
       "  </tbody>\n",
       "</table>\n",
       "</div>"
      ],
      "text/plain": [
       "Attrition          No  Yes   All\n",
       "JobSatisfaction                 \n",
       "High              891  165  1056\n",
       "Low               534  159   693\n",
       "Medium            555  102   657\n",
       "Very_High         990  117  1107\n",
       "All              2970  543  3513"
      ]
     },
     "execution_count": 130,
     "metadata": {},
     "output_type": "execute_result"
    }
   ],
   "source": [
    "CT = pd.crosstab(data.JobSatisfaction, data.Attrition, margins=True)\n",
    "CT"
   ]
  },
  {
   "cell_type": "code",
   "execution_count": 129,
   "id": "bec60d65-6959-423e-b424-06963f8ca3b5",
   "metadata": {},
   "outputs": [
    {
     "data": {
      "text/html": [
       "<div>\n",
       "<style scoped>\n",
       "    .dataframe tbody tr th:only-of-type {\n",
       "        vertical-align: middle;\n",
       "    }\n",
       "\n",
       "    .dataframe tbody tr th {\n",
       "        vertical-align: top;\n",
       "    }\n",
       "\n",
       "    .dataframe thead th {\n",
       "        text-align: right;\n",
       "    }\n",
       "</style>\n",
       "<table border=\"1\" class=\"dataframe\">\n",
       "  <thead>\n",
       "    <tr style=\"text-align: right;\">\n",
       "      <th>Attrition</th>\n",
       "      <th>No</th>\n",
       "      <th>Yes</th>\n",
       "    </tr>\n",
       "    <tr>\n",
       "      <th>JobSatisfaction</th>\n",
       "      <th></th>\n",
       "      <th></th>\n",
       "    </tr>\n",
       "  </thead>\n",
       "  <tbody>\n",
       "    <tr>\n",
       "      <th>High</th>\n",
       "      <td>891</td>\n",
       "      <td>165</td>\n",
       "    </tr>\n",
       "    <tr>\n",
       "      <th>Low</th>\n",
       "      <td>534</td>\n",
       "      <td>159</td>\n",
       "    </tr>\n",
       "    <tr>\n",
       "      <th>Medium</th>\n",
       "      <td>555</td>\n",
       "      <td>102</td>\n",
       "    </tr>\n",
       "    <tr>\n",
       "      <th>Very_High</th>\n",
       "      <td>990</td>\n",
       "      <td>117</td>\n",
       "    </tr>\n",
       "  </tbody>\n",
       "</table>\n",
       "</div>"
      ],
      "text/plain": [
       "Attrition         No  Yes\n",
       "JobSatisfaction          \n",
       "High             891  165\n",
       "Low              534  159\n",
       "Medium           555  102\n",
       "Very_High        990  117"
      ]
     },
     "execution_count": 129,
     "metadata": {},
     "output_type": "execute_result"
    }
   ],
   "source": [
    "# We add to the table the totals for each row\n",
    "CT['total'] = CT.sum(axis=1)\n",
    "# Sort the table using those totals\n",
    "CT.sort_values('total', inplace=True)\n",
    "# Remove them so thay do not interfere with the graphic\n",
    "CT2= CT.drop(columns=['total']).sort_index()\n",
    "CT2"
   ]
  },
  {
   "cell_type": "markdown",
   "id": "ac234751-da71-495a-88f2-ea260be4a62f",
   "metadata": {},
   "source": [
    "## Exercise 3"
   ]
  },
  {
   "cell_type": "markdown",
   "id": "a658fd41-656a-4f2a-b8cc-cea5bd688c63",
   "metadata": {},
   "source": [
    "#### C7\n",
    "**Calcula la mediana del salario mensual para cada departamento y cada nivel dentro de ese departamento. Ordena la respuesta de mayor a menor y asegúrate de que en la tabla de salida se muestran\n",
    "las columnas relevantes.**\n"
   ]
  },
  {
   "cell_type": "code",
   "execution_count": 131,
   "id": "9f219749-755e-4373-b8c1-7dfcab2cb6b0",
   "metadata": {},
   "outputs": [
    {
     "data": {
      "text/plain": [
       "Department            JobLevel\n",
       "Research_Development  5           19326.0\n",
       "Human_Resources       5           19189.0\n",
       "Sales                 5           19068.0\n",
       "Human_Resources       4           16799.0\n",
       "Research_Development  4           16413.0\n",
       "Sales                 4           15427.0\n",
       "Research_Development  3           10293.0\n",
       "Human_Resources       3            9756.0\n",
       "Sales                 3            9419.0\n",
       "Human_Resources       2            5910.0\n",
       "Sales                 2            5396.0\n",
       "Research_Development  2            5238.0\n",
       "Human_Resources       1            2706.0\n",
       "Research_Development  1            2700.0\n",
       "Sales                 1            2575.5\n",
       "Name: MonthlyIncome, dtype: float64"
      ]
     },
     "execution_count": 131,
     "metadata": {},
     "output_type": "execute_result"
    }
   ],
   "source": [
    "data.groupby([\"Department\", \"JobLevel\"])[\"MonthlyIncome\"].median().sort_values(ascending= False)"
   ]
  },
  {
   "cell_type": "code",
   "execution_count": 118,
   "id": "c1595f0e-cc74-4806-8929-dde5d276fbbc",
   "metadata": {},
   "outputs": [
    {
     "data": {
      "text/plain": [
       "Index(['Age', 'Attrition', 'BusinessTravel', 'Department', 'DistanceFromHome',\n",
       "       'Gender', 'JobLevel', 'JobRole', 'JobSatisfaction', 'MaritalStatus',\n",
       "       'MonthlyIncome', 'NumCompaniesWorked', 'OverTime', 'PerformanceRating',\n",
       "       'TotalWorkingYears', 'TrainingTimesLastYear', 'YearsAtCompany',\n",
       "       'YearsInCurrentRole', 'RateType', 'Rate', 'Education_Field',\n",
       "       'HourlyRate', 'DailyRate', 'MonthlyRate', 'EducationLevel',\n",
       "       'EducationField'],\n",
       "      dtype='object')"
      ]
     },
     "execution_count": 118,
     "metadata": {},
     "output_type": "execute_result"
    }
   ],
   "source": [
    "data.columns"
   ]
  },
  {
   "cell_type": "markdown",
   "id": "80d2ecbd-b906-4d42-8a52-0bdd0caf7708",
   "metadata": {},
   "source": [
    "#### C8\n",
    "**If we randomly choose an employee whose JobSatisfaction is\n",
    "VeryHigh, calculate the probability that he/she is single.**\n",
    "\n",
    "**If we randomly choose an employee from the company\n",
    "what is the probability that she is a woman who has been with the company for more than five years?**\n"
   ]
  },
  {
   "cell_type": "markdown",
   "id": "5dc57497-6062-436f-a295-2f88a967cafd",
   "metadata": {},
   "source": [
    "Probability that an employee with very high job satisfaction is single"
   ]
  },
  {
   "cell_type": "code",
   "execution_count": 28,
   "id": "5db9369a-3401-4c11-9c58-c6e1d81557c4",
   "metadata": {},
   "outputs": [
    {
     "data": {
      "text/html": [
       "<div>\n",
       "<style scoped>\n",
       "    .dataframe tbody tr th:only-of-type {\n",
       "        vertical-align: middle;\n",
       "    }\n",
       "\n",
       "    .dataframe tbody tr th {\n",
       "        vertical-align: top;\n",
       "    }\n",
       "\n",
       "    .dataframe thead th {\n",
       "        text-align: right;\n",
       "    }\n",
       "</style>\n",
       "<table border=\"1\" class=\"dataframe\">\n",
       "  <thead>\n",
       "    <tr style=\"text-align: right;\">\n",
       "      <th></th>\n",
       "      <th>Age</th>\n",
       "      <th>Attrition</th>\n",
       "      <th>BusinessTravel</th>\n",
       "      <th>Department</th>\n",
       "      <th>DistanceFromHome</th>\n",
       "      <th>Gender</th>\n",
       "      <th>JobLevel</th>\n",
       "      <th>JobRole</th>\n",
       "      <th>JobSatisfaction</th>\n",
       "      <th>MaritalStatus</th>\n",
       "      <th>...</th>\n",
       "      <th>YearsAtCompany</th>\n",
       "      <th>YearsInCurrentRole</th>\n",
       "      <th>RateType</th>\n",
       "      <th>Rate</th>\n",
       "      <th>Education_Field</th>\n",
       "      <th>HourlyRate</th>\n",
       "      <th>DailyRate</th>\n",
       "      <th>MonthlyRate</th>\n",
       "      <th>EducationLevel</th>\n",
       "      <th>EducationField</th>\n",
       "    </tr>\n",
       "  </thead>\n",
       "  <tbody>\n",
       "    <tr>\n",
       "      <th>0</th>\n",
       "      <td>31</td>\n",
       "      <td>No</td>\n",
       "      <td>Travel_Rarely</td>\n",
       "      <td>Research_Development</td>\n",
       "      <td>23.0</td>\n",
       "      <td>Male</td>\n",
       "      <td>2</td>\n",
       "      <td>Healthcare_Representative</td>\n",
       "      <td>Very_High</td>\n",
       "      <td>Married</td>\n",
       "      <td>...</td>\n",
       "      <td>9</td>\n",
       "      <td>0</td>\n",
       "      <td>DailyRate</td>\n",
       "      <td>1463</td>\n",
       "      <td>Bachelor//Medical</td>\n",
       "      <td>NaN</td>\n",
       "      <td>1463.0</td>\n",
       "      <td>NaN</td>\n",
       "      <td>Bachelor</td>\n",
       "      <td>Medical</td>\n",
       "    </tr>\n",
       "    <tr>\n",
       "      <th>1</th>\n",
       "      <td>31</td>\n",
       "      <td>No</td>\n",
       "      <td>Travel_Rarely</td>\n",
       "      <td>Research_Development</td>\n",
       "      <td>23.0</td>\n",
       "      <td>Male</td>\n",
       "      <td>2</td>\n",
       "      <td>Healthcare_Representative</td>\n",
       "      <td>Very_High</td>\n",
       "      <td>Married</td>\n",
       "      <td>...</td>\n",
       "      <td>9</td>\n",
       "      <td>0</td>\n",
       "      <td>HourlyRate</td>\n",
       "      <td>64</td>\n",
       "      <td>Bachelor//Medical</td>\n",
       "      <td>64.0</td>\n",
       "      <td>NaN</td>\n",
       "      <td>NaN</td>\n",
       "      <td>Bachelor</td>\n",
       "      <td>Medical</td>\n",
       "    </tr>\n",
       "    <tr>\n",
       "      <th>2</th>\n",
       "      <td>31</td>\n",
       "      <td>No</td>\n",
       "      <td>Travel_Rarely</td>\n",
       "      <td>Research_Development</td>\n",
       "      <td>23.0</td>\n",
       "      <td>Male</td>\n",
       "      <td>2</td>\n",
       "      <td>Healthcare_Representative</td>\n",
       "      <td>Very_High</td>\n",
       "      <td>Married</td>\n",
       "      <td>...</td>\n",
       "      <td>9</td>\n",
       "      <td>0</td>\n",
       "      <td>MonthlyRate</td>\n",
       "      <td>14408</td>\n",
       "      <td>Bachelor//Medical</td>\n",
       "      <td>NaN</td>\n",
       "      <td>NaN</td>\n",
       "      <td>14408.0</td>\n",
       "      <td>Bachelor</td>\n",
       "      <td>Medical</td>\n",
       "    </tr>\n",
       "    <tr>\n",
       "      <th>6</th>\n",
       "      <td>30</td>\n",
       "      <td>No</td>\n",
       "      <td>Non-Travel</td>\n",
       "      <td>Research_Development</td>\n",
       "      <td>2.0</td>\n",
       "      <td>Female</td>\n",
       "      <td>1</td>\n",
       "      <td>Laboratory_Technician</td>\n",
       "      <td>Very_High</td>\n",
       "      <td>Single</td>\n",
       "      <td>...</td>\n",
       "      <td>11</td>\n",
       "      <td>7</td>\n",
       "      <td>DailyRate</td>\n",
       "      <td>1116</td>\n",
       "      <td>Bachelor//Medical</td>\n",
       "      <td>NaN</td>\n",
       "      <td>1116.0</td>\n",
       "      <td>NaN</td>\n",
       "      <td>Bachelor</td>\n",
       "      <td>Medical</td>\n",
       "    </tr>\n",
       "    <tr>\n",
       "      <th>7</th>\n",
       "      <td>30</td>\n",
       "      <td>No</td>\n",
       "      <td>Non-Travel</td>\n",
       "      <td>Research_Development</td>\n",
       "      <td>2.0</td>\n",
       "      <td>Female</td>\n",
       "      <td>1</td>\n",
       "      <td>Laboratory_Technician</td>\n",
       "      <td>Very_High</td>\n",
       "      <td>Single</td>\n",
       "      <td>...</td>\n",
       "      <td>11</td>\n",
       "      <td>7</td>\n",
       "      <td>HourlyRate</td>\n",
       "      <td>49</td>\n",
       "      <td>Bachelor//Medical</td>\n",
       "      <td>49.0</td>\n",
       "      <td>NaN</td>\n",
       "      <td>NaN</td>\n",
       "      <td>Bachelor</td>\n",
       "      <td>Medical</td>\n",
       "    </tr>\n",
       "  </tbody>\n",
       "</table>\n",
       "<p>5 rows × 26 columns</p>\n",
       "</div>"
      ],
      "text/plain": [
       "   Age Attrition BusinessTravel            Department  DistanceFromHome  \\\n",
       "0   31        No  Travel_Rarely  Research_Development              23.0   \n",
       "1   31        No  Travel_Rarely  Research_Development              23.0   \n",
       "2   31        No  Travel_Rarely  Research_Development              23.0   \n",
       "6   30        No     Non-Travel  Research_Development               2.0   \n",
       "7   30        No     Non-Travel  Research_Development               2.0   \n",
       "\n",
       "   Gender  JobLevel                    JobRole JobSatisfaction MaritalStatus  \\\n",
       "0    Male         2  Healthcare_Representative       Very_High       Married   \n",
       "1    Male         2  Healthcare_Representative       Very_High       Married   \n",
       "2    Male         2  Healthcare_Representative       Very_High       Married   \n",
       "6  Female         1      Laboratory_Technician       Very_High        Single   \n",
       "7  Female         1      Laboratory_Technician       Very_High        Single   \n",
       "\n",
       "   ...  YearsAtCompany  YearsInCurrentRole     RateType   Rate  \\\n",
       "0  ...               9                   0    DailyRate   1463   \n",
       "1  ...               9                   0   HourlyRate     64   \n",
       "2  ...               9                   0  MonthlyRate  14408   \n",
       "6  ...              11                   7    DailyRate   1116   \n",
       "7  ...              11                   7   HourlyRate     49   \n",
       "\n",
       "     Education_Field  HourlyRate  DailyRate  MonthlyRate EducationLevel  \\\n",
       "0  Bachelor//Medical         NaN     1463.0          NaN       Bachelor   \n",
       "1  Bachelor//Medical        64.0        NaN          NaN       Bachelor   \n",
       "2  Bachelor//Medical         NaN        NaN      14408.0       Bachelor   \n",
       "6  Bachelor//Medical         NaN     1116.0          NaN       Bachelor   \n",
       "7  Bachelor//Medical        49.0        NaN          NaN       Bachelor   \n",
       "\n",
       "   EducationField  \n",
       "0         Medical  \n",
       "1         Medical  \n",
       "2         Medical  \n",
       "6         Medical  \n",
       "7         Medical  \n",
       "\n",
       "[5 rows x 26 columns]"
      ]
     },
     "execution_count": 28,
     "metadata": {},
     "output_type": "execute_result"
    }
   ],
   "source": [
    "vh_js = data[data.JobSatisfaction == 'Very_High']\n",
    "vh_js.head()"
   ]
  },
  {
   "cell_type": "code",
   "execution_count": 31,
   "id": "d6cccdb9-2434-49fe-aa4a-a7fa563c6fbd",
   "metadata": {},
   "outputs": [
    {
     "name": "stdout",
     "output_type": "stream",
     "text": [
      "The probability that an employee with very high satisfaction is single is 0.35501355013550134\n"
     ]
    }
   ],
   "source": [
    "p = sum(vh_js.MaritalStatus == 'Single')/len(vh_js)\n",
    "print(f\"The probability that an employee with very high satisfaction is single is {p}\")"
   ]
  },
  {
   "cell_type": "code",
   "execution_count": 40,
   "id": "5cf8f38f-b6df-4436-a770-9425b7fd2bb1",
   "metadata": {},
   "outputs": [
    {
     "name": "stdout",
     "output_type": "stream",
     "text": [
      "The probability that an employee is a woman who has spent more than 5 years at the company is 0.19726729291204098\n"
     ]
    }
   ],
   "source": [
    "p = sum((data.Gender == 'Female') & (data.YearsAtCompany > 5))/len(data)\n",
    "print(f\"The probability that an employee is a woman who has spent more than 5 years at the company is {p}\")"
   ]
  },
  {
   "cell_type": "markdown",
   "id": "24a007e8-96dd-4b3b-ab71-4ca4585b5917",
   "metadata": {},
   "source": [
    "#### C9\n",
    "**If we choose 12 employees from this company at random and with replacement, what is the probability that 4 of them have worked in 3 or more companies (NumCompaniesWorked)?**"
   ]
  },
  {
   "cell_type": "code",
   "execution_count": 66,
   "id": "c606b03e-fc59-4ee6-b738-b5dd4feaefb3",
   "metadata": {},
   "outputs": [],
   "source": [
    "N = 100000 # Number of iterations of the experiment\n",
    "n = 12 # number of employees\n",
    "sample = data.sample(n*N, replace = True) # We sample n employees with replacement N times\n",
    "samples = sample.NumCompaniesWorked.values.reshape([n, N]) # We reshape the sample into a nxN matrix in order to keep the experiments separated"
   ]
  },
  {
   "cell_type": "code",
   "execution_count": 67,
   "id": "845328da-b835-4aea-b14e-52211287a73b",
   "metadata": {},
   "outputs": [
    {
     "data": {
      "text/plain": [
       "0.20001"
      ]
     },
     "execution_count": 67,
     "metadata": {},
     "output_type": "execute_result"
    }
   ],
   "source": [
    "more3 = sum(samples >= 3) # We get the number of employees that have worked in more than 3 companies per experiment (sum of each column)\n",
    "p = sum(more3 == 4)/N # We get the proportion of experiments where there are excatly 4 employees that have worked in more than 3 companies\n",
    "p"
   ]
  },
  {
   "cell_type": "markdown",
   "id": "3083fdfe-e856-48a8-83e3-5b9a99e93f6a",
   "metadata": {},
   "source": [
    "#### C10\n",
    "**Make a contingency table (two by two) of Attrition versus Overtime, the variable that tells us whether or not an employee works overtime. Suppose we want to use Overtime as a kind of diagnostic test of Attrition's values, equating sick/unhealthy with Attrition\n",
    "Yes/No and positive/negative test with Overtime Yes/No. What is the false positive rate of this test?\n",
    "What is the accuracy of the test? Optional: what are its sensitivity and specificity?**\n"
   ]
  },
  {
   "cell_type": "markdown",
   "id": "39d2e5e3-9847-4011-a540-b54b1a32939c",
   "metadata": {},
   "source": [
    "Contingency table"
   ]
  },
  {
   "cell_type": "code",
   "execution_count": 70,
   "id": "22c6c875-45eb-4bd8-a39e-cca7006338fe",
   "metadata": {},
   "outputs": [
    {
     "data": {
      "text/html": [
       "<div>\n",
       "<style scoped>\n",
       "    .dataframe tbody tr th:only-of-type {\n",
       "        vertical-align: middle;\n",
       "    }\n",
       "\n",
       "    .dataframe tbody tr th {\n",
       "        vertical-align: top;\n",
       "    }\n",
       "\n",
       "    .dataframe thead th {\n",
       "        text-align: right;\n",
       "    }\n",
       "</style>\n",
       "<table border=\"1\" class=\"dataframe\">\n",
       "  <thead>\n",
       "    <tr style=\"text-align: right;\">\n",
       "      <th>OverTime</th>\n",
       "      <th>No</th>\n",
       "      <th>Yes</th>\n",
       "      <th>All</th>\n",
       "    </tr>\n",
       "    <tr>\n",
       "      <th>Attrition</th>\n",
       "      <th></th>\n",
       "      <th></th>\n",
       "      <th></th>\n",
       "    </tr>\n",
       "  </thead>\n",
       "  <tbody>\n",
       "    <tr>\n",
       "      <th>No</th>\n",
       "      <td>2295</td>\n",
       "      <td>675</td>\n",
       "      <td>2970</td>\n",
       "    </tr>\n",
       "    <tr>\n",
       "      <th>Yes</th>\n",
       "      <td>249</td>\n",
       "      <td>294</td>\n",
       "      <td>543</td>\n",
       "    </tr>\n",
       "    <tr>\n",
       "      <th>All</th>\n",
       "      <td>2544</td>\n",
       "      <td>969</td>\n",
       "      <td>3513</td>\n",
       "    </tr>\n",
       "  </tbody>\n",
       "</table>\n",
       "</div>"
      ],
      "text/plain": [
       "OverTime     No  Yes   All\n",
       "Attrition                 \n",
       "No         2295  675  2970\n",
       "Yes         249  294   543\n",
       "All        2544  969  3513"
      ]
     },
     "execution_count": 70,
     "metadata": {},
     "output_type": "execute_result"
    }
   ],
   "source": [
    "pd.crosstab(index=data['Attrition'], columns=data['OverTime'], margins=True)"
   ]
  },
  {
   "cell_type": "markdown",
   "id": "0627ecab-d64f-4dff-8a4e-091a6185faa2",
   "metadata": {},
   "source": [
    "Relative contingency table"
   ]
  },
  {
   "cell_type": "code",
   "execution_count": 133,
   "id": "6a457066-0e47-4523-81a8-76035e8b8b77",
   "metadata": {},
   "outputs": [
    {
     "data": {
      "text/html": [
       "<div>\n",
       "<style scoped>\n",
       "    .dataframe tbody tr th:only-of-type {\n",
       "        vertical-align: middle;\n",
       "    }\n",
       "\n",
       "    .dataframe tbody tr th {\n",
       "        vertical-align: top;\n",
       "    }\n",
       "\n",
       "    .dataframe thead th {\n",
       "        text-align: right;\n",
       "    }\n",
       "</style>\n",
       "<table border=\"1\" class=\"dataframe\">\n",
       "  <thead>\n",
       "    <tr style=\"text-align: right;\">\n",
       "      <th>Attrition</th>\n",
       "      <th>No</th>\n",
       "      <th>Yes</th>\n",
       "      <th>All</th>\n",
       "    </tr>\n",
       "    <tr>\n",
       "      <th>OverTime</th>\n",
       "      <th></th>\n",
       "      <th></th>\n",
       "      <th></th>\n",
       "    </tr>\n",
       "  </thead>\n",
       "  <tbody>\n",
       "    <tr>\n",
       "      <th>No</th>\n",
       "      <td>0.653288</td>\n",
       "      <td>0.070880</td>\n",
       "      <td>0.724167</td>\n",
       "    </tr>\n",
       "    <tr>\n",
       "      <th>Yes</th>\n",
       "      <td>0.192143</td>\n",
       "      <td>0.083689</td>\n",
       "      <td>0.275833</td>\n",
       "    </tr>\n",
       "    <tr>\n",
       "      <th>All</th>\n",
       "      <td>0.845431</td>\n",
       "      <td>0.154569</td>\n",
       "      <td>1.000000</td>\n",
       "    </tr>\n",
       "  </tbody>\n",
       "</table>\n",
       "</div>"
      ],
      "text/plain": [
       "Attrition        No       Yes       All\n",
       "OverTime                               \n",
       "No         0.653288  0.070880  0.724167\n",
       "Yes        0.192143  0.083689  0.275833\n",
       "All        0.845431  0.154569  1.000000"
      ]
     },
     "execution_count": 133,
     "metadata": {},
     "output_type": "execute_result"
    }
   ],
   "source": [
    "CT = pd.crosstab(index=data['OverTime'], columns=data['Attrition'], margins=True, normalize=True)\n",
    "CT"
   ]
  },
  {
   "cell_type": "code",
   "execution_count": 135,
   "id": "9e5b41a9-f5e3-4030-b681-e0102728f0c8",
   "metadata": {},
   "outputs": [
    {
     "data": {
      "text/plain": [
       "array([[0.65328779, 0.07087959, 0.72416738],\n",
       "       [0.19214347, 0.08368915, 0.27583262],\n",
       "       [0.84543126, 0.15456874, 1.        ]])"
      ]
     },
     "execution_count": 135,
     "metadata": {},
     "output_type": "execute_result"
    }
   ],
   "source": [
    "CT_np = CT.to_numpy()\n",
    "CT_np"
   ]
  },
  {
   "cell_type": "code",
   "execution_count": 138,
   "id": "7b64c41d-90a6-4849-853d-05d20766d525",
   "metadata": {},
   "outputs": [
    {
     "data": {
      "text/plain": [
       "0.7369769427839454"
      ]
     },
     "execution_count": 138,
     "metadata": {},
     "output_type": "execute_result"
    }
   ],
   "source": [
    "Acc = CT_np[0, 0] + CT_np[1,1]\n",
    "Acc"
   ]
  },
  {
   "cell_type": "markdown",
   "id": "cf00eec9-b2ed-4586-bff6-43dec5a0a818",
   "metadata": {},
   "source": [
    "+ False positive rate: 0.192143\n",
    "+ Accuracy: 0.653288 + 0.083689 = 0.736977\n",
    "+ Sensitivity: TP/(TP + FN) = 0.083689 / 0.154569 = 0.5414\n",
    "+ Specificity: TN/(TN + FP) = 0.653288 / 0.845431 = 0.7727"
   ]
  },
  {
   "cell_type": "code",
   "execution_count": 77,
   "id": "829300d1-8953-4534-b8ec-10f6cfc20c7f",
   "metadata": {},
   "outputs": [
    {
     "data": {
      "text/plain": [
       "0.7727277566117163"
      ]
     },
     "execution_count": 77,
     "metadata": {},
     "output_type": "execute_result"
    }
   ],
   "source": [
    "0.653288 / 0.845431"
   ]
  },
  {
   "cell_type": "markdown",
   "id": "5433f102-2945-4bc4-b1a5-246142396613",
   "metadata": {},
   "source": [
    "## Exercise 4"
   ]
  },
  {
   "cell_type": "markdown",
   "id": "7f7fc7db-9f2e-4581-a03e-c7f94371cbeb",
   "metadata": {},
   "source": [
    "#### C11\n",
    "**Assuming normality of the data, calculate a 95% confidence interval for the mean age of employees in the company's largest department. Optional: do you think that the hypothesis of normality of these data is justified?**"
   ]
  },
  {
   "cell_type": "code",
   "execution_count": 79,
   "id": "cf3b4661-f5e4-4e13-80f2-10483c8b232e",
   "metadata": {},
   "outputs": [
    {
     "name": "stdout",
     "output_type": "stream",
     "text": [
      "The confidence interval is  [36.63024968 37.23140702]\n",
      "Rounded to 4 digits: [36.63, 37.23]\n"
     ]
    }
   ],
   "source": [
    "n = len(data)\n",
    "barX = data.Age.mean()\n",
    "s = data.Age.std()\n",
    "\n",
    "# Short version of the critical point computation:\n",
    "cl = 0.95\n",
    "alpha = 1 - cl\n",
    "crit_point = stats.norm.isf(alpha/2, loc = 0, scale = 1)\n",
    "\n",
    "conf_int = barX + np.array([-1, 1]) * crit_point * s / np.sqrt(n)\n",
    "print(\"The confidence interval is \", conf_int)\n",
    "print(\"Rounded to 4 digits: [{:.4}, {:.4}]\".format(conf_int[0], conf_int[1]))"
   ]
  },
  {
   "cell_type": "markdown",
   "id": "18dabeea-6ff0-478e-be41-a90500a926ba",
   "metadata": {},
   "source": [
    "Looking at the hystogram and density curve, the distribution looks aprox normal. Plus, the samble is larger than 30, so we do not need the t-student."
   ]
  },
  {
   "cell_type": "markdown",
   "id": "a5eafd4d-5c06-48ff-9bed-51a1b81295a8",
   "metadata": {},
   "source": [
    "#### C12\n",
    "**Take a random, replacement sample of 20 employees from the sales department\n",
    "and test (at 95% significance) the null hypothesis: the average distance to their home is\n",
    "9 km. Be sure to keep the set.seed command as the first line of your answer in this section to ensure reproducibility.\n",
    "to ensure reproducibility.**"
   ]
  },
  {
   "cell_type": "code",
   "execution_count": 87,
   "id": "0e9a48e7-6e31-4e60-8982-b401a3774698",
   "metadata": {},
   "outputs": [],
   "source": [
    "random.seed(2021)"
   ]
  },
  {
   "cell_type": "code",
   "execution_count": 88,
   "id": "c7f8f976-df81-411e-a251-13ec55ab5778",
   "metadata": {},
   "outputs": [],
   "source": [
    "n = 20 # number of employees\n",
    "sample = data.sample(n, replace = True)"
   ]
  },
  {
   "cell_type": "code",
   "execution_count": 89,
   "id": "6369f6d4-744f-4cb9-80f4-f0ae743c2421",
   "metadata": {},
   "outputs": [
    {
     "name": "stdout",
     "output_type": "stream",
     "text": [
      "The sample size is  20\n",
      "The sample mean is 7.5\n",
      "The T score is -0.8423\n",
      "And the corresponding p-value is 0.4101\n"
     ]
    }
   ],
   "source": [
    "X = sample.DistanceFromHome\n",
    "\n",
    "mu0 = 9 # Change to null hypothesis mean\n",
    "alternative = 'two-sided'\n",
    "\n",
    "Tscore, pValue = stats.ttest_1samp(X, \n",
    "                                   popmean=mu0,\n",
    "                                   alternative=alternative)\n",
    "\n",
    "print(\"The sample size is {:3d}\".format(len(X)))\n",
    "print(\"The sample mean is {:.4}\".format(X.mean()))\n",
    "print(\"The T score is {:.4}\".format(Tscore))\n",
    "print(\"And the corresponding p-value is {:.4}\".format(pValue))"
   ]
  },
  {
   "cell_type": "markdown",
   "id": "fe1b791f-ac10-4672-b682-076065cf4102",
   "metadata": {},
   "source": [
    "The p-value is 0.6061. Therefore, we do not reject the null hypothesis"
   ]
  },
  {
   "cell_type": "markdown",
   "id": "faadb171-8850-49fc-ac64-6e60b61e8c05",
   "metadata": {},
   "source": [
    "#### C13\n",
    "**Considerando los empleados del departamento Research_Development vamos a hacer un modelo\n",
    "de regresión lineal para las dos variables:\n",
    "x : YearsAtCompany y : MonthlyIncome.\n",
    "Construye el modelo usando la función lm y además dibuja el diagrama de dispersión de esas variables\n",
    "junto con la recta de regresión obtenida. ¿Qué porcentaje de la variabilidad en el salario mensual se\n",
    "explica con el modelo? ¿Cuánto se incrementa el salario mensual de un empleado de ese departamento\n",
    "por cada año de antigüedad en la empresa?**"
   ]
  },
  {
   "cell_type": "markdown",
   "id": "fea2df77-1939-4a2e-8dce-2dd88ab927ce",
   "metadata": {},
   "source": [
    "First, we filter the department"
   ]
  },
  {
   "cell_type": "code",
   "execution_count": 94,
   "id": "0bb7b14b-182b-45a7-b1e5-babef58097f6",
   "metadata": {},
   "outputs": [],
   "source": [
    "rd = data[data.Department == 'Research_Development']"
   ]
  },
  {
   "cell_type": "markdown",
   "id": "8506c295-451f-4b2c-a44d-364af6f707ca",
   "metadata": {},
   "source": [
    "First, we are going to plot the two variables to see how they look like"
   ]
  },
  {
   "cell_type": "code",
   "execution_count": 99,
   "id": "d6bd8095-2e63-4478-ab7c-c16a544c59af",
   "metadata": {},
   "outputs": [
    {
     "data": {
      "image/png": "[encoded data removed]",
      "text/plain": [
       "<Figure size 864x864 with 1 Axes>"
      ]
     },
     "metadata": {},
     "output_type": "display_data"
    }
   ],
   "source": [
    "#Plot the sample\n",
    "plt.scatter(rd.YearsAtCompany, rd.MonthlyIncome, alpha=0.3)\n",
    "# And the regression line = \"predicted points\"\n",
    "plt.show()"
   ]
  },
  {
   "cell_type": "markdown",
   "id": "401faff7-d729-4108-abec-756ff91e1d78",
   "metadata": {},
   "source": [
    "At first sight, it like there is some correlation between the number of years at the company and the monthly income. However, the variance is not constant."
   ]
  },
  {
   "cell_type": "code",
   "execution_count": 101,
   "id": "3cf56688-c41a-4584-9dd4-e5c091d848a8",
   "metadata": {},
   "outputs": [
    {
     "name": "stdout",
     "output_type": "stream",
     "text": [
      "The regression line is y = 3599.45 + 386.921 x\n"
     ]
    }
   ],
   "source": [
    "# The linear regression model in Scikit requires that\n",
    "# the X array be two-dimensional. But in our case a \n",
    "# single column gives a 1D array. That is why, after\n",
    "# extracting the values from the columns we reshape it.\n",
    "X = rd.YearsAtCompany.values\n",
    "X = X[:, np.newaxis]\n",
    "\n",
    "# For Y it is enough to extract the values,\n",
    "# because Scikit already expects it to be 1D\n",
    "Y = rd.MonthlyIncome.values\n",
    "\n",
    "# Now we load the required function from the scikit module\n",
    "from sklearn.linear_model import LinearRegression\n",
    "# Create the model\n",
    "modelXY = LinearRegression(fit_intercept=True)\n",
    "# Fit the model to \n",
    "XY_fit = modelXY.fit(X, Y)\n",
    "\n",
    "# And extract the coefficients. \n",
    "# Note that b1 is returned as an array \n",
    "b1 = XY_fit.coef_[0]\n",
    "b0 = XY_fit.intercept_\n",
    "\n",
    "print(\"The regression line is y = {:.6} + {:.6} x\".format(b0, b1))"
   ]
  },
  {
   "cell_type": "markdown",
   "id": "9885c206-8d5f-4e68-ad3d-cabb2435c20a",
   "metadata": {},
   "source": [
    "The salary augments in 386.921 for every year at the company"
   ]
  },
  {
   "cell_type": "code",
   "execution_count": 114,
   "id": "0aa7ccf8-ba83-46b2-ba0f-fd0365adac5a",
   "metadata": {},
   "outputs": [
    {
     "data": {
      "image/png": "[encoded data removed]",
      "text/plain": [
       "<Figure size 864x864 with 1 Axes>"
      ]
     },
     "metadata": {},
     "output_type": "display_data"
    }
   ],
   "source": [
    "# The linspace funtion generates the grid\n",
    "X_new = np.linspace(X.min(), X.max(), num = 100)\n",
    "# Make it 2D\n",
    "X_new = X_new[:, np.newaxis]\n",
    "\n",
    "# Predict the corresponding Y-values\n",
    "Y_new = XY_fit.predict(X_new)\n",
    "\n",
    "#Plot the sample\n",
    "plt.scatter(X, Y, alpha=0.3, c = '#e377c2')\n",
    "# And the regression line = \"predicted points\"\n",
    "plt.plot(X_new, Y_new)\n",
    "plt.show()"
   ]
  },
  {
   "cell_type": "markdown",
   "id": "fb141599-a3ce-4a94-a649-4df142d21ecb",
   "metadata": {},
   "source": [
    "Scatterplot"
   ]
  },
  {
   "cell_type": "markdown",
   "id": "62034f61-29a8-42f4-83fe-fe062e73fb11",
   "metadata": {},
   "source": [
    "Here we can see the regression line"
   ]
  },
  {
   "cell_type": "code",
   "execution_count": 105,
   "id": "daa17e08-500a-4e18-8fe2-d28489d6157c",
   "metadata": {},
   "outputs": [
    {
     "data": {
      "text/html": [
       "<table class=\"simpletable\">\n",
       "<caption>OLS Regression Results</caption>\n",
       "<tr>\n",
       "  <th>Dep. Variable:</th>            <td>y</td>        <th>  R-squared:         </th> <td>   0.237</td> \n",
       "</tr>\n",
       "<tr>\n",
       "  <th>Model:</th>                   <td>OLS</td>       <th>  Adj. R-squared:    </th> <td>   0.237</td> \n",
       "</tr>\n",
       "<tr>\n",
       "  <th>Method:</th>             <td>Least Squares</td>  <th>  F-statistic:       </th> <td>   717.6</td> \n",
       "</tr>\n",
       "<tr>\n",
       "  <th>Date:</th>             <td>Sat, 15 Oct 2022</td> <th>  Prob (F-statistic):</th> <td>6.64e-138</td>\n",
       "</tr>\n",
       "<tr>\n",
       "  <th>Time:</th>                 <td>17:54:27</td>     <th>  Log-Likelihood:    </th> <td> -22599.</td> \n",
       "</tr>\n",
       "<tr>\n",
       "  <th>No. Observations:</th>      <td>  2313</td>      <th>  AIC:               </th> <td>4.520e+04</td>\n",
       "</tr>\n",
       "<tr>\n",
       "  <th>Df Residuals:</th>          <td>  2311</td>      <th>  BIC:               </th> <td>4.521e+04</td>\n",
       "</tr>\n",
       "<tr>\n",
       "  <th>Df Model:</th>              <td>     1</td>      <th>                     </th>     <td> </td>    \n",
       "</tr>\n",
       "<tr>\n",
       "  <th>Covariance Type:</th>      <td>nonrobust</td>    <th>                     </th>     <td> </td>    \n",
       "</tr>\n",
       "</table>\n",
       "<table class=\"simpletable\">\n",
       "<tr>\n",
       "    <td></td>       <th>coef</th>     <th>std err</th>      <th>t</th>      <th>P>|t|</th>  <th>[0.025</th>    <th>0.975]</th>  \n",
       "</tr>\n",
       "<tr>\n",
       "  <th>const</th> <td> 3599.4544</td> <td>  133.251</td> <td>   27.012</td> <td> 0.000</td> <td> 3338.149</td> <td> 3860.759</td>\n",
       "</tr>\n",
       "<tr>\n",
       "  <th>x1</th>    <td>  386.9214</td> <td>   14.443</td> <td>   26.789</td> <td> 0.000</td> <td>  358.598</td> <td>  415.245</td>\n",
       "</tr>\n",
       "</table>\n",
       "<table class=\"simpletable\">\n",
       "<tr>\n",
       "  <th>Omnibus:</th>       <td>597.690</td> <th>  Durbin-Watson:     </th> <td>   0.643</td> \n",
       "</tr>\n",
       "<tr>\n",
       "  <th>Prob(Omnibus):</th> <td> 0.000</td>  <th>  Jarque-Bera (JB):  </th> <td>1289.378</td> \n",
       "</tr>\n",
       "<tr>\n",
       "  <th>Skew:</th>          <td> 1.482</td>  <th>  Prob(JB):          </th> <td>1.04e-280</td>\n",
       "</tr>\n",
       "<tr>\n",
       "  <th>Kurtosis:</th>      <td> 5.142</td>  <th>  Cond. No.          </th> <td>    14.0</td> \n",
       "</tr>\n",
       "</table><br/><br/>Notes:<br/>[1] Standard Errors assume that the covariance matrix of the errors is correctly specified."
      ],
      "text/plain": [
       "<class 'statsmodels.iolib.summary.Summary'>\n",
       "\"\"\"\n",
       "                            OLS Regression Results                            \n",
       "==============================================================================\n",
       "Dep. Variable:                      y   R-squared:                       0.237\n",
       "Model:                            OLS   Adj. R-squared:                  0.237\n",
       "Method:                 Least Squares   F-statistic:                     717.6\n",
       "Date:                Sat, 15 Oct 2022   Prob (F-statistic):          6.64e-138\n",
       "Time:                        17:54:27   Log-Likelihood:                -22599.\n",
       "No. Observations:                2313   AIC:                         4.520e+04\n",
       "Df Residuals:                    2311   BIC:                         4.521e+04\n",
       "Df Model:                           1                                         \n",
       "Covariance Type:            nonrobust                                         \n",
       "==============================================================================\n",
       "                 coef    std err          t      P>|t|      [0.025      0.975]\n",
       "------------------------------------------------------------------------------\n",
       "const       3599.4544    133.251     27.012      0.000    3338.149    3860.759\n",
       "x1           386.9214     14.443     26.789      0.000     358.598     415.245\n",
       "==============================================================================\n",
       "Omnibus:                      597.690   Durbin-Watson:                   0.643\n",
       "Prob(Omnibus):                  0.000   Jarque-Bera (JB):             1289.378\n",
       "Skew:                           1.482   Prob(JB):                    1.04e-280\n",
       "Kurtosis:                       5.142   Cond. No.                         14.0\n",
       "==============================================================================\n",
       "\n",
       "Notes:\n",
       "[1] Standard Errors assume that the covariance matrix of the errors is correctly specified.\n",
       "\"\"\""
      ]
     },
     "execution_count": 105,
     "metadata": {},
     "output_type": "execute_result"
    }
   ],
   "source": [
    "import statsmodels.api as sm \n",
    "import statsmodels.formula.api as smf \n",
    "X_1 = sm.add_constant(X)\n",
    "model_DF0 = sm.OLS(Y, X_1) # OLS comes from Ordinary Least Squares\n",
    "DF0_fit = model_DF0.fit()\n",
    "DF0_fit.summary()"
   ]
  },
  {
   "cell_type": "markdown",
   "id": "ac66f1e7-a54f-40b8-9f5a-c5c1f97bca21",
   "metadata": {},
   "source": [
    "The p-value is lower than 0.05"
   ]
  },
  {
   "cell_type": "markdown",
   "id": "c222633b-89c1-4235-a9ab-adc9220791aa",
   "metadata": {},
   "source": [
    "The percentage explained is 0.237"
   ]
  },
  {
   "cell_type": "code",
   "execution_count": null,
   "id": "bad5045b-795d-42dd-a1e2-d8b5c162d659",
   "metadata": {},
   "outputs": [],
   "source": []
  }
 ],
 "metadata": {
  "kernelspec": {
   "display_name": "Python 3",
   "language": "python",
   "name": "python3"
  },
  "language_info": {
   "codemirror_mode": {
    "name": "ipython",
    "version": 3
   },
   "file_extension": ".py",
   "mimetype": "text/x-python",
   "name": "python",
   "nbconvert_exporter": "python",
   "pygments_lexer": "ipython3",
   "version": "3.8.8"
  },
  "toc-autonumbering": false,
  "toc-showcode": false,
  "toc-showmarkdowntxt": false
 },
 "nbformat": 4,
 "nbformat_minor": 5
}
