{
 "cells": [
  {
   "cell_type": "markdown",
   "id": "921cd693-fad8-4486-8a16-624c91c0543e",
   "metadata": {},
   "source": [
    "# Final exam 2021\n",
    "Maria Jose Medina Hernandez"
   ]
  },
  {
   "cell_type": "code",
   "execution_count": 1,
   "id": "eff44e08-d646-4c1a-9011-0a626a8b1b82",
   "metadata": {},
   "outputs": [],
   "source": [
    "# Imports\n",
    "import numpy as np\n",
    "import pandas as pd\n",
    "import matplotlib.pyplot as plt\n",
    "import scipy as scp\n",
    "import seaborn as sns\n",
    "import scipy.stats as stats\n",
    "import statsmodels.stats.power as smp\n",
    "\n",
    "sns.set(rc={'figure.figsize':(12, 12)})"
   ]
  },
  {
   "cell_type": "markdown",
   "id": "febb451b-e0a2-458f-83dd-b92c55adc665",
   "metadata": {},
   "source": [
    "## Data Extraction"
   ]
  },
  {
   "cell_type": "code",
   "execution_count": 31,
   "id": "a624780d-8c64-47ed-aa8b-80ee09cd079c",
   "metadata": {},
   "outputs": [
    {
     "data": {
      "text/html": [
       "<div>\n",
       "<style scoped>\n",
       "    .dataframe tbody tr th:only-of-type {\n",
       "        vertical-align: middle;\n",
       "    }\n",
       "\n",
       "    .dataframe tbody tr th {\n",
       "        vertical-align: top;\n",
       "    }\n",
       "\n",
       "    .dataframe thead th {\n",
       "        text-align: right;\n",
       "    }\n",
       "</style>\n",
       "<table border=\"1\" class=\"dataframe\">\n",
       "  <thead>\n",
       "    <tr style=\"text-align: right;\">\n",
       "      <th></th>\n",
       "      <th>Age</th>\n",
       "      <th>Attrition</th>\n",
       "      <th>BusinessTravel</th>\n",
       "      <th>Department</th>\n",
       "      <th>DistanceFromHome</th>\n",
       "      <th>Gender</th>\n",
       "      <th>JobLevel</th>\n",
       "      <th>JobRole</th>\n",
       "      <th>JobSatisfaction</th>\n",
       "      <th>MaritalStatus</th>\n",
       "      <th>...</th>\n",
       "      <th>NumCompaniesWorked</th>\n",
       "      <th>OverTime</th>\n",
       "      <th>PerformanceRating</th>\n",
       "      <th>TotalWorkingYears</th>\n",
       "      <th>TrainingTimesLastYear</th>\n",
       "      <th>YearsAtCompany</th>\n",
       "      <th>YearsInCurrentRole</th>\n",
       "      <th>RateType</th>\n",
       "      <th>Rate</th>\n",
       "      <th>Education_Field</th>\n",
       "    </tr>\n",
       "  </thead>\n",
       "  <tbody>\n",
       "    <tr>\n",
       "      <th>0</th>\n",
       "      <td>31</td>\n",
       "      <td>No</td>\n",
       "      <td>Travel_Rarely</td>\n",
       "      <td>Research_Development</td>\n",
       "      <td>23.0</td>\n",
       "      <td>Male</td>\n",
       "      <td>2</td>\n",
       "      <td>Healthcare_Representative</td>\n",
       "      <td>Very_High</td>\n",
       "      <td>Married</td>\n",
       "      <td>...</td>\n",
       "      <td>0.0</td>\n",
       "      <td>No</td>\n",
       "      <td>Outstanding</td>\n",
       "      <td>10</td>\n",
       "      <td>2</td>\n",
       "      <td>9</td>\n",
       "      <td>0</td>\n",
       "      <td>DailyRate</td>\n",
       "      <td>1463</td>\n",
       "      <td>Bachelor//Medical</td>\n",
       "    </tr>\n",
       "    <tr>\n",
       "      <th>1</th>\n",
       "      <td>31</td>\n",
       "      <td>No</td>\n",
       "      <td>Travel_Rarely</td>\n",
       "      <td>Research_Development</td>\n",
       "      <td>23.0</td>\n",
       "      <td>Male</td>\n",
       "      <td>2</td>\n",
       "      <td>Healthcare_Representative</td>\n",
       "      <td>Very_High</td>\n",
       "      <td>Married</td>\n",
       "      <td>...</td>\n",
       "      <td>0.0</td>\n",
       "      <td>No</td>\n",
       "      <td>Outstanding</td>\n",
       "      <td>10</td>\n",
       "      <td>2</td>\n",
       "      <td>9</td>\n",
       "      <td>0</td>\n",
       "      <td>HourlyRate</td>\n",
       "      <td>64</td>\n",
       "      <td>Bachelor//Medical</td>\n",
       "    </tr>\n",
       "    <tr>\n",
       "      <th>2</th>\n",
       "      <td>31</td>\n",
       "      <td>No</td>\n",
       "      <td>Travel_Rarely</td>\n",
       "      <td>Research_Development</td>\n",
       "      <td>23.0</td>\n",
       "      <td>Male</td>\n",
       "      <td>2</td>\n",
       "      <td>Healthcare_Representative</td>\n",
       "      <td>Very_High</td>\n",
       "      <td>Married</td>\n",
       "      <td>...</td>\n",
       "      <td>0.0</td>\n",
       "      <td>No</td>\n",
       "      <td>Outstanding</td>\n",
       "      <td>10</td>\n",
       "      <td>2</td>\n",
       "      <td>9</td>\n",
       "      <td>0</td>\n",
       "      <td>MonthlyRate</td>\n",
       "      <td>14408</td>\n",
       "      <td>Bachelor//Medical</td>\n",
       "    </tr>\n",
       "    <tr>\n",
       "      <th>3</th>\n",
       "      <td>31</td>\n",
       "      <td>Yes</td>\n",
       "      <td>Travel_Frequently</td>\n",
       "      <td>Research_Development</td>\n",
       "      <td>15.0</td>\n",
       "      <td>Male</td>\n",
       "      <td>1</td>\n",
       "      <td>Laboratory_Technician</td>\n",
       "      <td>High</td>\n",
       "      <td>Married</td>\n",
       "      <td>...</td>\n",
       "      <td>1.0</td>\n",
       "      <td>No</td>\n",
       "      <td>Excellent</td>\n",
       "      <td>2</td>\n",
       "      <td>5</td>\n",
       "      <td>2</td>\n",
       "      <td>2</td>\n",
       "      <td>DailyRate</td>\n",
       "      <td>874</td>\n",
       "      <td>Bachelor//Medical</td>\n",
       "    </tr>\n",
       "    <tr>\n",
       "      <th>4</th>\n",
       "      <td>31</td>\n",
       "      <td>Yes</td>\n",
       "      <td>Travel_Frequently</td>\n",
       "      <td>Research_Development</td>\n",
       "      <td>15.0</td>\n",
       "      <td>Male</td>\n",
       "      <td>1</td>\n",
       "      <td>Laboratory_Technician</td>\n",
       "      <td>High</td>\n",
       "      <td>Married</td>\n",
       "      <td>...</td>\n",
       "      <td>1.0</td>\n",
       "      <td>No</td>\n",
       "      <td>Excellent</td>\n",
       "      <td>2</td>\n",
       "      <td>5</td>\n",
       "      <td>2</td>\n",
       "      <td>2</td>\n",
       "      <td>HourlyRate</td>\n",
       "      <td>72</td>\n",
       "      <td>Bachelor//Medical</td>\n",
       "    </tr>\n",
       "  </tbody>\n",
       "</table>\n",
       "<p>5 rows × 21 columns</p>\n",
       "</div>"
      ],
      "text/plain": [
       "   Age Attrition     BusinessTravel            Department  DistanceFromHome  \\\n",
       "0   31        No      Travel_Rarely  Research_Development              23.0   \n",
       "1   31        No      Travel_Rarely  Research_Development              23.0   \n",
       "2   31        No      Travel_Rarely  Research_Development              23.0   \n",
       "3   31       Yes  Travel_Frequently  Research_Development              15.0   \n",
       "4   31       Yes  Travel_Frequently  Research_Development              15.0   \n",
       "\n",
       "  Gender  JobLevel                    JobRole JobSatisfaction MaritalStatus  \\\n",
       "0   Male         2  Healthcare_Representative       Very_High       Married   \n",
       "1   Male         2  Healthcare_Representative       Very_High       Married   \n",
       "2   Male         2  Healthcare_Representative       Very_High       Married   \n",
       "3   Male         1      Laboratory_Technician            High       Married   \n",
       "4   Male         1      Laboratory_Technician            High       Married   \n",
       "\n",
       "   ...  NumCompaniesWorked  OverTime PerformanceRating TotalWorkingYears  \\\n",
       "0  ...                 0.0        No       Outstanding                10   \n",
       "1  ...                 0.0        No       Outstanding                10   \n",
       "2  ...                 0.0        No       Outstanding                10   \n",
       "3  ...                 1.0        No         Excellent                 2   \n",
       "4  ...                 1.0        No         Excellent                 2   \n",
       "\n",
       "   TrainingTimesLastYear  YearsAtCompany  YearsInCurrentRole     RateType  \\\n",
       "0                      2               9                   0    DailyRate   \n",
       "1                      2               9                   0   HourlyRate   \n",
       "2                      2               9                   0  MonthlyRate   \n",
       "3                      5               2                   2    DailyRate   \n",
       "4                      5               2                   2   HourlyRate   \n",
       "\n",
       "    Rate    Education_Field  \n",
       "0   1463  Bachelor//Medical  \n",
       "1     64  Bachelor//Medical  \n",
       "2  14408  Bachelor//Medical  \n",
       "3    874  Bachelor//Medical  \n",
       "4     72  Bachelor//Medical  \n",
       "\n",
       "[5 rows x 21 columns]"
      ]
     },
     "execution_count": 31,
     "metadata": {},
     "output_type": "execute_result"
    }
   ],
   "source": [
    "path = 'PreviousExams/data/empleados.csv'\n",
    "data = pd.read_csv(path)\n",
    "data.head()"
   ]
  },
  {
   "cell_type": "markdown",
   "id": "b2c3fae2-38a6-4d57-8b34-d60dfdd27ca1",
   "metadata": {},
   "source": [
    "### Exercise 1"
   ]
  },
  {
   "cell_type": "markdown",
   "id": "8013a38e-765c-4bd2-a26d-621a02df223d",
   "metadata": {},
   "source": [
    "#### Q1\n",
    "**How many observations are there in the table? How many variables? Are there missing data? If the answer\n",
    "to the last question is affirmative, locate these missing data indicating in which rows and columns they are found.\n",
    "columns. Then, before proceeding further, delete the rows containing these data from the table.**"
   ]
  },
  {
   "cell_type": "code",
   "execution_count": 32,
   "id": "e9a33ea7-9e92-4c7e-af10-b2c41451d268",
   "metadata": {},
   "outputs": [
    {
     "name": "stdout",
     "output_type": "stream",
     "text": [
      "There are 3528 observations in the table\n"
     ]
    }
   ],
   "source": [
    "print(f\"There are {len(data)} observations in the table\")"
   ]
  },
  {
   "cell_type": "code",
   "execution_count": 33,
   "id": "33b3086c-70be-4746-9bd4-0bd92019c826",
   "metadata": {},
   "outputs": [
    {
     "name": "stdout",
     "output_type": "stream",
     "text": [
      "There are 21 variables in the table\n"
     ]
    }
   ],
   "source": [
    "print(f\"There are {len(data.columns)} variables in the table\")"
   ]
  },
  {
   "cell_type": "code",
   "execution_count": 34,
   "id": "143c1348-d169-4102-b4e8-b9f51457fb2e",
   "metadata": {},
   "outputs": [
    {
     "name": "stdout",
     "output_type": "stream",
     "text": [
      "<class 'pandas.core.frame.DataFrame'>\n",
      "RangeIndex: 3528 entries, 0 to 3527\n",
      "Data columns (total 21 columns):\n",
      " #   Column                 Non-Null Count  Dtype  \n",
      "---  ------                 --------------  -----  \n",
      " 0   Age                    3528 non-null   int64  \n",
      " 1   Attrition              3528 non-null   object \n",
      " 2   BusinessTravel         3528 non-null   object \n",
      " 3   Department             3528 non-null   object \n",
      " 4   DistanceFromHome       3519 non-null   float64\n",
      " 5   Gender                 3528 non-null   object \n",
      " 6   JobLevel               3528 non-null   int64  \n",
      " 7   JobRole                3528 non-null   object \n",
      " 8   JobSatisfaction        3528 non-null   object \n",
      " 9   MaritalStatus          3528 non-null   object \n",
      " 10  MonthlyIncome          3528 non-null   int64  \n",
      " 11  NumCompaniesWorked     3522 non-null   float64\n",
      " 12  OverTime               3528 non-null   object \n",
      " 13  PerformanceRating      3528 non-null   object \n",
      " 14  TotalWorkingYears      3528 non-null   int64  \n",
      " 15  TrainingTimesLastYear  3528 non-null   int64  \n",
      " 16  YearsAtCompany         3528 non-null   int64  \n",
      " 17  YearsInCurrentRole     3528 non-null   int64  \n",
      " 18  RateType               3528 non-null   object \n",
      " 19  Rate                   3528 non-null   int64  \n",
      " 20  Education_Field        3528 non-null   object \n",
      "dtypes: float64(2), int64(8), object(11)\n",
      "memory usage: 578.9+ KB\n"
     ]
    }
   ],
   "source": [
    "data.info()"
   ]
  },
  {
   "cell_type": "markdown",
   "id": "0ddcb95e-8239-466d-a56c-7df1e8e6d3eb",
   "metadata": {},
   "source": [
    "There are missing data in the columns 'DistanceFromHome' and 'NumCompaniesWorked'. The rows where this occurs are the following:"
   ]
  },
  {
   "cell_type": "code",
   "execution_count": 35,
   "id": "7d73301a-836f-4b34-b4d3-728556aaf11c",
   "metadata": {},
   "outputs": [
    {
     "name": "stdout",
     "output_type": "stream",
     "text": [
      "The rows where there is missing data are 15: Int64Index([30, 31, 32, 147, 148, 149, 897, 898, 899, 1092, 1093, 1094, 1593,\n",
      "            1594, 1595],\n",
      "           dtype='int64')\n"
     ]
    }
   ],
   "source": [
    "na_rows = data[data.DistanceFromHome.isna() | data.NumCompaniesWorked.isna()].index\n",
    "print(f\"The rows where there is missing data are {len(na_rows)}: {na_rows}\")"
   ]
  },
  {
   "cell_type": "markdown",
   "id": "678f9b9c-0cd0-4bb7-a415-5876e6254cf0",
   "metadata": {},
   "source": [
    "We delete the missing data"
   ]
  },
  {
   "cell_type": "code",
   "execution_count": 36,
   "id": "b62db1cb-2efa-446d-bfeb-5c10b7a426b2",
   "metadata": {},
   "outputs": [],
   "source": [
    "data = data.dropna()"
   ]
  },
  {
   "cell_type": "code",
   "execution_count": 38,
   "id": "96f864ef-9ccd-412b-88cc-c785452317a1",
   "metadata": {},
   "outputs": [
    {
     "data": {
      "text/plain": [
       "(3513, 21)"
      ]
     },
     "execution_count": 38,
     "metadata": {},
     "output_type": "execute_result"
    }
   ],
   "source": [
    "data.shape"
   ]
  },
  {
   "cell_type": "markdown",
   "id": "5c02bbb0-5645-4bdc-8590-39805ac95056",
   "metadata": {},
   "source": [
    "#### Q2\n",
    "**Let's look at the last three columns of the table, which are:\n",
    "RateType, Rate, Education_Field.**\n",
    "\n",
    "**In particular, you will see that the Rate and RateType columns do not meet one of the conditions that define tidy datasets, because the Rate column mixes the values of more than one\n",
    "tidy data sets, because the Rate column mixes the values of more than one variable.\n",
    "The corresponding variable is indicated in the Rate_type column. On the other hand, Education_Field\n",
    "violates another of these conditions, because each row of this table combines the values of two variables. At\n",
    "this section you should clean up the dataset using the tidyverse tools. Display\n",
    "the result using select so that the output of the code shows only the variables that have been modified in this\n",
    "modified in this section (be careful, do not modify the data when doing this!).**"
   ]
  },
  {
   "cell_type": "markdown",
   "id": "9f9ed67c-880e-4d7c-8254-ed0f6b7eb9a9",
   "metadata": {},
   "source": [
    "We look up the columns mentioned to see whats happening"
   ]
  },
  {
   "cell_type": "code",
   "execution_count": 49,
   "id": "e402b620-1676-4656-97f1-28b26a15db63",
   "metadata": {},
   "outputs": [
    {
     "data": {
      "text/html": [
       "<div>\n",
       "<style scoped>\n",
       "    .dataframe tbody tr th:only-of-type {\n",
       "        vertical-align: middle;\n",
       "    }\n",
       "\n",
       "    .dataframe tbody tr th {\n",
       "        vertical-align: top;\n",
       "    }\n",
       "\n",
       "    .dataframe thead th {\n",
       "        text-align: right;\n",
       "    }\n",
       "</style>\n",
       "<table border=\"1\" class=\"dataframe\">\n",
       "  <thead>\n",
       "    <tr style=\"text-align: right;\">\n",
       "      <th></th>\n",
       "      <th>Rate</th>\n",
       "      <th>RateType</th>\n",
       "    </tr>\n",
       "  </thead>\n",
       "  <tbody>\n",
       "    <tr>\n",
       "      <th>0</th>\n",
       "      <td>1463</td>\n",
       "      <td>DailyRate</td>\n",
       "    </tr>\n",
       "    <tr>\n",
       "      <th>1</th>\n",
       "      <td>64</td>\n",
       "      <td>HourlyRate</td>\n",
       "    </tr>\n",
       "    <tr>\n",
       "      <th>2</th>\n",
       "      <td>14408</td>\n",
       "      <td>MonthlyRate</td>\n",
       "    </tr>\n",
       "    <tr>\n",
       "      <th>3</th>\n",
       "      <td>874</td>\n",
       "      <td>DailyRate</td>\n",
       "    </tr>\n",
       "    <tr>\n",
       "      <th>4</th>\n",
       "      <td>72</td>\n",
       "      <td>HourlyRate</td>\n",
       "    </tr>\n",
       "  </tbody>\n",
       "</table>\n",
       "</div>"
      ],
      "text/plain": [
       "    Rate     RateType\n",
       "0   1463    DailyRate\n",
       "1     64   HourlyRate\n",
       "2  14408  MonthlyRate\n",
       "3    874    DailyRate\n",
       "4     72   HourlyRate"
      ]
     },
     "execution_count": 49,
     "metadata": {},
     "output_type": "execute_result"
    }
   ],
   "source": [
    "data[[\"Rate\", \"RateType\"]].head()"
   ]
  },
  {
   "cell_type": "markdown",
   "id": "259054d4-42d5-4e24-88a0-1c1be6dc2e80",
   "metadata": {},
   "source": [
    "We can see that there should be multiple columns in stead of one. We check that there are only the three values of RateType that are visible above and we create three columns accordingly"
   ]
  },
  {
   "cell_type": "code",
   "execution_count": 50,
   "id": "173426e2-eb3e-4f93-a2be-cd2f760da6a2",
   "metadata": {},
   "outputs": [
    {
     "data": {
      "text/plain": [
       "MonthlyRate    1171\n",
       "DailyRate      1171\n",
       "HourlyRate     1171\n",
       "Name: RateType, dtype: int64"
      ]
     },
     "execution_count": 50,
     "metadata": {},
     "output_type": "execute_result"
    }
   ],
   "source": [
    "data.RateType.value_counts(dropna=False)"
   ]
  },
  {
   "cell_type": "code",
   "execution_count": 53,
   "id": "9c91475f-458c-4031-b9b2-8fc3b4c0cf31",
   "metadata": {},
   "outputs": [],
   "source": [
    "data[\"HourlyRate\"] = data[data.RateType == 'HourlyRate'].Rate\n",
    "data[\"DailyRate\"] = data[data.RateType == 'DailyRate'].Rate\n",
    "data[\"MonthlyRate\"] = data[data.RateType == 'MonthlyRate'].Rate"
   ]
  },
  {
   "cell_type": "markdown",
   "id": "45bd986c-cece-4f54-8990-8500491da64b",
   "metadata": {},
   "source": [
    "We display the new columns"
   ]
  },
  {
   "cell_type": "code",
   "execution_count": 54,
   "id": "2167468c-bf66-4122-8fbd-62f37fe547b7",
   "metadata": {},
   "outputs": [
    {
     "data": {
      "text/html": [
       "<div>\n",
       "<style scoped>\n",
       "    .dataframe tbody tr th:only-of-type {\n",
       "        vertical-align: middle;\n",
       "    }\n",
       "\n",
       "    .dataframe tbody tr th {\n",
       "        vertical-align: top;\n",
       "    }\n",
       "\n",
       "    .dataframe thead th {\n",
       "        text-align: right;\n",
       "    }\n",
       "</style>\n",
       "<table border=\"1\" class=\"dataframe\">\n",
       "  <thead>\n",
       "    <tr style=\"text-align: right;\">\n",
       "      <th></th>\n",
       "      <th>HourlyRate</th>\n",
       "      <th>DailyRate</th>\n",
       "      <th>MonthlyRate</th>\n",
       "    </tr>\n",
       "  </thead>\n",
       "  <tbody>\n",
       "    <tr>\n",
       "      <th>0</th>\n",
       "      <td>NaN</td>\n",
       "      <td>1463.0</td>\n",
       "      <td>NaN</td>\n",
       "    </tr>\n",
       "    <tr>\n",
       "      <th>1</th>\n",
       "      <td>64.0</td>\n",
       "      <td>NaN</td>\n",
       "      <td>NaN</td>\n",
       "    </tr>\n",
       "    <tr>\n",
       "      <th>2</th>\n",
       "      <td>NaN</td>\n",
       "      <td>NaN</td>\n",
       "      <td>14408.0</td>\n",
       "    </tr>\n",
       "    <tr>\n",
       "      <th>3</th>\n",
       "      <td>NaN</td>\n",
       "      <td>874.0</td>\n",
       "      <td>NaN</td>\n",
       "    </tr>\n",
       "    <tr>\n",
       "      <th>4</th>\n",
       "      <td>72.0</td>\n",
       "      <td>NaN</td>\n",
       "      <td>NaN</td>\n",
       "    </tr>\n",
       "  </tbody>\n",
       "</table>\n",
       "</div>"
      ],
      "text/plain": [
       "   HourlyRate  DailyRate  MonthlyRate\n",
       "0         NaN     1463.0          NaN\n",
       "1        64.0        NaN          NaN\n",
       "2         NaN        NaN      14408.0\n",
       "3         NaN      874.0          NaN\n",
       "4        72.0        NaN          NaN"
      ]
     },
     "execution_count": 54,
     "metadata": {},
     "output_type": "execute_result"
    }
   ],
   "source": [
    "data[[\"HourlyRate\", \"DailyRate\", \"MonthlyRate\"]].head()"
   ]
  },
  {
   "cell_type": "code",
   "execution_count": 56,
   "id": "4039f734-62f2-4827-980b-8852a5b20a69",
   "metadata": {},
   "outputs": [
    {
     "data": {
      "text/plain": [
       "Bachelor//Life_Sciences            558\n",
       "Bachelor//Medical                  456\n",
       "Master//Life_Sciences              393\n",
       "College//Life_Sciences             282\n",
       "Master//Medical                    258\n",
       "College//Medical                   210\n",
       "Below_College//Medical             162\n",
       "Below_College//Life_Sciences       150\n",
       "Bachelor//Marketing                141\n",
       "Bachelor//Technical_Degree         138\n",
       "Master//Marketing                  105\n",
       "Master//Other                       87\n",
       "Master//Technical_Degree            75\n",
       "Bachelor//Other                     63\n",
       "College//Other                      57\n",
       "College//Technical_Degree           54\n",
       "College//Marketing                  48\n",
       "Doctor//Life_Sciences               48\n",
       "Bachelor//Human_Resources           45\n",
       "Below_College//Technical_Degree     42\n",
       "Doctor//Medical                     36\n",
       "Doctor//Marketing                   30\n",
       "Below_College//Marketing            27\n",
       "Master//Human_Resources             15\n",
       "Below_College//Other                12\n",
       "Doctor//Technical_Degree             9\n",
       "College//Human_Resources             6\n",
       "Doctor//Human_Resources              3\n",
       "Below_College//Human_Resources       3\n",
       "Name: Education_Field, dtype: int64"
      ]
     },
     "execution_count": 56,
     "metadata": {},
     "output_type": "execute_result"
    }
   ],
   "source": [
    "data.Education_Field.value_counts(dropna=False)"
   ]
  },
  {
   "cell_type": "code",
   "execution_count": null,
   "id": "6f6680d1-02d5-49cd-b498-87f7b9487944",
   "metadata": {},
   "outputs": [],
   "source": [
    "# new data frame with split value columns\n",
    "new = data[\"Name\"].str.split(\" \", n = 1, expand = True)\n",
    " \n",
    "# making separate first name column from new data frame\n",
    "data[\"First Name\"]= new[0]\n",
    " \n",
    "# making separate last name column from new data frame\n",
    "data[\"Last Name\"]= new[1]\n",
    " "
   ]
  },
  {
   "cell_type": "code",
   "execution_count": 94,
   "id": "171f1338-7b2d-4a13-b73c-94ca274eab22",
   "metadata": {},
   "outputs": [],
   "source": [
    "ed = data[\"Education_Field\"].str.split(pat=\"//\", expand=True) "
   ]
  },
  {
   "cell_type": "code",
   "execution_count": 95,
   "id": "15433de4-4a14-4a6f-b0cc-10db5da2b8c1",
   "metadata": {},
   "outputs": [],
   "source": [
    "data[\"EducationLevel\"] = ed[0]\n",
    "data[\"EducationField\"] = ed[1]"
   ]
  },
  {
   "cell_type": "code",
   "execution_count": 102,
   "id": "6cce5e07-83db-4277-a6ac-0a59078e3ef0",
   "metadata": {},
   "outputs": [
    {
     "data": {
      "text/html": [
       "<div>\n",
       "<style scoped>\n",
       "    .dataframe tbody tr th:only-of-type {\n",
       "        vertical-align: middle;\n",
       "    }\n",
       "\n",
       "    .dataframe tbody tr th {\n",
       "        vertical-align: top;\n",
       "    }\n",
       "\n",
       "    .dataframe thead th {\n",
       "        text-align: right;\n",
       "    }\n",
       "</style>\n",
       "<table border=\"1\" class=\"dataframe\">\n",
       "  <thead>\n",
       "    <tr style=\"text-align: right;\">\n",
       "      <th></th>\n",
       "      <th>EducationLevel</th>\n",
       "      <th>EducationField</th>\n",
       "    </tr>\n",
       "  </thead>\n",
       "  <tbody>\n",
       "    <tr>\n",
       "      <th>0</th>\n",
       "      <td>Bachelor</td>\n",
       "      <td>Medical</td>\n",
       "    </tr>\n",
       "    <tr>\n",
       "      <th>1</th>\n",
       "      <td>Bachelor</td>\n",
       "      <td>Medical</td>\n",
       "    </tr>\n",
       "    <tr>\n",
       "      <th>2</th>\n",
       "      <td>Bachelor</td>\n",
       "      <td>Medical</td>\n",
       "    </tr>\n",
       "    <tr>\n",
       "      <th>3</th>\n",
       "      <td>Bachelor</td>\n",
       "      <td>Medical</td>\n",
       "    </tr>\n",
       "    <tr>\n",
       "      <th>4</th>\n",
       "      <td>Bachelor</td>\n",
       "      <td>Medical</td>\n",
       "    </tr>\n",
       "    <tr>\n",
       "      <th>5</th>\n",
       "      <td>Bachelor</td>\n",
       "      <td>Medical</td>\n",
       "    </tr>\n",
       "    <tr>\n",
       "      <th>6</th>\n",
       "      <td>Bachelor</td>\n",
       "      <td>Medical</td>\n",
       "    </tr>\n",
       "    <tr>\n",
       "      <th>7</th>\n",
       "      <td>Bachelor</td>\n",
       "      <td>Medical</td>\n",
       "    </tr>\n",
       "    <tr>\n",
       "      <th>8</th>\n",
       "      <td>Bachelor</td>\n",
       "      <td>Medical</td>\n",
       "    </tr>\n",
       "    <tr>\n",
       "      <th>9</th>\n",
       "      <td>College</td>\n",
       "      <td>Technical_Degree</td>\n",
       "    </tr>\n",
       "  </tbody>\n",
       "</table>\n",
       "</div>"
      ],
      "text/plain": [
       "  EducationLevel    EducationField\n",
       "0       Bachelor           Medical\n",
       "1       Bachelor           Medical\n",
       "2       Bachelor           Medical\n",
       "3       Bachelor           Medical\n",
       "4       Bachelor           Medical\n",
       "5       Bachelor           Medical\n",
       "6       Bachelor           Medical\n",
       "7       Bachelor           Medical\n",
       "8       Bachelor           Medical\n",
       "9        College  Technical_Degree"
      ]
     },
     "execution_count": 102,
     "metadata": {},
     "output_type": "execute_result"
    }
   ],
   "source": [
    "data[[\"EducationLevel\", \"EducationField\"]].head(10)"
   ]
  },
  {
   "cell_type": "markdown",
   "id": "4f0c045c-162c-4835-9d76-cd372ab32703",
   "metadata": {},
   "source": [
    "#### C3\n",
    "**Once the data is cleaned: what type are the variables in the data set? Make sure that all variables in this table that have been read as character are converted to factors.\n",
    "This table that have been read as character are converted to factors. See the mutate_if\n",
    "to do this if you need to.**\n",
    "\n",
    "**Then make a list of quantitative variables and a list of qualitative variables (factors).\n",
    "Which, within the latter, are ordered factors (it is not necessary to include the order in the transformation process).?** \n",
    "\n",
    "**Then make a list of quantitative variables and a list of qualitative variables (factors).**"
   ]
  },
  {
   "cell_type": "code",
   "execution_count": 103,
   "id": "708f98c8-9a94-4024-831b-447b026d54a7",
   "metadata": {},
   "outputs": [
    {
     "name": "stdout",
     "output_type": "stream",
     "text": [
      "<class 'pandas.core.frame.DataFrame'>\n",
      "Int64Index: 3513 entries, 0 to 3527\n",
      "Data columns (total 26 columns):\n",
      " #   Column                 Non-Null Count  Dtype  \n",
      "---  ------                 --------------  -----  \n",
      " 0   Age                    3513 non-null   int64  \n",
      " 1   Attrition              3513 non-null   object \n",
      " 2   BusinessTravel         3513 non-null   object \n",
      " 3   Department             3513 non-null   object \n",
      " 4   DistanceFromHome       3513 non-null   float64\n",
      " 5   Gender                 3513 non-null   object \n",
      " 6   JobLevel               3513 non-null   int64  \n",
      " 7   JobRole                3513 non-null   object \n",
      " 8   JobSatisfaction        3513 non-null   object \n",
      " 9   MaritalStatus          3513 non-null   object \n",
      " 10  MonthlyIncome          3513 non-null   int64  \n",
      " 11  NumCompaniesWorked     3513 non-null   float64\n",
      " 12  OverTime               3513 non-null   object \n",
      " 13  PerformanceRating      3513 non-null   object \n",
      " 14  TotalWorkingYears      3513 non-null   int64  \n",
      " 15  TrainingTimesLastYear  3513 non-null   int64  \n",
      " 16  YearsAtCompany         3513 non-null   int64  \n",
      " 17  YearsInCurrentRole     3513 non-null   int64  \n",
      " 18  RateType               3513 non-null   object \n",
      " 19  Rate                   3513 non-null   int64  \n",
      " 20  Education_Field        3513 non-null   object \n",
      " 21  DailyRate              1171 non-null   float64\n",
      " 22  HourlyRate             1171 non-null   float64\n",
      " 23  MonthlyRate            1171 non-null   float64\n",
      " 24  EducationLevel         3513 non-null   object \n",
      " 25  EducationField         3513 non-null   object \n",
      "dtypes: float64(5), int64(8), object(13)\n",
      "memory usage: 870.1+ KB\n"
     ]
    }
   ],
   "source": [
    "data.info()"
   ]
  },
  {
   "cell_type": "code",
   "execution_count": 111,
   "id": "ecdb1963-bf3b-4100-bd9f-77c513340663",
   "metadata": {},
   "outputs": [
    {
     "name": "stdout",
     "output_type": "stream",
     "text": [
      "The qualitative factors are: Index(['Attrition', 'BusinessTravel', 'Department', 'Gender', 'JobRole',\n",
      "       'JobSatisfaction', 'MaritalStatus', 'OverTime', 'PerformanceRating',\n",
      "       'RateType', 'Education_Field', 'EducationLevel', 'EducationField'],\n",
      "      dtype='object')\n"
     ]
    }
   ],
   "source": [
    "print(f\"The qualitative factors are: {data.select_dtypes(include=[object]).columns}\")"
   ]
  },
  {
   "cell_type": "markdown",
   "id": "6d1cea6a-2bc5-41fe-afcc-fe81168fa7f4",
   "metadata": {},
   "source": [
    "Of those, ordered factors are: BusinessTravel, JobSatisfaction, PerformanceRating, RateType, EducationLevel"
   ]
  },
  {
   "cell_type": "markdown",
   "id": "3a976e16-c87f-4928-86f7-3e0196278823",
   "metadata": {},
   "source": [
    "## Exercise 2"
   ]
  },
  {
   "cell_type": "markdown",
   "id": "6d2ba573-e94e-4cd2-bc56-2e92fa4cdb94",
   "metadata": {},
   "source": [
    "#### C4\n",
    "**Graph the distribution of the variable age Age by means of a histogram with the density curve of the superimposed variable.\n",
    "density curve of the superimposed variable.**\n",
    "\n",
    "**Also represent a boxplot of the variable age. Optionally\n",
    "you can use a violinpot or add the sample points (in this case make sure that they do not block the boxplot).**"
   ]
  },
  {
   "cell_type": "markdown",
   "id": "de0e6bc0-a32a-4829-a53f-d751929d864a",
   "metadata": {},
   "source": [
    "Histogram with density curve superimposed"
   ]
  },
  {
   "cell_type": "code",
   "execution_count": 119,
   "id": "250414dc-8721-407f-a7f3-7f2161f9601c",
   "metadata": {},
   "outputs": [
    {
     "data": {
      "image/png": "[encoded data removed]",
      "text/plain": [
       "<Figure size 864x864 with 1 Axes>"
      ]
     },
     "metadata": {},
     "output_type": "display_data"
    }
   ],
   "source": [
    "dens_plot = sns.histplot(data = data, x = 'Age', kde=True)\n",
    "dens_plot.lines[0].set_color('red')\n",
    "dens_plot.lines[0].set_linewidth(3)"
   ]
  },
  {
   "cell_type": "markdown",
   "id": "550f5fb0-f444-4cbe-86bb-3facc486c7b7",
   "metadata": {},
   "source": [
    "Boxplot"
   ]
  },
  {
   "cell_type": "code",
   "execution_count": 121,
   "id": "230cfefd-1ef7-45bb-9219-cfee8bdee8f5",
   "metadata": {},
   "outputs": [
    {
     "data": {
      "image/png": "[encoded data removed]",
      "text/plain": [
       "<Figure size 432x576 with 1 Axes>"
      ]
     },
     "metadata": {},
     "output_type": "display_data"
    }
   ],
   "source": [
    "getPlot = data.boxplot(column='Age', figsize=(6, 8))"
   ]
  },
  {
   "cell_type": "markdown",
   "id": "5cb66e3d-326e-463a-99b2-2773260cb0f0",
   "metadata": {},
   "source": [
    "#### C5 \n",
    "**Estudia gráficamente (por ejemplo con boxplots) la relación entre la variable Age y la variable\n",
    "Attrition. ¿Influye el género en esa relación? Usa los recursos gráficos para discutir la\n",
    "respuesta, lo que se busca es un juicio inicial basado en una exploración gráfica.**"
   ]
  },
  {
   "cell_type": "code",
   "execution_count": 124,
   "id": "2be6f675-463e-4a49-a6df-ea369b5ab887",
   "metadata": {},
   "outputs": [
    {
     "data": {
      "image/png": "[encoded data removed]",
      "text/plain": [
       "<Figure size 432x576 with 1 Axes>"
      ]
     },
     "metadata": {},
     "output_type": "display_data"
    }
   ],
   "source": [
    "getPlot = data.boxplot(column='Age', by = 'Attrition', figsize=(6, 8))"
   ]
  },
  {
   "cell_type": "markdown",
   "id": "640d5925-e73d-42be-952c-954c117def6e",
   "metadata": {},
   "source": [
    "Most employees that present attrition are older"
   ]
  },
  {
   "cell_type": "code",
   "execution_count": 123,
   "id": "b170ffd4-f8ee-4d97-b3fc-30028c13d0a1",
   "metadata": {},
   "outputs": [
    {
     "data": {
      "image/png": "[encoded data removed]",
      "text/plain": [
       "<Figure size 432x576 with 1 Axes>"
      ]
     },
     "metadata": {},
     "output_type": "display_data"
    }
   ],
   "source": [
    "getPlot = data.boxplot(column='Age', by = ['Attrition', 'Gender'], figsize=(6, 8))"
   ]
  },
  {
   "cell_type": "markdown",
   "id": "0fa9f183-3116-4491-90e3-b9882109ede3",
   "metadata": {},
   "source": [
    "#### C6\n",
    "**Haz la tabla de frecuencias absolutas del factor JobSatisfaction. Después haz una representación\n",
    "gráfica adecuada de esa tabla. Opcionales:**"
   ]
  },
  {
   "cell_type": "markdown",
   "id": "ab91f93c-6f7a-4f30-b35a-371fdff0e143",
   "metadata": {},
   "source": [
    "    + **Juega con los argumentos fill y position de ggplot para incorporar al gráfico la información\n",
    "    de Attrition mediante colores.**\n",
    "    + ** ten en cuenta que JobSatisfaction es un factor ordenado y trata de incorporar esa ordenación a\n",
    "    la representación gráfica. Indicación: usa la función factor y sus argumentos levels y ordered\n",
    "    para esto.**"
   ]
  },
  {
   "cell_type": "code",
   "execution_count": 137,
   "id": "11288d76-32b7-497a-acbf-c39f2a590374",
   "metadata": {},
   "outputs": [
    {
     "data": {
      "text/plain": [
       "Very_High    1107\n",
       "High         1056\n",
       "Low           693\n",
       "Medium        657\n",
       "Name: JobSatisfaction, dtype: int64"
      ]
     },
     "execution_count": 137,
     "metadata": {},
     "output_type": "execute_result"
    }
   ],
   "source": [
    "data.JobSatisfaction.value_counts(dropna=False)"
   ]
  },
  {
   "cell_type": "code",
   "execution_count": 135,
   "id": "295ff964-de5c-44eb-be0a-d6660e905d81",
   "metadata": {},
   "outputs": [
    {
     "data": {
      "text/plain": [
       "<AxesSubplot:xlabel='JobSatisfaction', ylabel='count'>"
      ]
     },
     "execution_count": 135,
     "metadata": {},
     "output_type": "execute_result"
    },
    {
     "data": {
      "image/png": "[encoded data removed]",
      "text/plain": [
       "<Figure size 864x864 with 1 Axes>"
      ]
     },
     "metadata": {},
     "output_type": "display_data"
    }
   ],
   "source": [
    "order = [\"Low\", \"Medium\", \"High\", \"Very_High\"]\n",
    "sns.countplot(x = \"JobSatisfaction\", data = data, order = order)"
   ]
  },
  {
   "cell_type": "markdown",
   "id": "a658fd41-656a-4f2a-b8cc-cea5bd688c63",
   "metadata": {},
   "source": [
    "#### C7\n",
    "**Calcula la mediana del salario mensual para cada departamento y cada nivel dentro de ese departamento. Ordena la respuesta de mayor a menor y asegúrate de que en la tabla de salida se muestran\n",
    "las columnas relevantes.**\n"
   ]
  },
  {
   "cell_type": "code",
   "execution_count": null,
   "id": "9f219749-755e-4373-b8c1-7dfcab2cb6b0",
   "metadata": {},
   "outputs": [],
   "source": []
  },
  {
   "cell_type": "markdown",
   "id": "80d2ecbd-b906-4d42-8a52-0bdd0caf7708",
   "metadata": {},
   "source": [
    "#### C8\n",
    "**Si elegimos al azar un empleado cuyo nivel de satisfacción en el trabajo JobSatisfaction es\n",
    "VeryHigh, calcula la probabilidad de que sea soltero. Si elegimos un empleado de la empresa al azar\n",
    "¿cuál es la probabilidad de que sea una mujer que lleva más de cinco años en la empresa?**\n"
   ]
  },
  {
   "cell_type": "markdown",
   "id": "5dc57497-6062-436f-a295-2f88a967cafd",
   "metadata": {},
   "source": [
    "Probability that an employee with very high job satisfaction is single"
   ]
  },
  {
   "cell_type": "code",
   "execution_count": 140,
   "id": "5db9369a-3401-4c11-9c58-c6e1d81557c4",
   "metadata": {},
   "outputs": [
    {
     "data": {
      "text/html": [
       "<div>\n",
       "<style scoped>\n",
       "    .dataframe tbody tr th:only-of-type {\n",
       "        vertical-align: middle;\n",
       "    }\n",
       "\n",
       "    .dataframe tbody tr th {\n",
       "        vertical-align: top;\n",
       "    }\n",
       "\n",
       "    .dataframe thead th {\n",
       "        text-align: right;\n",
       "    }\n",
       "</style>\n",
       "<table border=\"1\" class=\"dataframe\">\n",
       "  <thead>\n",
       "    <tr style=\"text-align: right;\">\n",
       "      <th></th>\n",
       "      <th>Age</th>\n",
       "      <th>Attrition</th>\n",
       "      <th>BusinessTravel</th>\n",
       "      <th>Department</th>\n",
       "      <th>DistanceFromHome</th>\n",
       "      <th>Gender</th>\n",
       "      <th>JobLevel</th>\n",
       "      <th>JobRole</th>\n",
       "      <th>JobSatisfaction</th>\n",
       "      <th>MaritalStatus</th>\n",
       "      <th>...</th>\n",
       "      <th>YearsAtCompany</th>\n",
       "      <th>YearsInCurrentRole</th>\n",
       "      <th>RateType</th>\n",
       "      <th>Rate</th>\n",
       "      <th>Education_Field</th>\n",
       "      <th>DailyRate</th>\n",
       "      <th>HourlyRate</th>\n",
       "      <th>MonthlyRate</th>\n",
       "      <th>EducationLevel</th>\n",
       "      <th>EducationField</th>\n",
       "    </tr>\n",
       "  </thead>\n",
       "  <tbody>\n",
       "    <tr>\n",
       "      <th>0</th>\n",
       "      <td>31</td>\n",
       "      <td>No</td>\n",
       "      <td>Travel_Rarely</td>\n",
       "      <td>Research_Development</td>\n",
       "      <td>23.0</td>\n",
       "      <td>Male</td>\n",
       "      <td>2</td>\n",
       "      <td>Healthcare_Representative</td>\n",
       "      <td>Very_High</td>\n",
       "      <td>Married</td>\n",
       "      <td>...</td>\n",
       "      <td>9</td>\n",
       "      <td>0</td>\n",
       "      <td>DailyRate</td>\n",
       "      <td>1463</td>\n",
       "      <td>Bachelor//Medical</td>\n",
       "      <td>1463.0</td>\n",
       "      <td>NaN</td>\n",
       "      <td>NaN</td>\n",
       "      <td>Bachelor</td>\n",
       "      <td>Medical</td>\n",
       "    </tr>\n",
       "    <tr>\n",
       "      <th>1</th>\n",
       "      <td>31</td>\n",
       "      <td>No</td>\n",
       "      <td>Travel_Rarely</td>\n",
       "      <td>Research_Development</td>\n",
       "      <td>23.0</td>\n",
       "      <td>Male</td>\n",
       "      <td>2</td>\n",
       "      <td>Healthcare_Representative</td>\n",
       "      <td>Very_High</td>\n",
       "      <td>Married</td>\n",
       "      <td>...</td>\n",
       "      <td>9</td>\n",
       "      <td>0</td>\n",
       "      <td>HourlyRate</td>\n",
       "      <td>64</td>\n",
       "      <td>Bachelor//Medical</td>\n",
       "      <td>NaN</td>\n",
       "      <td>64.0</td>\n",
       "      <td>NaN</td>\n",
       "      <td>Bachelor</td>\n",
       "      <td>Medical</td>\n",
       "    </tr>\n",
       "    <tr>\n",
       "      <th>2</th>\n",
       "      <td>31</td>\n",
       "      <td>No</td>\n",
       "      <td>Travel_Rarely</td>\n",
       "      <td>Research_Development</td>\n",
       "      <td>23.0</td>\n",
       "      <td>Male</td>\n",
       "      <td>2</td>\n",
       "      <td>Healthcare_Representative</td>\n",
       "      <td>Very_High</td>\n",
       "      <td>Married</td>\n",
       "      <td>...</td>\n",
       "      <td>9</td>\n",
       "      <td>0</td>\n",
       "      <td>MonthlyRate</td>\n",
       "      <td>14408</td>\n",
       "      <td>Bachelor//Medical</td>\n",
       "      <td>NaN</td>\n",
       "      <td>NaN</td>\n",
       "      <td>14408.0</td>\n",
       "      <td>Bachelor</td>\n",
       "      <td>Medical</td>\n",
       "    </tr>\n",
       "    <tr>\n",
       "      <th>6</th>\n",
       "      <td>30</td>\n",
       "      <td>No</td>\n",
       "      <td>Non-Travel</td>\n",
       "      <td>Research_Development</td>\n",
       "      <td>2.0</td>\n",
       "      <td>Female</td>\n",
       "      <td>1</td>\n",
       "      <td>Laboratory_Technician</td>\n",
       "      <td>Very_High</td>\n",
       "      <td>Single</td>\n",
       "      <td>...</td>\n",
       "      <td>11</td>\n",
       "      <td>7</td>\n",
       "      <td>DailyRate</td>\n",
       "      <td>1116</td>\n",
       "      <td>Bachelor//Medical</td>\n",
       "      <td>1116.0</td>\n",
       "      <td>NaN</td>\n",
       "      <td>NaN</td>\n",
       "      <td>Bachelor</td>\n",
       "      <td>Medical</td>\n",
       "    </tr>\n",
       "    <tr>\n",
       "      <th>7</th>\n",
       "      <td>30</td>\n",
       "      <td>No</td>\n",
       "      <td>Non-Travel</td>\n",
       "      <td>Research_Development</td>\n",
       "      <td>2.0</td>\n",
       "      <td>Female</td>\n",
       "      <td>1</td>\n",
       "      <td>Laboratory_Technician</td>\n",
       "      <td>Very_High</td>\n",
       "      <td>Single</td>\n",
       "      <td>...</td>\n",
       "      <td>11</td>\n",
       "      <td>7</td>\n",
       "      <td>HourlyRate</td>\n",
       "      <td>49</td>\n",
       "      <td>Bachelor//Medical</td>\n",
       "      <td>NaN</td>\n",
       "      <td>49.0</td>\n",
       "      <td>NaN</td>\n",
       "      <td>Bachelor</td>\n",
       "      <td>Medical</td>\n",
       "    </tr>\n",
       "  </tbody>\n",
       "</table>\n",
       "<p>5 rows × 26 columns</p>\n",
       "</div>"
      ],
      "text/plain": [
       "   Age Attrition BusinessTravel            Department  DistanceFromHome  \\\n",
       "0   31        No  Travel_Rarely  Research_Development              23.0   \n",
       "1   31        No  Travel_Rarely  Research_Development              23.0   \n",
       "2   31        No  Travel_Rarely  Research_Development              23.0   \n",
       "6   30        No     Non-Travel  Research_Development               2.0   \n",
       "7   30        No     Non-Travel  Research_Development               2.0   \n",
       "\n",
       "   Gender  JobLevel                    JobRole JobSatisfaction MaritalStatus  \\\n",
       "0    Male         2  Healthcare_Representative       Very_High       Married   \n",
       "1    Male         2  Healthcare_Representative       Very_High       Married   \n",
       "2    Male         2  Healthcare_Representative       Very_High       Married   \n",
       "6  Female         1      Laboratory_Technician       Very_High        Single   \n",
       "7  Female         1      Laboratory_Technician       Very_High        Single   \n",
       "\n",
       "   ...  YearsAtCompany  YearsInCurrentRole     RateType   Rate  \\\n",
       "0  ...               9                   0    DailyRate   1463   \n",
       "1  ...               9                   0   HourlyRate     64   \n",
       "2  ...               9                   0  MonthlyRate  14408   \n",
       "6  ...              11                   7    DailyRate   1116   \n",
       "7  ...              11                   7   HourlyRate     49   \n",
       "\n",
       "     Education_Field  DailyRate  HourlyRate  MonthlyRate EducationLevel  \\\n",
       "0  Bachelor//Medical     1463.0         NaN          NaN       Bachelor   \n",
       "1  Bachelor//Medical        NaN        64.0          NaN       Bachelor   \n",
       "2  Bachelor//Medical        NaN         NaN      14408.0       Bachelor   \n",
       "6  Bachelor//Medical     1116.0         NaN          NaN       Bachelor   \n",
       "7  Bachelor//Medical        NaN        49.0          NaN       Bachelor   \n",
       "\n",
       "   EducationField  \n",
       "0         Medical  \n",
       "1         Medical  \n",
       "2         Medical  \n",
       "6         Medical  \n",
       "7         Medical  \n",
       "\n",
       "[5 rows x 26 columns]"
      ]
     },
     "execution_count": 140,
     "metadata": {},
     "output_type": "execute_result"
    }
   ],
   "source": [
    "vh_js = data[data.JobSatisfaction == 'Very_High']\n",
    "vh_js.head()"
   ]
  },
  {
   "cell_type": "code",
   "execution_count": 144,
   "id": "d6cccdb9-2434-49fe-aa4a-a7fa563c6fbd",
   "metadata": {},
   "outputs": [
    {
     "name": "stdout",
     "output_type": "stream",
     "text": [
      "The probability that an employee with very high satisfaction is single is 0.35501355013550134\n"
     ]
    }
   ],
   "source": [
    "p = sum(vh_js.MaritalStatus == 'Single')/len(vh_js)\n",
    "print(f\"The probability that an employee with very high satisfaction is single is {p}\")"
   ]
  },
  {
   "cell_type": "code",
   "execution_count": null,
   "id": "5cf8f38f-b6df-4436-a770-9425b7fd2bb1",
   "metadata": {},
   "outputs": [],
   "source": []
  }
 ],
 "metadata": {
  "kernelspec": {
   "display_name": "Python 3",
   "language": "python",
   "name": "python3"
  },
  "language_info": {
   "codemirror_mode": {
    "name": "ipython",
    "version": 3
   },
   "file_extension": ".py",
   "mimetype": "text/x-python",
   "name": "python",
   "nbconvert_exporter": "python",
   "pygments_lexer": "ipython3",
   "version": "3.8.8"
  }
 },
 "nbformat": 4,
 "nbformat_minor": 5
}
