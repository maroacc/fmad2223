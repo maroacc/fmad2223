{
 "cells": [
  {
   "cell_type": "markdown",
   "id": "9b01b2e6-0ff9-4392-af07-5571408a74ce",
   "metadata": {},
   "source": [
    "# Examen Final - Fundamentos Matemáticos del Análisis de Datos\n",
    "María José Medina Hernández - 201705764"
   ]
  },
  {
   "cell_type": "code",
   "execution_count": 1,
   "id": "909f769d-cb4b-46eb-a1cf-c0a8667d4683",
   "metadata": {},
   "outputs": [],
   "source": [
    "# Imports\n",
    "\n",
    "import numpy as np\n",
    "import pandas as pd\n",
    "import matplotlib.pyplot as plt\n",
    "import scipy as scp\n",
    "import seaborn as sns\n",
    "import scipy.stats as stats\n",
    "import statsmodels.stats.power as smp\n",
    "import statsmodels.api as sm \n",
    "import statsmodels.formula.api as smf \n",
    "\n",
    "sns.set(rc={'figure.figsize':(12, 12)})"
   ]
  },
  {
   "cell_type": "markdown",
   "id": "14478875-d615-4ae4-84bc-0b4f75e0253f",
   "metadata": {},
   "source": [
    "## Apartado 1"
   ]
  },
  {
   "cell_type": "code",
   "execution_count": null,
   "id": "9c4d78a8-6bda-49af-9eb1-41196b1f3346",
   "metadata": {},
   "outputs": [],
   "source": [
    "path = 'data/frami.csv' # Change\n",
    "data = pd.read_csv(path)\n",
    "data.head()"
   ]
  },
  {
   "cell_type": "markdown",
   "id": "d3757d93-6d85-4e04-a865-dd038bd99389",
   "metadata": {},
   "source": [
    "#### C1\n",
    "**¿Cuántas observaciones hay en la tabla? ¿Cuántas variables?**"
   ]
  },
  {
   "cell_type": "code",
   "execution_count": 21,
   "id": "0fc1ad15-3e63-4d39-a8ba-0da0c9197972",
   "metadata": {},
   "outputs": [
    {
     "data": {
      "text/plain": [
       "(4240, 16)"
      ]
     },
     "execution_count": 21,
     "metadata": {},
     "output_type": "execute_result"
    }
   ],
   "source": [
    "data.shape"
   ]
  },
  {
   "cell_type": "markdown",
   "id": "89fc3eb2-39d2-413e-ad49-a18fb04929b7",
   "metadata": {},
   "source": [
    "#### C2\n",
    "**¿Hay datos ausentes? ¿De qué tipo son las variables?**\n"
   ]
  },
  {
   "cell_type": "code",
   "execution_count": 22,
   "id": "095e7b18-0aeb-4736-bcf0-8fbd629f2423",
   "metadata": {},
   "outputs": [
    {
     "data": {
      "text/plain": [
       "male                 0\n",
       "age                  0\n",
       "education          105\n",
       "currentSmoker        0\n",
       "cigsPerDay          29\n",
       "BPMeds              53\n",
       "prevalentStroke      0\n",
       "prevalentHyp         0\n",
       "diabetes             0\n",
       "totChol             50\n",
       "sysBP                0\n",
       "diaBP                0\n",
       "BMI                 19\n",
       "heartRate            1\n",
       "glucose            388\n",
       "TenYearCHD           0\n",
       "dtype: int64"
      ]
     },
     "execution_count": 22,
     "metadata": {},
     "output_type": "execute_result"
    }
   ],
   "source": [
    "data_na =  data.isna()\n",
    "data_na.sum()"
   ]
  },
  {
   "cell_type": "code",
   "execution_count": 23,
   "id": "9d7950b9-3ff0-453d-87b6-eed96aa2d696",
   "metadata": {},
   "outputs": [
    {
     "name": "stdout",
     "output_type": "stream",
     "text": [
      "<class 'pandas.core.frame.DataFrame'>\n",
      "RangeIndex: 4240 entries, 0 to 4239\n",
      "Data columns (total 16 columns):\n",
      " #   Column           Non-Null Count  Dtype  \n",
      "---  ------           --------------  -----  \n",
      " 0   male             4240 non-null   int64  \n",
      " 1   age              4240 non-null   int64  \n",
      " 2   education        4135 non-null   float64\n",
      " 3   currentSmoker    4240 non-null   int64  \n",
      " 4   cigsPerDay       4211 non-null   float64\n",
      " 5   BPMeds           4187 non-null   float64\n",
      " 6   prevalentStroke  4240 non-null   int64  \n",
      " 7   prevalentHyp     4240 non-null   int64  \n",
      " 8   diabetes         4240 non-null   int64  \n",
      " 9   totChol          4190 non-null   float64\n",
      " 10  sysBP            4240 non-null   float64\n",
      " 11  diaBP            4240 non-null   float64\n",
      " 12  BMI              4221 non-null   float64\n",
      " 13  heartRate        4239 non-null   float64\n",
      " 14  glucose          3852 non-null   float64\n",
      " 15  TenYearCHD       4240 non-null   int64  \n",
      "dtypes: float64(9), int64(7)\n",
      "memory usage: 530.1 KB\n"
     ]
    }
   ],
   "source": [
    "frami.info()"
   ]
  },
  {
   "cell_type": "markdown",
   "id": "f769ea45-2d40-4824-8b87-26b6fd0f7748",
   "metadata": {},
   "source": [
    "#### C3\n",
    "**Antes de seguir adelante vamos a eliminar todas las observaciones que contienen datos ausentes.\n",
    "Asegúrate de que el conjunto de datos resultante se sigue llamando frami. ¿Cuántas observaciones han\n",
    "quedado en la tabla tras eliminar los datos ausentes?**"
   ]
  },
  {
   "cell_type": "code",
   "execution_count": 24,
   "id": "565174cf-da61-4207-8c3f-819e5e4f1f6b",
   "metadata": {},
   "outputs": [],
   "source": [
    "data.dropna(inplace=True)"
   ]
  },
  {
   "cell_type": "code",
   "execution_count": 25,
   "id": "1f220fd2-8bbb-4299-b9fd-0cb6819ae14e",
   "metadata": {},
   "outputs": [
    {
     "data": {
      "text/plain": [
       "False"
      ]
     },
     "execution_count": 25,
     "metadata": {},
     "output_type": "execute_result"
    }
   ],
   "source": [
    "np.any(data.isna())"
   ]
  },
  {
   "cell_type": "code",
   "execution_count": 26,
   "id": "9acdb0bd-ca48-43f0-bf44-197ee89134f3",
   "metadata": {},
   "outputs": [
    {
     "data": {
      "text/plain": [
       "(3658, 16)"
      ]
     },
     "execution_count": 26,
     "metadata": {},
     "output_type": "execute_result"
    }
   ],
   "source": [
    "data.shape"
   ]
  }
 ],
 "metadata": {
  "kernelspec": {
   "display_name": "Python 3",
   "language": "python",
   "name": "python3"
  },
  "language_info": {
   "codemirror_mode": {
    "name": "ipython",
    "version": 3
   },
   "file_extension": ".py",
   "mimetype": "text/x-python",
   "name": "python",
   "nbconvert_exporter": "python",
   "pygments_lexer": "ipython3",
   "version": "3.8.8"
  }
 },
 "nbformat": 4,
 "nbformat_minor": 5
}
