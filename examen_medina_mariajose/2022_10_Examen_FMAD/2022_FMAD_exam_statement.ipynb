{
 "cells": [
  {
   "cell_type": "markdown",
   "id": "0c5a8940",
   "metadata": {},
   "source": [
    "<img src='https://github.com/mbdfmad/fmad2223/raw/main/fig/vertical_COMILLAS_COLOR.jpg' style= 'width:70mm'>\n",
    "\n",
    "<h1 style='font-family: Optima;color:#ecac00'>\n",
    "Máster en Big Data. Tecnología y Analítica Avanzada (MBD).\n",
    "<a class=\"tocSkip\">\n",
    "</h1>\n",
    "\n",
    "<h1 style='font-family: Optima;color:#ecac00'>\n",
    "Fundamentos Matemáticos del Análisis de Datos (FMAD). 2022-2023.\n",
    "<a class=\"tocSkip\">\n",
    "</h1>\n",
    "\n",
    "<h1 style='font-family: Optima;color:#ecac00'>\n",
    "2022-10-17 Exam.\n",
    "<a class=\"tocSkip\">   \n",
    "</h1>  "
   ]
  },
  {
   "cell_type": "markdown",
   "id": "2f6efef2",
   "metadata": {},
   "source": [
    "<h1 style='font-family: Optima;color:red'>\n",
    "NOMBRE Y APELLIDO: María José Medina Hernández\n",
    "</h1>    "
   ]
  },
  {
   "cell_type": "markdown",
   "id": "b65620f4",
   "metadata": {},
   "source": [
    "# Instructions <a class=\"tocSkip\">\n",
    "\n",
    "+ The exam consists of a short Moodle quiz and a data analysis exercise described below in this notebook. You can access the quiz in this link:  \n",
    "    [https://sifo.comillas.edu/mod/quiz/view.php?id=2579775&forceview=1](https://sifo.comillas.edu/mod/quiz/view.php?id=2579775&forceview=1)  \n",
    "\n",
    "+ The exam quiz accounts for a 20% of the exam grade and the data analysis accounts for the remaining 80%. We recommend that you don't use more than 20-25 minutes for the quiz!\n",
    "\n",
    "+ All the questions in the exam have the same value.\n",
    "    \n",
    "+ During the exam you can use code fragments from the lectures, check your notes, go online to read documentation, etc. The only requirement is that the exam reflects your individual work.  \n",
    "    **Please take this as a warning: getting external help during the exam will not be tolerated and will have academic consequences beyond this exam.** \n",
    "    \n",
    "+ Use this notebook to answer the exam question. When you are done simply email the notebook with your answers to \n",
    "<a href=\"mailto:fsansegundo@comillas.edu?subject=FMAD exam submission\">fsansegundo@comillas.edu</a>\n",
    "    "
   ]
  },
  {
   "cell_type": "markdown",
   "id": "b9098b79",
   "metadata": {},
   "source": [
    "# Introduction to the Data Set <a class=\"tocSkip\">\n",
    "    \n",
    "+ For this exam we will be using a data set containing information about crime rates in different communities of the US in 1990. This data set has been adapted for the exam, starting from a classical example frequently used for Machine Learning models. You can find more information about this data set and the meaning of the variable names in the following link (look for the *Attribute Information* section):\n",
    "\n",
    "  [https://archive.ics.uci.edu/ml/datasets/Communities+and+Crime](https://archive.ics.uci.edu/ml/datasets/Communities+and+Crime)  \n",
    "\n",
    "+ You can download the data set using this link:\n",
    "  \n",
    "    [crimes_exam_data.csv](https://gist.githubusercontent.com/fsansegundo/513d3468f832bf9c928bdb010230447b/raw/580a33130ad481aa9ec68f07225e7c8e19a5abbe/crimes_exam_data.csv)"
   ]
  },
  {
   "cell_type": "markdown",
   "id": "389a45cc",
   "metadata": {},
   "source": [
    "# Preliminaries <a class=\"tocSkip\">"
   ]
  },
  {
   "cell_type": "markdown",
   "id": "cbddab71",
   "metadata": {},
   "source": [
    "+ We add here the import commands for the common data science libraries so you don't have to waste time importing them. **But we warned that you may need additional imports for some questions!**"
   ]
  },
  {
   "cell_type": "code",
   "execution_count": 1,
   "id": "21f19a44",
   "metadata": {},
   "outputs": [],
   "source": [
    "# Standard Data Science Libraries Import\n",
    "\n",
    "import numpy as np\n",
    "import pandas as pd\n",
    "import matplotlib.pyplot as plt\n",
    "import scipy as scp\n",
    "import seaborn as sns\n",
    "import scipy.stats as stats\n",
    "sns.set()\n",
    "import statsmodels.stats.power as smp\n",
    "import statsmodels.api as sm \n",
    "import statsmodels.formula.api as smf "
   ]
  },
  {
   "cell_type": "markdown",
   "id": "6e45d9d4",
   "metadata": {},
   "source": [
    "+ Read the data file into a pandas `DataFrame` **called `crimes`**, which we will use for the rest of the exam."
   ]
  },
  {
   "cell_type": "code",
   "execution_count": 2,
   "id": "a7b68c9f",
   "metadata": {},
   "outputs": [
    {
     "data": {
      "text/html": [
       "<div>\n",
       "<style scoped>\n",
       "    .dataframe tbody tr th:only-of-type {\n",
       "        vertical-align: middle;\n",
       "    }\n",
       "\n",
       "    .dataframe tbody tr th {\n",
       "        vertical-align: top;\n",
       "    }\n",
       "\n",
       "    .dataframe thead th {\n",
       "        text-align: right;\n",
       "    }\n",
       "</style>\n",
       "<table border=\"1\" class=\"dataframe\">\n",
       "  <thead>\n",
       "    <tr style=\"text-align: right;\">\n",
       "      <th></th>\n",
       "      <th>communityname</th>\n",
       "      <th>state</th>\n",
       "      <th>population</th>\n",
       "      <th>householdsize</th>\n",
       "      <th>agePct12t21</th>\n",
       "      <th>agePct12t29</th>\n",
       "      <th>agePct16t24</th>\n",
       "      <th>agePct65up</th>\n",
       "      <th>pctUrban</th>\n",
       "      <th>medIncome</th>\n",
       "      <th>...</th>\n",
       "      <th>murdPerPop</th>\n",
       "      <th>rapesPerPop</th>\n",
       "      <th>robbbPerPop</th>\n",
       "      <th>assaultPerPop</th>\n",
       "      <th>burglPerPop</th>\n",
       "      <th>larcPerPop</th>\n",
       "      <th>autoTheftPerPop</th>\n",
       "      <th>arsonsPerPop</th>\n",
       "      <th>ViolentCrimesPerPop</th>\n",
       "      <th>nonViolPerPop</th>\n",
       "    </tr>\n",
       "  </thead>\n",
       "  <tbody>\n",
       "    <tr>\n",
       "      <th>0</th>\n",
       "      <td>BerkeleyHeightstownship</td>\n",
       "      <td>NJ</td>\n",
       "      <td>11980</td>\n",
       "      <td>3.10</td>\n",
       "      <td>12.47</td>\n",
       "      <td>21.44</td>\n",
       "      <td>10.93</td>\n",
       "      <td>11.33</td>\n",
       "      <td>100.0</td>\n",
       "      <td>75122</td>\n",
       "      <td>...</td>\n",
       "      <td>0.0</td>\n",
       "      <td>0.00</td>\n",
       "      <td>8.20</td>\n",
       "      <td>32.81</td>\n",
       "      <td>114.85</td>\n",
       "      <td>1132.08</td>\n",
       "      <td>131.26</td>\n",
       "      <td>16.41</td>\n",
       "      <td>41.02</td>\n",
       "      <td>1394.59</td>\n",
       "    </tr>\n",
       "    <tr>\n",
       "      <th>1</th>\n",
       "      <td>Marpletownship</td>\n",
       "      <td>PA</td>\n",
       "      <td>23123</td>\n",
       "      <td>2.82</td>\n",
       "      <td>11.01</td>\n",
       "      <td>21.30</td>\n",
       "      <td>10.48</td>\n",
       "      <td>17.18</td>\n",
       "      <td>100.0</td>\n",
       "      <td>47917</td>\n",
       "      <td>...</td>\n",
       "      <td>0.0</td>\n",
       "      <td>4.25</td>\n",
       "      <td>21.26</td>\n",
       "      <td>102.05</td>\n",
       "      <td>242.37</td>\n",
       "      <td>1598.78</td>\n",
       "      <td>110.55</td>\n",
       "      <td>4.25</td>\n",
       "      <td>127.56</td>\n",
       "      <td>1955.95</td>\n",
       "    </tr>\n",
       "    <tr>\n",
       "      <th>2</th>\n",
       "      <td>Tigardcity</td>\n",
       "      <td>OR</td>\n",
       "      <td>29344</td>\n",
       "      <td>2.43</td>\n",
       "      <td>11.36</td>\n",
       "      <td>25.88</td>\n",
       "      <td>11.01</td>\n",
       "      <td>10.28</td>\n",
       "      <td>100.0</td>\n",
       "      <td>35669</td>\n",
       "      <td>...</td>\n",
       "      <td>8.3</td>\n",
       "      <td>16.60</td>\n",
       "      <td>154.95</td>\n",
       "      <td>38.74</td>\n",
       "      <td>758.14</td>\n",
       "      <td>4972.19</td>\n",
       "      <td>376.30</td>\n",
       "      <td>60.87</td>\n",
       "      <td>218.59</td>\n",
       "      <td>6167.51</td>\n",
       "    </tr>\n",
       "    <tr>\n",
       "      <th>3</th>\n",
       "      <td>Gloversvillecity</td>\n",
       "      <td>NY</td>\n",
       "      <td>16656</td>\n",
       "      <td>2.40</td>\n",
       "      <td>12.55</td>\n",
       "      <td>25.20</td>\n",
       "      <td>12.19</td>\n",
       "      <td>17.57</td>\n",
       "      <td>0.0</td>\n",
       "      <td>20580</td>\n",
       "      <td>...</td>\n",
       "      <td>0.0</td>\n",
       "      <td>57.86</td>\n",
       "      <td>57.86</td>\n",
       "      <td>190.93</td>\n",
       "      <td>1301.78</td>\n",
       "      <td>4142.56</td>\n",
       "      <td>271.93</td>\n",
       "      <td>NaN</td>\n",
       "      <td>306.64</td>\n",
       "      <td>NaN</td>\n",
       "    </tr>\n",
       "    <tr>\n",
       "      <th>4</th>\n",
       "      <td>Bemidjicity</td>\n",
       "      <td>MN</td>\n",
       "      <td>11245</td>\n",
       "      <td>2.76</td>\n",
       "      <td>24.46</td>\n",
       "      <td>40.53</td>\n",
       "      <td>28.69</td>\n",
       "      <td>12.65</td>\n",
       "      <td>0.0</td>\n",
       "      <td>17390</td>\n",
       "      <td>...</td>\n",
       "      <td>0.0</td>\n",
       "      <td>NaN</td>\n",
       "      <td>32.04</td>\n",
       "      <td>112.14</td>\n",
       "      <td>728.93</td>\n",
       "      <td>8490.87</td>\n",
       "      <td>728.93</td>\n",
       "      <td>40.05</td>\n",
       "      <td>NaN</td>\n",
       "      <td>9988.79</td>\n",
       "    </tr>\n",
       "  </tbody>\n",
       "</table>\n",
       "<p>5 rows × 23 columns</p>\n",
       "</div>"
      ],
      "text/plain": [
       "             communityname state  population  householdsize  agePct12t21  \\\n",
       "0  BerkeleyHeightstownship    NJ       11980           3.10        12.47   \n",
       "1           Marpletownship    PA       23123           2.82        11.01   \n",
       "2               Tigardcity    OR       29344           2.43        11.36   \n",
       "3         Gloversvillecity    NY       16656           2.40        12.55   \n",
       "4              Bemidjicity    MN       11245           2.76        24.46   \n",
       "\n",
       "   agePct12t29  agePct16t24  agePct65up  pctUrban  medIncome  ...  murdPerPop  \\\n",
       "0        21.44        10.93       11.33     100.0      75122  ...         0.0   \n",
       "1        21.30        10.48       17.18     100.0      47917  ...         0.0   \n",
       "2        25.88        11.01       10.28     100.0      35669  ...         8.3   \n",
       "3        25.20        12.19       17.57       0.0      20580  ...         0.0   \n",
       "4        40.53        28.69       12.65       0.0      17390  ...         0.0   \n",
       "\n",
       "   rapesPerPop  robbbPerPop  assaultPerPop  burglPerPop  larcPerPop  \\\n",
       "0         0.00         8.20          32.81       114.85     1132.08   \n",
       "1         4.25        21.26         102.05       242.37     1598.78   \n",
       "2        16.60       154.95          38.74       758.14     4972.19   \n",
       "3        57.86        57.86         190.93      1301.78     4142.56   \n",
       "4          NaN        32.04         112.14       728.93     8490.87   \n",
       "\n",
       "   autoTheftPerPop  arsonsPerPop  ViolentCrimesPerPop  nonViolPerPop  \n",
       "0           131.26         16.41                41.02        1394.59  \n",
       "1           110.55          4.25               127.56        1955.95  \n",
       "2           376.30         60.87               218.59        6167.51  \n",
       "3           271.93           NaN               306.64            NaN  \n",
       "4           728.93         40.05                  NaN        9988.79  \n",
       "\n",
       "[5 rows x 23 columns]"
      ]
     },
     "execution_count": 2,
     "metadata": {},
     "output_type": "execute_result"
    }
   ],
   "source": [
    "crimes = pd.read_csv('crimes_exam_data.csv')\n",
    "crimes.head()"
   ]
  },
  {
   "cell_type": "markdown",
   "id": "6c484c7a",
   "metadata": {},
   "source": [
    "# Questions <a class=\"tocSkip\">"
   ]
  },
  {
   "cell_type": "markdown",
   "id": "d05a033e",
   "metadata": {},
   "source": [
    "### Question 1:  <a class=\"tocSkip\">\n",
    "\n",
    "+ How many rows are there in the table? \n",
    "+ How many variables?    \n",
    "+ Which variable has the most missing data? \n",
    "    \n",
    "After answering this question **make sure to remove all rows containing missing data** from the table before proceeding to the next question.\n",
    "\n",
    "**Answer:**"
   ]
  },
  {
   "cell_type": "code",
   "execution_count": 3,
   "id": "aae91896",
   "metadata": {},
   "outputs": [
    {
     "name": "stdout",
     "output_type": "stream",
     "text": [
      "The dataset has 2215 rows and 23 columns or variables\n"
     ]
    }
   ],
   "source": [
    "print(f\"The dataset has {crimes.shape[0]} rows and {crimes.shape[1]} columns or variables\")"
   ]
  },
  {
   "cell_type": "code",
   "execution_count": 4,
   "id": "be28219d-f331-468d-b815-02136254dc46",
   "metadata": {},
   "outputs": [
    {
     "data": {
      "text/plain": [
       "ViolentCrimesPerPop    221\n",
       "rapesPerPop            208\n",
       "nonViolPerPop           97\n",
       "arsonsPerPop            91\n",
       "assaultPerPop           13\n",
       "autoTheftPerPop          3\n",
       "larcPerPop               3\n",
       "burglPerPop              3\n",
       "robbbPerPop              1\n",
       "LemasPctOfficDrugUn      0\n",
       "murdPerPop               0\n",
       "communityname            0\n",
       "state                    0\n",
       "PctPopUnderPov           0\n",
       "medIncome                0\n",
       "pctUrban                 0\n",
       "agePct65up               0\n",
       "agePct16t24              0\n",
       "agePct12t29              0\n",
       "agePct12t21              0\n",
       "householdsize            0\n",
       "population               0\n",
       "PopDens                  0\n",
       "dtype: int64"
      ]
     },
     "execution_count": 4,
     "metadata": {},
     "output_type": "execute_result"
    }
   ],
   "source": [
    "data_na =  crimes.isna()\n",
    "data_na.sum().sort_values(ascending = False)"
   ]
  },
  {
   "cell_type": "markdown",
   "id": "56615240-c3c5-4366-806b-bb41581dca15",
   "metadata": {},
   "source": [
    "The variable with most missing values is ViolentCrimesPerPop"
   ]
  },
  {
   "cell_type": "code",
   "execution_count": 5,
   "id": "ba94cce8-8033-482e-aaa4-f06ea8d8ffff",
   "metadata": {},
   "outputs": [
    {
     "data": {
      "text/plain": [
       "False"
      ]
     },
     "execution_count": 5,
     "metadata": {},
     "output_type": "execute_result"
    }
   ],
   "source": [
    "crimes.dropna(inplace=True)\n",
    "np.any(crimes.isna())"
   ]
  },
  {
   "cell_type": "markdown",
   "id": "b4297032",
   "metadata": {},
   "source": [
    "### Question 2:  <a class=\"tocSkip\">\n",
    "\n",
    "+ Show the variables in the data set and their types. If there are categorical variables identify them and convert them to that type. \n",
    "    \n",
    "**Answer:**"
   ]
  },
  {
   "cell_type": "markdown",
   "id": "fd7090fa-60ea-42c7-b38a-4001f1c48012",
   "metadata": {},
   "source": [
    "The next line shows the variables in the dataset. The type is specified in Dtype"
   ]
  },
  {
   "cell_type": "code",
   "execution_count": 6,
   "id": "8f2713bc",
   "metadata": {},
   "outputs": [
    {
     "name": "stdout",
     "output_type": "stream",
     "text": [
      "<class 'pandas.core.frame.DataFrame'>\n",
      "Int64Index: 1902 entries, 0 to 2214\n",
      "Data columns (total 23 columns):\n",
      " #   Column               Non-Null Count  Dtype  \n",
      "---  ------               --------------  -----  \n",
      " 0   communityname        1902 non-null   object \n",
      " 1   state                1902 non-null   object \n",
      " 2   population           1902 non-null   int64  \n",
      " 3   householdsize        1902 non-null   float64\n",
      " 4   agePct12t21          1902 non-null   float64\n",
      " 5   agePct12t29          1902 non-null   float64\n",
      " 6   agePct16t24          1902 non-null   float64\n",
      " 7   agePct65up           1902 non-null   float64\n",
      " 8   pctUrban             1902 non-null   float64\n",
      " 9   medIncome            1902 non-null   int64  \n",
      " 10  PctPopUnderPov       1902 non-null   float64\n",
      " 11  PopDens              1902 non-null   float64\n",
      " 12  LemasPctOfficDrugUn  1902 non-null   float64\n",
      " 13  murdPerPop           1902 non-null   float64\n",
      " 14  rapesPerPop          1902 non-null   float64\n",
      " 15  robbbPerPop          1902 non-null   float64\n",
      " 16  assaultPerPop        1902 non-null   float64\n",
      " 17  burglPerPop          1902 non-null   float64\n",
      " 18  larcPerPop           1902 non-null   float64\n",
      " 19  autoTheftPerPop      1902 non-null   float64\n",
      " 20  arsonsPerPop         1902 non-null   float64\n",
      " 21  ViolentCrimesPerPop  1902 non-null   float64\n",
      " 22  nonViolPerPop        1902 non-null   float64\n",
      "dtypes: float64(19), int64(2), object(2)\n",
      "memory usage: 356.6+ KB\n"
     ]
    }
   ],
   "source": [
    "crimes.info()"
   ]
  },
  {
   "cell_type": "markdown",
   "id": "d2375097-32ba-498b-bbe0-9cf30a1ff99d",
   "metadata": {},
   "source": [
    "There are two clearly categorical variables: communityname and state. Then, it is necessary to check the the integer variables since they could be categorical in nature. However, neither the population nor the medIncome are categories. We finally convert the categorical variables:"
   ]
  },
  {
   "cell_type": "code",
   "execution_count": 7,
   "id": "c643d38a-46e3-435f-b819-8b745105d39c",
   "metadata": {},
   "outputs": [
    {
     "name": "stdout",
     "output_type": "stream",
     "text": [
      "<class 'pandas.core.frame.DataFrame'>\n",
      "Int64Index: 1902 entries, 0 to 2214\n",
      "Data columns (total 23 columns):\n",
      " #   Column               Non-Null Count  Dtype   \n",
      "---  ------               --------------  -----   \n",
      " 0   communityname        1902 non-null   category\n",
      " 1   state                1902 non-null   category\n",
      " 2   population           1902 non-null   int64   \n",
      " 3   householdsize        1902 non-null   float64 \n",
      " 4   agePct12t21          1902 non-null   float64 \n",
      " 5   agePct12t29          1902 non-null   float64 \n",
      " 6   agePct16t24          1902 non-null   float64 \n",
      " 7   agePct65up           1902 non-null   float64 \n",
      " 8   pctUrban             1902 non-null   float64 \n",
      " 9   medIncome            1902 non-null   int64   \n",
      " 10  PctPopUnderPov       1902 non-null   float64 \n",
      " 11  PopDens              1902 non-null   float64 \n",
      " 12  LemasPctOfficDrugUn  1902 non-null   float64 \n",
      " 13  murdPerPop           1902 non-null   float64 \n",
      " 14  rapesPerPop          1902 non-null   float64 \n",
      " 15  robbbPerPop          1902 non-null   float64 \n",
      " 16  assaultPerPop        1902 non-null   float64 \n",
      " 17  burglPerPop          1902 non-null   float64 \n",
      " 18  larcPerPop           1902 non-null   float64 \n",
      " 19  autoTheftPerPop      1902 non-null   float64 \n",
      " 20  arsonsPerPop         1902 non-null   float64 \n",
      " 21  ViolentCrimesPerPop  1902 non-null   float64 \n",
      " 22  nonViolPerPop        1902 non-null   float64 \n",
      "dtypes: category(2), float64(19), int64(2)\n",
      "memory usage: 412.1 KB\n"
     ]
    }
   ],
   "source": [
    "data_objects = crimes.columns[crimes.dtypes == 'object']\n",
    "crimes[data_objects] = crimes[data_objects].astype('category', )\n",
    "crimes.info()"
   ]
  },
  {
   "cell_type": "markdown",
   "id": "34267f26",
   "metadata": {},
   "source": [
    "data_objects### Question 3:  <a class=\"tocSkip\">\n",
    "\n",
    "+ For the variables \n",
    " ```    \n",
    " 'population', 'householdsize', 'pctUrban', 'medIncome', 'PctPopUnderPov', 'PopDens'   \n",
    " ```\n",
    " (copy and paste them!) do a basic numeric summary that contains their mean, median, quartiles, sd and range (min and max).  \n",
    " *Hint:* you can do this in a single table for all those variables. \n",
    "\n",
    "+ Make a *pairplot* for all these variables.    \n",
    "    \n",
    "**Answer:**    "
   ]
  },
  {
   "cell_type": "markdown",
   "id": "6234fb6b-ccce-4916-9683-50d9736dc87c",
   "metadata": {},
   "source": [
    "Summary:"
   ]
  },
  {
   "cell_type": "code",
   "execution_count": 8,
   "id": "22cd1f0d",
   "metadata": {},
   "outputs": [
    {
     "data": {
      "text/html": [
       "<div>\n",
       "<style scoped>\n",
       "    .dataframe tbody tr th:only-of-type {\n",
       "        vertical-align: middle;\n",
       "    }\n",
       "\n",
       "    .dataframe tbody tr th {\n",
       "        vertical-align: top;\n",
       "    }\n",
       "\n",
       "    .dataframe thead th {\n",
       "        text-align: right;\n",
       "    }\n",
       "</style>\n",
       "<table border=\"1\" class=\"dataframe\">\n",
       "  <thead>\n",
       "    <tr style=\"text-align: right;\">\n",
       "      <th></th>\n",
       "      <th>population</th>\n",
       "      <th>householdsize</th>\n",
       "      <th>pctUrban</th>\n",
       "      <th>medIncome</th>\n",
       "      <th>PctPopUnderPov</th>\n",
       "      <th>PopDens</th>\n",
       "    </tr>\n",
       "  </thead>\n",
       "  <tbody>\n",
       "    <tr>\n",
       "      <th>count</th>\n",
       "      <td>1.902000e+03</td>\n",
       "      <td>1902.000000</td>\n",
       "      <td>1902.000000</td>\n",
       "      <td>1902.000000</td>\n",
       "      <td>1902.000000</td>\n",
       "      <td>1902.000000</td>\n",
       "    </tr>\n",
       "    <tr>\n",
       "      <th>mean</th>\n",
       "      <td>5.248226e+04</td>\n",
       "      <td>2.712077</td>\n",
       "      <td>69.960931</td>\n",
       "      <td>33947.199790</td>\n",
       "      <td>11.674858</td>\n",
       "      <td>2803.496793</td>\n",
       "    </tr>\n",
       "    <tr>\n",
       "      <th>std</th>\n",
       "      <td>2.060649e+05</td>\n",
       "      <td>0.347385</td>\n",
       "      <td>44.270759</td>\n",
       "      <td>13497.931524</td>\n",
       "      <td>8.477675</td>\n",
       "      <td>2944.885801</td>\n",
       "    </tr>\n",
       "    <tr>\n",
       "      <th>min</th>\n",
       "      <td>1.000500e+04</td>\n",
       "      <td>1.600000</td>\n",
       "      <td>0.000000</td>\n",
       "      <td>12908.000000</td>\n",
       "      <td>0.640000</td>\n",
       "      <td>10.000000</td>\n",
       "    </tr>\n",
       "    <tr>\n",
       "      <th>25%</th>\n",
       "      <td>1.432350e+04</td>\n",
       "      <td>2.500000</td>\n",
       "      <td>0.000000</td>\n",
       "      <td>23702.750000</td>\n",
       "      <td>4.630000</td>\n",
       "      <td>1175.925000</td>\n",
       "    </tr>\n",
       "    <tr>\n",
       "      <th>50%</th>\n",
       "      <td>2.268100e+04</td>\n",
       "      <td>2.660000</td>\n",
       "      <td>100.000000</td>\n",
       "      <td>31268.000000</td>\n",
       "      <td>9.425000</td>\n",
       "      <td>2000.700000</td>\n",
       "    </tr>\n",
       "    <tr>\n",
       "      <th>75%</th>\n",
       "      <td>4.324975e+04</td>\n",
       "      <td>2.860000</td>\n",
       "      <td>100.000000</td>\n",
       "      <td>41484.750000</td>\n",
       "      <td>17.040000</td>\n",
       "      <td>3277.375000</td>\n",
       "    </tr>\n",
       "    <tr>\n",
       "      <th>max</th>\n",
       "      <td>7.322564e+06</td>\n",
       "      <td>5.280000</td>\n",
       "      <td>100.000000</td>\n",
       "      <td>123625.000000</td>\n",
       "      <td>48.820000</td>\n",
       "      <td>44229.900000</td>\n",
       "    </tr>\n",
       "  </tbody>\n",
       "</table>\n",
       "</div>"
      ],
      "text/plain": [
       "         population  householdsize     pctUrban      medIncome  \\\n",
       "count  1.902000e+03    1902.000000  1902.000000    1902.000000   \n",
       "mean   5.248226e+04       2.712077    69.960931   33947.199790   \n",
       "std    2.060649e+05       0.347385    44.270759   13497.931524   \n",
       "min    1.000500e+04       1.600000     0.000000   12908.000000   \n",
       "25%    1.432350e+04       2.500000     0.000000   23702.750000   \n",
       "50%    2.268100e+04       2.660000   100.000000   31268.000000   \n",
       "75%    4.324975e+04       2.860000   100.000000   41484.750000   \n",
       "max    7.322564e+06       5.280000   100.000000  123625.000000   \n",
       "\n",
       "       PctPopUnderPov       PopDens  \n",
       "count     1902.000000   1902.000000  \n",
       "mean        11.674858   2803.496793  \n",
       "std          8.477675   2944.885801  \n",
       "min          0.640000     10.000000  \n",
       "25%          4.630000   1175.925000  \n",
       "50%          9.425000   2000.700000  \n",
       "75%         17.040000   3277.375000  \n",
       "max         48.820000  44229.900000  "
      ]
     },
     "execution_count": 8,
     "metadata": {},
     "output_type": "execute_result"
    }
   ],
   "source": [
    "crimes_red = crimes[['population', 'householdsize', 'pctUrban', 'medIncome', 'PctPopUnderPov', 'PopDens']]\n",
    "crimes_red.describe()"
   ]
  },
  {
   "cell_type": "markdown",
   "id": "66626db6-977d-4551-92c2-b3d2c604e682",
   "metadata": {},
   "source": [
    "Pairplot"
   ]
  },
  {
   "cell_type": "code",
   "execution_count": 31,
   "id": "e3c051e7-bdb5-48ed-a840-0b1a9f324d0e",
   "metadata": {},
   "outputs": [
    {
     "data": {
      "image/png": "[encoded data removed]",
      "text/plain": [
       "<Figure size 1080x1080 with 42 Axes>"
      ]
     },
     "metadata": {
      "needs_background": "light"
     },
     "output_type": "display_data"
    }
   ],
   "source": [
    "sns.set_style(\"white\")\n",
    "sns.pairplot(crimes_red)\n",
    "plt.show()"
   ]
  },
  {
   "cell_type": "markdown",
   "id": "8f7b0396",
   "metadata": {},
   "source": [
    "### Question 4:  <a class=\"tocSkip\">\n",
    "\n",
    "+ Create a new column called `houseSize` dividing (binning) `householdSize` in 8 levels, from 1 to 5.5 in increments of 0.5:  \n",
    "    $\\qquad\\qquad\\qquad\\qquad\\qquad (1, 1.5],\\quad (1.5, 2],\\,\\ldots\\,, (4.5, 5],\\quad (5, 5.5]$\n",
    "\n",
    "+ Make a *frequencies table* for `houseSize` containing the absolute and relative frequencies (in the same table). \n",
    "    \n",
    "+ Looking at the pair plot observe the distribution of `pctUrban`. Find the number of communities that are *not purely urban but also not purely rural*. That is, find the number of rows of the table where  `pctUrban` is *simultaneously* bigger than 10 and smaller than 90. **Discard these rows from the table, but keep the name `crimes` for the resulting table.**\n",
    "    \n",
    "+ **After doing that** create another column called `isUrban` with value `True` if `pctUrban` $\\geq 90$ and value `False` otherwise. Create a relative frequency table for `isUrban`.\n",
    "    \n",
    "\n",
    "\n",
    "**Answer:**    "
   ]
  },
  {
   "cell_type": "markdown",
   "id": "8ffe2b32-23bf-4ff5-95e5-9ee8d7462206",
   "metadata": {},
   "source": [
    "- Create new column housesize"
   ]
  },
  {
   "cell_type": "code",
   "execution_count": 9,
   "id": "bd5df8d5",
   "metadata": {},
   "outputs": [
    {
     "name": "stdout",
     "output_type": "stream",
     "text": [
      "(2.5, 3.0]    1134\n",
      "(2.0, 2.5]     482\n",
      "(3.0, 3.5]     209\n",
      "(3.5, 4.0]      44\n",
      "(4.0, 4.5]      17\n",
      "(1.5, 2.0]      12\n",
      "(4.5, 5.0]       3\n",
      "(5.0, 5.5]       1\n",
      "(1.0, 1.5]       0\n",
      "Name: houseSize, dtype: int64\n"
     ]
    }
   ],
   "source": [
    "start = 1 # Change\n",
    "stop = 6 # Change\n",
    "step = 0.5 # Change\n",
    "\n",
    "C_nodes = np.arange(start, stop, step)\n",
    "crimes['houseSize'] = pd.cut(crimes['householdsize'], bins=C_nodes, ordered=True) #Change\n",
    "print(crimes.houseSize.value_counts(dropna = False))"
   ]
  },
  {
   "cell_type": "markdown",
   "id": "11ae461a-b1cc-4083-8192-fb2fa7835d50",
   "metadata": {},
   "source": [
    "- Drop communities that are not purely urban but also not purely rural"
   ]
  },
  {
   "cell_type": "code",
   "execution_count": 10,
   "id": "e96afe00-9f71-4e90-91f6-20dfbfa17368",
   "metadata": {},
   "outputs": [
    {
     "name": "stdout",
     "output_type": "stream",
     "text": [
      "There are 131 communities that are not completely rural nor urban\n"
     ]
    },
    {
     "data": {
      "text/html": [
       "<div>\n",
       "<style scoped>\n",
       "    .dataframe tbody tr th:only-of-type {\n",
       "        vertical-align: middle;\n",
       "    }\n",
       "\n",
       "    .dataframe tbody tr th {\n",
       "        vertical-align: top;\n",
       "    }\n",
       "\n",
       "    .dataframe thead th {\n",
       "        text-align: right;\n",
       "    }\n",
       "</style>\n",
       "<table border=\"1\" class=\"dataframe\">\n",
       "  <thead>\n",
       "    <tr style=\"text-align: right;\">\n",
       "      <th></th>\n",
       "      <th>communityname</th>\n",
       "      <th>state</th>\n",
       "      <th>population</th>\n",
       "      <th>householdsize</th>\n",
       "      <th>agePct12t21</th>\n",
       "      <th>agePct12t29</th>\n",
       "      <th>agePct16t24</th>\n",
       "      <th>agePct65up</th>\n",
       "      <th>pctUrban</th>\n",
       "      <th>medIncome</th>\n",
       "      <th>...</th>\n",
       "      <th>rapesPerPop</th>\n",
       "      <th>robbbPerPop</th>\n",
       "      <th>assaultPerPop</th>\n",
       "      <th>burglPerPop</th>\n",
       "      <th>larcPerPop</th>\n",
       "      <th>autoTheftPerPop</th>\n",
       "      <th>arsonsPerPop</th>\n",
       "      <th>ViolentCrimesPerPop</th>\n",
       "      <th>nonViolPerPop</th>\n",
       "      <th>houseSize</th>\n",
       "    </tr>\n",
       "  </thead>\n",
       "  <tbody>\n",
       "    <tr>\n",
       "      <th>0</th>\n",
       "      <td>BerkeleyHeightstownship</td>\n",
       "      <td>NJ</td>\n",
       "      <td>11980</td>\n",
       "      <td>3.10</td>\n",
       "      <td>12.47</td>\n",
       "      <td>21.44</td>\n",
       "      <td>10.93</td>\n",
       "      <td>11.33</td>\n",
       "      <td>100.00</td>\n",
       "      <td>75122</td>\n",
       "      <td>...</td>\n",
       "      <td>0.00</td>\n",
       "      <td>8.20</td>\n",
       "      <td>32.81</td>\n",
       "      <td>114.85</td>\n",
       "      <td>1132.08</td>\n",
       "      <td>131.26</td>\n",
       "      <td>16.41</td>\n",
       "      <td>41.02</td>\n",
       "      <td>1394.59</td>\n",
       "      <td>(3.0, 3.5]</td>\n",
       "    </tr>\n",
       "    <tr>\n",
       "      <th>1</th>\n",
       "      <td>Marpletownship</td>\n",
       "      <td>PA</td>\n",
       "      <td>23123</td>\n",
       "      <td>2.82</td>\n",
       "      <td>11.01</td>\n",
       "      <td>21.30</td>\n",
       "      <td>10.48</td>\n",
       "      <td>17.18</td>\n",
       "      <td>100.00</td>\n",
       "      <td>47917</td>\n",
       "      <td>...</td>\n",
       "      <td>4.25</td>\n",
       "      <td>21.26</td>\n",
       "      <td>102.05</td>\n",
       "      <td>242.37</td>\n",
       "      <td>1598.78</td>\n",
       "      <td>110.55</td>\n",
       "      <td>4.25</td>\n",
       "      <td>127.56</td>\n",
       "      <td>1955.95</td>\n",
       "      <td>(2.5, 3.0]</td>\n",
       "    </tr>\n",
       "    <tr>\n",
       "      <th>2</th>\n",
       "      <td>Tigardcity</td>\n",
       "      <td>OR</td>\n",
       "      <td>29344</td>\n",
       "      <td>2.43</td>\n",
       "      <td>11.36</td>\n",
       "      <td>25.88</td>\n",
       "      <td>11.01</td>\n",
       "      <td>10.28</td>\n",
       "      <td>100.00</td>\n",
       "      <td>35669</td>\n",
       "      <td>...</td>\n",
       "      <td>16.60</td>\n",
       "      <td>154.95</td>\n",
       "      <td>38.74</td>\n",
       "      <td>758.14</td>\n",
       "      <td>4972.19</td>\n",
       "      <td>376.30</td>\n",
       "      <td>60.87</td>\n",
       "      <td>218.59</td>\n",
       "      <td>6167.51</td>\n",
       "      <td>(2.0, 2.5]</td>\n",
       "    </tr>\n",
       "    <tr>\n",
       "      <th>5</th>\n",
       "      <td>Springfieldcity</td>\n",
       "      <td>MO</td>\n",
       "      <td>140494</td>\n",
       "      <td>2.45</td>\n",
       "      <td>18.09</td>\n",
       "      <td>32.89</td>\n",
       "      <td>20.04</td>\n",
       "      <td>13.26</td>\n",
       "      <td>100.00</td>\n",
       "      <td>21577</td>\n",
       "      <td>...</td>\n",
       "      <td>50.98</td>\n",
       "      <td>90.05</td>\n",
       "      <td>297.29</td>\n",
       "      <td>1386.46</td>\n",
       "      <td>5091.64</td>\n",
       "      <td>300.60</td>\n",
       "      <td>88.72</td>\n",
       "      <td>442.95</td>\n",
       "      <td>6867.42</td>\n",
       "      <td>(2.0, 2.5]</td>\n",
       "    </tr>\n",
       "    <tr>\n",
       "      <th>6</th>\n",
       "      <td>Norwoodtown</td>\n",
       "      <td>MA</td>\n",
       "      <td>28700</td>\n",
       "      <td>2.60</td>\n",
       "      <td>11.17</td>\n",
       "      <td>27.41</td>\n",
       "      <td>12.76</td>\n",
       "      <td>14.42</td>\n",
       "      <td>100.00</td>\n",
       "      <td>42805</td>\n",
       "      <td>...</td>\n",
       "      <td>13.53</td>\n",
       "      <td>30.44</td>\n",
       "      <td>182.66</td>\n",
       "      <td>372.09</td>\n",
       "      <td>974.19</td>\n",
       "      <td>487.10</td>\n",
       "      <td>57.50</td>\n",
       "      <td>226.63</td>\n",
       "      <td>1890.88</td>\n",
       "      <td>(2.5, 3.0]</td>\n",
       "    </tr>\n",
       "    <tr>\n",
       "      <th>...</th>\n",
       "      <td>...</td>\n",
       "      <td>...</td>\n",
       "      <td>...</td>\n",
       "      <td>...</td>\n",
       "      <td>...</td>\n",
       "      <td>...</td>\n",
       "      <td>...</td>\n",
       "      <td>...</td>\n",
       "      <td>...</td>\n",
       "      <td>...</td>\n",
       "      <td>...</td>\n",
       "      <td>...</td>\n",
       "      <td>...</td>\n",
       "      <td>...</td>\n",
       "      <td>...</td>\n",
       "      <td>...</td>\n",
       "      <td>...</td>\n",
       "      <td>...</td>\n",
       "      <td>...</td>\n",
       "      <td>...</td>\n",
       "      <td>...</td>\n",
       "    </tr>\n",
       "    <tr>\n",
       "      <th>2210</th>\n",
       "      <td>Mercedcity</td>\n",
       "      <td>CA</td>\n",
       "      <td>56216</td>\n",
       "      <td>3.07</td>\n",
       "      <td>15.46</td>\n",
       "      <td>30.16</td>\n",
       "      <td>14.34</td>\n",
       "      <td>8.08</td>\n",
       "      <td>100.00</td>\n",
       "      <td>24727</td>\n",
       "      <td>...</td>\n",
       "      <td>49.46</td>\n",
       "      <td>199.50</td>\n",
       "      <td>280.29</td>\n",
       "      <td>2268.72</td>\n",
       "      <td>4225.82</td>\n",
       "      <td>806.25</td>\n",
       "      <td>56.06</td>\n",
       "      <td>545.75</td>\n",
       "      <td>7356.84</td>\n",
       "      <td>(3.0, 3.5]</td>\n",
       "    </tr>\n",
       "    <tr>\n",
       "      <th>2211</th>\n",
       "      <td>Pinevillecity</td>\n",
       "      <td>LA</td>\n",
       "      <td>12251</td>\n",
       "      <td>2.68</td>\n",
       "      <td>17.36</td>\n",
       "      <td>31.23</td>\n",
       "      <td>16.97</td>\n",
       "      <td>12.57</td>\n",
       "      <td>100.00</td>\n",
       "      <td>20321</td>\n",
       "      <td>...</td>\n",
       "      <td>33.09</td>\n",
       "      <td>8.27</td>\n",
       "      <td>82.73</td>\n",
       "      <td>860.43</td>\n",
       "      <td>4748.90</td>\n",
       "      <td>198.56</td>\n",
       "      <td>16.55</td>\n",
       "      <td>124.10</td>\n",
       "      <td>5824.44</td>\n",
       "      <td>(2.5, 3.0]</td>\n",
       "    </tr>\n",
       "    <tr>\n",
       "      <th>2212</th>\n",
       "      <td>Yucaipacity</td>\n",
       "      <td>CA</td>\n",
       "      <td>32824</td>\n",
       "      <td>2.46</td>\n",
       "      <td>11.81</td>\n",
       "      <td>20.96</td>\n",
       "      <td>9.53</td>\n",
       "      <td>20.73</td>\n",
       "      <td>100.00</td>\n",
       "      <td>27182</td>\n",
       "      <td>...</td>\n",
       "      <td>13.61</td>\n",
       "      <td>65.32</td>\n",
       "      <td>261.29</td>\n",
       "      <td>1709.26</td>\n",
       "      <td>2435.97</td>\n",
       "      <td>487.19</td>\n",
       "      <td>21.77</td>\n",
       "      <td>353.83</td>\n",
       "      <td>4654.20</td>\n",
       "      <td>(2.0, 2.5]</td>\n",
       "    </tr>\n",
       "    <tr>\n",
       "      <th>2213</th>\n",
       "      <td>Beevillecity</td>\n",
       "      <td>TX</td>\n",
       "      <td>13547</td>\n",
       "      <td>2.89</td>\n",
       "      <td>17.16</td>\n",
       "      <td>30.01</td>\n",
       "      <td>14.73</td>\n",
       "      <td>10.42</td>\n",
       "      <td>0.00</td>\n",
       "      <td>19899</td>\n",
       "      <td>...</td>\n",
       "      <td>15.71</td>\n",
       "      <td>54.98</td>\n",
       "      <td>620.48</td>\n",
       "      <td>1508.01</td>\n",
       "      <td>3722.90</td>\n",
       "      <td>102.10</td>\n",
       "      <td>7.85</td>\n",
       "      <td>691.17</td>\n",
       "      <td>5340.87</td>\n",
       "      <td>(2.5, 3.0]</td>\n",
       "    </tr>\n",
       "    <tr>\n",
       "      <th>2214</th>\n",
       "      <td>WestSacramentocity</td>\n",
       "      <td>CA</td>\n",
       "      <td>28898</td>\n",
       "      <td>2.61</td>\n",
       "      <td>12.99</td>\n",
       "      <td>25.21</td>\n",
       "      <td>11.63</td>\n",
       "      <td>12.12</td>\n",
       "      <td>99.19</td>\n",
       "      <td>23287</td>\n",
       "      <td>...</td>\n",
       "      <td>62.80</td>\n",
       "      <td>337.15</td>\n",
       "      <td>502.41</td>\n",
       "      <td>2614.53</td>\n",
       "      <td>4819.20</td>\n",
       "      <td>1338.67</td>\n",
       "      <td>66.11</td>\n",
       "      <td>918.89</td>\n",
       "      <td>8838.50</td>\n",
       "      <td>(2.5, 3.0]</td>\n",
       "    </tr>\n",
       "  </tbody>\n",
       "</table>\n",
       "<p>1771 rows × 24 columns</p>\n",
       "</div>"
      ],
      "text/plain": [
       "                communityname state  population  householdsize  agePct12t21  \\\n",
       "0     BerkeleyHeightstownship    NJ       11980           3.10        12.47   \n",
       "1              Marpletownship    PA       23123           2.82        11.01   \n",
       "2                  Tigardcity    OR       29344           2.43        11.36   \n",
       "5             Springfieldcity    MO      140494           2.45        18.09   \n",
       "6                 Norwoodtown    MA       28700           2.60        11.17   \n",
       "...                       ...   ...         ...            ...          ...   \n",
       "2210               Mercedcity    CA       56216           3.07        15.46   \n",
       "2211            Pinevillecity    LA       12251           2.68        17.36   \n",
       "2212              Yucaipacity    CA       32824           2.46        11.81   \n",
       "2213             Beevillecity    TX       13547           2.89        17.16   \n",
       "2214       WestSacramentocity    CA       28898           2.61        12.99   \n",
       "\n",
       "      agePct12t29  agePct16t24  agePct65up  pctUrban  medIncome  ...  \\\n",
       "0           21.44        10.93       11.33    100.00      75122  ...   \n",
       "1           21.30        10.48       17.18    100.00      47917  ...   \n",
       "2           25.88        11.01       10.28    100.00      35669  ...   \n",
       "5           32.89        20.04       13.26    100.00      21577  ...   \n",
       "6           27.41        12.76       14.42    100.00      42805  ...   \n",
       "...           ...          ...         ...       ...        ...  ...   \n",
       "2210        30.16        14.34        8.08    100.00      24727  ...   \n",
       "2211        31.23        16.97       12.57    100.00      20321  ...   \n",
       "2212        20.96         9.53       20.73    100.00      27182  ...   \n",
       "2213        30.01        14.73       10.42      0.00      19899  ...   \n",
       "2214        25.21        11.63       12.12     99.19      23287  ...   \n",
       "\n",
       "      rapesPerPop  robbbPerPop  assaultPerPop  burglPerPop  larcPerPop  \\\n",
       "0            0.00         8.20          32.81       114.85     1132.08   \n",
       "1            4.25        21.26         102.05       242.37     1598.78   \n",
       "2           16.60       154.95          38.74       758.14     4972.19   \n",
       "5           50.98        90.05         297.29      1386.46     5091.64   \n",
       "6           13.53        30.44         182.66       372.09      974.19   \n",
       "...           ...          ...            ...          ...         ...   \n",
       "2210        49.46       199.50         280.29      2268.72     4225.82   \n",
       "2211        33.09         8.27          82.73       860.43     4748.90   \n",
       "2212        13.61        65.32         261.29      1709.26     2435.97   \n",
       "2213        15.71        54.98         620.48      1508.01     3722.90   \n",
       "2214        62.80       337.15         502.41      2614.53     4819.20   \n",
       "\n",
       "      autoTheftPerPop  arsonsPerPop  ViolentCrimesPerPop  nonViolPerPop  \\\n",
       "0              131.26         16.41                41.02        1394.59   \n",
       "1              110.55          4.25               127.56        1955.95   \n",
       "2              376.30         60.87               218.59        6167.51   \n",
       "5              300.60         88.72               442.95        6867.42   \n",
       "6              487.10         57.50               226.63        1890.88   \n",
       "...               ...           ...                  ...            ...   \n",
       "2210           806.25         56.06               545.75        7356.84   \n",
       "2211           198.56         16.55               124.10        5824.44   \n",
       "2212           487.19         21.77               353.83        4654.20   \n",
       "2213           102.10          7.85               691.17        5340.87   \n",
       "2214          1338.67         66.11               918.89        8838.50   \n",
       "\n",
       "       houseSize  \n",
       "0     (3.0, 3.5]  \n",
       "1     (2.5, 3.0]  \n",
       "2     (2.0, 2.5]  \n",
       "5     (2.0, 2.5]  \n",
       "6     (2.5, 3.0]  \n",
       "...          ...  \n",
       "2210  (3.0, 3.5]  \n",
       "2211  (2.5, 3.0]  \n",
       "2212  (2.0, 2.5]  \n",
       "2213  (2.5, 3.0]  \n",
       "2214  (2.5, 3.0]  \n",
       "\n",
       "[1771 rows x 24 columns]"
      ]
     },
     "execution_count": 10,
     "metadata": {},
     "output_type": "execute_result"
    }
   ],
   "source": [
    "n = len(crimes[(crimes.pctUrban > 10) & (crimes.pctUrban < 90)])\n",
    "print(f\"There are {n} communities that are not completely rural nor urban\")\n",
    "crimes = crimes[(crimes.pctUrban <= 10)| (crimes.pctUrban >= 90)]\n",
    "crimes"
   ]
  },
  {
   "cell_type": "code",
   "execution_count": 11,
   "id": "a79569ef-a89e-4158-9214-1affde63c25e",
   "metadata": {},
   "outputs": [],
   "source": [
    "crimes[\"isUrban\"] = crimes.pctUrban >= 90"
   ]
  },
  {
   "cell_type": "markdown",
   "id": "c7b441e1",
   "metadata": {},
   "source": [
    "### Question 5:  <a class=\"tocSkip\">\n",
    "\n",
    "    \n",
    "+ Make a plot showing (in the same plot) a histogram and density curve for `householdSize`. For the histogram make sure to use the same bins that you used for creating `houseSize`\n",
    "    \n",
    "+ Make a boxplot of `medIncome`. How many outliers are there? What community corresponds to the first (smallest) and last outliers (use the `comunityname` variable to find out their names).  \n",
    "\n",
    "**Answer:**"
   ]
  },
  {
   "cell_type": "markdown",
   "id": "3726b945-074e-43a5-b912-e11958ba6fd8",
   "metadata": {},
   "source": [
    "Density curve + histogram of householdsize"
   ]
  },
  {
   "cell_type": "code",
   "execution_count": 12,
   "id": "29578bed",
   "metadata": {},
   "outputs": [
    {
     "data": {
      "image/png": "[encoded data removed]",
      "text/plain": [
       "<Figure size 432x288 with 1 Axes>"
      ]
     },
     "metadata": {
      "needs_background": "light"
     },
     "output_type": "display_data"
    }
   ],
   "source": [
    "dens_plot = sns.histplot(data = crimes, x = 'householdsize', kde=True, bins=C_nodes)\n",
    "dens_plot.lines[0].set_color('red')\n",
    "dens_plot.lines[0].set_linewidth(3)"
   ]
  },
  {
   "cell_type": "markdown",
   "id": "0c9872c1-3231-4cfd-973e-4ae8eab3e463",
   "metadata": {},
   "source": [
    "Boxplot:"
   ]
  },
  {
   "cell_type": "code",
   "execution_count": 13,
   "id": "00de4632-b0f6-4069-962e-fb6b5e216ce5",
   "metadata": {},
   "outputs": [
    {
     "data": {
      "image/png": "[encoded data removed]",
      "text/plain": [
       "<Figure size 432x576 with 1 Axes>"
      ]
     },
     "metadata": {
      "needs_background": "light"
     },
     "output_type": "display_data"
    }
   ],
   "source": [
    "getPlot = crimes.boxplot(column='medIncome', figsize=(6, 8))"
   ]
  },
  {
   "cell_type": "code",
   "execution_count": 14,
   "id": "bffce012-fbd3-46d9-9e44-3c1c82b50737",
   "metadata": {},
   "outputs": [
    {
     "name": "stdout",
     "output_type": "stream",
     "text": [
      "q1: 23269.5\n",
      "q2: 39886.5\n",
      "There are 42 outliers, that occupy the following positions in the dataset: [   0  156  192  217  252  317  334  432  437  441  528  557  597  625\n",
      "  680  778  840  919  935  940 1002 1100 1174 1254 1258 1262 1314 1460\n",
      " 1508 1552 1590 1596 1600 1640 1775 1828 1890 1892 1947 2000 2105 2190]\n",
      "The first outlier is Ramseyborough and the last is Hillsboroughtown\n"
     ]
    }
   ],
   "source": [
    "q1 = crimes.medIncome.describe()[\"25%\"]\n",
    "q3 = crimes.medIncome.describe()[\"75%\"]\n",
    "print(f\"q1: {q1}\")\n",
    "print(f\"q2: {q3}\")\n",
    "IQR = q3 - q1\n",
    "outliers = crimes[((crimes.medIncome<(q1-1.5*IQR)) | (crimes.medIncome>(q3+1.5*IQR)))]\n",
    "print(f\"There are {len(outliers)} outliers, that occupy the following positions in the dataset: {outliers.index.values}\")\n",
    "ouliers_sorted = outliers.sort_values(by = 'medIncome').communityname.values\n",
    "print(f\"The first outlier is {ouliers_sorted[0]} and the last is {ouliers_sorted[-1]}\")"
   ]
  },
  {
   "cell_type": "markdown",
   "id": "8711622b",
   "metadata": {},
   "source": [
    "### Question 6:  <a class=\"tocSkip\">\n",
    "    \n",
    "    \n",
    "+ Find the total population for each state, adding up the observations in the table corresponding to that state. \n",
    "\n",
    "+ Create a new data set containing only the data corresponding to the five most populated states. Call that new data set `crimesTop5`.\n",
    "\n",
    "<hr style='border: 1px dashed blue'>\n",
    "    \n",
    "**Before gsort_valuesn:** make sure that you create a list called `top5names` with the names of the top 5 most populated states. For example, this could be \n",
    "```\n",
    "top5Names = ['DC', 'FL', 'PA', 'TX', 'FL']    \n",
    "```\n",
    "(but it is not! you have to find the real one)  Then, when you have created the list, run this code to remove the levels for the non top 5 states:\n",
    "```    \n",
    "top5_cat = pd.CategoricalDtype(top5Names)\n",
    "crimesTop5 = crimesTop5.copy()\n",
    "crimesTop5['state'] = crimesTop5.state.astype(top5_cat)    \n",
    "```    \n",
    "<hr style='border: 1px dashed blue'>    \n",
    "    \n",
    "+ After doing that, and using the data in `crimesTop5`, find the median by state of `ViolentCrimesPerPop`. Also choose a good plot to visualize the (possible) relation between these two variables.  \n",
    " **Optional:** Make a graphic judgment: does this relation depend on the `isUrban` variable?\n",
    "\n",
    "**Answer:**"
   ]
  },
  {
   "cell_type": "markdown",
   "id": "9f2b51ac-5f94-47a7-923a-af321789f124",
   "metadata": {},
   "source": [
    "The population of each state:"
   ]
  },
  {
   "cell_type": "code",
   "execution_count": 15,
   "id": "c274972e",
   "metadata": {},
   "outputs": [
    {
     "data": {
      "text/plain": [
       "state\n",
       "AK      283932\n",
       "AL     1039876\n",
       "AR      816863\n",
       "AZ     2516233\n",
       "CA    21957110\n",
       "CO     1935534\n",
       "CT     1956828\n",
       "DC      606900\n",
       "DE       27630\n",
       "FL     4594142\n",
       "GA     1601370\n",
       "IA      346066\n",
       "ID      196903\n",
       "IN     2371482\n",
       "KY      802721\n",
       "LA      953776\n",
       "MA     2666766\n",
       "MD      926761\n",
       "ME      350790\n",
       "MN       99028\n",
       "MO     1546912\n",
       "MS      623259\n",
       "NC     2049543\n",
       "ND      264422\n",
       "NH      449349\n",
       "NJ     5311587\n",
       "NM      582205\n",
       "NV      469654\n",
       "NY     9075692\n",
       "OH     4362745\n",
       "OK     1727382\n",
       "OR     1329209\n",
       "PA     3938166\n",
       "RI      701455\n",
       "SC      791754\n",
       "SD      207635\n",
       "TN     1641471\n",
       "TX     8571622\n",
       "UT      809808\n",
       "VA     2164076\n",
       "WA     1911658\n",
       "WI     2316142\n",
       "WV      347532\n",
       "WY      150894\n",
       "Name: population, dtype: int64"
      ]
     },
     "execution_count": 15,
     "metadata": {},
     "output_type": "execute_result"
    }
   ],
   "source": [
    "state_pop = crimes.groupby('state').population.sum()\n",
    "state_pop"
   ]
  },
  {
   "cell_type": "markdown",
   "id": "af30034f-5842-483f-ba44-df95f40602eb",
   "metadata": {},
   "source": [
    "The 5 most populated states are:"
   ]
  },
  {
   "cell_type": "code",
   "execution_count": 19,
   "id": "aff6c71f-19fe-4dbc-a394-abd7590dd9d9",
   "metadata": {},
   "outputs": [
    {
     "data": {
      "text/plain": [
       "['CA', 'NY', 'TX', 'NJ', 'FL']"
      ]
     },
     "execution_count": 19,
     "metadata": {},
     "output_type": "execute_result"
    }
   ],
   "source": [
    "top5Names = list(state_pop.sort_values(ascending=False).index[:5])\n",
    "top5Names"
   ]
  },
  {
   "cell_type": "markdown",
   "id": "9a7d43a5-dc62-4c19-afc8-e91206eb210f",
   "metadata": {},
   "source": [
    "New dataset crimesTop5:"
   ]
  },
  {
   "cell_type": "code",
   "execution_count": 17,
   "id": "e760bf5b-7e98-4ef9-8051-0fa1f7ef067a",
   "metadata": {},
   "outputs": [
    {
     "name": "stdout",
     "output_type": "stream",
     "text": [
      "['NJ', 'TX', 'CA', 'NY', 'FL']\n",
      "Categories (5, object): ['NJ', 'TX', 'CA', 'NY', 'FL']\n"
     ]
    },
    {
     "data": {
      "text/html": [
       "<div>\n",
       "<style scoped>\n",
       "    .dataframe tbody tr th:only-of-type {\n",
       "        vertical-align: middle;\n",
       "    }\n",
       "\n",
       "    .dataframe tbody tr th {\n",
       "        vertical-align: top;\n",
       "    }\n",
       "\n",
       "    .dataframe thead th {\n",
       "        text-align: right;\n",
       "    }\n",
       "</style>\n",
       "<table border=\"1\" class=\"dataframe\">\n",
       "  <thead>\n",
       "    <tr style=\"text-align: right;\">\n",
       "      <th></th>\n",
       "      <th>communityname</th>\n",
       "      <th>state</th>\n",
       "      <th>population</th>\n",
       "      <th>householdsize</th>\n",
       "      <th>agePct12t21</th>\n",
       "      <th>agePct12t29</th>\n",
       "      <th>agePct16t24</th>\n",
       "      <th>agePct65up</th>\n",
       "      <th>pctUrban</th>\n",
       "      <th>medIncome</th>\n",
       "      <th>...</th>\n",
       "      <th>robbbPerPop</th>\n",
       "      <th>assaultPerPop</th>\n",
       "      <th>burglPerPop</th>\n",
       "      <th>larcPerPop</th>\n",
       "      <th>autoTheftPerPop</th>\n",
       "      <th>arsonsPerPop</th>\n",
       "      <th>ViolentCrimesPerPop</th>\n",
       "      <th>nonViolPerPop</th>\n",
       "      <th>houseSize</th>\n",
       "      <th>isUrban</th>\n",
       "    </tr>\n",
       "  </thead>\n",
       "  <tbody>\n",
       "    <tr>\n",
       "      <th>0</th>\n",
       "      <td>BerkeleyHeightstownship</td>\n",
       "      <td>NJ</td>\n",
       "      <td>11980</td>\n",
       "      <td>3.10</td>\n",
       "      <td>12.47</td>\n",
       "      <td>21.44</td>\n",
       "      <td>10.93</td>\n",
       "      <td>11.33</td>\n",
       "      <td>100.0</td>\n",
       "      <td>75122</td>\n",
       "      <td>...</td>\n",
       "      <td>8.20</td>\n",
       "      <td>32.81</td>\n",
       "      <td>114.85</td>\n",
       "      <td>1132.08</td>\n",
       "      <td>131.26</td>\n",
       "      <td>16.41</td>\n",
       "      <td>41.02</td>\n",
       "      <td>1394.59</td>\n",
       "      <td>(3.0, 3.5]</td>\n",
       "      <td>True</td>\n",
       "    </tr>\n",
       "    <tr>\n",
       "      <th>9</th>\n",
       "      <td>Wacocity</td>\n",
       "      <td>TX</td>\n",
       "      <td>103590</td>\n",
       "      <td>2.62</td>\n",
       "      <td>19.88</td>\n",
       "      <td>34.55</td>\n",
       "      <td>21.62</td>\n",
       "      <td>13.12</td>\n",
       "      <td>100.0</td>\n",
       "      <td>17852</td>\n",
       "      <td>...</td>\n",
       "      <td>419.89</td>\n",
       "      <td>966.77</td>\n",
       "      <td>2221.81</td>\n",
       "      <td>5673.63</td>\n",
       "      <td>991.80</td>\n",
       "      <td>16.68</td>\n",
       "      <td>1544.24</td>\n",
       "      <td>8903.93</td>\n",
       "      <td>(2.5, 3.0]</td>\n",
       "      <td>True</td>\n",
       "    </tr>\n",
       "    <tr>\n",
       "      <th>10</th>\n",
       "      <td>Shermancity</td>\n",
       "      <td>TX</td>\n",
       "      <td>31601</td>\n",
       "      <td>2.54</td>\n",
       "      <td>15.73</td>\n",
       "      <td>28.57</td>\n",
       "      <td>15.16</td>\n",
       "      <td>14.26</td>\n",
       "      <td>100.0</td>\n",
       "      <td>24763</td>\n",
       "      <td>...</td>\n",
       "      <td>220.96</td>\n",
       "      <td>407.69</td>\n",
       "      <td>1456.49</td>\n",
       "      <td>5654.80</td>\n",
       "      <td>469.94</td>\n",
       "      <td>18.67</td>\n",
       "      <td>722.02</td>\n",
       "      <td>7599.90</td>\n",
       "      <td>(2.5, 3.0]</td>\n",
       "      <td>True</td>\n",
       "    </tr>\n",
       "    <tr>\n",
       "      <th>11</th>\n",
       "      <td>SanPablocity</td>\n",
       "      <td>CA</td>\n",
       "      <td>25158</td>\n",
       "      <td>2.89</td>\n",
       "      <td>13.65</td>\n",
       "      <td>28.82</td>\n",
       "      <td>13.23</td>\n",
       "      <td>9.44</td>\n",
       "      <td>100.0</td>\n",
       "      <td>25479</td>\n",
       "      <td>...</td>\n",
       "      <td>1143.81</td>\n",
       "      <td>1340.00</td>\n",
       "      <td>1769.39</td>\n",
       "      <td>5404.40</td>\n",
       "      <td>1591.71</td>\n",
       "      <td>74.03</td>\n",
       "      <td>2605.96</td>\n",
       "      <td>8839.53</td>\n",
       "      <td>(2.5, 3.0]</td>\n",
       "      <td>True</td>\n",
       "    </tr>\n",
       "    <tr>\n",
       "      <th>17</th>\n",
       "      <td>Glendalecity</td>\n",
       "      <td>CA</td>\n",
       "      <td>180038</td>\n",
       "      <td>2.62</td>\n",
       "      <td>12.04</td>\n",
       "      <td>26.68</td>\n",
       "      <td>12.37</td>\n",
       "      <td>11.54</td>\n",
       "      <td>100.0</td>\n",
       "      <td>34372</td>\n",
       "      <td>...</td>\n",
       "      <td>197.91</td>\n",
       "      <td>154.42</td>\n",
       "      <td>889.74</td>\n",
       "      <td>2509.23</td>\n",
       "      <td>806.68</td>\n",
       "      <td>40.70</td>\n",
       "      <td>374.07</td>\n",
       "      <td>4246.34</td>\n",
       "      <td>(2.5, 3.0]</td>\n",
       "      <td>True</td>\n",
       "    </tr>\n",
       "  </tbody>\n",
       "</table>\n",
       "<p>5 rows × 25 columns</p>\n",
       "</div>"
      ],
      "text/plain": [
       "              communityname state  population  householdsize  agePct12t21  \\\n",
       "0   BerkeleyHeightstownship    NJ       11980           3.10        12.47   \n",
       "9                  Wacocity    TX      103590           2.62        19.88   \n",
       "10              Shermancity    TX       31601           2.54        15.73   \n",
       "11             SanPablocity    CA       25158           2.89        13.65   \n",
       "17             Glendalecity    CA      180038           2.62        12.04   \n",
       "\n",
       "    agePct12t29  agePct16t24  agePct65up  pctUrban  medIncome  ...  \\\n",
       "0         21.44        10.93       11.33     100.0      75122  ...   \n",
       "9         34.55        21.62       13.12     100.0      17852  ...   \n",
       "10        28.57        15.16       14.26     100.0      24763  ...   \n",
       "11        28.82        13.23        9.44     100.0      25479  ...   \n",
       "17        26.68        12.37       11.54     100.0      34372  ...   \n",
       "\n",
       "    robbbPerPop  assaultPerPop  burglPerPop  larcPerPop  autoTheftPerPop  \\\n",
       "0          8.20          32.81       114.85     1132.08           131.26   \n",
       "9        419.89         966.77      2221.81     5673.63           991.80   \n",
       "10       220.96         407.69      1456.49     5654.80           469.94   \n",
       "11      1143.81        1340.00      1769.39     5404.40          1591.71   \n",
       "17       197.91         154.42       889.74     2509.23           806.68   \n",
       "\n",
       "    arsonsPerPop  ViolentCrimesPerPop  nonViolPerPop   houseSize  isUrban  \n",
       "0          16.41                41.02        1394.59  (3.0, 3.5]     True  \n",
       "9          16.68              1544.24        8903.93  (2.5, 3.0]     True  \n",
       "10         18.67               722.02        7599.90  (2.5, 3.0]     True  \n",
       "11         74.03              2605.96        8839.53  (2.5, 3.0]     True  \n",
       "17         40.70               374.07        4246.34  (2.5, 3.0]     True  \n",
       "\n",
       "[5 rows x 25 columns]"
      ]
     },
     "execution_count": 17,
     "metadata": {},
     "output_type": "execute_result"
    }
   ],
   "source": [
    "crimesTop5 = crimes[crimes.state.isin(top5Names)]\n",
    "crimesTop5.state.value_counts(dropna = False)\n",
    "print(crimesTop5.state.unique())\n",
    "crimesTop5.head()"
   ]
  },
  {
   "cell_type": "code",
   "execution_count": 20,
   "id": "bb66e410-c713-46d5-97d1-b81e3c25b710",
   "metadata": {},
   "outputs": [],
   "source": [
    "top5_cat = pd.CategoricalDtype(top5Names)\n",
    "crimesTop5 = crimesTop5.copy()\n",
    "crimesTop5['state'] = crimesTop5.state.astype(top5_cat)"
   ]
  },
  {
   "cell_type": "code",
   "execution_count": 21,
   "id": "12f0b309-2c10-482b-a9a9-f9a0e54c342e",
   "metadata": {},
   "outputs": [
    {
     "data": {
      "text/plain": [
       "CA    278\n",
       "NJ    183\n",
       "TX    152\n",
       "FL     90\n",
       "NY     29\n",
       "Name: state, dtype: int64"
      ]
     },
     "execution_count": 21,
     "metadata": {},
     "output_type": "execute_result"
    }
   ],
   "source": [
    "crimesTop5.state.value_counts()"
   ]
  },
  {
   "cell_type": "markdown",
   "id": "b9415680-e121-4876-8a2b-6d3142a45fff",
   "metadata": {},
   "source": [
    "Median of ViolentCrimesPerPop by state:"
   ]
  },
  {
   "cell_type": "code",
   "execution_count": 22,
   "id": "3f89d02d-f347-4649-8585-a3cd227309fb",
   "metadata": {},
   "outputs": [
    {
     "data": {
      "text/plain": [
       "state\n",
       "CA    641.840\n",
       "NY    426.710\n",
       "TX    495.865\n",
       "NJ    233.220\n",
       "FL    965.520\n",
       "Name: ViolentCrimesPerPop, dtype: float64"
      ]
     },
     "execution_count": 22,
     "metadata": {},
     "output_type": "execute_result"
    }
   ],
   "source": [
    "vcrimes_state = crimesTop5.groupby('state').ViolentCrimesPerPop.median()\n",
    "vcrimes_state"
   ]
  },
  {
   "cell_type": "markdown",
   "id": "2258e516-fab9-4ae5-89cd-2221cc19b561",
   "metadata": {},
   "source": [
    "Bar plot:"
   ]
  },
  {
   "cell_type": "code",
   "execution_count": 23,
   "id": "175d49af-5bdc-40e0-aa2b-0eeefbb99927",
   "metadata": {},
   "outputs": [
    {
     "data": {
      "text/plain": [
       "<BarContainer object of 5 artists>"
      ]
     },
     "execution_count": 23,
     "metadata": {},
     "output_type": "execute_result"
    },
    {
     "data": {
      "image/png": "[encoded data removed]",
      "text/plain": [
       "<Figure size 432x288 with 1 Axes>"
      ]
     },
     "metadata": {
      "needs_background": "light"
     },
     "output_type": "display_data"
    }
   ],
   "source": [
    "plt.bar(x = vcrimes_state.index, height=vcrimes_state.values)"
   ]
  },
  {
   "cell_type": "markdown",
   "id": "5856d20d-113a-4634-99bb-714a36cac1b5",
   "metadata": {},
   "source": [
    "The state that has the most violent crimes per population is Florida (FL), then California (CA), Texas (TX), New York (NY) and, finally, New Jersey (NJ)"
   ]
  },
  {
   "cell_type": "markdown",
   "id": "9ea44e3b",
   "metadata": {},
   "source": [
    "### Question 7:  <a class=\"tocSkip\">\n",
    "\n",
    "+ If we randomly pick a community whose `PopDens` is *below-average* (lower than the mean `PopDens` for all communities), find the probability `p` that  its `robbbPerPop` value is less than 30. \n",
    "    \n",
    "+ Using the previous result: suppose that we take a random sample (with replacement) of 15  *below-average* `PopDens` communities. What is the **theoretical** probability that **5 or more** of them will have a `robbbPerPop` value less than 30. \n",
    "\n",
    "+ Check that result using a simulation where you take $N = 10000$ samples, each of them with 15 *below-average* `PopDens` communities and find the relative frequency of the event:  5 or more of them have a `robbbPerPop` value less than 30.    \n",
    "    \n",
    "**Answer:**"
   ]
  },
  {
   "cell_type": "code",
   "execution_count": 24,
   "id": "3bd307b3",
   "metadata": {},
   "outputs": [
    {
     "name": "stdout",
     "output_type": "stream",
     "text": [
      "The mean for the population density is: 2961.826595143989\n",
      "The probability that the robbbPerPop is below 30 given that the population density is below average is 0.2767191383595692\n"
     ]
    }
   ],
   "source": [
    "meanPopDens = crimes.PopDens.mean()\n",
    "print(f\"The mean for the population density is: {meanPopDens}\")\n",
    "low_pop_dens = crimes[crimes.PopDens < meanPopDens]\n",
    "p = sum(low_pop_dens.robbbPerPop < 30)/len(low_pop_dens)\n",
    "print(f\"The probability that the robbbPerPop is below 30 given that the population density is below average is {p}\")"
   ]
  },
  {
   "cell_type": "code",
   "execution_count": 25,
   "id": "d57fc1d8-4d09-4061-9952-e2c90da198f5",
   "metadata": {},
   "outputs": [
    {
     "name": "stdout",
     "output_type": "stream",
     "text": [
      "The theoretical probability that 5 or more will have a robbbPerPop under 30 is 0.4041187617249587\n"
     ]
    }
   ],
   "source": [
    "n = 15\n",
    "r = 4\n",
    "p = p\n",
    "p_5orMore = stats.binom.sf(r, n = n, p = p)\n",
    "print(f\"The theoretical probability that 5 or more will have a robbbPerPop under 30 is {p_5orMore}\")"
   ]
  },
  {
   "cell_type": "code",
   "execution_count": 26,
   "id": "bfbaf1a7-d241-4f59-bdea-bf2b1324b41e",
   "metadata": {},
   "outputs": [],
   "source": [
    "N = 10000 # Number of iterations of the experiment\n",
    "n = 15 # number of communities\n",
    "sample = crimes.sample(n*N, replace = True) # We sample n employees with replacement N times\n",
    "samples = sample.robbbPerPop.values.reshape([n, N]) # We reshape the sample into a nxN matrix in order to keep the experiments separated"
   ]
  },
  {
   "cell_type": "code",
   "execution_count": 28,
   "id": "3135990c-2f7f-47b3-93bd-8d891e2e7d21",
   "metadata": {},
   "outputs": [
    {
     "data": {
      "text/plain": [
       "0.2281"
      ]
     },
     "execution_count": 28,
     "metadata": {},
     "output_type": "execute_result"
    }
   ],
   "source": [
    "rob_less_30 = sum(samples < 30)\n",
    "sum(rob_less_30 >= 5)/N"
   ]
  },
  {
   "cell_type": "markdown",
   "id": "6571611c-7e82-4ee1-a8e3-af9436fae13b",
   "metadata": {},
   "source": [
    "The theoretical probability is higher that the experimental one. Therefore, they probably are not independent"
   ]
  },
  {
   "cell_type": "markdown",
   "id": "d52f6204",
   "metadata": {},
   "source": [
    "### Question 8:  <a class=\"tocSkip\">\n",
    "\n",
    "+ Using the whole `crimes` data set. Find the two states with the lowest and highest median values for `PctPopUnderPov`. Then find the two 95% confidence intervals for the means of `assaultPerPop` for each of these two states. What is your conclussion? \n",
    "    \n",
    "**Answer:**"
   ]
  },
  {
   "cell_type": "code",
   "execution_count": 53,
   "id": "368a2b37-1e41-4e42-83e1-d9a6d1d4c304",
   "metadata": {},
   "outputs": [
    {
     "data": {
      "text/plain": [
       "state\n",
       "CT     3.870\n",
       "NJ     4.140\n",
       "MA     5.100\n",
       "PA     5.780\n",
       "MN     5.985\n",
       "RI     6.675\n",
       "NH     6.705\n",
       "AK     7.070\n",
       "WI     7.500\n",
       "UT     8.275\n",
       "OH     8.595\n",
       "MO     8.895\n",
       "CA     9.145\n",
       "NV     9.285\n",
       "WY     9.690\n",
       "FL    10.375\n",
       "IN    10.515\n",
       "CO    11.050\n",
       "ME    11.470\n",
       "VA    11.525\n",
       "DE    12.450\n",
       "SD    12.820\n",
       "IA    12.890\n",
       "WA    13.010\n",
       "AZ    13.035\n",
       "ND    13.965\n",
       "OR    14.530\n",
       "NY    14.710\n",
       "ID    15.340\n",
       "OK    15.480\n",
       "MD    15.820\n",
       "NC    16.005\n",
       "TN    16.560\n",
       "DC    16.870\n",
       "SC    17.050\n",
       "TX    17.350\n",
       "AR    17.500\n",
       "WV    17.895\n",
       "KY    18.295\n",
       "AL    19.520\n",
       "GA    21.330\n",
       "NM    22.290\n",
       "MS    25.070\n",
       "LA    26.170\n",
       "Name: PctPopUnderPov, dtype: float64"
      ]
     },
     "execution_count": 53,
     "metadata": {},
     "output_type": "execute_result"
    }
   ],
   "source": [
    "state_pov = crimes.groupby('state').PctPopUnderPov.median().sort_values()\n",
    "state_pov"
   ]
  },
  {
   "cell_type": "markdown",
   "id": "0158c11c-ab36-4cb3-bcf2-03c9f33c7a83",
   "metadata": {},
   "source": [
    "The state with the lowest percentage of population under poverty is CT with 3.870. the highest is LA with 26.170."
   ]
  },
  {
   "cell_type": "markdown",
   "id": "d3142c62-a6c5-4603-90dd-37d24091db2d",
   "metadata": {},
   "source": [
    "- Confidence interval for CT:"
   ]
  },
  {
   "cell_type": "code",
   "execution_count": 55,
   "id": "ae2ad83c-b1b8-4dda-bf9c-a6950c2319b3",
   "metadata": {},
   "outputs": [
    {
     "name": "stdout",
     "output_type": "stream",
     "text": [
      "The confidence interval is  [4.37789132 7.54388646]\n",
      "Rounded to 4 digits: [4.378, 7.544]\n"
     ]
    }
   ],
   "source": [
    "CT = crimes[crimes.state == 'CT']\n",
    "n = len(CT)\n",
    "barX = CT.PctPopUnderPov.mean()\n",
    "s = CT.PctPopUnderPov.std()\n",
    "\n",
    "# Short version of the critical point computation:\n",
    "cl = 0.95 # Change\n",
    "alpha = 1 - cl\n",
    "crit_point = stats.norm.isf(alpha/2, loc = 0, scale = 1)\n",
    "\n",
    "conf_int = barX + np.array([-1, 1]) * crit_point * s / np.sqrt(n)\n",
    "print(\"The confidence interval is \", conf_int)\n",
    "print(\"Rounded to 4 digits: [{:.4}, {:.4}]\".format(conf_int[0], conf_int[1]))"
   ]
  },
  {
   "cell_type": "markdown",
   "id": "cdbb7fa3-47f9-4604-8e35-8303c4730a95",
   "metadata": {},
   "source": [
    "- Confidence interval for LA "
   ]
  },
  {
   "cell_type": "code",
   "execution_count": 57,
   "id": "25efb734-9f3b-43a4-812d-352e0cc9b6b9",
   "metadata": {},
   "outputs": [
    {
     "name": "stdout",
     "output_type": "stream",
     "text": [
      "The confidence interval is  [22.6836404  29.99530697]\n",
      "Rounded to 4 digits: [22.68, 30.0]\n"
     ]
    }
   ],
   "source": [
    "LA = crimes[crimes.state == 'LA']\n",
    "n = len(LA)\n",
    "barX = LA.PctPopUnderPov.mean()\n",
    "s = LA.PctPopUnderPov.std()\n",
    "\n",
    "# Short version of the critical point computation:\n",
    "cl = 0.95 # Change\n",
    "alpha = 1 - cl\n",
    "crit_point = stats.norm.isf(alpha/2, loc = 0, scale = 1)\n",
    "\n",
    "conf_int = barX + np.array([-1, 1]) * crit_point * s / np.sqrt(n)\n",
    "print(\"The confidence interval is \", conf_int)\n",
    "print(\"Rounded to 4 digits: [{:.4}, {:.4}]\".format(conf_int[0], conf_int[1]))"
   ]
  },
  {
   "cell_type": "markdown",
   "id": "77fb2607-d27f-4544-95f9-6b5c1e2c7ed1",
   "metadata": {},
   "source": [
    "The number of assaults is higher in the states where poverty is higher. Therefore, is is possible that poverty and this type of crime are linked"
   ]
  },
  {
   "cell_type": "markdown",
   "id": "30d8a0ef",
   "metadata": {},
   "source": [
    "### Question 9:  <a class=\"tocSkip\">\n",
    "\n",
    "+ Using the whole `crimes` data set. Find $\\mu_0$, the mean of `autoTheftPerPop` for those communities where `pctUrban < 10` (equivalently, `isUrban` is `False`). \n",
    "    \n",
    "+ Take a random sample (with replacement) of 30 communities with `pctUrban >= 90` (equivalently, `isUrban` is `True`) and use it to test (95% significance level) the **alternative hypothesis:** the mean `autoTheftPerPop` for urban communities is higher than $\\mu_0$. Make sure to set `random_state=2022` in the pandas `sample` method (or the equivalent `random.seed` if you use NumPy) to ensure the reproducibility of the sample. \n",
    "    \n",
    "+ **Optional:** consider the sample above as a *pilot study*. What sample size (number of communities) would you need to get 80% power in a test of the same hypothesis, if you want a precision $\\delta = 50$ with significance level equal = 95%.  \n",
    "\n",
    "**Answer:**\n",
    "    \n"
   ]
  },
  {
   "cell_type": "code",
   "execution_count": 31,
   "id": "e358428b",
   "metadata": {},
   "outputs": [
    {
     "name": "stdout",
     "output_type": "stream",
     "text": [
      "The mean for autoTheftPerPop for rural communities is 282.0624574669187\n"
     ]
    }
   ],
   "source": [
    "rural = crimes[crimes.isUrban == False]\n",
    "mu0 = rural.autoTheftPerPop.mean()\n",
    "print(f\"The mean for autoTheftPerPop for rural communities is {mu0}\")"
   ]
  },
  {
   "cell_type": "code",
   "execution_count": 32,
   "id": "c862c3b4-341e-42b8-bd84-500fe1ce8993",
   "metadata": {},
   "outputs": [],
   "source": [
    "urban = crimes[crimes.isUrban]\n",
    "np.random.seed(2022)\n",
    "urban_sample =  urban.sample(30, replace = True)"
   ]
  },
  {
   "cell_type": "code",
   "execution_count": 33,
   "id": "488558aa-f8ac-423f-aac1-07859cfe58b6",
   "metadata": {},
   "outputs": [
    {
     "name": "stdout",
     "output_type": "stream",
     "text": [
      "The sample size is  30\n",
      "The sample mean is 671.5\n",
      "The T score is 4.056\n",
      "And the corresponding p-value is 0.0001718\n"
     ]
    }
   ],
   "source": [
    "X = urban_sample.autoTheftPerPop\n",
    "\n",
    "mu0 = mu0\n",
    "alternative = \"greater\" # Change to alternative hypothesis: less, greater or two-sided\n",
    "\n",
    "Tscore, pValue = stats.ttest_1samp(X, \n",
    "                                   popmean=mu0,\n",
    "                                   alternative=alternative)\n",
    "\n",
    "print(\"The sample size is {:3d}\".format(len(X)))\n",
    "print(\"The sample mean is {:.4}\".format(X.mean()))\n",
    "print(\"The T score is {:.4}\".format(Tscore))\n",
    "print(\"And the corresponding p-value is {:.4}\".format(pValue))"
   ]
  },
  {
   "cell_type": "markdown",
   "id": "f450c07a-6d81-4e59-b6f0-a6ad77eb7c97",
   "metadata": {},
   "source": [
    "The p-value is lower than 0.05. Therefore, we can reject the null hypothesis and we can confirm that the mean for autoTheftPerPop is higher in urban communities."
   ]
  },
  {
   "cell_type": "code",
   "execution_count": 34,
   "id": "8066d387-df6c-472a-af4a-b0db2cbdf59b",
   "metadata": {},
   "outputs": [
    {
     "ename": "TypeError",
     "evalue": "ttest_power() got an unexpected keyword argument 'power'",
     "output_type": "error",
     "traceback": [
      "\u001b[1;31m---------------------------------------------------------------------------\u001b[0m",
      "\u001b[1;31mTypeError\u001b[0m                                 Traceback (most recent call last)",
      "\u001b[1;32m<ipython-input-34-876ea7388f0e>\u001b[0m in \u001b[0;36m<module>\u001b[1;34m\u001b[0m\n\u001b[0;32m      3\u001b[0m \u001b[0malpha\u001b[0m \u001b[1;33m=\u001b[0m \u001b[1;36m0.05\u001b[0m \u001b[1;31m# Change\u001b[0m\u001b[1;33m\u001b[0m\u001b[1;33m\u001b[0m\u001b[0m\n\u001b[0;32m      4\u001b[0m \u001b[0mpower\u001b[0m \u001b[1;33m=\u001b[0m \u001b[1;36m0.8\u001b[0m\u001b[1;33m\u001b[0m\u001b[1;33m\u001b[0m\u001b[0m\n\u001b[1;32m----> 5\u001b[1;33m n = smp.ttest_power(effect_size = delta / sd, \n\u001b[0m\u001b[0;32m      6\u001b[0m                 power=power, alpha=alpha, alternative=\"larger\")\n\u001b[0;32m      7\u001b[0m \u001b[1;33m\u001b[0m\u001b[0m\n",
      "\u001b[1;31mTypeError\u001b[0m: ttest_power() got an unexpected keyword argument 'power'"
     ]
    }
   ],
   "source": [
    "delta = 50 # Change\n",
    "sd = urban_sample.std() # Change\n",
    "alpha = 0.05 # Change\n",
    "power = 0.8\n",
    "n = smp.ttest_power(effect_size = delta / sd, \n",
    "                power=power, alpha=alpha, alternative=\"larger\")\n",
    "\n",
    "print(\"The power for the test is {:.3}\".format(power))"
   ]
  },
  {
   "cell_type": "markdown",
   "id": "6f637616",
   "metadata": {},
   "source": [
    "### Question 10:  <a class=\"tocSkip\">\n",
    "\n",
    "+ Consider only the  communities from the state of California (CA). Make a linear regression model for the variables:  \n",
    "  $x:$ `autoTheftPerPop`  \n",
    "  $y:$ `robbbPerPop`  \n",
    "     \n",
    "+ What percentage of variability in the response is explained by the model? \n",
    "+ What is the increment in `robbPerPop` for each unit increment in `autoTheftPerPop`?\n",
    "+ Make a scatter plot of these two variables along with the regression line. \n",
    "+ What is the predicted `robbPerPop` in a community with `autoTheftPerPop = 800`    \n",
    "+ What is the first residual of the model (the residual for the first observation)? \n",
    "\n",
    "**Answer:**"
   ]
  },
  {
   "cell_type": "code",
   "execution_count": 69,
   "id": "b0d0fd67",
   "metadata": {},
   "outputs": [],
   "source": [
    "CA = crimes[crimes.state == 'CA']"
   ]
  },
  {
   "cell_type": "code",
   "execution_count": 72,
   "id": "fe827acf-047d-498f-9ab4-ef0702846fae",
   "metadata": {},
   "outputs": [
    {
     "data": {
      "text/html": [
       "<table class=\"simpletable\">\n",
       "<caption>OLS Regression Results</caption>\n",
       "<tr>\n",
       "  <th>Dep. Variable:</th>       <td>robbbPerPop</td>   <th>  R-squared:         </th> <td>   0.605</td>\n",
       "</tr>\n",
       "<tr>\n",
       "  <th>Model:</th>                   <td>OLS</td>       <th>  Adj. R-squared:    </th> <td>   0.603</td>\n",
       "</tr>\n",
       "<tr>\n",
       "  <th>Method:</th>             <td>Least Squares</td>  <th>  F-statistic:       </th> <td>   422.5</td>\n",
       "</tr>\n",
       "<tr>\n",
       "  <th>Date:</th>             <td>Mon, 17 Oct 2022</td> <th>  Prob (F-statistic):</th> <td>1.39e-57</td>\n",
       "</tr>\n",
       "<tr>\n",
       "  <th>Time:</th>                 <td>17:54:33</td>     <th>  Log-Likelihood:    </th> <td> -1821.6</td>\n",
       "</tr>\n",
       "<tr>\n",
       "  <th>No. Observations:</th>      <td>   278</td>      <th>  AIC:               </th> <td>   3647.</td>\n",
       "</tr>\n",
       "<tr>\n",
       "  <th>Df Residuals:</th>          <td>   276</td>      <th>  BIC:               </th> <td>   3655.</td>\n",
       "</tr>\n",
       "<tr>\n",
       "  <th>Df Model:</th>              <td>     1</td>      <th>                     </th>     <td> </td>   \n",
       "</tr>\n",
       "<tr>\n",
       "  <th>Covariance Type:</th>      <td>nonrobust</td>    <th>                     </th>     <td> </td>   \n",
       "</tr>\n",
       "</table>\n",
       "<table class=\"simpletable\">\n",
       "<tr>\n",
       "         <td></td>            <th>coef</th>     <th>std err</th>      <th>t</th>      <th>P>|t|</th>  <th>[0.025</th>    <th>0.975]</th>  \n",
       "</tr>\n",
       "<tr>\n",
       "  <th>const</th>           <td>   -4.8130</td> <td>   16.939</td> <td>   -0.284</td> <td> 0.777</td> <td>  -38.159</td> <td>   28.532</td>\n",
       "</tr>\n",
       "<tr>\n",
       "  <th>autoTheftPerPop</th> <td>    0.3395</td> <td>    0.017</td> <td>   20.554</td> <td> 0.000</td> <td>    0.307</td> <td>    0.372</td>\n",
       "</tr>\n",
       "</table>\n",
       "<table class=\"simpletable\">\n",
       "<tr>\n",
       "  <th>Omnibus:</th>       <td>86.179</td> <th>  Durbin-Watson:     </th> <td>   1.860</td>\n",
       "</tr>\n",
       "<tr>\n",
       "  <th>Prob(Omnibus):</th> <td> 0.000</td> <th>  Jarque-Bera (JB):  </th> <td> 241.716</td>\n",
       "</tr>\n",
       "<tr>\n",
       "  <th>Skew:</th>          <td> 1.396</td> <th>  Prob(JB):          </th> <td>3.25e-53</td>\n",
       "</tr>\n",
       "<tr>\n",
       "  <th>Kurtosis:</th>      <td> 6.616</td> <th>  Cond. No.          </th> <td>1.70e+03</td>\n",
       "</tr>\n",
       "</table><br/><br/>Notes:<br/>[1] Standard Errors assume that the covariance matrix of the errors is correctly specified.<br/>[2] The condition number is large, 1.7e+03. This might indicate that there are<br/>strong multicollinearity or other numerical problems."
      ],
      "text/plain": [
       "<class 'statsmodels.iolib.summary.Summary'>\n",
       "\"\"\"\n",
       "                            OLS Regression Results                            \n",
       "==============================================================================\n",
       "Dep. Variable:            robbbPerPop   R-squared:                       0.605\n",
       "Model:                            OLS   Adj. R-squared:                  0.603\n",
       "Method:                 Least Squares   F-statistic:                     422.5\n",
       "Date:                Mon, 17 Oct 2022   Prob (F-statistic):           1.39e-57\n",
       "Time:                        17:54:33   Log-Likelihood:                -1821.6\n",
       "No. Observations:                 278   AIC:                             3647.\n",
       "Df Residuals:                     276   BIC:                             3655.\n",
       "Df Model:                           1                                         \n",
       "Covariance Type:            nonrobust                                         \n",
       "===================================================================================\n",
       "                      coef    std err          t      P>|t|      [0.025      0.975]\n",
       "-----------------------------------------------------------------------------------\n",
       "const              -4.8130     16.939     -0.284      0.777     -38.159      28.532\n",
       "autoTheftPerPop     0.3395      0.017     20.554      0.000       0.307       0.372\n",
       "==============================================================================\n",
       "Omnibus:                       86.179   Durbin-Watson:                   1.860\n",
       "Prob(Omnibus):                  0.000   Jarque-Bera (JB):              241.716\n",
       "Skew:                           1.396   Prob(JB):                     3.25e-53\n",
       "Kurtosis:                       6.616   Cond. No.                     1.70e+03\n",
       "==============================================================================\n",
       "\n",
       "Notes:\n",
       "[1] Standard Errors assume that the covariance matrix of the errors is correctly specified.\n",
       "[2] The condition number is large, 1.7e+03. This might indicate that there are\n",
       "strong multicollinearity or other numerical problems.\n",
       "\"\"\""
      ]
     },
     "execution_count": 72,
     "metadata": {},
     "output_type": "execute_result"
    }
   ],
   "source": [
    "X = CA.autoTheftPerPop\n",
    "Y = CA.robbbPerPop\n",
    "X_1 = sm.add_constant(X)\n",
    "model = sm.OLS(Y, X_1) # OLS comes from Ordinary Least Squares\n",
    "fit = model.fit()\n",
    "fit.summary()"
   ]
  },
  {
   "cell_type": "code",
   "execution_count": 73,
   "id": "14224db6-b2a4-4bef-a143-44716f740f45",
   "metadata": {},
   "outputs": [
    {
     "name": "stdout",
     "output_type": "stream",
     "text": [
      "The model explains a 60.484031850418496% of variance\n"
     ]
    }
   ],
   "source": [
    "print(f\"The model explains a {fit.rsquared*100}% of variance\")"
   ]
  },
  {
   "cell_type": "code",
   "execution_count": 75,
   "id": "07123b8e-6a50-4a8a-b4ec-610a845be2de",
   "metadata": {},
   "outputs": [
    {
     "name": "stdout",
     "output_type": "stream",
     "text": [
      "The increment in robbPerPop for each unit increment in autoTheftPerPop is 0.3395\n"
     ]
    }
   ],
   "source": [
    "print(f\"The increment in robbPerPop for each unit increment in autoTheftPerPop is 0.3395\")"
   ]
  },
  {
   "cell_type": "code",
   "execution_count": 77,
   "id": "ff56b587-b926-450e-882d-39a3de6d9b1e",
   "metadata": {},
   "outputs": [
    {
     "data": {
      "text/plain": [
       "Text(0.5, 1.0, 'Linear Regression')"
      ]
     },
     "execution_count": 77,
     "metadata": {},
     "output_type": "execute_result"
    },
    {
     "data": {
      "image/png": "[encoded data removed]",
      "text/plain": [
       "<Figure size 576x432 with 1 Axes>"
      ]
     },
     "metadata": {},
     "output_type": "display_data"
    }
   ],
   "source": [
    "X_new = np.linspace(X.min(), X.max(), 100)\n",
    "X_new = sm.add_constant(X_new)\n",
    "fit.pred = fit.get_prediction(X_new)\n",
    "fit_fitted_new = fit.pred.summary_frame(alpha=0.05)[\"mean\"]\n",
    "fig, ax = plt.subplots(figsize=(8, 6))\n",
    "ax.plot(X, Y, \"o\", label=\"data\", alpha = 0.3)\n",
    "ax.plot(X_new[:,1], fit_fitted_new, \"y--\", lw = 4)\n",
    "plt.xlabel('autoTheftPerPop')\n",
    "plt.ylabel('robbbPerPop') \n",
    "plt.title('Linear Regression')"
   ]
  },
  {
   "cell_type": "code",
   "execution_count": 81,
   "id": "8f3df918-6db6-4dd0-9b2c-27de58fe32e4",
   "metadata": {},
   "outputs": [
    {
     "name": "stdout",
     "output_type": "stream",
     "text": [
      "The predicted robbPerPop in a community with autoTheftPerPop = 800 is 266.80520814406646\n"
     ]
    }
   ],
   "source": [
    "X_new = [1,800]\n",
    "pred = fit.predict(X_new)\n",
    "print(f\"The predicted robbPerPop in a community with autoTheftPerPop = 800 is {pred[0]}\")"
   ]
  },
  {
   "cell_type": "code",
   "execution_count": 85,
   "id": "26aef904-7974-4f4f-a8fe-8392e52f708a",
   "metadata": {},
   "outputs": [
    {
     "data": {
      "text/plain": [
       "array([535.6088012])"
      ]
     },
     "execution_count": 85,
     "metadata": {},
     "output_type": "execute_result"
    }
   ],
   "source": [
    "x = [1, CA.autoTheftPerPop.values[0]]\n",
    "y_hat = fit.predict(x)\n",
    "y_hat"
   ]
  },
  {
   "cell_type": "code",
   "execution_count": 88,
   "id": "1c519243-c753-49a4-a0e0-4089162fa22c",
   "metadata": {},
   "outputs": [
    {
     "data": {
      "text/plain": [
       "1143.81"
      ]
     },
     "execution_count": 88,
     "metadata": {},
     "output_type": "execute_result"
    }
   ],
   "source": [
    "y = CA.robbbPerPop.values[0]\n",
    "y"
   ]
  },
  {
   "cell_type": "code",
   "execution_count": 89,
   "id": "91ddc210-d28d-45ce-917e-3bdfbcde6b08",
   "metadata": {},
   "outputs": [
    {
     "data": {
      "text/plain": [
       "array([-608.2011988])"
      ]
     },
     "execution_count": 89,
     "metadata": {},
     "output_type": "execute_result"
    }
   ],
   "source": [
    "res = y_hat - y\n",
    "res"
   ]
  },
  {
   "cell_type": "code",
   "execution_count": 91,
   "id": "1627385e-10a2-4791-8099-65242df96f24",
   "metadata": {},
   "outputs": [
    {
     "name": "stdout",
     "output_type": "stream",
     "text": [
      "What is the first residual of the model (the residual for the first observation) is [-608.2011988]\n"
     ]
    }
   ],
   "source": [
    "print(f\"What is the first residual of the model (the residual for the first observation) is {res}\")"
   ]
  }
 ],
 "metadata": {
  "kernelspec": {
   "display_name": "Python 3",
   "language": "python",
   "name": "python3"
  },
  "language_info": {
   "codemirror_mode": {
    "name": "ipython",
    "version": 3
   },
   "file_extension": ".py",
   "mimetype": "text/x-python",
   "name": "python",
   "nbconvert_exporter": "python",
   "pygments_lexer": "ipython3",
   "version": "3.8.8"
  },
  "toc": {
   "base_numbering": 1,
   "nav_menu": {},
   "number_sections": true,
   "sideBar": true,
   "skip_h1_title": false,
   "title_cell": "Table of Contents",
   "title_sidebar": "Contents",
   "toc_cell": false,
   "toc_position": {},
   "toc_section_display": true,
   "toc_window_display": false
  }
 },
 "nbformat": 4,
 "nbformat_minor": 5
}
