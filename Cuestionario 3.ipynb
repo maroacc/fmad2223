{
 "cells": [
  {
   "cell_type": "code",
   "execution_count": 1,
   "id": "75404274-4c0a-4f5a-aabc-4f09c8cc49ef",
   "metadata": {},
   "outputs": [],
   "source": [
    "# Imports\n",
    "\n",
    "import numpy as np\n",
    "import pandas as pd\n",
    "import matplotlib.pyplot as plt\n",
    "import scipy as scp\n",
    "import seaborn as sns\n",
    "import scipy.stats as stats\n",
    "import statsmodels.stats.power as smp\n",
    "import statsmodels.api as sm \n",
    "import statsmodels.formula.api as smf \n",
    "\n",
    "sns.set(rc={'figure.figsize':(12, 12)})"
   ]
  },
  {
   "cell_type": "markdown",
   "id": "8aaedf59-0ae2-4e0c-8a03-4b91596382e8",
   "metadata": {},
   "source": [
    "## Q1"
   ]
  },
  {
   "cell_type": "code",
   "execution_count": 2,
   "id": "96df94eb-e50b-4810-9d22-efcf61912ff1",
   "metadata": {},
   "outputs": [
    {
     "name": "stdout",
     "output_type": "stream",
     "text": [
      "The confidence interval is  [25.84345407 26.55654593]\n",
      "Rounded to 4 digits: [25.84, 26.56]\n"
     ]
    }
   ],
   "source": [
    "n = 236 # Change\n",
    "barX = 26.2 # Change\n",
    "s = 3.33 # Change\n",
    "\n",
    "# Short version of the critical point computation:\n",
    "cl = 0.90 # Change\n",
    "alpha = 1 - cl\n",
    "crit_point = stats.norm.isf(alpha/2, loc = 0, scale = 1)\n",
    "\n",
    "conf_int = barX + np.array([-1, 1]) * crit_point * s / np.sqrt(n)\n",
    "print(\"The confidence interval is \", conf_int)\n",
    "print(\"Rounded to 4 digits: [{:.4}, {:.4}]\".format(conf_int[0], conf_int[1]))"
   ]
  },
  {
   "cell_type": "markdown",
   "id": "d75ac7bb-9346-4e74-bf6e-5acab789d2a7",
   "metadata": {},
   "source": [
    "## Q2"
   ]
  },
  {
   "cell_type": "code",
   "execution_count": 3,
   "id": "0548bcf5-3e03-49be-aac2-a134317fc718",
   "metadata": {},
   "outputs": [
    {
     "name": "stdout",
     "output_type": "stream",
     "text": [
      "The confidence interval is  [-39.706459 -39.093541]\n",
      "Rounded to 4 digits: [-39.71, -39.09]\n"
     ]
    }
   ],
   "source": [
    "n = 209 # Change\n",
    "barX = -39.4 # Change\n",
    "s = 1.72 # Change\n",
    "\n",
    "# Short version of the critical point computation:\n",
    "cl = 0.99 # Change\n",
    "alpha = 1 - cl\n",
    "crit_point = stats.norm.isf(alpha/2, loc = 0, scale = 1)\n",
    "\n",
    "conf_int = barX + np.array([-1, 1]) * crit_point * s / np.sqrt(n)\n",
    "print(\"The confidence interval is \", conf_int)\n",
    "print(\"Rounded to 4 digits: [{:.4}, {:.4}]\".format(conf_int[0], conf_int[1]))"
   ]
  },
  {
   "cell_type": "markdown",
   "id": "7c1c6bcb-b674-41f8-b996-5f4046b6fea4",
   "metadata": {},
   "source": [
    "## Q3"
   ]
  },
  {
   "cell_type": "code",
   "execution_count": 20,
   "id": "1d5a1682-aa25-46f1-a13e-a0a8fb43ae98",
   "metadata": {},
   "outputs": [
    {
     "name": "stdout",
     "output_type": "stream",
     "text": [
      "The Z score for this sample is 2.003\n",
      "The critical value (defining the rejection region) is: 2.003\n",
      "And the resulting p-value is: 0.02258\n"
     ]
    }
   ],
   "source": [
    "n = 19 # Change\n",
    "mu0 = 32.53 # Change\n",
    "barX = 36.29 # Change\n",
    "s = 8.182 # Change\n",
    "\n",
    "Zscore = (barX - mu0)/(s/np.sqrt(n))\n",
    "print(\"The Z score for this sample is {:.4}\".format(Zscore))\n",
    "\n",
    "\n",
    "sl = 0.95\n",
    "alpha = 1 - sl\n",
    "criticalValue = stats.norm.isf(1 - alpha)\n",
    "print(\"The critical value (defining the rejection region) is: {:.4}\".format(criticalValue))\n",
    "\n",
    "# pValue = stats.norm.cdf(Zscore) # Change\n",
    "pValue = stats.norm.sf(Zscore)\n",
    "# pValue = 2 * stats.norm.sf(Zscore) \n",
    "\n",
    "print(\"And the resulting p-value is: {:.4}\".format(pValue))"
   ]
  },
  {
   "cell_type": "code",
   "execution_count": 36,
   "id": "dff460b4-2fdb-468c-8321-dc1a543418d9",
   "metadata": {},
   "outputs": [
    {
     "name": "stdout",
     "output_type": "stream",
     "text": [
      "The Z score for this sample is 2.014\n",
      "The critical value (defining the rejection region) is: -1.645\n",
      "And the resulting p-value is: 0.04532\n"
     ]
    }
   ],
   "source": [
    "n = 7 # Change\n",
    "mu0 = -49.96 # Change\n",
    "barX = -46.5 # Change\n",
    "s = 4.545 # Change\n",
    "\n",
    "Zscore = (barX - mu0)/(s/np.sqrt(n))\n",
    "print(\"The Z score for this sample is {:.4}\".format(Zscore))\n",
    "\n",
    "\n",
    "sl = 0.95\n",
    "alpha = 1 - sl\n",
    "criticalValue = stats.norm.isf(1 - alpha)\n",
    "print(\"The critical value (defining the rejection region) is: {:.4}\".format(criticalValue))\n",
    "\n",
    "pValue = stats.t.cdf(Zscore, df = n-1) # Change\n",
    "pValue = stats.t.sf(Zscore, df = n-1)\n",
    "# pValue = 2 * stats.norm.sf(Zscore) \n",
    "\n",
    "print(\"And the resulting p-value is: {:.4}\".format(pValue))"
   ]
  },
  {
   "cell_type": "markdown",
   "id": "6b32145e-2b0d-4e02-a6d0-73333d7c2cb7",
   "metadata": {},
   "source": [
    "## Q4"
   ]
  },
  {
   "cell_type": "code",
   "execution_count": 8,
   "id": "d83ebdd4-b2c6-499f-b79a-46e95336e4fd",
   "metadata": {},
   "outputs": [
    {
     "name": "stdout",
     "output_type": "stream",
     "text": [
      "The Z score for this sample is -2.436\n",
      "The critical value (defining the rejection region) is: -1.645\n",
      "And the resulting p-value is: 0.9926\n"
     ]
    }
   ],
   "source": [
    "n = 16 # Change\n",
    "mu0 = 37.54 # Change\n",
    "barX = 32.68 # Change\n",
    "s = 7.98 # Change\n",
    "\n",
    "Zscore = (barX - mu0)/(s/np.sqrt(n))\n",
    "print(\"The Z score for this sample is {:.4}\".format(Zscore))\n",
    "\n",
    "\n",
    "sl = 0.95\n",
    "alpha = 1 - sl\n",
    "criticalValue = stats.norm.isf(1 - alpha)\n",
    "print(\"The critical value (defining the rejection region) is: {:.4}\".format(criticalValue))\n",
    "\n",
    "# pValue = stats.norm.cdf(Zscore) # Change\n",
    "pValue = stats.norm.sf(Zscore)\n",
    "# pValue = 2 * stats.norm.sf(Zscore) \n",
    "\n",
    "print(\"And the resulting p-value is: {:.4}\".format(pValue))"
   ]
  },
  {
   "cell_type": "markdown",
   "id": "9564391d-cb76-400f-b1c7-cd6721854709",
   "metadata": {},
   "source": [
    "## Q5"
   ]
  },
  {
   "cell_type": "code",
   "execution_count": 14,
   "id": "3e2778c6-638f-430d-a63e-b3d45179f5a9",
   "metadata": {},
   "outputs": [
    {
     "name": "stdout",
     "output_type": "stream",
     "text": [
      "The Z score for this sample is -1.568\n",
      "The critical value (defining the rejection region) is: -1.645\n",
      "And the resulting p-value is: 0.1169\n"
     ]
    }
   ],
   "source": [
    "n = 12 # Change\n",
    "mu0 = -30.74 # Change\n",
    "barX = -32.98 # Change\n",
    "s = 4.949 # Change\n",
    "\n",
    "Zscore = (barX - mu0)/(s/np.sqrt(n))\n",
    "print(\"The Z score for this sample is {:.4}\".format(Zscore))\n",
    "\n",
    "\n",
    "sl = 0.95\n",
    "alpha = 1 - sl\n",
    "criticalValue = stats.norm.isf(1 - alpha)\n",
    "print(\"The critical value (defining the rejection region) is: {:.4}\".format(criticalValue))\n",
    "\n",
    "# pValue = stats.norm.cdf(Zscore) # Change\n",
    "# pValue = stats.norm.sf(Zscore)\n",
    "pValue = 2 * stats.norm.cdf(Zscore)\n",
    "\n",
    "print(\"And the resulting p-value is: {:.4}\".format(pValue))"
   ]
  },
  {
   "cell_type": "markdown",
   "id": "699ab0bc-1256-438f-b274-d421fdf4414d",
   "metadata": {},
   "source": [
    "## Q6"
   ]
  },
  {
   "cell_type": "code",
   "execution_count": 12,
   "id": "8d3db9ac-ccd0-4021-8575-dd503bf7b7bf",
   "metadata": {},
   "outputs": [
    {
     "name": "stdout",
     "output_type": "stream",
     "text": [
      "The regression line is y = 0.807531 + 0.76039 x\n"
     ]
    }
   ],
   "source": [
    "link = 'data/regresionLinealSimple_01.csv'\n",
    "data = pd.read_csv(link)\n",
    "# The linear regression model in Scikit requires that\n",
    "# the X array be two-dimensional. But in our case a \n",
    "# single column gives a 1D array. That is why, after\n",
    "# extracting the values from the columns we reshape it.\n",
    "X = data.x.values\n",
    "X = X[:, np.newaxis]\n",
    "\n",
    "# For Y it is enough to extract the values,\n",
    "# because Scikit already expects it to be 1D\n",
    "Y = data.y.values\n",
    "\n",
    "# Now we load the required function from the scikit module\n",
    "from sklearn.linear_model import LinearRegression\n",
    "# Create the model\n",
    "modelXY = LinearRegression(fit_intercept=True)\n",
    "# Fit the model to \n",
    "XY_fit = modelXY.fit(X, Y)\n",
    "\n",
    "# And extract the coefficients. \n",
    "# Note that b1 is returned as an array \n",
    "b1 = XY_fit.coef_[0]\n",
    "b0 = XY_fit.intercept_\n",
    "\n",
    "print(\"The regression line is y = {:.6} + {:.6} x\".format(b0, b1))"
   ]
  },
  {
   "cell_type": "code",
   "execution_count": 13,
   "id": "1275bc55-c6d3-45ae-94a1-b655f198d8ff",
   "metadata": {},
   "outputs": [
    {
     "name": "stdout",
     "output_type": "stream",
     "text": [
      "The regression line is y = 3.01396 + 0.699292 x\n"
     ]
    }
   ],
   "source": [
    "link = 'data/regresionLinealSimple_02.csv'\n",
    "data = pd.read_csv(link)\n",
    "# The linear regression model in Scikit requires that\n",
    "# the X array be two-dimensional. But in our case a \n",
    "# single column gives a 1D array. That is why, after\n",
    "# extracting the values from the columns we reshape it.\n",
    "X = data.x.values\n",
    "X = X[:, np.newaxis]\n",
    "\n",
    "# For Y it is enough to extract the values,\n",
    "# because Scikit already expects it to be 1D\n",
    "Y = data.y.values\n",
    "\n",
    "# Now we load the required function from the scikit module\n",
    "from sklearn.linear_model import LinearRegression\n",
    "# Create the model\n",
    "modelXY = LinearRegression(fit_intercept=True)\n",
    "# Fit the model to \n",
    "XY_fit = modelXY.fit(X, Y)\n",
    "\n",
    "# And extract the coefficients. \n",
    "# Note that b1 is returned as an array \n",
    "b1 = XY_fit.coef_[0]\n",
    "b0 = XY_fit.intercept_\n",
    "\n",
    "print(\"The regression line is y = {:.6} + {:.6} x\".format(b0, b1))"
   ]
  },
  {
   "cell_type": "code",
   "execution_count": null,
   "id": "c0595a25-5915-4987-8be7-5c85d225c972",
   "metadata": {},
   "outputs": [],
   "source": []
  }
 ],
 "metadata": {
  "kernelspec": {
   "display_name": "Python 3",
   "language": "python",
   "name": "python3"
  },
  "language_info": {
   "codemirror_mode": {
    "name": "ipython",
    "version": 3
   },
   "file_extension": ".py",
   "mimetype": "text/x-python",
   "name": "python",
   "nbconvert_exporter": "python",
   "pygments_lexer": "ipython3",
   "version": "3.8.8"
  }
 },
 "nbformat": 4,
 "nbformat_minor": 5
}
